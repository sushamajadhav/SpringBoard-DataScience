{
 "cells": [
  {
   "cell_type": "code",
   "execution_count": null,
   "metadata": {},
   "outputs": [],
   "source": []
  },
  {
   "cell_type": "code",
   "execution_count": 1,
   "metadata": {},
   "outputs": [],
   "source": [
    "# ###########################################################################################################################\n",
    "# This project is part of Springboard Data Science Track Career Track for data visualization and exploratory data Analysis  #\n",
    "# in python.  \n",
    "#\n",
    "# This projects uses the data downloaded from 'https://www.divvybikes.com/' in the form of .csv files. for the years        #\n",
    "# 2014\n",
    "#\n",
    "# The csv files are combined using Pandas and glob\n",
    "#                                                                                                                           #\n",
    "#                                                                                                                           #\n",
    "#                                                                                                                           #\n",
    "# # ########################################################################################################################\n",
    " "
   ]
  },
  {
   "cell_type": "markdown",
   "metadata": {},
   "source": [
    "### Combining csv files for 2014 and create new dataframe trips_2014"
   ]
  },
  {
   "cell_type": "code",
   "execution_count": 102,
   "metadata": {},
   "outputs": [],
   "source": [
    "import pandas as pd\n",
    "import numpy as np\n",
    "import glob\n",
    "import seaborn as sns\n",
    "import matplotlib.pyplot as plt\n",
    "%matplotlib inline "
   ]
  },
  {
   "cell_type": "code",
   "execution_count": 38,
   "metadata": {},
   "outputs": [],
   "source": [
    "#print(glob.glob('Divvy_Trips_2014*.csv'))\n"
   ]
  },
  {
   "cell_type": "code",
   "execution_count": 4,
   "metadata": {},
   "outputs": [
    {
     "name": "stdout",
     "output_type": "stream",
     "text": [
      "Wall time: 9min 18s\n"
     ]
    }
   ],
   "source": [
    "%%time\n",
    "\n",
    "trips_2014=pd.concat([pd.read_csv(f,parse_dates=['starttime','stoptime']) for f in glob.glob(\"Divvy_Trips_2014*.csv\")],ignore_index=True)\n"
   ]
  },
  {
   "cell_type": "markdown",
   "metadata": {},
   "source": [
    "# data for 2014"
   ]
  },
  {
   "cell_type": "code",
   "execution_count": 5,
   "metadata": {},
   "outputs": [
    {
     "name": "stdout",
     "output_type": "stream",
     "text": [
      "<class 'pandas.core.frame.DataFrame'>\n",
      "RangeIndex: 2454634 entries, 0 to 2454633\n",
      "Data columns (total 12 columns):\n",
      "trip_id              int64\n",
      "starttime            datetime64[ns]\n",
      "stoptime             datetime64[ns]\n",
      "bikeid               int64\n",
      "tripduration         int64\n",
      "from_station_id      int64\n",
      "from_station_name    object\n",
      "to_station_id        int64\n",
      "to_station_name      object\n",
      "usertype             object\n",
      "gender               object\n",
      "birthyear            float64\n",
      "dtypes: datetime64[ns](2), float64(1), int64(5), object(4)\n",
      "memory usage: 224.7+ MB\n"
     ]
    }
   ],
   "source": [
    "trips_2014.info()"
   ]
  },
  {
   "cell_type": "code",
   "execution_count": 6,
   "metadata": {},
   "outputs": [],
   "source": [
    "trips_2014 = trips_2014[['starttime','tripduration','usertype','gender','birthyear']]"
   ]
  },
  {
   "cell_type": "code",
   "execution_count": 7,
   "metadata": {},
   "outputs": [],
   "source": [
    "def get_null_values(df):\n",
    "    null_columns=df.columns[df.isnull().any()]\n",
    "    \n",
    "    return df[null_columns].isnull().sum()\n",
    "    "
   ]
  },
  {
   "cell_type": "code",
   "execution_count": 8,
   "metadata": {},
   "outputs": [],
   "source": [
    "def print_rows_With_null_value(df):\n",
    "    df1 = df[df.isnull().any(axis=1)]\n",
    "    \n",
    "    return(df1.head())\n",
    "    "
   ]
  },
  {
   "cell_type": "code",
   "execution_count": 9,
   "metadata": {},
   "outputs": [],
   "source": [
    "#Converting starttime,to get year,month ,week,hour\n",
    "\n",
    "\n",
    "def get_startttime_break_up(df):\n",
    "    date = np.array(list(map(lambda x: (x.year, x.month, x.week, x.dayofweek, x.hour), df['starttime'])))\n",
    "    df['year']=date[:,0]\n",
    "    df['month']=date[:,1]\n",
    "    df['week']=date[:,2]\n",
    "    df['day']=date[:,3]\n",
    "    df['hour'] = date[:, 4]\n",
    "    df['Trip_Min'] = df['tripduration']/60.0\n",
    "    df['Age'] = df['year']-df['birthyear']\n",
    "    \n",
    "    return df\n"
   ]
  },
  {
   "cell_type": "code",
   "execution_count": 10,
   "metadata": {
    "scrolled": false
   },
   "outputs": [],
   "source": [
    "new_2014=get_startttime_break_up(trips_2014)\n"
   ]
  },
  {
   "cell_type": "code",
   "execution_count": 11,
   "metadata": {},
   "outputs": [
    {
     "data": {
      "text/plain": [
       "gender       791280\n",
       "birthyear    791216\n",
       "Age          791216\n",
       "dtype: int64"
      ]
     },
     "execution_count": 11,
     "metadata": {},
     "output_type": "execute_result"
    }
   ],
   "source": [
    "get_null_values(new_2014)"
   ]
  },
  {
   "cell_type": "markdown",
   "metadata": {},
   "source": [
    "## Lets Drop rows containing null Values"
   ]
  },
  {
   "cell_type": "code",
   "execution_count": 12,
   "metadata": {},
   "outputs": [],
   "source": [
    "new_Df_2014=new_2014.dropna()\n"
   ]
  },
  {
   "cell_type": "code",
   "execution_count": 1,
   "metadata": {},
   "outputs": [
    {
     "ename": "NameError",
     "evalue": "name 'new_Df_2014' is not defined",
     "output_type": "error",
     "traceback": [
      "\u001b[1;31m---------------------------------------------------------------------------\u001b[0m",
      "\u001b[1;31mNameError\u001b[0m                                 Traceback (most recent call last)",
      "\u001b[1;32m<ipython-input-1-268d98944dba>\u001b[0m in \u001b[0;36m<module>\u001b[1;34m()\u001b[0m\n\u001b[1;32m----> 1\u001b[1;33m \u001b[0mriders\u001b[0m \u001b[1;33m=\u001b[0m\u001b[0mnew_Df_2014\u001b[0m\u001b[1;33m.\u001b[0m\u001b[0musertype\u001b[0m\u001b[1;33m.\u001b[0m\u001b[0mvalue_counts\u001b[0m\u001b[1;33m(\u001b[0m\u001b[1;33m)\u001b[0m\u001b[1;33m.\u001b[0m\u001b[0msort_values\u001b[0m\u001b[1;33m(\u001b[0m\u001b[0mascending\u001b[0m\u001b[1;33m=\u001b[0m\u001b[1;32mFalse\u001b[0m\u001b[1;33m)\u001b[0m\u001b[1;33m\u001b[0m\u001b[0m\n\u001b[0m\u001b[0;32m      2\u001b[0m \u001b[0mriders\u001b[0m\u001b[1;33m\u001b[0m\u001b[0m\n",
      "\u001b[1;31mNameError\u001b[0m: name 'new_Df_2014' is not defined"
     ]
    }
   ],
   "source": [
    "riders =new_Df_2014.usertype.value_counts().sort_values(ascending=False)\n",
    "riders"
   ]
  },
  {
   "cell_type": "code",
   "execution_count": 86,
   "metadata": {},
   "outputs": [],
   "source": [
    "customer_data=new_Df_2014[new_Df_2014['usertype']=='Customer']"
   ]
  },
  {
   "cell_type": "code",
   "execution_count": 87,
   "metadata": {},
   "outputs": [],
   "source": [
    "subscriber_data=new_Df_2014[new_Df_2014['usertype']=='Subscriber']"
   ]
  },
  {
   "cell_type": "code",
   "execution_count": 146,
   "metadata": {},
   "outputs": [],
   "source": [
    "#subscriber_data.head()"
   ]
  },
  {
   "cell_type": "code",
   "execution_count": 89,
   "metadata": {
    "scrolled": true
   },
   "outputs": [
    {
     "data": {
      "text/html": [
       "<div>\n",
       "<style scoped>\n",
       "    .dataframe tbody tr th:only-of-type {\n",
       "        vertical-align: middle;\n",
       "    }\n",
       "\n",
       "    .dataframe tbody tr th {\n",
       "        vertical-align: top;\n",
       "    }\n",
       "\n",
       "    .dataframe thead th {\n",
       "        text-align: right;\n",
       "    }\n",
       "</style>\n",
       "<table border=\"1\" class=\"dataframe\">\n",
       "  <thead>\n",
       "    <tr style=\"text-align: right;\">\n",
       "      <th></th>\n",
       "      <th>tripduration</th>\n",
       "      <th>birthyear</th>\n",
       "      <th>year</th>\n",
       "      <th>month</th>\n",
       "      <th>week</th>\n",
       "      <th>day</th>\n",
       "      <th>hour</th>\n",
       "      <th>Trip_Min</th>\n",
       "      <th>Age</th>\n",
       "    </tr>\n",
       "  </thead>\n",
       "  <tbody>\n",
       "    <tr>\n",
       "      <th>count</th>\n",
       "      <td>1.663185e+06</td>\n",
       "      <td>1.663185e+06</td>\n",
       "      <td>1663185.0</td>\n",
       "      <td>1.663185e+06</td>\n",
       "      <td>1.663185e+06</td>\n",
       "      <td>1.663185e+06</td>\n",
       "      <td>1.663185e+06</td>\n",
       "      <td>1.663185e+06</td>\n",
       "      <td>1.663185e+06</td>\n",
       "    </tr>\n",
       "    <tr>\n",
       "      <th>mean</th>\n",
       "      <td>7.164565e+02</td>\n",
       "      <td>1.978596e+03</td>\n",
       "      <td>2014.0</td>\n",
       "      <td>7.396587e+00</td>\n",
       "      <td>3.050228e+01</td>\n",
       "      <td>2.711406e+00</td>\n",
       "      <td>1.371232e+01</td>\n",
       "      <td>1.194094e+01</td>\n",
       "      <td>3.540411e+01</td>\n",
       "    </tr>\n",
       "    <tr>\n",
       "      <th>std</th>\n",
       "      <td>1.222131e+03</td>\n",
       "      <td>1.045830e+01</td>\n",
       "      <td>0.0</td>\n",
       "      <td>2.502356e+00</td>\n",
       "      <td>1.091212e+01</td>\n",
       "      <td>1.883875e+00</td>\n",
       "      <td>4.882956e+00</td>\n",
       "      <td>2.036884e+01</td>\n",
       "      <td>1.045830e+01</td>\n",
       "    </tr>\n",
       "    <tr>\n",
       "      <th>min</th>\n",
       "      <td>6.000000e+01</td>\n",
       "      <td>1.898000e+03</td>\n",
       "      <td>2014.0</td>\n",
       "      <td>1.000000e+00</td>\n",
       "      <td>1.000000e+00</td>\n",
       "      <td>0.000000e+00</td>\n",
       "      <td>0.000000e+00</td>\n",
       "      <td>1.000000e+00</td>\n",
       "      <td>1.600000e+01</td>\n",
       "    </tr>\n",
       "    <tr>\n",
       "      <th>25%</th>\n",
       "      <td>3.580000e+02</td>\n",
       "      <td>1.973000e+03</td>\n",
       "      <td>2014.0</td>\n",
       "      <td>6.000000e+00</td>\n",
       "      <td>2.300000e+01</td>\n",
       "      <td>1.000000e+00</td>\n",
       "      <td>9.000000e+00</td>\n",
       "      <td>5.966667e+00</td>\n",
       "      <td>2.800000e+01</td>\n",
       "    </tr>\n",
       "    <tr>\n",
       "      <th>50%</th>\n",
       "      <td>5.740000e+02</td>\n",
       "      <td>1.982000e+03</td>\n",
       "      <td>2014.0</td>\n",
       "      <td>7.000000e+00</td>\n",
       "      <td>3.100000e+01</td>\n",
       "      <td>3.000000e+00</td>\n",
       "      <td>1.500000e+01</td>\n",
       "      <td>9.566667e+00</td>\n",
       "      <td>3.200000e+01</td>\n",
       "    </tr>\n",
       "    <tr>\n",
       "      <th>75%</th>\n",
       "      <td>9.070000e+02</td>\n",
       "      <td>1.986000e+03</td>\n",
       "      <td>2014.0</td>\n",
       "      <td>9.000000e+00</td>\n",
       "      <td>3.900000e+01</td>\n",
       "      <td>4.000000e+00</td>\n",
       "      <td>1.700000e+01</td>\n",
       "      <td>1.511667e+01</td>\n",
       "      <td>4.100000e+01</td>\n",
       "    </tr>\n",
       "    <tr>\n",
       "      <th>max</th>\n",
       "      <td>8.594200e+04</td>\n",
       "      <td>1.998000e+03</td>\n",
       "      <td>2014.0</td>\n",
       "      <td>1.200000e+01</td>\n",
       "      <td>5.200000e+01</td>\n",
       "      <td>6.000000e+00</td>\n",
       "      <td>2.300000e+01</td>\n",
       "      <td>1.432367e+03</td>\n",
       "      <td>1.160000e+02</td>\n",
       "    </tr>\n",
       "  </tbody>\n",
       "</table>\n",
       "</div>"
      ],
      "text/plain": [
       "       tripduration     birthyear       year         month          week  \\\n",
       "count  1.663185e+06  1.663185e+06  1663185.0  1.663185e+06  1.663185e+06   \n",
       "mean   7.164565e+02  1.978596e+03     2014.0  7.396587e+00  3.050228e+01   \n",
       "std    1.222131e+03  1.045830e+01        0.0  2.502356e+00  1.091212e+01   \n",
       "min    6.000000e+01  1.898000e+03     2014.0  1.000000e+00  1.000000e+00   \n",
       "25%    3.580000e+02  1.973000e+03     2014.0  6.000000e+00  2.300000e+01   \n",
       "50%    5.740000e+02  1.982000e+03     2014.0  7.000000e+00  3.100000e+01   \n",
       "75%    9.070000e+02  1.986000e+03     2014.0  9.000000e+00  3.900000e+01   \n",
       "max    8.594200e+04  1.998000e+03     2014.0  1.200000e+01  5.200000e+01   \n",
       "\n",
       "                day          hour      Trip_Min           Age  \n",
       "count  1.663185e+06  1.663185e+06  1.663185e+06  1.663185e+06  \n",
       "mean   2.711406e+00  1.371232e+01  1.194094e+01  3.540411e+01  \n",
       "std    1.883875e+00  4.882956e+00  2.036884e+01  1.045830e+01  \n",
       "min    0.000000e+00  0.000000e+00  1.000000e+00  1.600000e+01  \n",
       "25%    1.000000e+00  9.000000e+00  5.966667e+00  2.800000e+01  \n",
       "50%    3.000000e+00  1.500000e+01  9.566667e+00  3.200000e+01  \n",
       "75%    4.000000e+00  1.700000e+01  1.511667e+01  4.100000e+01  \n",
       "max    6.000000e+00  2.300000e+01  1.432367e+03  1.160000e+02  "
      ]
     },
     "execution_count": 89,
     "metadata": {},
     "output_type": "execute_result"
    }
   ],
   "source": [
    "subscriber_data.describe()"
   ]
  },
  {
   "cell_type": "markdown",
   "metadata": {},
   "source": [
    "# Lets remove the outliers of Age and Min Trip Duration\n",
    "##Lets consider Trip Duration greater than 30 Min\n"
   ]
  },
  {
   "cell_type": "code",
   "execution_count": 148,
   "metadata": {},
   "outputs": [
    {
     "data": {
      "text/html": [
       "<div>\n",
       "<style scoped>\n",
       "    .dataframe tbody tr th:only-of-type {\n",
       "        vertical-align: middle;\n",
       "    }\n",
       "\n",
       "    .dataframe tbody tr th {\n",
       "        vertical-align: top;\n",
       "    }\n",
       "\n",
       "    .dataframe thead th {\n",
       "        text-align: right;\n",
       "    }\n",
       "</style>\n",
       "<table border=\"1\" class=\"dataframe\">\n",
       "  <thead>\n",
       "    <tr style=\"text-align: right;\">\n",
       "      <th></th>\n",
       "      <th>tripduration</th>\n",
       "      <th>birthyear</th>\n",
       "      <th>year</th>\n",
       "      <th>month</th>\n",
       "      <th>week</th>\n",
       "      <th>day</th>\n",
       "      <th>hour</th>\n",
       "      <th>Trip_Min</th>\n",
       "      <th>Age</th>\n",
       "    </tr>\n",
       "  </thead>\n",
       "  <tbody>\n",
       "    <tr>\n",
       "      <th>count</th>\n",
       "      <td>32693.000000</td>\n",
       "      <td>32693.000000</td>\n",
       "      <td>32693.0</td>\n",
       "      <td>32693.000000</td>\n",
       "      <td>32693.000000</td>\n",
       "      <td>32693.000000</td>\n",
       "      <td>32693.000000</td>\n",
       "      <td>32693.000000</td>\n",
       "      <td>32693.000000</td>\n",
       "    </tr>\n",
       "    <tr>\n",
       "      <th>mean</th>\n",
       "      <td>3928.942862</td>\n",
       "      <td>1978.822133</td>\n",
       "      <td>2014.0</td>\n",
       "      <td>7.127703</td>\n",
       "      <td>29.404704</td>\n",
       "      <td>3.263604</td>\n",
       "      <td>14.293121</td>\n",
       "      <td>65.482381</td>\n",
       "      <td>35.177867</td>\n",
       "    </tr>\n",
       "    <tr>\n",
       "      <th>std</th>\n",
       "      <td>7636.901556</td>\n",
       "      <td>10.337192</td>\n",
       "      <td>0.0</td>\n",
       "      <td>2.096517</td>\n",
       "      <td>9.133923</td>\n",
       "      <td>1.996987</td>\n",
       "      <td>4.429782</td>\n",
       "      <td>127.281693</td>\n",
       "      <td>10.337192</td>\n",
       "    </tr>\n",
       "    <tr>\n",
       "      <th>min</th>\n",
       "      <td>1801.000000</td>\n",
       "      <td>1930.000000</td>\n",
       "      <td>2014.0</td>\n",
       "      <td>1.000000</td>\n",
       "      <td>1.000000</td>\n",
       "      <td>0.000000</td>\n",
       "      <td>0.000000</td>\n",
       "      <td>30.016667</td>\n",
       "      <td>16.000000</td>\n",
       "    </tr>\n",
       "    <tr>\n",
       "      <th>25%</th>\n",
       "      <td>1917.000000</td>\n",
       "      <td>1974.000000</td>\n",
       "      <td>2014.0</td>\n",
       "      <td>6.000000</td>\n",
       "      <td>23.000000</td>\n",
       "      <td>2.000000</td>\n",
       "      <td>11.000000</td>\n",
       "      <td>31.950000</td>\n",
       "      <td>28.000000</td>\n",
       "    </tr>\n",
       "    <tr>\n",
       "      <th>50%</th>\n",
       "      <td>2130.000000</td>\n",
       "      <td>1982.000000</td>\n",
       "      <td>2014.0</td>\n",
       "      <td>7.000000</td>\n",
       "      <td>29.000000</td>\n",
       "      <td>3.000000</td>\n",
       "      <td>15.000000</td>\n",
       "      <td>35.500000</td>\n",
       "      <td>32.000000</td>\n",
       "    </tr>\n",
       "    <tr>\n",
       "      <th>75%</th>\n",
       "      <td>2716.000000</td>\n",
       "      <td>1986.000000</td>\n",
       "      <td>2014.0</td>\n",
       "      <td>9.000000</td>\n",
       "      <td>36.000000</td>\n",
       "      <td>5.000000</td>\n",
       "      <td>18.000000</td>\n",
       "      <td>45.266667</td>\n",
       "      <td>40.000000</td>\n",
       "    </tr>\n",
       "    <tr>\n",
       "      <th>max</th>\n",
       "      <td>85942.000000</td>\n",
       "      <td>1998.000000</td>\n",
       "      <td>2014.0</td>\n",
       "      <td>12.000000</td>\n",
       "      <td>52.000000</td>\n",
       "      <td>6.000000</td>\n",
       "      <td>23.000000</td>\n",
       "      <td>1432.366667</td>\n",
       "      <td>84.000000</td>\n",
       "    </tr>\n",
       "  </tbody>\n",
       "</table>\n",
       "</div>"
      ],
      "text/plain": [
       "       tripduration     birthyear     year         month          week  \\\n",
       "count  32693.000000  32693.000000  32693.0  32693.000000  32693.000000   \n",
       "mean    3928.942862   1978.822133   2014.0      7.127703     29.404704   \n",
       "std     7636.901556     10.337192      0.0      2.096517      9.133923   \n",
       "min     1801.000000   1930.000000   2014.0      1.000000      1.000000   \n",
       "25%     1917.000000   1974.000000   2014.0      6.000000     23.000000   \n",
       "50%     2130.000000   1982.000000   2014.0      7.000000     29.000000   \n",
       "75%     2716.000000   1986.000000   2014.0      9.000000     36.000000   \n",
       "max    85942.000000   1998.000000   2014.0     12.000000     52.000000   \n",
       "\n",
       "                day          hour      Trip_Min           Age  \n",
       "count  32693.000000  32693.000000  32693.000000  32693.000000  \n",
       "mean       3.263604     14.293121     65.482381     35.177867  \n",
       "std        1.996987      4.429782    127.281693     10.337192  \n",
       "min        0.000000      0.000000     30.016667     16.000000  \n",
       "25%        2.000000     11.000000     31.950000     28.000000  \n",
       "50%        3.000000     15.000000     35.500000     32.000000  \n",
       "75%        5.000000     18.000000     45.266667     40.000000  \n",
       "max        6.000000     23.000000   1432.366667     84.000000  "
      ]
     },
     "execution_count": 148,
     "metadata": {},
     "output_type": "execute_result"
    }
   ],
   "source": [
    "mask1=((subscriber_data.Trip_Min > 30) & (subscriber_data.Age < 100))\n",
    "\n",
    "subscriber_data= subscriber_data[mask1]\n",
    "\n",
    "subscriber_data.describe()"
   ]
  },
  {
   "cell_type": "markdown",
   "metadata": {},
   "source": [
    "# Lets Categorize the data based on Seasons"
   ]
  },
  {
   "cell_type": "code",
   "execution_count": 108,
   "metadata": {},
   "outputs": [],
   "source": [
    "\n",
    "spring = subscriber_data['month'].isin([3,4,5])\n",
    "spring_df= subscriber_data[spring]\n"
   ]
  },
  {
   "cell_type": "code",
   "execution_count": 109,
   "metadata": {},
   "outputs": [],
   "source": [
    "Summer = subscriber_data['month'].isin([6,7,8])\n",
    "summer_df = subscriber_data[Summer]"
   ]
  },
  {
   "cell_type": "code",
   "execution_count": 110,
   "metadata": {},
   "outputs": [],
   "source": [
    "fall = subscriber_data['month'].isin([9,10,11])\n",
    "fall_df = subscriber_data[fall]"
   ]
  },
  {
   "cell_type": "code",
   "execution_count": 111,
   "metadata": {},
   "outputs": [],
   "source": [
    "winter = subscriber_data['month'].isin([12,1,2])\n",
    "winter_df = subscriber_data[winter]"
   ]
  },
  {
   "cell_type": "code",
   "execution_count": 116,
   "metadata": {},
   "outputs": [
    {
     "data": {
      "image/png": "[encoded data removed]",
      "text/plain": [
       "<Figure size 432x288 with 1 Axes>"
      ]
     },
     "metadata": {},
     "output_type": "display_data"
    }
   ],
   "source": [
    "labels = ('Spring','Summer','Fall','Winter')\n",
    "y_pos = np.arange(len(labels))\n",
    "seasons = [len(spring_df),len(summer_df),len(fall_df),len(winter_df)]\n",
    "plt.bar(y_pos,seasons,align='center',alpha=0.5)\n",
    "plt.xticks(y_pos,labels)\n",
    "plt.ylabel('Count')\n",
    "plt.title('SeasonWide number of Trips')\n",
    "plt.show()\n"
   ]
  },
  {
   "cell_type": "code",
   "execution_count": 117,
   "metadata": {},
   "outputs": [
    {
     "data": {
      "image/png": "[encoded data removed]",
      "text/plain": [
       "<Figure size 432x288 with 1 Axes>"
      ]
     },
     "metadata": {},
     "output_type": "display_data"
    }
   ],
   "source": [
    "import seaborn as sns\n",
    "sns.set(style=\"darkgrid\")\n",
    "ax = sns.countplot(x=\"gender\", data=subscriber_data)"
   ]
  },
  {
   "cell_type": "code",
   "execution_count": null,
   "metadata": {},
   "outputs": [],
   "source": []
  },
  {
   "cell_type": "markdown",
   "metadata": {},
   "source": [
    "# Stations.json file contains the geographical data about each station location and number of docking points at each station as of 2018\n",
    ".\n",
    "### Here the latitude longitude data for start and end stations is appended along with number of docking ports at each station."
   ]
  },
  {
   "cell_type": "code",
   "execution_count": null,
   "metadata": {},
   "outputs": [],
   "source": [
    "import json\n",
    "from pandas.io.json import json_normalize\n"
   ]
  },
  {
   "cell_type": "code",
   "execution_count": 22,
   "metadata": {},
   "outputs": [
    {
     "data": {
      "text/html": [
       "<div>\n",
       "<style scoped>\n",
       "    .dataframe tbody tr th:only-of-type {\n",
       "        vertical-align: middle;\n",
       "    }\n",
       "\n",
       "    .dataframe tbody tr th {\n",
       "        vertical-align: top;\n",
       "    }\n",
       "\n",
       "    .dataframe thead th {\n",
       "        text-align: right;\n",
       "    }\n",
       "</style>\n",
       "<table border=\"1\" class=\"dataframe\">\n",
       "  <thead>\n",
       "    <tr style=\"text-align: right;\">\n",
       "      <th></th>\n",
       "      <th>executionTime</th>\n",
       "      <th>stationBeanList</th>\n",
       "    </tr>\n",
       "  </thead>\n",
       "  <tbody>\n",
       "    <tr>\n",
       "      <th>0</th>\n",
       "      <td>2018-08-19 03:45:31</td>\n",
       "      <td>{'id': 2, 'stationName': 'Buckingham Fountain'...</td>\n",
       "    </tr>\n",
       "    <tr>\n",
       "      <th>1</th>\n",
       "      <td>2018-08-19 03:45:31</td>\n",
       "      <td>{'id': 3, 'stationName': 'Shedd Aquarium', 'av...</td>\n",
       "    </tr>\n",
       "    <tr>\n",
       "      <th>2</th>\n",
       "      <td>2018-08-19 03:45:31</td>\n",
       "      <td>{'id': 4, 'stationName': 'Burnham Harbor', 'av...</td>\n",
       "    </tr>\n",
       "    <tr>\n",
       "      <th>3</th>\n",
       "      <td>2018-08-19 03:45:31</td>\n",
       "      <td>{'id': 5, 'stationName': 'State St &amp; Harrison ...</td>\n",
       "    </tr>\n",
       "    <tr>\n",
       "      <th>4</th>\n",
       "      <td>2018-08-19 03:45:31</td>\n",
       "      <td>{'id': 6, 'stationName': 'Dusable Harbor', 'av...</td>\n",
       "    </tr>\n",
       "  </tbody>\n",
       "</table>\n",
       "</div>"
      ],
      "text/plain": [
       "         executionTime                                    stationBeanList\n",
       "0  2018-08-19 03:45:31  {'id': 2, 'stationName': 'Buckingham Fountain'...\n",
       "1  2018-08-19 03:45:31  {'id': 3, 'stationName': 'Shedd Aquarium', 'av...\n",
       "2  2018-08-19 03:45:31  {'id': 4, 'stationName': 'Burnham Harbor', 'av...\n",
       "3  2018-08-19 03:45:31  {'id': 5, 'stationName': 'State St & Harrison ...\n",
       "4  2018-08-19 03:45:31  {'id': 6, 'stationName': 'Dusable Harbor', 'av..."
      ]
     },
     "execution_count": 22,
     "metadata": {},
     "output_type": "execute_result"
    }
   ],
   "source": [
    "json_df = pd.read_json('stations.json')\n",
    "json_df.head()"
   ]
  },
  {
   "cell_type": "code",
   "execution_count": 23,
   "metadata": {
    "scrolled": false
   },
   "outputs": [
    {
     "ename": "NameError",
     "evalue": "name 'json_normalize' is not defined",
     "output_type": "error",
     "traceback": [
      "\u001b[1;31m---------------------------------------------------------------------------\u001b[0m",
      "\u001b[1;31mNameError\u001b[0m                                 Traceback (most recent call last)",
      "\u001b[1;32m<ipython-input-23-0b2893d9e1a9>\u001b[0m in \u001b[0;36m<module>\u001b[1;34m()\u001b[0m\n\u001b[0;32m      1\u001b[0m \u001b[0mloc\u001b[0m\u001b[1;33m=\u001b[0m\u001b[1;33m[\u001b[0m\u001b[1;33m]\u001b[0m\u001b[1;33m\u001b[0m\u001b[0m\n\u001b[0;32m      2\u001b[0m \u001b[1;32mfor\u001b[0m \u001b[0mindex\u001b[0m\u001b[1;33m,\u001b[0m\u001b[0mrow\u001b[0m \u001b[1;32min\u001b[0m \u001b[0mjson_df\u001b[0m\u001b[1;33m.\u001b[0m\u001b[0miterrows\u001b[0m\u001b[1;33m(\u001b[0m\u001b[1;33m)\u001b[0m\u001b[1;33m:\u001b[0m\u001b[1;33m\u001b[0m\u001b[0m\n\u001b[1;32m----> 3\u001b[1;33m     \u001b[0mt1\u001b[0m\u001b[1;33m=\u001b[0m\u001b[0mjson_normalize\u001b[0m\u001b[1;33m(\u001b[0m\u001b[0mrow\u001b[0m\u001b[1;33m[\u001b[0m\u001b[1;34m'stationBeanList'\u001b[0m\u001b[1;33m]\u001b[0m\u001b[1;33m)\u001b[0m\u001b[1;33m\u001b[0m\u001b[0m\n\u001b[0m\u001b[0;32m      4\u001b[0m     \u001b[0mloc\u001b[0m\u001b[1;33m.\u001b[0m\u001b[0mappend\u001b[0m\u001b[1;33m(\u001b[0m\u001b[0mt1\u001b[0m\u001b[1;33m)\u001b[0m\u001b[1;33m\u001b[0m\u001b[0m\n\u001b[0;32m      5\u001b[0m \u001b[0mloc_df\u001b[0m \u001b[1;33m=\u001b[0m \u001b[0mpd\u001b[0m\u001b[1;33m.\u001b[0m\u001b[0mconcat\u001b[0m\u001b[1;33m(\u001b[0m\u001b[0mloc\u001b[0m\u001b[1;33m)\u001b[0m\u001b[1;33m\u001b[0m\u001b[0m\n",
      "\u001b[1;31mNameError\u001b[0m: name 'json_normalize' is not defined"
     ]
    }
   ],
   "source": [
    "loc=[]\n",
    "for index,row in json_df.iterrows():\n",
    "    t1=json_normalize(row['stationBeanList'])\n",
    "    loc.append(t1)\n",
    "loc_df = pd.concat(loc)\n",
    "   \n",
    "loc_df.head()"
   ]
  },
  {
   "cell_type": "code",
   "execution_count": null,
   "metadata": {},
   "outputs": [],
   "source": [
    "#lets take only required columns such as latitude,longitude and totalDocks"
   ]
  },
  {
   "cell_type": "code",
   "execution_count": null,
   "metadata": {},
   "outputs": [],
   "source": [
    "loc_df[['id','latitude','longitude','totalDocks']]\n",
    "loc_df.head(5)"
   ]
  },
  {
   "cell_type": "code",
   "execution_count": null,
   "metadata": {},
   "outputs": [],
   "source": [
    "\n",
    "code_dict={} # dictionary with station id as key and latitude,longitude as values\n",
    "doc_dict={} #dictionary with station id as key and number of docking ports as column\n",
    "\n",
    "for a in zip(loc_df.id,loc_df.latitude,loc_df.longitude,loc_df.totalDocks):\n",
    "    code_dict[a[0]]=((a[1],a[2]))\n",
    "    doc_dict[a[0]]=((a[3]))\n",
    "    \n",
    "code_dict"
   ]
  },
  {
   "cell_type": "code",
   "execution_count": null,
   "metadata": {},
   "outputs": [],
   "source": [
    "subscriber_data['Total_Docks']=subscriber_data['from_station_id'].map(doc_dict)\n"
   ]
  },
  {
   "cell_type": "code",
   "execution_count": null,
   "metadata": {},
   "outputs": [],
   "source": [
    "subscriber_data['From_stn_loc']=subscriber_data['from_station_id'].map(code_dict)\n",
    "subscriber_data['To_stn_loc']=subscriber_data['to_station_id'].map(code_dict)\n",
    "\n"
   ]
  },
  {
   "cell_type": "code",
   "execution_count": null,
   "metadata": {},
   "outputs": [],
   "source": [
    "null_columns=subscriber_data.columns[subscriber_data.isnull().any()]\n",
    "subscriber_data[null_columns].isnull().sum()\n"
   ]
  },
  {
   "cell_type": "code",
   "execution_count": null,
   "metadata": {
    "scrolled": false
   },
   "outputs": [],
   "source": [
    "nans = lambda df: df[df.isnull().any(axis=1)]\n",
    "nans(total_trips)[1:10]"
   ]
  },
  {
   "cell_type": "code",
   "execution_count": null,
   "metadata": {},
   "outputs": [],
   "source": [
    "# can observe that there are null values in above dataset because certain stations are not in operation as per 'station.json ''\n",
    "# which is recent recorded data"
   ]
  },
  {
   "cell_type": "code",
   "execution_count": null,
   "metadata": {
    "scrolled": false
   },
   "outputs": [],
   "source": [
    "total_df_locs=subscriber_data.dropna()\n",
    "total_df_locs.head()"
   ]
  },
  {
   "cell_type": "code",
   "execution_count": null,
   "metadata": {},
   "outputs": [],
   "source": [
    "total_df_locs.info()"
   ]
  },
  {
   "cell_type": "code",
   "execution_count": null,
   "metadata": {},
   "outputs": [],
   "source": []
  },
  {
   "cell_type": "code",
   "execution_count": null,
   "metadata": {},
   "outputs": [],
   "source": []
  }
 ],
 "metadata": {
  "kernelspec": {
   "display_name": "Python 3",
   "language": "python",
   "name": "python3"
  },
  "language_info": {
   "codemirror_mode": {
    "name": "ipython",
    "version": 3
   },
   "file_extension": ".py",
   "mimetype": "text/x-python",
   "name": "python",
   "nbconvert_exporter": "python",
   "pygments_lexer": "ipython3",
   "version": "3.6.5"
  }
 },
 "nbformat": 4,
 "nbformat_minor": 2
}
