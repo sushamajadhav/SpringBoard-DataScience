{
 "cells": [
  {
   "cell_type": "code",
   "execution_count": null,
   "metadata": {},
   "outputs": [],
   "source": []
  },
  {
   "cell_type": "code",
   "execution_count": 107,
   "metadata": {},
   "outputs": [],
   "source": [
    "# ###########################################################################################################################\n",
    "# This project is part of Springboard Data Science Track Career Track for data visualization and exploratory data Analysis  #\n",
    "# in python.  \n",
    "#\n",
    "# This projects uses the data downloaded from 'https://www.divvybikes.com/' in the form of .csv files. for the years        #\n",
    "# 2014 to 2017. \n",
    "#\n",
    "# The csv files are seperated based on quarters.Here combined quartely data to form seperate dataframe yearwise to          #\n",
    "# analyse yearwise data.\n",
    "#                                                                                                                           #\n",
    "#                                                                                                                           #\n",
    "#                                                                                                                           #\n",
    "# # ########################################################################################################################\n",
    " "
   ]
  },
  {
   "cell_type": "markdown",
   "metadata": {},
   "source": [
    "### Combining csv files for 2014 and create new dataframe trips_2014"
   ]
  },
  {
   "cell_type": "code",
   "execution_count": 132,
   "metadata": {},
   "outputs": [],
   "source": [
    "import pandas as pd"
   ]
  },
  {
   "cell_type": "markdown",
   "metadata": {},
   "source": [
    "# data for 2014"
   ]
  },
  {
   "cell_type": "code",
   "execution_count": 133,
   "metadata": {},
   "outputs": [
    {
     "data": {
      "text/plain": [
       "(2454634, 12)"
      ]
     },
     "execution_count": 133,
     "metadata": {},
     "output_type": "execute_result"
    }
   ],
   "source": [
    "filepaths = ['Divvy_Trips_2014_Q1Q2.csv','Divvy_Trips_2014-Q3-07.csv','Divvy_Trips_2014-Q3-0809.csv','Divvy_Trips_2014-Q4.csv']\n",
    "trips_2014 = pd.concat(map(pd.read_csv, filepaths))\n",
    "trips_2014.shape"
   ]
  },
  {
   "cell_type": "code",
   "execution_count": 134,
   "metadata": {},
   "outputs": [
    {
     "data": {
      "text/html": [
       "<div>\n",
       "<style scoped>\n",
       "    .dataframe tbody tr th:only-of-type {\n",
       "        vertical-align: middle;\n",
       "    }\n",
       "\n",
       "    .dataframe tbody tr th {\n",
       "        vertical-align: top;\n",
       "    }\n",
       "\n",
       "    .dataframe thead th {\n",
       "        text-align: right;\n",
       "    }\n",
       "</style>\n",
       "<table border=\"1\" class=\"dataframe\">\n",
       "  <thead>\n",
       "    <tr style=\"text-align: right;\">\n",
       "      <th></th>\n",
       "      <th>trip_id</th>\n",
       "      <th>starttime</th>\n",
       "      <th>stoptime</th>\n",
       "      <th>bikeid</th>\n",
       "      <th>tripduration</th>\n",
       "      <th>from_station_id</th>\n",
       "      <th>from_station_name</th>\n",
       "      <th>to_station_id</th>\n",
       "      <th>to_station_name</th>\n",
       "      <th>usertype</th>\n",
       "      <th>gender</th>\n",
       "      <th>birthyear</th>\n",
       "    </tr>\n",
       "  </thead>\n",
       "  <tbody>\n",
       "    <tr>\n",
       "      <th>0</th>\n",
       "      <td>2355134</td>\n",
       "      <td>6/30/2014 23:57</td>\n",
       "      <td>7/1/2014 0:07</td>\n",
       "      <td>2006</td>\n",
       "      <td>604</td>\n",
       "      <td>131</td>\n",
       "      <td>Lincoln Ave &amp; Belmont Ave</td>\n",
       "      <td>303</td>\n",
       "      <td>Broadway &amp; Cornelia Ave</td>\n",
       "      <td>Subscriber</td>\n",
       "      <td>Male</td>\n",
       "      <td>1988.0</td>\n",
       "    </tr>\n",
       "    <tr>\n",
       "      <th>1</th>\n",
       "      <td>2355133</td>\n",
       "      <td>6/30/2014 23:56</td>\n",
       "      <td>7/1/2014 0:00</td>\n",
       "      <td>2217</td>\n",
       "      <td>263</td>\n",
       "      <td>282</td>\n",
       "      <td>Halsted St &amp; Maxwell St</td>\n",
       "      <td>22</td>\n",
       "      <td>May St &amp; Taylor St</td>\n",
       "      <td>Subscriber</td>\n",
       "      <td>Male</td>\n",
       "      <td>1992.0</td>\n",
       "    </tr>\n",
       "    <tr>\n",
       "      <th>2</th>\n",
       "      <td>2355130</td>\n",
       "      <td>6/30/2014 23:33</td>\n",
       "      <td>6/30/2014 23:35</td>\n",
       "      <td>2798</td>\n",
       "      <td>126</td>\n",
       "      <td>327</td>\n",
       "      <td>Sheffield Ave &amp; Webster Ave</td>\n",
       "      <td>225</td>\n",
       "      <td>Halsted St &amp; Dickens Ave</td>\n",
       "      <td>Subscriber</td>\n",
       "      <td>Male</td>\n",
       "      <td>1993.0</td>\n",
       "    </tr>\n",
       "    <tr>\n",
       "      <th>3</th>\n",
       "      <td>2355129</td>\n",
       "      <td>6/30/2014 23:26</td>\n",
       "      <td>7/1/2014 0:24</td>\n",
       "      <td>173</td>\n",
       "      <td>3481</td>\n",
       "      <td>134</td>\n",
       "      <td>Peoria St &amp; Jackson Blvd</td>\n",
       "      <td>194</td>\n",
       "      <td>State St &amp; Wacker Dr</td>\n",
       "      <td>Subscriber</td>\n",
       "      <td>Female</td>\n",
       "      <td>1988.0</td>\n",
       "    </tr>\n",
       "    <tr>\n",
       "      <th>4</th>\n",
       "      <td>2355128</td>\n",
       "      <td>6/30/2014 23:16</td>\n",
       "      <td>6/30/2014 23:26</td>\n",
       "      <td>173</td>\n",
       "      <td>638</td>\n",
       "      <td>320</td>\n",
       "      <td>Loomis St &amp; Lexington St</td>\n",
       "      <td>134</td>\n",
       "      <td>Peoria St &amp; Jackson Blvd</td>\n",
       "      <td>Subscriber</td>\n",
       "      <td>Female</td>\n",
       "      <td>1988.0</td>\n",
       "    </tr>\n",
       "  </tbody>\n",
       "</table>\n",
       "</div>"
      ],
      "text/plain": [
       "   trip_id        starttime         stoptime  bikeid  tripduration  \\\n",
       "0  2355134  6/30/2014 23:57    7/1/2014 0:07    2006           604   \n",
       "1  2355133  6/30/2014 23:56    7/1/2014 0:00    2217           263   \n",
       "2  2355130  6/30/2014 23:33  6/30/2014 23:35    2798           126   \n",
       "3  2355129  6/30/2014 23:26    7/1/2014 0:24     173          3481   \n",
       "4  2355128  6/30/2014 23:16  6/30/2014 23:26     173           638   \n",
       "\n",
       "   from_station_id            from_station_name  to_station_id  \\\n",
       "0              131    Lincoln Ave & Belmont Ave            303   \n",
       "1              282      Halsted St & Maxwell St             22   \n",
       "2              327  Sheffield Ave & Webster Ave            225   \n",
       "3              134     Peoria St & Jackson Blvd            194   \n",
       "4              320     Loomis St & Lexington St            134   \n",
       "\n",
       "            to_station_name    usertype  gender  birthyear  \n",
       "0   Broadway & Cornelia Ave  Subscriber    Male     1988.0  \n",
       "1        May St & Taylor St  Subscriber    Male     1992.0  \n",
       "2  Halsted St & Dickens Ave  Subscriber    Male     1993.0  \n",
       "3      State St & Wacker Dr  Subscriber  Female     1988.0  \n",
       "4  Peoria St & Jackson Blvd  Subscriber  Female     1988.0  "
      ]
     },
     "execution_count": 134,
     "metadata": {},
     "output_type": "execute_result"
    }
   ],
   "source": [
    "trips_2014.head()"
   ]
  },
  {
   "cell_type": "code",
   "execution_count": 135,
   "metadata": {},
   "outputs": [
    {
     "data": {
      "text/html": [
       "<div>\n",
       "<style scoped>\n",
       "    .dataframe tbody tr th:only-of-type {\n",
       "        vertical-align: middle;\n",
       "    }\n",
       "\n",
       "    .dataframe tbody tr th {\n",
       "        vertical-align: top;\n",
       "    }\n",
       "\n",
       "    .dataframe thead th {\n",
       "        text-align: right;\n",
       "    }\n",
       "</style>\n",
       "<table border=\"1\" class=\"dataframe\">\n",
       "  <thead>\n",
       "    <tr style=\"text-align: right;\">\n",
       "      <th></th>\n",
       "      <th>trip_id</th>\n",
       "      <th>starttime</th>\n",
       "      <th>stoptime</th>\n",
       "      <th>bikeid</th>\n",
       "      <th>tripduration</th>\n",
       "      <th>from_station_id</th>\n",
       "      <th>from_station_name</th>\n",
       "      <th>to_station_id</th>\n",
       "      <th>to_station_name</th>\n",
       "      <th>usertype</th>\n",
       "      <th>gender</th>\n",
       "      <th>birthyear</th>\n",
       "    </tr>\n",
       "  </thead>\n",
       "  <tbody>\n",
       "    <tr>\n",
       "      <th>10</th>\n",
       "      <td>2355119</td>\n",
       "      <td>6/30/2014 23:01</td>\n",
       "      <td>6/30/2014 23:15</td>\n",
       "      <td>1512</td>\n",
       "      <td>844</td>\n",
       "      <td>178</td>\n",
       "      <td>State St &amp; 19th St</td>\n",
       "      <td>55</td>\n",
       "      <td>Halsted St &amp; James M Rochford St</td>\n",
       "      <td>Customer</td>\n",
       "      <td>NaN</td>\n",
       "      <td>NaN</td>\n",
       "    </tr>\n",
       "    <tr>\n",
       "      <th>14</th>\n",
       "      <td>2355108</td>\n",
       "      <td>6/30/2014 22:15</td>\n",
       "      <td>6/30/2014 22:35</td>\n",
       "      <td>2070</td>\n",
       "      <td>1198</td>\n",
       "      <td>97</td>\n",
       "      <td>Museum Campus</td>\n",
       "      <td>43</td>\n",
       "      <td>Michigan Ave &amp; Washington St</td>\n",
       "      <td>Customer</td>\n",
       "      <td>NaN</td>\n",
       "      <td>NaN</td>\n",
       "    </tr>\n",
       "    <tr>\n",
       "      <th>15</th>\n",
       "      <td>2355107</td>\n",
       "      <td>6/30/2014 22:15</td>\n",
       "      <td>6/30/2014 22:35</td>\n",
       "      <td>546</td>\n",
       "      <td>1217</td>\n",
       "      <td>97</td>\n",
       "      <td>Museum Campus</td>\n",
       "      <td>43</td>\n",
       "      <td>Michigan Ave &amp; Washington St</td>\n",
       "      <td>Customer</td>\n",
       "      <td>NaN</td>\n",
       "      <td>NaN</td>\n",
       "    </tr>\n",
       "    <tr>\n",
       "      <th>22</th>\n",
       "      <td>2355093</td>\n",
       "      <td>6/30/2014 21:57</td>\n",
       "      <td>6/30/2014 22:30</td>\n",
       "      <td>989</td>\n",
       "      <td>1964</td>\n",
       "      <td>226</td>\n",
       "      <td>Racine Ave &amp; Belmont Ave</td>\n",
       "      <td>162</td>\n",
       "      <td>Damen Ave &amp; Wellington Ave</td>\n",
       "      <td>Customer</td>\n",
       "      <td>NaN</td>\n",
       "      <td>NaN</td>\n",
       "    </tr>\n",
       "  </tbody>\n",
       "</table>\n",
       "</div>"
      ],
      "text/plain": [
       "    trip_id        starttime         stoptime  bikeid  tripduration  \\\n",
       "10  2355119  6/30/2014 23:01  6/30/2014 23:15    1512           844   \n",
       "14  2355108  6/30/2014 22:15  6/30/2014 22:35    2070          1198   \n",
       "15  2355107  6/30/2014 22:15  6/30/2014 22:35     546          1217   \n",
       "22  2355093  6/30/2014 21:57  6/30/2014 22:30     989          1964   \n",
       "\n",
       "    from_station_id         from_station_name  to_station_id  \\\n",
       "10              178        State St & 19th St             55   \n",
       "14               97             Museum Campus             43   \n",
       "15               97             Museum Campus             43   \n",
       "22              226  Racine Ave & Belmont Ave            162   \n",
       "\n",
       "                     to_station_name  usertype gender  birthyear  \n",
       "10  Halsted St & James M Rochford St  Customer    NaN        NaN  \n",
       "14      Michigan Ave & Washington St  Customer    NaN        NaN  \n",
       "15      Michigan Ave & Washington St  Customer    NaN        NaN  \n",
       "22        Damen Ave & Wellington Ave  Customer    NaN        NaN  "
      ]
     },
     "execution_count": 135,
     "metadata": {},
     "output_type": "execute_result"
    }
   ],
   "source": [
    "nans = lambda df: df[df.isnull().any(axis=1)]\n",
    "nans(trips_2014)[1:5]"
   ]
  },
  {
   "cell_type": "code",
   "execution_count": 136,
   "metadata": {},
   "outputs": [
    {
     "data": {
      "text/plain": [
       "gender       791280\n",
       "birthyear    791216\n",
       "dtype: int64"
      ]
     },
     "execution_count": 136,
     "metadata": {},
     "output_type": "execute_result"
    }
   ],
   "source": [
    "null_columns=trips_2014.columns[trips_2014.isnull().any()]\n",
    "trips_2014[null_columns].isnull().sum()\n"
   ]
  },
  {
   "cell_type": "code",
   "execution_count": 137,
   "metadata": {},
   "outputs": [],
   "source": [
    "#delete the rows with NaN VALUES\n",
    "\n",
    "new_Df_2014=trips_2014.dropna()\n"
   ]
  },
  {
   "cell_type": "markdown",
   "metadata": {},
   "source": [
    "# data for 2015"
   ]
  },
  {
   "cell_type": "code",
   "execution_count": 138,
   "metadata": {},
   "outputs": [],
   "source": [
    "filepaths_1 = ['Divvy_Trips_2015-Q1.csv','Divvy_Trips_2015-Q2.csv','Divvy_Trips_2015_07.csv','Divvy_Trips_2015_08.csv','Divvy_Trips_2015_09.csv','Divvy_Trips_2015_Q4.csv']"
   ]
  },
  {
   "cell_type": "code",
   "execution_count": 139,
   "metadata": {},
   "outputs": [
    {
     "data": {
      "text/plain": [
       "(3183439, 12)"
      ]
     },
     "execution_count": 139,
     "metadata": {},
     "output_type": "execute_result"
    }
   ],
   "source": [
    "trips_2015 = pd.concat(map(pd.read_csv, filepaths_1))\n",
    "trips_2015.shape"
   ]
  },
  {
   "cell_type": "code",
   "execution_count": 140,
   "metadata": {},
   "outputs": [
    {
     "data": {
      "text/plain": [
       "gender       929971\n",
       "birthyear    929855\n",
       "dtype: int64"
      ]
     },
     "execution_count": 140,
     "metadata": {},
     "output_type": "execute_result"
    }
   ],
   "source": [
    "null_columns=trips_2015.columns[trips_2015.isnull().any()]\n",
    "trips_2015[null_columns].isnull().sum()"
   ]
  },
  {
   "cell_type": "code",
   "execution_count": 141,
   "metadata": {},
   "outputs": [],
   "source": [
    "#delete the rows with NaN values\n",
    "\n",
    "new_Df_2015=trips_2015.dropna()\n"
   ]
  },
  {
   "cell_type": "markdown",
   "metadata": {},
   "source": [
    "# data for 2016"
   ]
  },
  {
   "cell_type": "code",
   "execution_count": 142,
   "metadata": {},
   "outputs": [],
   "source": [
    "# it apperas that when the usertype == 'Customer' the data for gender and birthyear is not available.Lets seperate this \n",
    "#data from original dataframe so that we can use this for seperate analysis for customers if needed"
   ]
  },
  {
   "cell_type": "code",
   "execution_count": 143,
   "metadata": {},
   "outputs": [],
   "source": [
    "filepath_2=['Divvy_Trips_2016_Q1.csv','Divvy_Trips_2016_04.csv','Divvy_Trips_2016_05.csv','Divvy_Trips_2016_06.csv','Divvy_Trips_2016_Q3.csv','Divvy_Trips_2016_Q4.csv']\n",
    "trips_2016 = pd.concat(map(pd.read_csv, filepath_2))\n"
   ]
  },
  {
   "cell_type": "code",
   "execution_count": 144,
   "metadata": {},
   "outputs": [
    {
     "data": {
      "text/plain": [
       "gender       858429\n",
       "birthyear    858125\n",
       "dtype: int64"
      ]
     },
     "execution_count": 144,
     "metadata": {},
     "output_type": "execute_result"
    }
   ],
   "source": [
    "null_columns=trips_2016.columns[trips_2016.isnull().any()]\n",
    "trips_2016[null_columns].isnull().sum()"
   ]
  },
  {
   "cell_type": "code",
   "execution_count": 145,
   "metadata": {},
   "outputs": [],
   "source": [
    "new_Df_2016=trips_2016.dropna()\n"
   ]
  },
  {
   "cell_type": "markdown",
   "metadata": {},
   "source": [
    "# data for 2017"
   ]
  },
  {
   "cell_type": "code",
   "execution_count": 146,
   "metadata": {},
   "outputs": [],
   "source": [
    "filepath_3 = ['Divvy_Trips_2017_Q1.csv','Divvy_Trips_2017_Q2.csv','Divvy_Trips_2017_Q3.csv','Divvy_Trips_2017_Q4.csv']\n",
    "trips_2017 = pd.concat(map(pd.read_csv, filepath_3))\n",
    "\n",
    "#changing the names of the columns to match with 2015,2016,2014\n",
    "trips_2017.rename(columns={'start_time': 'starttime','end_time':\"stoptime\"}, inplace=True)\n",
    "\n"
   ]
  },
  {
   "cell_type": "code",
   "execution_count": 147,
   "metadata": {},
   "outputs": [
    {
     "data": {
      "text/plain": [
       "gender       836827\n",
       "birthyear    836758\n",
       "dtype: int64"
      ]
     },
     "execution_count": 147,
     "metadata": {},
     "output_type": "execute_result"
    }
   ],
   "source": [
    "\n",
    "null_columns=trips_2017.columns[trips_2017.isnull().any()]\n",
    "trips_2017[null_columns].isnull().sum()"
   ]
  },
  {
   "cell_type": "code",
   "execution_count": 148,
   "metadata": {},
   "outputs": [
    {
     "data": {
      "text/plain": [
       "Index(['trip_id', 'starttime', 'stoptime', 'bikeid', 'tripduration',\n",
       "       'from_station_id', 'from_station_name', 'to_station_id',\n",
       "       'to_station_name', 'usertype', 'gender', 'birthyear'],\n",
       "      dtype='object')"
      ]
     },
     "execution_count": 148,
     "metadata": {},
     "output_type": "execute_result"
    }
   ],
   "source": [
    "new_Df_2017=trips_2017.dropna()\n",
    "new_Df_2017.columns\n"
   ]
  },
  {
   "cell_type": "markdown",
   "metadata": {},
   "source": [
    "# Appending 2014,2015,2016,2017 dataframes together"
   ]
  },
  {
   "cell_type": "code",
   "execution_count": 149,
   "metadata": {},
   "outputs": [],
   "source": [
    "#appending the 2014,2015,2016 and 2017 data together\n",
    "\n",
    "total_trips = new_Df_2014.append([new_Df_2015,new_Df_2016,new_Df_2017],ignore_index=True,sort=False)\n"
   ]
  },
  {
   "cell_type": "code",
   "execution_count": 150,
   "metadata": {},
   "outputs": [
    {
     "data": {
      "text/plain": [
       "Series([], dtype: float64)"
      ]
     },
     "execution_count": 150,
     "metadata": {},
     "output_type": "execute_result"
    }
   ],
   "source": [
    "null_columns=total_trips.columns[total_trips.isnull().any()]\n",
    "total_trips[null_columns].isnull().sum()"
   ]
  },
  {
   "cell_type": "code",
   "execution_count": 151,
   "metadata": {},
   "outputs": [
    {
     "data": {
      "text/html": [
       "<div>\n",
       "<style scoped>\n",
       "    .dataframe tbody tr th:only-of-type {\n",
       "        vertical-align: middle;\n",
       "    }\n",
       "\n",
       "    .dataframe tbody tr th {\n",
       "        vertical-align: top;\n",
       "    }\n",
       "\n",
       "    .dataframe thead th {\n",
       "        text-align: right;\n",
       "    }\n",
       "</style>\n",
       "<table border=\"1\" class=\"dataframe\">\n",
       "  <thead>\n",
       "    <tr style=\"text-align: right;\">\n",
       "      <th></th>\n",
       "      <th>trip_id</th>\n",
       "      <th>starttime</th>\n",
       "      <th>stoptime</th>\n",
       "      <th>bikeid</th>\n",
       "      <th>tripduration</th>\n",
       "      <th>from_station_id</th>\n",
       "      <th>from_station_name</th>\n",
       "      <th>to_station_id</th>\n",
       "      <th>to_station_name</th>\n",
       "      <th>usertype</th>\n",
       "      <th>gender</th>\n",
       "      <th>birthyear</th>\n",
       "    </tr>\n",
       "  </thead>\n",
       "  <tbody>\n",
       "    <tr>\n",
       "      <th>0</th>\n",
       "      <td>2355134</td>\n",
       "      <td>6/30/2014 23:57</td>\n",
       "      <td>7/1/2014 0:07</td>\n",
       "      <td>2006</td>\n",
       "      <td>604</td>\n",
       "      <td>131</td>\n",
       "      <td>Lincoln Ave &amp; Belmont Ave</td>\n",
       "      <td>303</td>\n",
       "      <td>Broadway &amp; Cornelia Ave</td>\n",
       "      <td>Subscriber</td>\n",
       "      <td>Male</td>\n",
       "      <td>1988.0</td>\n",
       "    </tr>\n",
       "    <tr>\n",
       "      <th>1</th>\n",
       "      <td>2355133</td>\n",
       "      <td>6/30/2014 23:56</td>\n",
       "      <td>7/1/2014 0:00</td>\n",
       "      <td>2217</td>\n",
       "      <td>263</td>\n",
       "      <td>282</td>\n",
       "      <td>Halsted St &amp; Maxwell St</td>\n",
       "      <td>22</td>\n",
       "      <td>May St &amp; Taylor St</td>\n",
       "      <td>Subscriber</td>\n",
       "      <td>Male</td>\n",
       "      <td>1992.0</td>\n",
       "    </tr>\n",
       "    <tr>\n",
       "      <th>2</th>\n",
       "      <td>2355130</td>\n",
       "      <td>6/30/2014 23:33</td>\n",
       "      <td>6/30/2014 23:35</td>\n",
       "      <td>2798</td>\n",
       "      <td>126</td>\n",
       "      <td>327</td>\n",
       "      <td>Sheffield Ave &amp; Webster Ave</td>\n",
       "      <td>225</td>\n",
       "      <td>Halsted St &amp; Dickens Ave</td>\n",
       "      <td>Subscriber</td>\n",
       "      <td>Male</td>\n",
       "      <td>1993.0</td>\n",
       "    </tr>\n",
       "    <tr>\n",
       "      <th>3</th>\n",
       "      <td>2355129</td>\n",
       "      <td>6/30/2014 23:26</td>\n",
       "      <td>7/1/2014 0:24</td>\n",
       "      <td>173</td>\n",
       "      <td>3481</td>\n",
       "      <td>134</td>\n",
       "      <td>Peoria St &amp; Jackson Blvd</td>\n",
       "      <td>194</td>\n",
       "      <td>State St &amp; Wacker Dr</td>\n",
       "      <td>Subscriber</td>\n",
       "      <td>Female</td>\n",
       "      <td>1988.0</td>\n",
       "    </tr>\n",
       "    <tr>\n",
       "      <th>4</th>\n",
       "      <td>2355128</td>\n",
       "      <td>6/30/2014 23:16</td>\n",
       "      <td>6/30/2014 23:26</td>\n",
       "      <td>173</td>\n",
       "      <td>638</td>\n",
       "      <td>320</td>\n",
       "      <td>Loomis St &amp; Lexington St</td>\n",
       "      <td>134</td>\n",
       "      <td>Peoria St &amp; Jackson Blvd</td>\n",
       "      <td>Subscriber</td>\n",
       "      <td>Female</td>\n",
       "      <td>1988.0</td>\n",
       "    </tr>\n",
       "  </tbody>\n",
       "</table>\n",
       "</div>"
      ],
      "text/plain": [
       "   trip_id        starttime         stoptime  bikeid  tripduration  \\\n",
       "0  2355134  6/30/2014 23:57    7/1/2014 0:07    2006           604   \n",
       "1  2355133  6/30/2014 23:56    7/1/2014 0:00    2217           263   \n",
       "2  2355130  6/30/2014 23:33  6/30/2014 23:35    2798           126   \n",
       "3  2355129  6/30/2014 23:26    7/1/2014 0:24     173          3481   \n",
       "4  2355128  6/30/2014 23:16  6/30/2014 23:26     173           638   \n",
       "\n",
       "   from_station_id            from_station_name  to_station_id  \\\n",
       "0              131    Lincoln Ave & Belmont Ave            303   \n",
       "1              282      Halsted St & Maxwell St             22   \n",
       "2              327  Sheffield Ave & Webster Ave            225   \n",
       "3              134     Peoria St & Jackson Blvd            194   \n",
       "4              320     Loomis St & Lexington St            134   \n",
       "\n",
       "            to_station_name    usertype  gender  birthyear  \n",
       "0   Broadway & Cornelia Ave  Subscriber    Male     1988.0  \n",
       "1        May St & Taylor St  Subscriber    Male     1992.0  \n",
       "2  Halsted St & Dickens Ave  Subscriber    Male     1993.0  \n",
       "3      State St & Wacker Dr  Subscriber  Female     1988.0  \n",
       "4  Peoria St & Jackson Blvd  Subscriber  Female     1988.0  "
      ]
     },
     "execution_count": 151,
     "metadata": {},
     "output_type": "execute_result"
    }
   ],
   "source": [
    "total_trips.head()"
   ]
  },
  {
   "cell_type": "code",
   "execution_count": 152,
   "metadata": {},
   "outputs": [
    {
     "name": "stdout",
     "output_type": "stream",
     "text": [
      "<class 'pandas.core.frame.DataFrame'>\n",
      "RangeIndex: 9645634 entries, 0 to 9645633\n",
      "Data columns (total 12 columns):\n",
      "trip_id              int64\n",
      "starttime            object\n",
      "stoptime             object\n",
      "bikeid               int64\n",
      "tripduration         int64\n",
      "from_station_id      int64\n",
      "from_station_name    object\n",
      "to_station_id        int64\n",
      "to_station_name      object\n",
      "usertype             object\n",
      "gender               object\n",
      "birthyear            float64\n",
      "dtypes: float64(1), int64(5), object(6)\n",
      "memory usage: 883.1+ MB\n"
     ]
    }
   ],
   "source": [
    "total_trips.info()"
   ]
  },
  {
   "cell_type": "code",
   "execution_count": 153,
   "metadata": {},
   "outputs": [
    {
     "data": {
      "text/plain": [
       "(9645634, 12)"
      ]
     },
     "execution_count": 153,
     "metadata": {},
     "output_type": "execute_result"
    }
   ],
   "source": [
    "total_trips.shape"
   ]
  },
  {
   "cell_type": "markdown",
   "metadata": {},
   "source": [
    "## Final Dataframe for all Years without NaN values"
   ]
  },
  {
   "cell_type": "code",
   "execution_count": 154,
   "metadata": {},
   "outputs": [
    {
     "data": {
      "text/html": [
       "<div>\n",
       "<style scoped>\n",
       "    .dataframe tbody tr th:only-of-type {\n",
       "        vertical-align: middle;\n",
       "    }\n",
       "\n",
       "    .dataframe tbody tr th {\n",
       "        vertical-align: top;\n",
       "    }\n",
       "\n",
       "    .dataframe thead th {\n",
       "        text-align: right;\n",
       "    }\n",
       "</style>\n",
       "<table border=\"1\" class=\"dataframe\">\n",
       "  <thead>\n",
       "    <tr style=\"text-align: right;\">\n",
       "      <th></th>\n",
       "      <th>trip_id</th>\n",
       "      <th>starttime</th>\n",
       "      <th>stoptime</th>\n",
       "      <th>bikeid</th>\n",
       "      <th>tripduration</th>\n",
       "      <th>from_station_id</th>\n",
       "      <th>from_station_name</th>\n",
       "      <th>to_station_id</th>\n",
       "      <th>to_station_name</th>\n",
       "      <th>usertype</th>\n",
       "      <th>gender</th>\n",
       "      <th>birthyear</th>\n",
       "    </tr>\n",
       "  </thead>\n",
       "  <tbody>\n",
       "    <tr>\n",
       "      <th>0</th>\n",
       "      <td>2355134</td>\n",
       "      <td>6/30/2014 23:57</td>\n",
       "      <td>7/1/2014 0:07</td>\n",
       "      <td>2006</td>\n",
       "      <td>604</td>\n",
       "      <td>131</td>\n",
       "      <td>Lincoln Ave &amp; Belmont Ave</td>\n",
       "      <td>303</td>\n",
       "      <td>Broadway &amp; Cornelia Ave</td>\n",
       "      <td>Subscriber</td>\n",
       "      <td>Male</td>\n",
       "      <td>1988.0</td>\n",
       "    </tr>\n",
       "    <tr>\n",
       "      <th>1</th>\n",
       "      <td>2355133</td>\n",
       "      <td>6/30/2014 23:56</td>\n",
       "      <td>7/1/2014 0:00</td>\n",
       "      <td>2217</td>\n",
       "      <td>263</td>\n",
       "      <td>282</td>\n",
       "      <td>Halsted St &amp; Maxwell St</td>\n",
       "      <td>22</td>\n",
       "      <td>May St &amp; Taylor St</td>\n",
       "      <td>Subscriber</td>\n",
       "      <td>Male</td>\n",
       "      <td>1992.0</td>\n",
       "    </tr>\n",
       "    <tr>\n",
       "      <th>2</th>\n",
       "      <td>2355130</td>\n",
       "      <td>6/30/2014 23:33</td>\n",
       "      <td>6/30/2014 23:35</td>\n",
       "      <td>2798</td>\n",
       "      <td>126</td>\n",
       "      <td>327</td>\n",
       "      <td>Sheffield Ave &amp; Webster Ave</td>\n",
       "      <td>225</td>\n",
       "      <td>Halsted St &amp; Dickens Ave</td>\n",
       "      <td>Subscriber</td>\n",
       "      <td>Male</td>\n",
       "      <td>1993.0</td>\n",
       "    </tr>\n",
       "    <tr>\n",
       "      <th>3</th>\n",
       "      <td>2355129</td>\n",
       "      <td>6/30/2014 23:26</td>\n",
       "      <td>7/1/2014 0:24</td>\n",
       "      <td>173</td>\n",
       "      <td>3481</td>\n",
       "      <td>134</td>\n",
       "      <td>Peoria St &amp; Jackson Blvd</td>\n",
       "      <td>194</td>\n",
       "      <td>State St &amp; Wacker Dr</td>\n",
       "      <td>Subscriber</td>\n",
       "      <td>Female</td>\n",
       "      <td>1988.0</td>\n",
       "    </tr>\n",
       "    <tr>\n",
       "      <th>4</th>\n",
       "      <td>2355128</td>\n",
       "      <td>6/30/2014 23:16</td>\n",
       "      <td>6/30/2014 23:26</td>\n",
       "      <td>173</td>\n",
       "      <td>638</td>\n",
       "      <td>320</td>\n",
       "      <td>Loomis St &amp; Lexington St</td>\n",
       "      <td>134</td>\n",
       "      <td>Peoria St &amp; Jackson Blvd</td>\n",
       "      <td>Subscriber</td>\n",
       "      <td>Female</td>\n",
       "      <td>1988.0</td>\n",
       "    </tr>\n",
       "  </tbody>\n",
       "</table>\n",
       "</div>"
      ],
      "text/plain": [
       "   trip_id        starttime         stoptime  bikeid  tripduration  \\\n",
       "0  2355134  6/30/2014 23:57    7/1/2014 0:07    2006           604   \n",
       "1  2355133  6/30/2014 23:56    7/1/2014 0:00    2217           263   \n",
       "2  2355130  6/30/2014 23:33  6/30/2014 23:35    2798           126   \n",
       "3  2355129  6/30/2014 23:26    7/1/2014 0:24     173          3481   \n",
       "4  2355128  6/30/2014 23:16  6/30/2014 23:26     173           638   \n",
       "\n",
       "   from_station_id            from_station_name  to_station_id  \\\n",
       "0              131    Lincoln Ave & Belmont Ave            303   \n",
       "1              282      Halsted St & Maxwell St             22   \n",
       "2              327  Sheffield Ave & Webster Ave            225   \n",
       "3              134     Peoria St & Jackson Blvd            194   \n",
       "4              320     Loomis St & Lexington St            134   \n",
       "\n",
       "            to_station_name    usertype  gender  birthyear  \n",
       "0   Broadway & Cornelia Ave  Subscriber    Male     1988.0  \n",
       "1        May St & Taylor St  Subscriber    Male     1992.0  \n",
       "2  Halsted St & Dickens Ave  Subscriber    Male     1993.0  \n",
       "3      State St & Wacker Dr  Subscriber  Female     1988.0  \n",
       "4  Peoria St & Jackson Blvd  Subscriber  Female     1988.0  "
      ]
     },
     "execution_count": 154,
     "metadata": {},
     "output_type": "execute_result"
    }
   ],
   "source": [
    "total_trips.head()"
   ]
  },
  {
   "cell_type": "markdown",
   "metadata": {},
   "source": [
    "# Converting starttime and stoptime column types to datetime"
   ]
  },
  {
   "cell_type": "code",
   "execution_count": 155,
   "metadata": {},
   "outputs": [
    {
     "name": "stdout",
     "output_type": "stream",
     "text": [
      "Wall time: 17min 18s\n"
     ]
    }
   ],
   "source": [
    "%%time\n",
    "\n",
    "\n",
    "total_trips['stoptime'] = pd.to_datetime(total_trips['stoptime'])\n"
   ]
  },
  {
   "cell_type": "code",
   "execution_count": 156,
   "metadata": {},
   "outputs": [],
   "source": [
    "total_trips['starttime'] = pd.to_datetime(total_trips['starttime'])\n"
   ]
  },
  {
   "cell_type": "code",
   "execution_count": 157,
   "metadata": {},
   "outputs": [
    {
     "name": "stdout",
     "output_type": "stream",
     "text": [
      "<class 'pandas.core.frame.DataFrame'>\n",
      "RangeIndex: 9645634 entries, 0 to 9645633\n",
      "Data columns (total 12 columns):\n",
      "trip_id              int64\n",
      "starttime            datetime64[ns]\n",
      "stoptime             datetime64[ns]\n",
      "bikeid               int64\n",
      "tripduration         int64\n",
      "from_station_id      int64\n",
      "from_station_name    object\n",
      "to_station_id        int64\n",
      "to_station_name      object\n",
      "usertype             object\n",
      "gender               object\n",
      "birthyear            float64\n",
      "dtypes: datetime64[ns](2), float64(1), int64(5), object(4)\n",
      "memory usage: 883.1+ MB\n"
     ]
    }
   ],
   "source": [
    "total_trips.info()"
   ]
  },
  {
   "cell_type": "markdown",
   "metadata": {},
   "source": [
    "# Reading Json file to map latitude and longitude of stations"
   ]
  },
  {
   "cell_type": "markdown",
   "metadata": {},
   "source": [
    "### Stations.json file contains the geographical data about each station location and number of docking points at each station as of 2018\n",
    ".\n",
    "### Here the latitude longitude data for start and end stations is appended along with number of docking ports at each station."
   ]
  },
  {
   "cell_type": "code",
   "execution_count": null,
   "metadata": {},
   "outputs": [],
   "source": [
    "import json\n",
    "from pandas.io.json import json_normalize\n"
   ]
  },
  {
   "cell_type": "code",
   "execution_count": null,
   "metadata": {},
   "outputs": [],
   "source": [
    "json_df = pd.read_json('stations.json')\n",
    "json_df.head()"
   ]
  },
  {
   "cell_type": "code",
   "execution_count": null,
   "metadata": {
    "scrolled": false
   },
   "outputs": [],
   "source": [
    "loc=[]\n",
    "for index,row in json_df.iterrows():\n",
    "    t1=json_normalize(row['stationBeanList'])\n",
    "    loc.append(t1)\n",
    "loc_df = pd.concat(loc)\n",
    "   \n",
    "loc_df.head()"
   ]
  },
  {
   "cell_type": "code",
   "execution_count": null,
   "metadata": {},
   "outputs": [],
   "source": [
    "#lets take only required columns such as latitude,longitude and totalDocks"
   ]
  },
  {
   "cell_type": "code",
   "execution_count": null,
   "metadata": {},
   "outputs": [],
   "source": [
    "loc_df[['id','latitude','longitude','totalDocks']]\n",
    "loc_df.head(5)"
   ]
  },
  {
   "cell_type": "code",
   "execution_count": null,
   "metadata": {},
   "outputs": [],
   "source": [
    "\n",
    "code_dict={} # dictionary with station id as key and latitude,longitude as values\n",
    "doc_dict={} #dictionary with station id as key and number of docking ports as column\n",
    "\n",
    "for a in zip(loc_df.id,loc_df.latitude,loc_df.longitude,loc_df.totalDocks):\n",
    "    code_dict[a[0]]=((a[1],a[2]))\n",
    "    doc_dict[a[0]]=((a[3]))\n",
    "    \n",
    "code_dict"
   ]
  },
  {
   "cell_type": "code",
   "execution_count": null,
   "metadata": {},
   "outputs": [],
   "source": [
    "total_trips['Total_Docks']=total_trips['from_station_id'].map(doc_dict)\n"
   ]
  },
  {
   "cell_type": "code",
   "execution_count": null,
   "metadata": {},
   "outputs": [],
   "source": [
    "total_trips['From_stn_loc']=total_trips['from_station_id'].map(code_dict)\n",
    "total_trips['To_stn_loc']=total_trips['to_station_id'].map(code_dict)\n",
    "\n"
   ]
  },
  {
   "cell_type": "code",
   "execution_count": null,
   "metadata": {},
   "outputs": [],
   "source": [
    "null_columns=total_trips.columns[total_trips.isnull().any()]\n",
    "total_trips[null_columns].isnull().sum()\n"
   ]
  },
  {
   "cell_type": "code",
   "execution_count": null,
   "metadata": {
    "scrolled": false
   },
   "outputs": [],
   "source": [
    "nans = lambda df: df[df.isnull().any(axis=1)]\n",
    "nans(total_trips)[1:10]"
   ]
  },
  {
   "cell_type": "code",
   "execution_count": null,
   "metadata": {},
   "outputs": [],
   "source": [
    "# can observe that there are null values in above dataset because certain stations are not in operation as per 'station.json ''\n",
    "# which is recent recorded data"
   ]
  },
  {
   "cell_type": "code",
   "execution_count": 160,
   "metadata": {
    "scrolled": false
   },
   "outputs": [
    {
     "data": {
      "text/html": [
       "<div>\n",
       "<style scoped>\n",
       "    .dataframe tbody tr th:only-of-type {\n",
       "        vertical-align: middle;\n",
       "    }\n",
       "\n",
       "    .dataframe tbody tr th {\n",
       "        vertical-align: top;\n",
       "    }\n",
       "\n",
       "    .dataframe thead th {\n",
       "        text-align: right;\n",
       "    }\n",
       "</style>\n",
       "<table border=\"1\" class=\"dataframe\">\n",
       "  <thead>\n",
       "    <tr style=\"text-align: right;\">\n",
       "      <th></th>\n",
       "      <th>trip_id</th>\n",
       "      <th>starttime</th>\n",
       "      <th>stoptime</th>\n",
       "      <th>bikeid</th>\n",
       "      <th>tripduration</th>\n",
       "      <th>from_station_id</th>\n",
       "      <th>from_station_name</th>\n",
       "      <th>to_station_id</th>\n",
       "      <th>to_station_name</th>\n",
       "      <th>usertype</th>\n",
       "      <th>gender</th>\n",
       "      <th>birthyear</th>\n",
       "    </tr>\n",
       "  </thead>\n",
       "  <tbody>\n",
       "    <tr>\n",
       "      <th>0</th>\n",
       "      <td>2355134</td>\n",
       "      <td>2014-06-30 23:57:00</td>\n",
       "      <td>2014-07-01 00:07:00</td>\n",
       "      <td>2006</td>\n",
       "      <td>604</td>\n",
       "      <td>131</td>\n",
       "      <td>Lincoln Ave &amp; Belmont Ave</td>\n",
       "      <td>303</td>\n",
       "      <td>Broadway &amp; Cornelia Ave</td>\n",
       "      <td>Subscriber</td>\n",
       "      <td>Male</td>\n",
       "      <td>1988.0</td>\n",
       "    </tr>\n",
       "    <tr>\n",
       "      <th>1</th>\n",
       "      <td>2355133</td>\n",
       "      <td>2014-06-30 23:56:00</td>\n",
       "      <td>2014-07-01 00:00:00</td>\n",
       "      <td>2217</td>\n",
       "      <td>263</td>\n",
       "      <td>282</td>\n",
       "      <td>Halsted St &amp; Maxwell St</td>\n",
       "      <td>22</td>\n",
       "      <td>May St &amp; Taylor St</td>\n",
       "      <td>Subscriber</td>\n",
       "      <td>Male</td>\n",
       "      <td>1992.0</td>\n",
       "    </tr>\n",
       "    <tr>\n",
       "      <th>2</th>\n",
       "      <td>2355130</td>\n",
       "      <td>2014-06-30 23:33:00</td>\n",
       "      <td>2014-06-30 23:35:00</td>\n",
       "      <td>2798</td>\n",
       "      <td>126</td>\n",
       "      <td>327</td>\n",
       "      <td>Sheffield Ave &amp; Webster Ave</td>\n",
       "      <td>225</td>\n",
       "      <td>Halsted St &amp; Dickens Ave</td>\n",
       "      <td>Subscriber</td>\n",
       "      <td>Male</td>\n",
       "      <td>1993.0</td>\n",
       "    </tr>\n",
       "    <tr>\n",
       "      <th>3</th>\n",
       "      <td>2355129</td>\n",
       "      <td>2014-06-30 23:26:00</td>\n",
       "      <td>2014-07-01 00:24:00</td>\n",
       "      <td>173</td>\n",
       "      <td>3481</td>\n",
       "      <td>134</td>\n",
       "      <td>Peoria St &amp; Jackson Blvd</td>\n",
       "      <td>194</td>\n",
       "      <td>State St &amp; Wacker Dr</td>\n",
       "      <td>Subscriber</td>\n",
       "      <td>Female</td>\n",
       "      <td>1988.0</td>\n",
       "    </tr>\n",
       "    <tr>\n",
       "      <th>4</th>\n",
       "      <td>2355128</td>\n",
       "      <td>2014-06-30 23:16:00</td>\n",
       "      <td>2014-06-30 23:26:00</td>\n",
       "      <td>173</td>\n",
       "      <td>638</td>\n",
       "      <td>320</td>\n",
       "      <td>Loomis St &amp; Lexington St</td>\n",
       "      <td>134</td>\n",
       "      <td>Peoria St &amp; Jackson Blvd</td>\n",
       "      <td>Subscriber</td>\n",
       "      <td>Female</td>\n",
       "      <td>1988.0</td>\n",
       "    </tr>\n",
       "  </tbody>\n",
       "</table>\n",
       "</div>"
      ],
      "text/plain": [
       "   trip_id           starttime            stoptime  bikeid  tripduration  \\\n",
       "0  2355134 2014-06-30 23:57:00 2014-07-01 00:07:00    2006           604   \n",
       "1  2355133 2014-06-30 23:56:00 2014-07-01 00:00:00    2217           263   \n",
       "2  2355130 2014-06-30 23:33:00 2014-06-30 23:35:00    2798           126   \n",
       "3  2355129 2014-06-30 23:26:00 2014-07-01 00:24:00     173          3481   \n",
       "4  2355128 2014-06-30 23:16:00 2014-06-30 23:26:00     173           638   \n",
       "\n",
       "   from_station_id            from_station_name  to_station_id  \\\n",
       "0              131    Lincoln Ave & Belmont Ave            303   \n",
       "1              282      Halsted St & Maxwell St             22   \n",
       "2              327  Sheffield Ave & Webster Ave            225   \n",
       "3              134     Peoria St & Jackson Blvd            194   \n",
       "4              320     Loomis St & Lexington St            134   \n",
       "\n",
       "            to_station_name    usertype  gender  birthyear  \n",
       "0   Broadway & Cornelia Ave  Subscriber    Male     1988.0  \n",
       "1        May St & Taylor St  Subscriber    Male     1992.0  \n",
       "2  Halsted St & Dickens Ave  Subscriber    Male     1993.0  \n",
       "3      State St & Wacker Dr  Subscriber  Female     1988.0  \n",
       "4  Peoria St & Jackson Blvd  Subscriber  Female     1988.0  "
      ]
     },
     "execution_count": 160,
     "metadata": {},
     "output_type": "execute_result"
    }
   ],
   "source": [
    "total_df_locs=total_trips.dropna()\n",
    "total_df_locs.head()"
   ]
  },
  {
   "cell_type": "code",
   "execution_count": 161,
   "metadata": {},
   "outputs": [
    {
     "name": "stdout",
     "output_type": "stream",
     "text": [
      "<class 'pandas.core.frame.DataFrame'>\n",
      "Int64Index: 9645634 entries, 0 to 9645633\n",
      "Data columns (total 12 columns):\n",
      "trip_id              int64\n",
      "starttime            datetime64[ns]\n",
      "stoptime             datetime64[ns]\n",
      "bikeid               int64\n",
      "tripduration         int64\n",
      "from_station_id      int64\n",
      "from_station_name    object\n",
      "to_station_id        int64\n",
      "to_station_name      object\n",
      "usertype             object\n",
      "gender               object\n",
      "birthyear            float64\n",
      "dtypes: datetime64[ns](2), float64(1), int64(5), object(4)\n",
      "memory usage: 956.7+ MB\n"
     ]
    }
   ],
   "source": [
    "total_df_locs.info()"
   ]
  },
  {
   "cell_type": "code",
   "execution_count": null,
   "metadata": {},
   "outputs": [],
   "source": []
  },
  {
   "cell_type": "code",
   "execution_count": null,
   "metadata": {},
   "outputs": [],
   "source": []
  },
  {
   "cell_type": "code",
   "execution_count": null,
   "metadata": {},
   "outputs": [],
   "source": []
  },
  {
   "cell_type": "code",
   "execution_count": null,
   "metadata": {},
   "outputs": [],
   "source": []
  },
  {
   "cell_type": "code",
   "execution_count": null,
   "metadata": {},
   "outputs": [],
   "source": []
  }
 ],
 "metadata": {
  "kernelspec": {
   "display_name": "Python 3",
   "language": "python",
   "name": "python3"
  }
 },
 "nbformat": 4,
 "nbformat_minor": 2
}
