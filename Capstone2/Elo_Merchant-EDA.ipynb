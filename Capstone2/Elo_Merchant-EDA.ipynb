{
 "cells": [
  {
   "cell_type": "code",
   "execution_count": 85,
   "metadata": {},
   "outputs": [],
   "source": [
    "import pandas as pd\n",
    "import matplotlib.pyplot as plt\n",
    "% matplotlib inline\n",
    "import seaborn as sns\n",
    "import numpy as np\n",
    "\n",
    "from sklearn.ensemble import RandomForestRegressor\n",
    "from sklearn.metrics import mean_squared_error\n",
    "\n",
    "\n"
   ]
  },
  {
   "cell_type": "code",
   "execution_count": 86,
   "metadata": {},
   "outputs": [
    {
     "name": "stdout",
     "output_type": "stream",
     "text": [
      "Number of rows and columns in train set :  (201917, 6)\n",
      "Number of rows and columns in test set :  (123623, 5)\n"
     ]
    }
   ],
   "source": [
    "#Exploring train and test data csv files as given in kaggle dataset to build models\n",
    "\n",
    "\n",
    "train = pd.read_csv(\"train.csv\", parse_dates=[\"first_active_month\"])\n",
    "test = pd.read_csv(\"test.csv\", parse_dates=[\"first_active_month\"])\n",
    "print(\"Number of rows and columns in train set : \",train.shape)\n",
    "print(\"Number of rows and columns in test set : \",test.shape)"
   ]
  },
  {
   "cell_type": "code",
   "execution_count": 87,
   "metadata": {},
   "outputs": [
    {
     "data": {
      "text/html": [
       "<div>\n",
       "<style scoped>\n",
       "    .dataframe tbody tr th:only-of-type {\n",
       "        vertical-align: middle;\n",
       "    }\n",
       "\n",
       "    .dataframe tbody tr th {\n",
       "        vertical-align: top;\n",
       "    }\n",
       "\n",
       "    .dataframe thead th {\n",
       "        text-align: right;\n",
       "    }\n",
       "</style>\n",
       "<table border=\"1\" class=\"dataframe\">\n",
       "  <thead>\n",
       "    <tr style=\"text-align: right;\">\n",
       "      <th></th>\n",
       "      <th>Total</th>\n",
       "      <th>Percent</th>\n",
       "    </tr>\n",
       "  </thead>\n",
       "  <tbody>\n",
       "    <tr>\n",
       "      <th>target</th>\n",
       "      <td>0</td>\n",
       "      <td>0.0</td>\n",
       "    </tr>\n",
       "    <tr>\n",
       "      <th>feature_3</th>\n",
       "      <td>0</td>\n",
       "      <td>0.0</td>\n",
       "    </tr>\n",
       "    <tr>\n",
       "      <th>feature_2</th>\n",
       "      <td>0</td>\n",
       "      <td>0.0</td>\n",
       "    </tr>\n",
       "    <tr>\n",
       "      <th>feature_1</th>\n",
       "      <td>0</td>\n",
       "      <td>0.0</td>\n",
       "    </tr>\n",
       "    <tr>\n",
       "      <th>card_id</th>\n",
       "      <td>0</td>\n",
       "      <td>0.0</td>\n",
       "    </tr>\n",
       "    <tr>\n",
       "      <th>first_active_month</th>\n",
       "      <td>0</td>\n",
       "      <td>0.0</td>\n",
       "    </tr>\n",
       "  </tbody>\n",
       "</table>\n",
       "</div>"
      ],
      "text/plain": [
       "                    Total  Percent\n",
       "target                  0      0.0\n",
       "feature_3               0      0.0\n",
       "feature_2               0      0.0\n",
       "feature_1               0      0.0\n",
       "card_id                 0      0.0\n",
       "first_active_month      0      0.0"
      ]
     },
     "execution_count": 87,
     "metadata": {},
     "output_type": "execute_result"
    }
   ],
   "source": [
    "# checking missing data in train\n",
    "total = train.isnull().sum().sort_values(ascending = False)\n",
    "percent = (train.isnull().sum()/train.isnull().count()*100).sort_values(ascending = False)\n",
    "missing_data  = pd.concat([total, percent], axis=1, keys=['Total', 'Percent'])\n",
    "missing_data.head(20)"
   ]
  },
  {
   "cell_type": "code",
   "execution_count": 88,
   "metadata": {},
   "outputs": [
    {
     "data": {
      "text/html": [
       "<div>\n",
       "<style scoped>\n",
       "    .dataframe tbody tr th:only-of-type {\n",
       "        vertical-align: middle;\n",
       "    }\n",
       "\n",
       "    .dataframe tbody tr th {\n",
       "        vertical-align: top;\n",
       "    }\n",
       "\n",
       "    .dataframe thead th {\n",
       "        text-align: right;\n",
       "    }\n",
       "</style>\n",
       "<table border=\"1\" class=\"dataframe\">\n",
       "  <thead>\n",
       "    <tr style=\"text-align: right;\">\n",
       "      <th></th>\n",
       "      <th>Total</th>\n",
       "      <th>Percent</th>\n",
       "    </tr>\n",
       "  </thead>\n",
       "  <tbody>\n",
       "    <tr>\n",
       "      <th>first_active_month</th>\n",
       "      <td>1</td>\n",
       "      <td>0.000809</td>\n",
       "    </tr>\n",
       "    <tr>\n",
       "      <th>feature_3</th>\n",
       "      <td>0</td>\n",
       "      <td>0.000000</td>\n",
       "    </tr>\n",
       "    <tr>\n",
       "      <th>feature_2</th>\n",
       "      <td>0</td>\n",
       "      <td>0.000000</td>\n",
       "    </tr>\n",
       "    <tr>\n",
       "      <th>feature_1</th>\n",
       "      <td>0</td>\n",
       "      <td>0.000000</td>\n",
       "    </tr>\n",
       "    <tr>\n",
       "      <th>card_id</th>\n",
       "      <td>0</td>\n",
       "      <td>0.000000</td>\n",
       "    </tr>\n",
       "  </tbody>\n",
       "</table>\n",
       "</div>"
      ],
      "text/plain": [
       "                    Total   Percent\n",
       "first_active_month      1  0.000809\n",
       "feature_3               0  0.000000\n",
       "feature_2               0  0.000000\n",
       "feature_1               0  0.000000\n",
       "card_id                 0  0.000000"
      ]
     },
     "execution_count": 88,
     "metadata": {},
     "output_type": "execute_result"
    }
   ],
   "source": [
    "# checking missing data in test\n",
    "total = test.isnull().sum().sort_values(ascending = False)\n",
    "percent = (test.isnull().sum()/test.isnull().count()*100).sort_values(ascending = False)\n",
    "missing_data  = pd.concat([total, percent], axis=1, keys=['Total', 'Percent'])\n",
    "missing_data.head(20)"
   ]
  },
  {
   "cell_type": "code",
   "execution_count": 89,
   "metadata": {},
   "outputs": [],
   "source": [
    "#The dataset is downloaded from kaggle.There are various csv files are given such as \n",
    "#'train.csv','test.csv','merchants.csv','historical_transactions.csv','new_merchant_transactions.csv'\n",
    "\n",
    "#The target is about predicting the loyalty score of customers.We have to combine the data from these various \n",
    "#csv to build models and evaluate using rmse metric."
   ]
  },
  {
   "cell_type": "code",
   "execution_count": 90,
   "metadata": {},
   "outputs": [
    {
     "data": {
      "text/html": [
       "<div>\n",
       "<style scoped>\n",
       "    .dataframe tbody tr th:only-of-type {\n",
       "        vertical-align: middle;\n",
       "    }\n",
       "\n",
       "    .dataframe tbody tr th {\n",
       "        vertical-align: top;\n",
       "    }\n",
       "\n",
       "    .dataframe thead th {\n",
       "        text-align: right;\n",
       "    }\n",
       "</style>\n",
       "<table border=\"1\" class=\"dataframe\">\n",
       "  <thead>\n",
       "    <tr style=\"text-align: right;\">\n",
       "      <th></th>\n",
       "      <th>first_active_month</th>\n",
       "      <th>card_id</th>\n",
       "      <th>feature_1</th>\n",
       "      <th>feature_2</th>\n",
       "      <th>feature_3</th>\n",
       "      <th>target</th>\n",
       "    </tr>\n",
       "  </thead>\n",
       "  <tbody>\n",
       "    <tr>\n",
       "      <th>0</th>\n",
       "      <td>2017-06-01</td>\n",
       "      <td>C_ID_92a2005557</td>\n",
       "      <td>5</td>\n",
       "      <td>2</td>\n",
       "      <td>1</td>\n",
       "      <td>-0.820283</td>\n",
       "    </tr>\n",
       "    <tr>\n",
       "      <th>1</th>\n",
       "      <td>2017-01-01</td>\n",
       "      <td>C_ID_3d0044924f</td>\n",
       "      <td>4</td>\n",
       "      <td>1</td>\n",
       "      <td>0</td>\n",
       "      <td>0.392913</td>\n",
       "    </tr>\n",
       "    <tr>\n",
       "      <th>2</th>\n",
       "      <td>2016-08-01</td>\n",
       "      <td>C_ID_d639edf6cd</td>\n",
       "      <td>2</td>\n",
       "      <td>2</td>\n",
       "      <td>0</td>\n",
       "      <td>0.688056</td>\n",
       "    </tr>\n",
       "    <tr>\n",
       "      <th>3</th>\n",
       "      <td>2017-09-01</td>\n",
       "      <td>C_ID_186d6a6901</td>\n",
       "      <td>4</td>\n",
       "      <td>3</td>\n",
       "      <td>0</td>\n",
       "      <td>0.142495</td>\n",
       "    </tr>\n",
       "    <tr>\n",
       "      <th>4</th>\n",
       "      <td>2017-11-01</td>\n",
       "      <td>C_ID_cdbd2c0db2</td>\n",
       "      <td>1</td>\n",
       "      <td>3</td>\n",
       "      <td>0</td>\n",
       "      <td>-0.159749</td>\n",
       "    </tr>\n",
       "  </tbody>\n",
       "</table>\n",
       "</div>"
      ],
      "text/plain": [
       "  first_active_month          card_id  feature_1  feature_2  feature_3  \\\n",
       "0         2017-06-01  C_ID_92a2005557          5          2          1   \n",
       "1         2017-01-01  C_ID_3d0044924f          4          1          0   \n",
       "2         2016-08-01  C_ID_d639edf6cd          2          2          0   \n",
       "3         2017-09-01  C_ID_186d6a6901          4          3          0   \n",
       "4         2017-11-01  C_ID_cdbd2c0db2          1          3          0   \n",
       "\n",
       "     target  \n",
       "0 -0.820283  \n",
       "1  0.392913  \n",
       "2  0.688056  \n",
       "3  0.142495  \n",
       "4 -0.159749  "
      ]
     },
     "execution_count": 90,
     "metadata": {},
     "output_type": "execute_result"
    }
   ],
   "source": [
    "train.head()"
   ]
  },
  {
   "cell_type": "code",
   "execution_count": 91,
   "metadata": {},
   "outputs": [
    {
     "data": {
      "text/html": [
       "<div>\n",
       "<style scoped>\n",
       "    .dataframe tbody tr th:only-of-type {\n",
       "        vertical-align: middle;\n",
       "    }\n",
       "\n",
       "    .dataframe tbody tr th {\n",
       "        vertical-align: top;\n",
       "    }\n",
       "\n",
       "    .dataframe thead th {\n",
       "        text-align: right;\n",
       "    }\n",
       "</style>\n",
       "<table border=\"1\" class=\"dataframe\">\n",
       "  <thead>\n",
       "    <tr style=\"text-align: right;\">\n",
       "      <th></th>\n",
       "      <th>first_active_month</th>\n",
       "      <th>card_id</th>\n",
       "      <th>feature_1</th>\n",
       "      <th>feature_2</th>\n",
       "      <th>feature_3</th>\n",
       "      <th>target</th>\n",
       "    </tr>\n",
       "  </thead>\n",
       "  <tbody>\n",
       "    <tr>\n",
       "      <th>0</th>\n",
       "      <td>2017-06-01</td>\n",
       "      <td>C_ID_92a2005557</td>\n",
       "      <td>5</td>\n",
       "      <td>2</td>\n",
       "      <td>1</td>\n",
       "      <td>-0.820283</td>\n",
       "    </tr>\n",
       "    <tr>\n",
       "      <th>1</th>\n",
       "      <td>2017-01-01</td>\n",
       "      <td>C_ID_3d0044924f</td>\n",
       "      <td>4</td>\n",
       "      <td>1</td>\n",
       "      <td>0</td>\n",
       "      <td>0.392913</td>\n",
       "    </tr>\n",
       "    <tr>\n",
       "      <th>2</th>\n",
       "      <td>2016-08-01</td>\n",
       "      <td>C_ID_d639edf6cd</td>\n",
       "      <td>2</td>\n",
       "      <td>2</td>\n",
       "      <td>0</td>\n",
       "      <td>0.688056</td>\n",
       "    </tr>\n",
       "    <tr>\n",
       "      <th>3</th>\n",
       "      <td>2017-09-01</td>\n",
       "      <td>C_ID_186d6a6901</td>\n",
       "      <td>4</td>\n",
       "      <td>3</td>\n",
       "      <td>0</td>\n",
       "      <td>0.142495</td>\n",
       "    </tr>\n",
       "    <tr>\n",
       "      <th>4</th>\n",
       "      <td>2017-11-01</td>\n",
       "      <td>C_ID_cdbd2c0db2</td>\n",
       "      <td>1</td>\n",
       "      <td>3</td>\n",
       "      <td>0</td>\n",
       "      <td>-0.159749</td>\n",
       "    </tr>\n",
       "  </tbody>\n",
       "</table>\n",
       "</div>"
      ],
      "text/plain": [
       "  first_active_month          card_id  feature_1  feature_2  feature_3  \\\n",
       "0         2017-06-01  C_ID_92a2005557          5          2          1   \n",
       "1         2017-01-01  C_ID_3d0044924f          4          1          0   \n",
       "2         2016-08-01  C_ID_d639edf6cd          2          2          0   \n",
       "3         2017-09-01  C_ID_186d6a6901          4          3          0   \n",
       "4         2017-11-01  C_ID_cdbd2c0db2          1          3          0   \n",
       "\n",
       "     target  \n",
       "0 -0.820283  \n",
       "1  0.392913  \n",
       "2  0.688056  \n",
       "3  0.142495  \n",
       "4 -0.159749  "
      ]
     },
     "execution_count": 91,
     "metadata": {},
     "output_type": "execute_result"
    }
   ],
   "source": [
    "train.head()"
   ]
  },
  {
   "cell_type": "code",
   "execution_count": 95,
   "metadata": {},
   "outputs": [],
   "source": [
    "#lets visually explore the relationship of  various columns in train dataset w.r.t target "
   ]
  },
  {
   "cell_type": "code",
   "execution_count": 96,
   "metadata": {},
   "outputs": [
    {
     "name": "stderr",
     "output_type": "stream",
     "text": [
      "/anaconda3/lib/python3.7/site-packages/scipy/stats/stats.py:1713: FutureWarning: Using a non-tuple sequence for multidimensional indexing is deprecated; use `arr[tuple(seq)]` instead of `arr[seq]`. In the future this will be interpreted as an array index, `arr[np.array(seq)]`, which will result either in an error or a different result.\n",
      "  return np.add.reduce(sorted[indexer] * weights, axis=axis) / sumval\n"
     ]
    },
    {
     "data": {
      "image/png": "[encoded data removed]",
      "text/plain": [
       "<Figure size 1152x432 with 3 Axes>"
      ]
     },
     "metadata": {
      "needs_background": "light"
     },
     "output_type": "display_data"
    }
   ],
   "source": [
    "fig, ax = plt.subplots(1, 3, figsize = (16, 6))\n",
    "plt.suptitle('Violineplots for features and target');\n",
    "sns.violinplot(x=\"feature_1\", y=\"target\", data=train, ax=ax[0], title='feature_1');\n",
    "sns.violinplot(x=\"feature_2\", y=\"target\", data=train, ax=ax[1], title='feature_2');\n",
    "sns.violinplot(x=\"feature_3\", y=\"target\", data=train, ax=ax[2], title='feature_3');\n"
   ]
  },
  {
   "cell_type": "code",
   "execution_count": 97,
   "metadata": {},
   "outputs": [
    {
     "data": {
      "image/png": "[encoded data removed]",
      "text/plain": [
       "<Figure size 1152x432 with 3 Axes>"
      ]
     },
     "metadata": {
      "needs_background": "light"
     },
     "output_type": "display_data"
    }
   ],
   "source": [
    "fig, ax = plt.subplots(1, 3, figsize = (16, 6));\n",
    "train['feature_1'].value_counts().sort_index().plot(kind='bar', ax=ax[0], color='teal', title='feature_1');\n",
    "train['feature_2'].value_counts().sort_index().plot(kind='bar', ax=ax[1], color='brown', title='feature_2');\n",
    "train['feature_3'].value_counts().sort_index().plot(kind='bar', ax=ax[2], color='gold', title='feature_3');\n",
    "plt.suptitle('Counts of categiories for features');"
   ]
  },
  {
   "cell_type": "code",
   "execution_count": 98,
   "metadata": {},
   "outputs": [
    {
     "data": {
      "image/png": "[encoded data removed]",
      "text/plain": [
       "<Figure size 432x288 with 1 Axes>"
      ]
     },
     "metadata": {
      "needs_background": "light"
     },
     "output_type": "display_data"
    }
   ],
   "source": [
    "#distribution of target is centred towards mean .we can say that data is following normal distribution.\n",
    "\n",
    "plt.hist(train['target']);\n",
    "plt.title('Target distribution');"
   ]
  },
  {
   "cell_type": "code",
   "execution_count": 99,
   "metadata": {},
   "outputs": [
    {
     "name": "stdout",
     "output_type": "stream",
     "text": [
      "There are 2207 samples with target lower than -20.\n"
     ]
    }
   ],
   "source": [
    "print('There are {0} samples with target lower than -20.'.format(train.loc[train.target < -20].shape[0]))"
   ]
  },
  {
   "cell_type": "markdown",
   "metadata": {},
   "source": [
    "Also observe the unique value of -30.May be we can consider as outlier."
   ]
  },
  {
   "cell_type": "code",
   "execution_count": 100,
   "metadata": {},
   "outputs": [],
   "source": [
    "#Explore about first active month in both train and test dataset"
   ]
  },
  {
   "cell_type": "code",
   "execution_count": 101,
   "metadata": {},
   "outputs": [
    {
     "data": {
      "image/png": "[encoded data removed]",
      "text/plain": [
       "<Figure size 1080x360 with 1 Axes>"
      ]
     },
     "metadata": {
      "needs_background": "light"
     },
     "output_type": "display_data"
    }
   ],
   "source": [
    "#train['first_active_month'] = pd.to_datetime(train['first_active_month'])\n",
    "train.groupby('first_active_month').count()['card_id'].plot(figsize=(15,5),\n",
    "                                                            title='Count of First Active Month in Train Set',\n",
    "                                                           color='r')\n",
    "plt.show()"
   ]
  },
  {
   "cell_type": "code",
   "execution_count": 102,
   "metadata": {},
   "outputs": [
    {
     "data": {
      "image/png": "[encoded data removed]",
      "text/plain": [
       "<Figure size 1080x360 with 1 Axes>"
      ]
     },
     "metadata": {
      "needs_background": "light"
     },
     "output_type": "display_data"
    }
   ],
   "source": [
    "test.groupby('first_active_month').count()['card_id'].plot(figsize=(15,5),\n",
    "                                                           title='Count of First Active Month in Test Set',\n",
    "                                                          color='b')\n",
    "plt.show()"
   ]
  },
  {
   "cell_type": "code",
   "execution_count": 15,
   "metadata": {},
   "outputs": [
    {
     "data": {
      "text/plain": [
       "count    201917.000000\n",
       "mean         -0.393636\n",
       "std           3.850500\n",
       "min         -33.219281\n",
       "25%          -0.883110\n",
       "50%          -0.023437\n",
       "75%           0.765453\n",
       "max          17.965068\n",
       "Name: target, dtype: float64"
      ]
     },
     "execution_count": 15,
     "metadata": {},
     "output_type": "execute_result"
    }
   ],
   "source": [
    "#getting basic statistics for target variable\n",
    "train.target.describe()"
   ]
  },
  {
   "cell_type": "code",
   "execution_count": 16,
   "metadata": {},
   "outputs": [],
   "source": [
    "#explore the merchants.csv dataset\n",
    "\n",
    "merchants = pd.read_csv('merchants.csv')"
   ]
  },
  {
   "cell_type": "code",
   "execution_count": 17,
   "metadata": {},
   "outputs": [
    {
     "data": {
      "text/html": [
       "<div>\n",
       "<style scoped>\n",
       "    .dataframe tbody tr th:only-of-type {\n",
       "        vertical-align: middle;\n",
       "    }\n",
       "\n",
       "    .dataframe tbody tr th {\n",
       "        vertical-align: top;\n",
       "    }\n",
       "\n",
       "    .dataframe thead th {\n",
       "        text-align: right;\n",
       "    }\n",
       "</style>\n",
       "<table border=\"1\" class=\"dataframe\">\n",
       "  <thead>\n",
       "    <tr style=\"text-align: right;\">\n",
       "      <th></th>\n",
       "      <th>merchant_id</th>\n",
       "      <th>merchant_group_id</th>\n",
       "      <th>merchant_category_id</th>\n",
       "      <th>subsector_id</th>\n",
       "      <th>numerical_1</th>\n",
       "      <th>numerical_2</th>\n",
       "      <th>category_1</th>\n",
       "      <th>most_recent_sales_range</th>\n",
       "      <th>most_recent_purchases_range</th>\n",
       "      <th>avg_sales_lag3</th>\n",
       "      <th>...</th>\n",
       "      <th>avg_sales_lag6</th>\n",
       "      <th>avg_purchases_lag6</th>\n",
       "      <th>active_months_lag6</th>\n",
       "      <th>avg_sales_lag12</th>\n",
       "      <th>avg_purchases_lag12</th>\n",
       "      <th>active_months_lag12</th>\n",
       "      <th>category_4</th>\n",
       "      <th>city_id</th>\n",
       "      <th>state_id</th>\n",
       "      <th>category_2</th>\n",
       "    </tr>\n",
       "  </thead>\n",
       "  <tbody>\n",
       "    <tr>\n",
       "      <th>0</th>\n",
       "      <td>M_ID_838061e48c</td>\n",
       "      <td>8353</td>\n",
       "      <td>792</td>\n",
       "      <td>9</td>\n",
       "      <td>-0.057471</td>\n",
       "      <td>-0.057471</td>\n",
       "      <td>N</td>\n",
       "      <td>E</td>\n",
       "      <td>E</td>\n",
       "      <td>-0.40</td>\n",
       "      <td>...</td>\n",
       "      <td>-2.25</td>\n",
       "      <td>18.666667</td>\n",
       "      <td>6</td>\n",
       "      <td>-2.32</td>\n",
       "      <td>13.916667</td>\n",
       "      <td>12</td>\n",
       "      <td>N</td>\n",
       "      <td>242</td>\n",
       "      <td>9</td>\n",
       "      <td>1.0</td>\n",
       "    </tr>\n",
       "    <tr>\n",
       "      <th>1</th>\n",
       "      <td>M_ID_9339d880ad</td>\n",
       "      <td>3184</td>\n",
       "      <td>840</td>\n",
       "      <td>20</td>\n",
       "      <td>-0.057471</td>\n",
       "      <td>-0.057471</td>\n",
       "      <td>N</td>\n",
       "      <td>E</td>\n",
       "      <td>E</td>\n",
       "      <td>-0.72</td>\n",
       "      <td>...</td>\n",
       "      <td>-0.74</td>\n",
       "      <td>1.291667</td>\n",
       "      <td>6</td>\n",
       "      <td>-0.57</td>\n",
       "      <td>1.687500</td>\n",
       "      <td>12</td>\n",
       "      <td>N</td>\n",
       "      <td>22</td>\n",
       "      <td>16</td>\n",
       "      <td>1.0</td>\n",
       "    </tr>\n",
       "    <tr>\n",
       "      <th>2</th>\n",
       "      <td>M_ID_e726bbae1e</td>\n",
       "      <td>447</td>\n",
       "      <td>690</td>\n",
       "      <td>1</td>\n",
       "      <td>-0.057471</td>\n",
       "      <td>-0.057471</td>\n",
       "      <td>N</td>\n",
       "      <td>E</td>\n",
       "      <td>E</td>\n",
       "      <td>-82.13</td>\n",
       "      <td>...</td>\n",
       "      <td>-82.13</td>\n",
       "      <td>260.000000</td>\n",
       "      <td>2</td>\n",
       "      <td>-82.13</td>\n",
       "      <td>260.000000</td>\n",
       "      <td>2</td>\n",
       "      <td>N</td>\n",
       "      <td>-1</td>\n",
       "      <td>5</td>\n",
       "      <td>5.0</td>\n",
       "    </tr>\n",
       "    <tr>\n",
       "      <th>3</th>\n",
       "      <td>M_ID_a70e9c5f81</td>\n",
       "      <td>5026</td>\n",
       "      <td>792</td>\n",
       "      <td>9</td>\n",
       "      <td>-0.057471</td>\n",
       "      <td>-0.057471</td>\n",
       "      <td>Y</td>\n",
       "      <td>E</td>\n",
       "      <td>E</td>\n",
       "      <td>NaN</td>\n",
       "      <td>...</td>\n",
       "      <td>NaN</td>\n",
       "      <td>4.666667</td>\n",
       "      <td>6</td>\n",
       "      <td>NaN</td>\n",
       "      <td>3.833333</td>\n",
       "      <td>12</td>\n",
       "      <td>Y</td>\n",
       "      <td>-1</td>\n",
       "      <td>-1</td>\n",
       "      <td>NaN</td>\n",
       "    </tr>\n",
       "    <tr>\n",
       "      <th>4</th>\n",
       "      <td>M_ID_64456c37ce</td>\n",
       "      <td>2228</td>\n",
       "      <td>222</td>\n",
       "      <td>21</td>\n",
       "      <td>-0.057471</td>\n",
       "      <td>-0.057471</td>\n",
       "      <td>Y</td>\n",
       "      <td>E</td>\n",
       "      <td>E</td>\n",
       "      <td>NaN</td>\n",
       "      <td>...</td>\n",
       "      <td>NaN</td>\n",
       "      <td>0.361111</td>\n",
       "      <td>6</td>\n",
       "      <td>NaN</td>\n",
       "      <td>0.347222</td>\n",
       "      <td>12</td>\n",
       "      <td>Y</td>\n",
       "      <td>-1</td>\n",
       "      <td>-1</td>\n",
       "      <td>NaN</td>\n",
       "    </tr>\n",
       "  </tbody>\n",
       "</table>\n",
       "<p>5 rows × 22 columns</p>\n",
       "</div>"
      ],
      "text/plain": [
       "       merchant_id  merchant_group_id  merchant_category_id  subsector_id  \\\n",
       "0  M_ID_838061e48c               8353                   792             9   \n",
       "1  M_ID_9339d880ad               3184                   840            20   \n",
       "2  M_ID_e726bbae1e                447                   690             1   \n",
       "3  M_ID_a70e9c5f81               5026                   792             9   \n",
       "4  M_ID_64456c37ce               2228                   222            21   \n",
       "\n",
       "   numerical_1  numerical_2 category_1 most_recent_sales_range  \\\n",
       "0    -0.057471    -0.057471          N                       E   \n",
       "1    -0.057471    -0.057471          N                       E   \n",
       "2    -0.057471    -0.057471          N                       E   \n",
       "3    -0.057471    -0.057471          Y                       E   \n",
       "4    -0.057471    -0.057471          Y                       E   \n",
       "\n",
       "  most_recent_purchases_range  avg_sales_lag3     ...      avg_sales_lag6  \\\n",
       "0                           E           -0.40     ...               -2.25   \n",
       "1                           E           -0.72     ...               -0.74   \n",
       "2                           E          -82.13     ...              -82.13   \n",
       "3                           E             NaN     ...                 NaN   \n",
       "4                           E             NaN     ...                 NaN   \n",
       "\n",
       "   avg_purchases_lag6  active_months_lag6  avg_sales_lag12  \\\n",
       "0           18.666667                   6            -2.32   \n",
       "1            1.291667                   6            -0.57   \n",
       "2          260.000000                   2           -82.13   \n",
       "3            4.666667                   6              NaN   \n",
       "4            0.361111                   6              NaN   \n",
       "\n",
       "   avg_purchases_lag12  active_months_lag12  category_4  city_id state_id  \\\n",
       "0            13.916667                   12           N      242        9   \n",
       "1             1.687500                   12           N       22       16   \n",
       "2           260.000000                    2           N       -1        5   \n",
       "3             3.833333                   12           Y       -1       -1   \n",
       "4             0.347222                   12           Y       -1       -1   \n",
       "\n",
       "   category_2  \n",
       "0         1.0  \n",
       "1         1.0  \n",
       "2         5.0  \n",
       "3         NaN  \n",
       "4         NaN  \n",
       "\n",
       "[5 rows x 22 columns]"
      ]
     },
     "execution_count": 17,
     "metadata": {},
     "output_type": "execute_result"
    }
   ],
   "source": [
    "merchants.head()"
   ]
  },
  {
   "cell_type": "code",
   "execution_count": 18,
   "metadata": {},
   "outputs": [],
   "source": [
    "#information about various columns is provided in excel file which can be read as below."
   ]
  },
  {
   "cell_type": "code",
   "execution_count": 19,
   "metadata": {},
   "outputs": [],
   "source": [
    "d=pd.read_excel('Data_Dictionary.xlsx',sheet_name='train')"
   ]
  },
  {
   "cell_type": "code",
   "execution_count": 20,
   "metadata": {},
   "outputs": [],
   "source": [
    "#d"
   ]
  },
  {
   "cell_type": "code",
   "execution_count": 21,
   "metadata": {},
   "outputs": [],
   "source": [
    "#historical transactions"
   ]
  },
  {
   "cell_type": "code",
   "execution_count": 22,
   "metadata": {},
   "outputs": [],
   "source": [
    "hist = pd.read_csv('historical_transactions.csv',parse_dates=[\"purchase_date\"])"
   ]
  },
  {
   "cell_type": "code",
   "execution_count": 23,
   "metadata": {},
   "outputs": [
    {
     "data": {
      "text/html": [
       "<div>\n",
       "<style scoped>\n",
       "    .dataframe tbody tr th:only-of-type {\n",
       "        vertical-align: middle;\n",
       "    }\n",
       "\n",
       "    .dataframe tbody tr th {\n",
       "        vertical-align: top;\n",
       "    }\n",
       "\n",
       "    .dataframe thead th {\n",
       "        text-align: right;\n",
       "    }\n",
       "</style>\n",
       "<table border=\"1\" class=\"dataframe\">\n",
       "  <thead>\n",
       "    <tr style=\"text-align: right;\">\n",
       "      <th></th>\n",
       "      <th>authorized_flag</th>\n",
       "      <th>card_id</th>\n",
       "      <th>city_id</th>\n",
       "      <th>category_1</th>\n",
       "      <th>installments</th>\n",
       "      <th>category_3</th>\n",
       "      <th>merchant_category_id</th>\n",
       "      <th>merchant_id</th>\n",
       "      <th>month_lag</th>\n",
       "      <th>purchase_amount</th>\n",
       "      <th>purchase_date</th>\n",
       "      <th>category_2</th>\n",
       "      <th>state_id</th>\n",
       "      <th>subsector_id</th>\n",
       "    </tr>\n",
       "  </thead>\n",
       "  <tbody>\n",
       "    <tr>\n",
       "      <th>0</th>\n",
       "      <td>Y</td>\n",
       "      <td>C_ID_4e6213e9bc</td>\n",
       "      <td>88</td>\n",
       "      <td>N</td>\n",
       "      <td>0</td>\n",
       "      <td>A</td>\n",
       "      <td>80</td>\n",
       "      <td>M_ID_e020e9b302</td>\n",
       "      <td>-8</td>\n",
       "      <td>-0.703331</td>\n",
       "      <td>2017-06-25 15:33:07</td>\n",
       "      <td>1.0</td>\n",
       "      <td>16</td>\n",
       "      <td>37</td>\n",
       "    </tr>\n",
       "    <tr>\n",
       "      <th>1</th>\n",
       "      <td>Y</td>\n",
       "      <td>C_ID_4e6213e9bc</td>\n",
       "      <td>88</td>\n",
       "      <td>N</td>\n",
       "      <td>0</td>\n",
       "      <td>A</td>\n",
       "      <td>367</td>\n",
       "      <td>M_ID_86ec983688</td>\n",
       "      <td>-7</td>\n",
       "      <td>-0.733128</td>\n",
       "      <td>2017-07-15 12:10:45</td>\n",
       "      <td>1.0</td>\n",
       "      <td>16</td>\n",
       "      <td>16</td>\n",
       "    </tr>\n",
       "    <tr>\n",
       "      <th>2</th>\n",
       "      <td>Y</td>\n",
       "      <td>C_ID_4e6213e9bc</td>\n",
       "      <td>88</td>\n",
       "      <td>N</td>\n",
       "      <td>0</td>\n",
       "      <td>A</td>\n",
       "      <td>80</td>\n",
       "      <td>M_ID_979ed661fc</td>\n",
       "      <td>-6</td>\n",
       "      <td>-0.720386</td>\n",
       "      <td>2017-08-09 22:04:29</td>\n",
       "      <td>1.0</td>\n",
       "      <td>16</td>\n",
       "      <td>37</td>\n",
       "    </tr>\n",
       "    <tr>\n",
       "      <th>3</th>\n",
       "      <td>Y</td>\n",
       "      <td>C_ID_4e6213e9bc</td>\n",
       "      <td>88</td>\n",
       "      <td>N</td>\n",
       "      <td>0</td>\n",
       "      <td>A</td>\n",
       "      <td>560</td>\n",
       "      <td>M_ID_e6d5ae8ea6</td>\n",
       "      <td>-5</td>\n",
       "      <td>-0.735352</td>\n",
       "      <td>2017-09-02 10:06:26</td>\n",
       "      <td>1.0</td>\n",
       "      <td>16</td>\n",
       "      <td>34</td>\n",
       "    </tr>\n",
       "    <tr>\n",
       "      <th>4</th>\n",
       "      <td>Y</td>\n",
       "      <td>C_ID_4e6213e9bc</td>\n",
       "      <td>88</td>\n",
       "      <td>N</td>\n",
       "      <td>0</td>\n",
       "      <td>A</td>\n",
       "      <td>80</td>\n",
       "      <td>M_ID_e020e9b302</td>\n",
       "      <td>-11</td>\n",
       "      <td>-0.722865</td>\n",
       "      <td>2017-03-10 01:14:19</td>\n",
       "      <td>1.0</td>\n",
       "      <td>16</td>\n",
       "      <td>37</td>\n",
       "    </tr>\n",
       "  </tbody>\n",
       "</table>\n",
       "</div>"
      ],
      "text/plain": [
       "  authorized_flag          card_id  city_id category_1  installments  \\\n",
       "0               Y  C_ID_4e6213e9bc       88          N             0   \n",
       "1               Y  C_ID_4e6213e9bc       88          N             0   \n",
       "2               Y  C_ID_4e6213e9bc       88          N             0   \n",
       "3               Y  C_ID_4e6213e9bc       88          N             0   \n",
       "4               Y  C_ID_4e6213e9bc       88          N             0   \n",
       "\n",
       "  category_3  merchant_category_id      merchant_id  month_lag  \\\n",
       "0          A                    80  M_ID_e020e9b302         -8   \n",
       "1          A                   367  M_ID_86ec983688         -7   \n",
       "2          A                    80  M_ID_979ed661fc         -6   \n",
       "3          A                   560  M_ID_e6d5ae8ea6         -5   \n",
       "4          A                    80  M_ID_e020e9b302        -11   \n",
       "\n",
       "   purchase_amount       purchase_date  category_2  state_id  subsector_id  \n",
       "0        -0.703331 2017-06-25 15:33:07         1.0        16            37  \n",
       "1        -0.733128 2017-07-15 12:10:45         1.0        16            16  \n",
       "2        -0.720386 2017-08-09 22:04:29         1.0        16            37  \n",
       "3        -0.735352 2017-09-02 10:06:26         1.0        16            34  \n",
       "4        -0.722865 2017-03-10 01:14:19         1.0        16            37  "
      ]
     },
     "execution_count": 23,
     "metadata": {},
     "output_type": "execute_result"
    }
   ],
   "source": [
    "hist.head()"
   ]
  },
  {
   "cell_type": "code",
   "execution_count": null,
   "metadata": {},
   "outputs": [],
   "source": [
    "#Getting to know about authorised vs unauthorised transactions.Looks like there are more numebr of authorised transactions\n",
    "#than unauthorised."
   ]
  },
  {
   "cell_type": "code",
   "execution_count": 24,
   "metadata": {},
   "outputs": [
    {
     "data": {
      "image/png": "[encoded data removed]",
      "text/plain": [
       "<Figure size 432x432 with 1 Axes>"
      ]
     },
     "metadata": {
      "needs_background": "light"
     },
     "output_type": "display_data"
    }
   ],
   "source": [
    "temp = hist[\"authorized_flag\"].value_counts()\n",
    "df = pd.DataFrame({'labels': temp.index,\n",
    "                   'values': temp.values\n",
    "                  })\n",
    "plt.figure(figsize = (6,6))\n",
    "plt.title('authorized_flag - Y or N')\n",
    "sns.set_color_codes(\"pastel\")\n",
    "sns.barplot(x = 'labels', y=\"values\", data=df)\n",
    "locs, labels = plt.xticks()\n",
    "plt.show()"
   ]
  },
  {
   "cell_type": "code",
   "execution_count": null,
   "metadata": {},
   "outputs": [],
   "source": [
    "#Lets explore the dataset the perticular card is has not seen in last two months"
   ]
  },
  {
   "cell_type": "code",
   "execution_count": 25,
   "metadata": {},
   "outputs": [],
   "source": [
    "new_merchants = pd.read_csv('new_merchant_transactions.csv')"
   ]
  },
  {
   "cell_type": "code",
   "execution_count": 26,
   "metadata": {},
   "outputs": [
    {
     "data": {
      "text/plain": [
       "authorized_flag          object\n",
       "card_id                  object\n",
       "city_id                   int64\n",
       "category_1               object\n",
       "installments              int64\n",
       "category_3               object\n",
       "merchant_category_id      int64\n",
       "merchant_id              object\n",
       "month_lag                 int64\n",
       "purchase_amount         float64\n",
       "purchase_date            object\n",
       "category_2              float64\n",
       "state_id                  int64\n",
       "subsector_id              int64\n",
       "dtype: object"
      ]
     },
     "execution_count": 26,
     "metadata": {},
     "output_type": "execute_result"
    }
   ],
   "source": [
    "new_merchants.dtypes"
   ]
  },
  {
   "cell_type": "code",
   "execution_count": null,
   "metadata": {},
   "outputs": [],
   "source": [
    "#getting idea of peak month of transactions for train and test"
   ]
  },
  {
   "cell_type": "code",
   "execution_count": 27,
   "metadata": {},
   "outputs": [],
   "source": [
    "from datetime import datetime\n",
    "new_merchants['purchase_date'] = new_merchants['purchase_date'].apply(lambda x: datetime.strptime(x, '%Y-%m-%d %H:%M:%S'))"
   ]
  },
  {
   "cell_type": "code",
   "execution_count": 28,
   "metadata": {},
   "outputs": [
    {
     "data": {
      "image/png": "[encoded data removed]",
      "text/plain": [
       "<Figure size 1080x360 with 1 Axes>"
      ]
     },
     "metadata": {
      "needs_background": "light"
     },
     "output_type": "display_data"
    }
   ],
   "source": [
    "new_merchants.groupby('purchase_date').count()['card_id'].plot(figsize=(15,5),\n",
    "                                                           title='Count of Purchase date of new merchants',\n",
    "                                                          color='b')\n",
    "plt.show()"
   ]
  },
  {
   "cell_type": "code",
   "execution_count": null,
   "metadata": {},
   "outputs": [],
   "source": []
  },
  {
   "cell_type": "code",
   "execution_count": 31,
   "metadata": {},
   "outputs": [
    {
     "data": {
      "image/png": "[encoded data removed]",
      "text/plain": [
       "<Figure size 1080x360 with 1 Axes>"
      ]
     },
     "metadata": {
      "needs_background": "light"
     },
     "output_type": "display_data"
    }
   ],
   "source": [
    "hist.groupby('purchase_date').count()['card_id'].plot(figsize=(15,5),\n",
    "                                                           title='Count of Purchase date for historical transactions',\n",
    "                                                          color='b')\n",
    "plt.show()\n"
   ]
  },
  {
   "cell_type": "markdown",
   "metadata": {},
   "source": [
    "Lets visually explore about the various categorical columns of historical and new transactions dataset"
   ]
  },
  {
   "cell_type": "code",
   "execution_count": 32,
   "metadata": {},
   "outputs": [],
   "source": [
    "cat_cols = ['authorized_flag', 'category_1', 'installments','category_3', 'month_lag','category_2', 'subsector_id']"
   ]
  },
  {
   "cell_type": "code",
   "execution_count": 33,
   "metadata": {},
   "outputs": [
    {
     "data": {
      "image/png": "[encoded data removed]",
      "text/plain": [
       "<Figure size 1080x720 with 7 Axes>"
      ]
     },
     "metadata": {
      "needs_background": "light"
     },
     "output_type": "display_data"
    }
   ],
   "source": [
    "plt.figure(figsize=[15, 10])\n",
    "plt.suptitle('New merchant transaction info', y=1.02, fontsize=20)\n",
    "ncols = 4\n",
    "nrows = int(np.ceil((len(cat_cols) + len(cat_cols))/4))\n",
    "last_ind = 0\n",
    "for col in sorted(list(new_merchants.columns)):\n",
    "    #print('processing column ' + col)\n",
    "    if col in cat_cols:\n",
    "        last_ind += 1\n",
    "        plt.subplot(nrows, ncols, last_ind)\n",
    "        vc = new_merchants[col].value_counts()\n",
    "        x = np.array(vc.index)\n",
    "        y = vc.values\n",
    "        inds = np.argsort(x)\n",
    "        x = x[inds].astype(str)\n",
    "        y = y[inds]\n",
    "        plt.bar(x, y)\n",
    "        plt.title(col, fontsize=15)\n",
    "        plt.xticks(rotation=90)\n",
    "    plt.tight_layout()\n"
   ]
  },
  {
   "cell_type": "code",
   "execution_count": 34,
   "metadata": {},
   "outputs": [
    {
     "data": {
      "image/png": "[encoded data removed]",
      "text/plain": [
       "<Figure size 1080x720 with 7 Axes>"
      ]
     },
     "metadata": {
      "needs_background": "light"
     },
     "output_type": "display_data"
    }
   ],
   "source": [
    "plt.figure(figsize=[15, 10])\n",
    "plt.suptitle('Historical transaction info', y=1.02, fontsize=20)\n",
    "ncols = 4\n",
    "nrows = int(np.ceil((len(cat_cols) + len(cat_cols))/4))\n",
    "last_ind = 0\n",
    "for col in sorted(list(hist.columns)):\n",
    "    #print('processing column ' + col)\n",
    "    if col in cat_cols:\n",
    "        last_ind += 1\n",
    "        plt.subplot(nrows, ncols, last_ind)\n",
    "        vc = hist[col].value_counts()\n",
    "        x = np.array(vc.index)\n",
    "        y = vc.values\n",
    "        inds = np.argsort(x)\n",
    "        x = x[inds].astype(str)\n",
    "        y = y[inds]\n",
    "        plt.bar(x, y)\n",
    "        plt.title(col, fontsize=15)\n",
    "        plt.xticks(rotation=90)\n",
    "    plt.tight_layout()"
   ]
  },
  {
   "cell_type": "code",
   "execution_count": null,
   "metadata": {},
   "outputs": [],
   "source": [
    "#Lets explore the numerical columns of historical and new transactions dataset."
   ]
  },
  {
   "cell_type": "code",
   "execution_count": 35,
   "metadata": {},
   "outputs": [],
   "source": [
    "num_cols = ['purchase_amount', 'purchase_date', 'merchant_category_id', 'subsector_id']\n"
   ]
  },
  {
   "cell_type": "code",
   "execution_count": 36,
   "metadata": {},
   "outputs": [
    {
     "data": {
      "image/png": "[encoded data removed]",
      "text/plain": [
       "<Figure size 1080x720 with 4 Axes>"
      ]
     },
     "metadata": {
      "needs_background": "light"
     },
     "output_type": "display_data"
    }
   ],
   "source": [
    "plt.figure(figsize=[15, 10])\n",
    "plt.suptitle('New transaction info', y=1.02, fontsize=20)\n",
    "ncols = 4\n",
    "nrows = int(np.ceil((len(num_cols) + len(num_cols))/4))\n",
    "last_ind = 0\n",
    "for col in sorted(list(new_merchants.columns)):\n",
    "    \n",
    "    #print('processing column ' + col)\n",
    "    if col in num_cols:\n",
    "        last_ind += 1\n",
    "        plt.subplot(nrows, ncols, last_ind)\n",
    "        new_merchants[col].hist(bins = 50)\n",
    "        plt.title(col, fontsize=15)\n",
    "        plt.xticks(rotation=90)\n",
    "    plt.tight_layout()"
   ]
  },
  {
   "cell_type": "code",
   "execution_count": 37,
   "metadata": {},
   "outputs": [
    {
     "data": {
      "image/png": "[encoded data removed]",
      "text/plain": [
       "<Figure size 1080x720 with 4 Axes>"
      ]
     },
     "metadata": {
      "needs_background": "light"
     },
     "output_type": "display_data"
    }
   ],
   "source": [
    "plt.figure(figsize=[15, 10])\n",
    "plt.suptitle('Historical transaction info', y=1.02, fontsize=20)\n",
    "ncols = 4\n",
    "nrows = int(np.ceil((len(cat_cols) + len(num_cols))/4))\n",
    "last_ind = 0\n",
    "for col in sorted(list(hist.columns)):\n",
    "    \n",
    "    #print('processing column ' + col)\n",
    "    if col in num_cols:\n",
    "        last_ind += 1\n",
    "        plt.subplot(nrows, ncols, last_ind)\n",
    "        hist[col].hist(bins = 50)\n",
    "        plt.title(col, fontsize=15)\n",
    "        plt.xticks(rotation=90)\n",
    "    plt.tight_layout()"
   ]
  },
  {
   "cell_type": "code",
   "execution_count": 38,
   "metadata": {},
   "outputs": [
    {
     "name": "stdout",
     "output_type": "stream",
     "text": [
      "shape of historical transaction:(29112361, 14)\n"
     ]
    }
   ],
   "source": [
    "print(\"shape of historical transaction:{}\".format(hist.shape))"
   ]
  },
  {
   "cell_type": "code",
   "execution_count": 39,
   "metadata": {},
   "outputs": [],
   "source": [
    "#Converting authorised flag values to numerical"
   ]
  },
  {
   "cell_type": "code",
   "execution_count": 41,
   "metadata": {},
   "outputs": [],
   "source": [
    "hist['authorized_flag'] =  hist['authorized_flag'].map({'Y':1, 'N':0})"
   ]
  },
  {
   "cell_type": "code",
   "execution_count": 42,
   "metadata": {},
   "outputs": [],
   "source": [
    "#filling various nan values\n",
    "hist['category_2'].fillna(1.0,inplace=True)\n",
    "hist['category_3'].fillna('A',inplace=True)\n",
    "hist['merchant_id'].fillna('M_ID_00a6ca8a8a',inplace=True)\n",
    "hist['installments'].replace(-1, np.nan,inplace=True)\n",
    "hist['installments'].replace(999, np.nan,inplace=True)\n"
   ]
  },
  {
   "cell_type": "code",
   "execution_count": null,
   "metadata": {},
   "outputs": [],
   "source": [
    "#we need to aggregare historical and new merchant transactions in order to merge with train and test dataset \n"
   ]
  },
  {
   "cell_type": "code",
   "execution_count": 43,
   "metadata": {},
   "outputs": [
    {
     "data": {
      "text/html": [
       "<div>\n",
       "<style scoped>\n",
       "    .dataframe tbody tr th:only-of-type {\n",
       "        vertical-align: middle;\n",
       "    }\n",
       "\n",
       "    .dataframe tbody tr th {\n",
       "        vertical-align: top;\n",
       "    }\n",
       "\n",
       "    .dataframe thead th {\n",
       "        text-align: right;\n",
       "    }\n",
       "</style>\n",
       "<table border=\"1\" class=\"dataframe\">\n",
       "  <thead>\n",
       "    <tr style=\"text-align: right;\">\n",
       "      <th></th>\n",
       "      <th>card_id</th>\n",
       "      <th>hist_transactions_count</th>\n",
       "      <th>hist_authorized_flag_sum</th>\n",
       "      <th>hist_authorized_flag_mean</th>\n",
       "      <th>hist_merchant_id_nunique</th>\n",
       "      <th>hist_city_id_nunique</th>\n",
       "      <th>hist_purchase_amount_sum</th>\n",
       "      <th>hist_purchase_amount_median</th>\n",
       "      <th>hist_purchase_amount_max</th>\n",
       "      <th>hist_purchase_amount_min</th>\n",
       "      <th>hist_purchase_amount_std</th>\n",
       "      <th>hist_installments_sum</th>\n",
       "      <th>hist_installments_median</th>\n",
       "      <th>hist_installments_max</th>\n",
       "      <th>hist_installments_min</th>\n",
       "      <th>hist_installments_std</th>\n",
       "      <th>hist_purchase_date_ptp</th>\n",
       "      <th>hist_month_lag_min</th>\n",
       "      <th>hist_month_lag_max</th>\n",
       "    </tr>\n",
       "  </thead>\n",
       "  <tbody>\n",
       "    <tr>\n",
       "      <th>0</th>\n",
       "      <td>C_ID_00007093c1</td>\n",
       "      <td>149</td>\n",
       "      <td>114</td>\n",
       "      <td>0.765101</td>\n",
       "      <td>29</td>\n",
       "      <td>4</td>\n",
       "      <td>-76.845041</td>\n",
       "      <td>-0.587627</td>\n",
       "      <td>1.507069</td>\n",
       "      <td>-0.728876</td>\n",
       "      <td>0.298141</td>\n",
       "      <td>192.0</td>\n",
       "      <td>1.0</td>\n",
       "      <td>6.0</td>\n",
       "      <td>1.0</td>\n",
       "      <td>0.764900</td>\n",
       "      <td>32627654.0</td>\n",
       "      <td>-12</td>\n",
       "      <td>0</td>\n",
       "    </tr>\n",
       "    <tr>\n",
       "      <th>1</th>\n",
       "      <td>C_ID_0001238066</td>\n",
       "      <td>123</td>\n",
       "      <td>120</td>\n",
       "      <td>0.975610</td>\n",
       "      <td>65</td>\n",
       "      <td>18</td>\n",
       "      <td>-72.447201</td>\n",
       "      <td>-0.648184</td>\n",
       "      <td>0.768095</td>\n",
       "      <td>-0.734887</td>\n",
       "      <td>0.190235</td>\n",
       "      <td>201.0</td>\n",
       "      <td>1.0</td>\n",
       "      <td>10.0</td>\n",
       "      <td>1.0</td>\n",
       "      <td>1.444564</td>\n",
       "      <td>13110825.0</td>\n",
       "      <td>-5</td>\n",
       "      <td>0</td>\n",
       "    </tr>\n",
       "    <tr>\n",
       "      <th>2</th>\n",
       "      <td>C_ID_0001506ef0</td>\n",
       "      <td>66</td>\n",
       "      <td>62</td>\n",
       "      <td>0.939394</td>\n",
       "      <td>28</td>\n",
       "      <td>3</td>\n",
       "      <td>-34.601879</td>\n",
       "      <td>-0.703707</td>\n",
       "      <td>1.493545</td>\n",
       "      <td>-0.740491</td>\n",
       "      <td>0.472284</td>\n",
       "      <td>1.0</td>\n",
       "      <td>0.0</td>\n",
       "      <td>1.0</td>\n",
       "      <td>0.0</td>\n",
       "      <td>0.123091</td>\n",
       "      <td>34460275.0</td>\n",
       "      <td>-13</td>\n",
       "      <td>0</td>\n",
       "    </tr>\n",
       "    <tr>\n",
       "      <th>3</th>\n",
       "      <td>C_ID_0001793786</td>\n",
       "      <td>216</td>\n",
       "      <td>189</td>\n",
       "      <td>0.875000</td>\n",
       "      <td>119</td>\n",
       "      <td>10</td>\n",
       "      <td>-36.786013</td>\n",
       "      <td>-0.487911</td>\n",
       "      <td>4.554145</td>\n",
       "      <td>-0.745405</td>\n",
       "      <td>0.836046</td>\n",
       "      <td>5.0</td>\n",
       "      <td>0.0</td>\n",
       "      <td>1.0</td>\n",
       "      <td>0.0</td>\n",
       "      <td>0.150723</td>\n",
       "      <td>24487497.0</td>\n",
       "      <td>-9</td>\n",
       "      <td>0</td>\n",
       "    </tr>\n",
       "    <tr>\n",
       "      <th>4</th>\n",
       "      <td>C_ID_000183fdda</td>\n",
       "      <td>144</td>\n",
       "      <td>137</td>\n",
       "      <td>0.951389</td>\n",
       "      <td>73</td>\n",
       "      <td>9</td>\n",
       "      <td>-68.837938</td>\n",
       "      <td>-0.661294</td>\n",
       "      <td>2.764788</td>\n",
       "      <td>-0.737892</td>\n",
       "      <td>0.524948</td>\n",
       "      <td>268.0</td>\n",
       "      <td>1.0</td>\n",
       "      <td>10.0</td>\n",
       "      <td>1.0</td>\n",
       "      <td>2.093105</td>\n",
       "      <td>17492874.0</td>\n",
       "      <td>-6</td>\n",
       "      <td>0</td>\n",
       "    </tr>\n",
       "    <tr>\n",
       "      <th>5</th>\n",
       "      <td>C_ID_00024e244b</td>\n",
       "      <td>70</td>\n",
       "      <td>53</td>\n",
       "      <td>0.757143</td>\n",
       "      <td>19</td>\n",
       "      <td>3</td>\n",
       "      <td>-41.552753</td>\n",
       "      <td>-0.709342</td>\n",
       "      <td>2.258395</td>\n",
       "      <td>-0.740897</td>\n",
       "      <td>0.416742</td>\n",
       "      <td>5.0</td>\n",
       "      <td>0.0</td>\n",
       "      <td>1.0</td>\n",
       "      <td>0.0</td>\n",
       "      <td>0.259399</td>\n",
       "      <td>34540529.0</td>\n",
       "      <td>-13</td>\n",
       "      <td>0</td>\n",
       "    </tr>\n",
       "    <tr>\n",
       "      <th>6</th>\n",
       "      <td>C_ID_0002709b5a</td>\n",
       "      <td>73</td>\n",
       "      <td>67</td>\n",
       "      <td>0.917808</td>\n",
       "      <td>35</td>\n",
       "      <td>4</td>\n",
       "      <td>-47.659542</td>\n",
       "      <td>-0.677275</td>\n",
       "      <td>-0.336684</td>\n",
       "      <td>-0.727388</td>\n",
       "      <td>0.078777</td>\n",
       "      <td>130.0</td>\n",
       "      <td>1.0</td>\n",
       "      <td>12.0</td>\n",
       "      <td>1.0</td>\n",
       "      <td>2.173067</td>\n",
       "      <td>34738297.0</td>\n",
       "      <td>-13</td>\n",
       "      <td>0</td>\n",
       "    </tr>\n",
       "    <tr>\n",
       "      <th>7</th>\n",
       "      <td>C_ID_00027503e2</td>\n",
       "      <td>42</td>\n",
       "      <td>24</td>\n",
       "      <td>0.571429</td>\n",
       "      <td>12</td>\n",
       "      <td>2</td>\n",
       "      <td>-31.123047</td>\n",
       "      <td>-0.741213</td>\n",
       "      <td>-0.734135</td>\n",
       "      <td>-0.745871</td>\n",
       "      <td>0.003334</td>\n",
       "      <td>0.0</td>\n",
       "      <td>0.0</td>\n",
       "      <td>0.0</td>\n",
       "      <td>0.0</td>\n",
       "      <td>0.000000</td>\n",
       "      <td>20483171.0</td>\n",
       "      <td>-8</td>\n",
       "      <td>0</td>\n",
       "    </tr>\n",
       "    <tr>\n",
       "      <th>8</th>\n",
       "      <td>C_ID_000298032a</td>\n",
       "      <td>30</td>\n",
       "      <td>28</td>\n",
       "      <td>0.933333</td>\n",
       "      <td>20</td>\n",
       "      <td>5</td>\n",
       "      <td>-15.992416</td>\n",
       "      <td>-0.642436</td>\n",
       "      <td>2.577843</td>\n",
       "      <td>-0.719529</td>\n",
       "      <td>0.589542</td>\n",
       "      <td>0.0</td>\n",
       "      <td>0.0</td>\n",
       "      <td>0.0</td>\n",
       "      <td>0.0</td>\n",
       "      <td>0.000000</td>\n",
       "      <td>29831230.0</td>\n",
       "      <td>-11</td>\n",
       "      <td>0</td>\n",
       "    </tr>\n",
       "    <tr>\n",
       "      <th>9</th>\n",
       "      <td>C_ID_0002ba3c2e</td>\n",
       "      <td>70</td>\n",
       "      <td>55</td>\n",
       "      <td>0.785714</td>\n",
       "      <td>35</td>\n",
       "      <td>3</td>\n",
       "      <td>-44.342996</td>\n",
       "      <td>-0.682113</td>\n",
       "      <td>-0.097011</td>\n",
       "      <td>-0.742400</td>\n",
       "      <td>0.129401</td>\n",
       "      <td>0.0</td>\n",
       "      <td>0.0</td>\n",
       "      <td>0.0</td>\n",
       "      <td>0.0</td>\n",
       "      <td>0.000000</td>\n",
       "      <td>25571452.0</td>\n",
       "      <td>-9</td>\n",
       "      <td>0</td>\n",
       "    </tr>\n",
       "  </tbody>\n",
       "</table>\n",
       "</div>"
      ],
      "text/plain": [
       "           card_id  hist_transactions_count  hist_authorized_flag_sum  \\\n",
       "0  C_ID_00007093c1                      149                       114   \n",
       "1  C_ID_0001238066                      123                       120   \n",
       "2  C_ID_0001506ef0                       66                        62   \n",
       "3  C_ID_0001793786                      216                       189   \n",
       "4  C_ID_000183fdda                      144                       137   \n",
       "5  C_ID_00024e244b                       70                        53   \n",
       "6  C_ID_0002709b5a                       73                        67   \n",
       "7  C_ID_00027503e2                       42                        24   \n",
       "8  C_ID_000298032a                       30                        28   \n",
       "9  C_ID_0002ba3c2e                       70                        55   \n",
       "\n",
       "   hist_authorized_flag_mean  hist_merchant_id_nunique  hist_city_id_nunique  \\\n",
       "0                   0.765101                        29                     4   \n",
       "1                   0.975610                        65                    18   \n",
       "2                   0.939394                        28                     3   \n",
       "3                   0.875000                       119                    10   \n",
       "4                   0.951389                        73                     9   \n",
       "5                   0.757143                        19                     3   \n",
       "6                   0.917808                        35                     4   \n",
       "7                   0.571429                        12                     2   \n",
       "8                   0.933333                        20                     5   \n",
       "9                   0.785714                        35                     3   \n",
       "\n",
       "   hist_purchase_amount_sum  hist_purchase_amount_median  \\\n",
       "0                -76.845041                    -0.587627   \n",
       "1                -72.447201                    -0.648184   \n",
       "2                -34.601879                    -0.703707   \n",
       "3                -36.786013                    -0.487911   \n",
       "4                -68.837938                    -0.661294   \n",
       "5                -41.552753                    -0.709342   \n",
       "6                -47.659542                    -0.677275   \n",
       "7                -31.123047                    -0.741213   \n",
       "8                -15.992416                    -0.642436   \n",
       "9                -44.342996                    -0.682113   \n",
       "\n",
       "   hist_purchase_amount_max  hist_purchase_amount_min  \\\n",
       "0                  1.507069                 -0.728876   \n",
       "1                  0.768095                 -0.734887   \n",
       "2                  1.493545                 -0.740491   \n",
       "3                  4.554145                 -0.745405   \n",
       "4                  2.764788                 -0.737892   \n",
       "5                  2.258395                 -0.740897   \n",
       "6                 -0.336684                 -0.727388   \n",
       "7                 -0.734135                 -0.745871   \n",
       "8                  2.577843                 -0.719529   \n",
       "9                 -0.097011                 -0.742400   \n",
       "\n",
       "   hist_purchase_amount_std  hist_installments_sum  hist_installments_median  \\\n",
       "0                  0.298141                  192.0                       1.0   \n",
       "1                  0.190235                  201.0                       1.0   \n",
       "2                  0.472284                    1.0                       0.0   \n",
       "3                  0.836046                    5.0                       0.0   \n",
       "4                  0.524948                  268.0                       1.0   \n",
       "5                  0.416742                    5.0                       0.0   \n",
       "6                  0.078777                  130.0                       1.0   \n",
       "7                  0.003334                    0.0                       0.0   \n",
       "8                  0.589542                    0.0                       0.0   \n",
       "9                  0.129401                    0.0                       0.0   \n",
       "\n",
       "   hist_installments_max  hist_installments_min  hist_installments_std  \\\n",
       "0                    6.0                    1.0               0.764900   \n",
       "1                   10.0                    1.0               1.444564   \n",
       "2                    1.0                    0.0               0.123091   \n",
       "3                    1.0                    0.0               0.150723   \n",
       "4                   10.0                    1.0               2.093105   \n",
       "5                    1.0                    0.0               0.259399   \n",
       "6                   12.0                    1.0               2.173067   \n",
       "7                    0.0                    0.0               0.000000   \n",
       "8                    0.0                    0.0               0.000000   \n",
       "9                    0.0                    0.0               0.000000   \n",
       "\n",
       "   hist_purchase_date_ptp  hist_month_lag_min  hist_month_lag_max  \n",
       "0              32627654.0                 -12                   0  \n",
       "1              13110825.0                  -5                   0  \n",
       "2              34460275.0                 -13                   0  \n",
       "3              24487497.0                  -9                   0  \n",
       "4              17492874.0                  -6                   0  \n",
       "5              34540529.0                 -13                   0  \n",
       "6              34738297.0                 -13                   0  \n",
       "7              20483171.0                  -8                   0  \n",
       "8              29831230.0                 -11                   0  \n",
       "9              25571452.0                  -9                   0  "
      ]
     },
     "execution_count": 43,
     "metadata": {},
     "output_type": "execute_result"
    }
   ],
   "source": [
    "def aggregate_historical_transactions(history):\n",
    "    \n",
    "    history.loc[:, 'purchase_date'] = pd.DatetimeIndex(history['purchase_date']).\\\n",
    "                                      astype(np.int64) * 1e-9\n",
    "    \n",
    "    agg_func = {\n",
    "        'authorized_flag': ['sum', 'mean'],\n",
    "        'merchant_id': ['nunique'],\n",
    "        'city_id': ['nunique'],\n",
    "        'purchase_amount': ['sum', 'median', 'max', 'min', 'std'],\n",
    "        'installments': ['sum', 'median', 'max', 'min', 'std'],\n",
    "        'purchase_date': [np.ptp],\n",
    "        'month_lag': ['min', 'max']\n",
    "        }\n",
    "    agg_history = history.groupby(['card_id']).agg(agg_func)\n",
    "    agg_history.columns = ['hist_' + '_'.join(col).strip() \n",
    "                           for col in agg_history.columns.values]\n",
    "    agg_history.reset_index(inplace=True)\n",
    "    \n",
    "    df = (history.groupby('card_id')\n",
    "          .size()\n",
    "          .reset_index(name='hist_transactions_count'))\n",
    "    \n",
    "    agg_history = pd.merge(df, agg_history, on='card_id', how='left')\n",
    "    \n",
    "    return agg_history\n",
    "\n",
    "history = aggregate_historical_transactions(hist)\n",
    "history[:10]"
   ]
  },
  {
   "cell_type": "code",
   "execution_count": 44,
   "metadata": {},
   "outputs": [
    {
     "data": {
      "text/plain": [
       "(325540, 19)"
      ]
     },
     "execution_count": 44,
     "metadata": {},
     "output_type": "execute_result"
    }
   ],
   "source": [
    "history.shape"
   ]
  },
  {
   "cell_type": "code",
   "execution_count": 45,
   "metadata": {},
   "outputs": [
    {
     "data": {
      "text/plain": [
       "325540"
      ]
     },
     "execution_count": 45,
     "metadata": {},
     "output_type": "execute_result"
    }
   ],
   "source": [
    "history.card_id.nunique()"
   ]
  },
  {
   "cell_type": "code",
   "execution_count": 46,
   "metadata": {},
   "outputs": [],
   "source": [
    "#merging two dataset with historical transaction aggregated variables\n",
    "train = pd.merge(train, history, on='card_id', how='left')\n",
    "test = pd.merge(test, history, on='card_id', how='left')\n"
   ]
  },
  {
   "cell_type": "code",
   "execution_count": 47,
   "metadata": {},
   "outputs": [
    {
     "data": {
      "text/html": [
       "<div>\n",
       "<style scoped>\n",
       "    .dataframe tbody tr th:only-of-type {\n",
       "        vertical-align: middle;\n",
       "    }\n",
       "\n",
       "    .dataframe tbody tr th {\n",
       "        vertical-align: top;\n",
       "    }\n",
       "\n",
       "    .dataframe thead th {\n",
       "        text-align: right;\n",
       "    }\n",
       "</style>\n",
       "<table border=\"1\" class=\"dataframe\">\n",
       "  <thead>\n",
       "    <tr style=\"text-align: right;\">\n",
       "      <th></th>\n",
       "      <th>first_active_month</th>\n",
       "      <th>card_id</th>\n",
       "      <th>feature_1</th>\n",
       "      <th>feature_2</th>\n",
       "      <th>feature_3</th>\n",
       "      <th>target</th>\n",
       "      <th>hist_transactions_count</th>\n",
       "      <th>hist_authorized_flag_sum</th>\n",
       "      <th>hist_authorized_flag_mean</th>\n",
       "      <th>hist_merchant_id_nunique</th>\n",
       "      <th>...</th>\n",
       "      <th>hist_purchase_amount_min</th>\n",
       "      <th>hist_purchase_amount_std</th>\n",
       "      <th>hist_installments_sum</th>\n",
       "      <th>hist_installments_median</th>\n",
       "      <th>hist_installments_max</th>\n",
       "      <th>hist_installments_min</th>\n",
       "      <th>hist_installments_std</th>\n",
       "      <th>hist_purchase_date_ptp</th>\n",
       "      <th>hist_month_lag_min</th>\n",
       "      <th>hist_month_lag_max</th>\n",
       "    </tr>\n",
       "  </thead>\n",
       "  <tbody>\n",
       "    <tr>\n",
       "      <th>0</th>\n",
       "      <td>2017-06-01</td>\n",
       "      <td>C_ID_92a2005557</td>\n",
       "      <td>5</td>\n",
       "      <td>2</td>\n",
       "      <td>1</td>\n",
       "      <td>-0.820283</td>\n",
       "      <td>260</td>\n",
       "      <td>247</td>\n",
       "      <td>0.950000</td>\n",
       "      <td>94</td>\n",
       "      <td>...</td>\n",
       "      <td>-0.739395</td>\n",
       "      <td>0.212139</td>\n",
       "      <td>4.0</td>\n",
       "      <td>0.0</td>\n",
       "      <td>1.0</td>\n",
       "      <td>0.0</td>\n",
       "      <td>0.123314</td>\n",
       "      <td>20977987.0</td>\n",
       "      <td>-8</td>\n",
       "      <td>0</td>\n",
       "    </tr>\n",
       "    <tr>\n",
       "      <th>1</th>\n",
       "      <td>2017-01-01</td>\n",
       "      <td>C_ID_3d0044924f</td>\n",
       "      <td>4</td>\n",
       "      <td>1</td>\n",
       "      <td>0</td>\n",
       "      <td>0.392913</td>\n",
       "      <td>350</td>\n",
       "      <td>339</td>\n",
       "      <td>0.968571</td>\n",
       "      <td>142</td>\n",
       "      <td>...</td>\n",
       "      <td>-0.742400</td>\n",
       "      <td>0.384967</td>\n",
       "      <td>545.0</td>\n",
       "      <td>1.0</td>\n",
       "      <td>10.0</td>\n",
       "      <td>1.0</td>\n",
       "      <td>1.502620</td>\n",
       "      <td>33717687.0</td>\n",
       "      <td>-12</td>\n",
       "      <td>0</td>\n",
       "    </tr>\n",
       "    <tr>\n",
       "      <th>2</th>\n",
       "      <td>2016-08-01</td>\n",
       "      <td>C_ID_d639edf6cd</td>\n",
       "      <td>2</td>\n",
       "      <td>2</td>\n",
       "      <td>0</td>\n",
       "      <td>0.688056</td>\n",
       "      <td>43</td>\n",
       "      <td>41</td>\n",
       "      <td>0.953488</td>\n",
       "      <td>13</td>\n",
       "      <td>...</td>\n",
       "      <td>-0.730138</td>\n",
       "      <td>0.087380</td>\n",
       "      <td>0.0</td>\n",
       "      <td>0.0</td>\n",
       "      <td>0.0</td>\n",
       "      <td>0.0</td>\n",
       "      <td>0.000000</td>\n",
       "      <td>35635623.0</td>\n",
       "      <td>-13</td>\n",
       "      <td>0</td>\n",
       "    </tr>\n",
       "    <tr>\n",
       "      <th>3</th>\n",
       "      <td>2017-09-01</td>\n",
       "      <td>C_ID_186d6a6901</td>\n",
       "      <td>4</td>\n",
       "      <td>3</td>\n",
       "      <td>0</td>\n",
       "      <td>0.142495</td>\n",
       "      <td>77</td>\n",
       "      <td>77</td>\n",
       "      <td>1.000000</td>\n",
       "      <td>50</td>\n",
       "      <td>...</td>\n",
       "      <td>-0.740897</td>\n",
       "      <td>0.261624</td>\n",
       "      <td>86.0</td>\n",
       "      <td>1.0</td>\n",
       "      <td>3.0</td>\n",
       "      <td>1.0</td>\n",
       "      <td>0.484722</td>\n",
       "      <td>13375339.0</td>\n",
       "      <td>-5</td>\n",
       "      <td>0</td>\n",
       "    </tr>\n",
       "    <tr>\n",
       "      <th>4</th>\n",
       "      <td>2017-11-01</td>\n",
       "      <td>C_ID_cdbd2c0db2</td>\n",
       "      <td>1</td>\n",
       "      <td>3</td>\n",
       "      <td>0</td>\n",
       "      <td>-0.159749</td>\n",
       "      <td>133</td>\n",
       "      <td>128</td>\n",
       "      <td>0.962406</td>\n",
       "      <td>66</td>\n",
       "      <td>...</td>\n",
       "      <td>-0.746156</td>\n",
       "      <td>1.352094</td>\n",
       "      <td>182.0</td>\n",
       "      <td>1.0</td>\n",
       "      <td>12.0</td>\n",
       "      <td>1.0</td>\n",
       "      <td>1.896862</td>\n",
       "      <td>9405641.0</td>\n",
       "      <td>-3</td>\n",
       "      <td>0</td>\n",
       "    </tr>\n",
       "  </tbody>\n",
       "</table>\n",
       "<p>5 rows × 24 columns</p>\n",
       "</div>"
      ],
      "text/plain": [
       "  first_active_month          card_id  feature_1  feature_2  feature_3  \\\n",
       "0         2017-06-01  C_ID_92a2005557          5          2          1   \n",
       "1         2017-01-01  C_ID_3d0044924f          4          1          0   \n",
       "2         2016-08-01  C_ID_d639edf6cd          2          2          0   \n",
       "3         2017-09-01  C_ID_186d6a6901          4          3          0   \n",
       "4         2017-11-01  C_ID_cdbd2c0db2          1          3          0   \n",
       "\n",
       "     target  hist_transactions_count  hist_authorized_flag_sum  \\\n",
       "0 -0.820283                      260                       247   \n",
       "1  0.392913                      350                       339   \n",
       "2  0.688056                       43                        41   \n",
       "3  0.142495                       77                        77   \n",
       "4 -0.159749                      133                       128   \n",
       "\n",
       "   hist_authorized_flag_mean  hist_merchant_id_nunique         ...          \\\n",
       "0                   0.950000                        94         ...           \n",
       "1                   0.968571                       142         ...           \n",
       "2                   0.953488                        13         ...           \n",
       "3                   1.000000                        50         ...           \n",
       "4                   0.962406                        66         ...           \n",
       "\n",
       "   hist_purchase_amount_min  hist_purchase_amount_std  hist_installments_sum  \\\n",
       "0                 -0.739395                  0.212139                    4.0   \n",
       "1                 -0.742400                  0.384967                  545.0   \n",
       "2                 -0.730138                  0.087380                    0.0   \n",
       "3                 -0.740897                  0.261624                   86.0   \n",
       "4                 -0.746156                  1.352094                  182.0   \n",
       "\n",
       "   hist_installments_median  hist_installments_max  hist_installments_min  \\\n",
       "0                       0.0                    1.0                    0.0   \n",
       "1                       1.0                   10.0                    1.0   \n",
       "2                       0.0                    0.0                    0.0   \n",
       "3                       1.0                    3.0                    1.0   \n",
       "4                       1.0                   12.0                    1.0   \n",
       "\n",
       "   hist_installments_std  hist_purchase_date_ptp  hist_month_lag_min  \\\n",
       "0               0.123314              20977987.0                  -8   \n",
       "1               1.502620              33717687.0                 -12   \n",
       "2               0.000000              35635623.0                 -13   \n",
       "3               0.484722              13375339.0                  -5   \n",
       "4               1.896862               9405641.0                  -3   \n",
       "\n",
       "   hist_month_lag_max  \n",
       "0                   0  \n",
       "1                   0  \n",
       "2                   0  \n",
       "3                   0  \n",
       "4                   0  \n",
       "\n",
       "[5 rows x 24 columns]"
      ]
     },
     "execution_count": 47,
     "metadata": {},
     "output_type": "execute_result"
    }
   ],
   "source": [
    "train.head()"
   ]
  },
  {
   "cell_type": "markdown",
   "metadata": {},
   "source": [
    "# new merchants Transactions"
   ]
  },
  {
   "cell_type": "code",
   "execution_count": 48,
   "metadata": {},
   "outputs": [],
   "source": [
    "new_merchants['authorized_flag'] =  new_merchants['authorized_flag'].map({'Y':1, 'N':0})"
   ]
  },
  {
   "cell_type": "code",
   "execution_count": 49,
   "metadata": {},
   "outputs": [
    {
     "data": {
      "text/html": [
       "<div>\n",
       "<style scoped>\n",
       "    .dataframe tbody tr th:only-of-type {\n",
       "        vertical-align: middle;\n",
       "    }\n",
       "\n",
       "    .dataframe tbody tr th {\n",
       "        vertical-align: top;\n",
       "    }\n",
       "\n",
       "    .dataframe thead th {\n",
       "        text-align: right;\n",
       "    }\n",
       "</style>\n",
       "<table border=\"1\" class=\"dataframe\">\n",
       "  <thead>\n",
       "    <tr style=\"text-align: right;\">\n",
       "      <th></th>\n",
       "      <th>card_id</th>\n",
       "      <th>new_transactions_count</th>\n",
       "      <th>new_authorized_flag_sum</th>\n",
       "      <th>new_authorized_flag_mean</th>\n",
       "      <th>new_merchant_id_nunique</th>\n",
       "      <th>new_city_id_nunique</th>\n",
       "      <th>new_purchase_amount_sum</th>\n",
       "      <th>new_purchase_amount_median</th>\n",
       "      <th>new_purchase_amount_max</th>\n",
       "      <th>new_purchase_amount_min</th>\n",
       "      <th>new_purchase_amount_std</th>\n",
       "      <th>new_installments_sum</th>\n",
       "      <th>new_installments_median</th>\n",
       "      <th>new_installments_max</th>\n",
       "      <th>new_installments_min</th>\n",
       "      <th>new_installments_std</th>\n",
       "      <th>new_month_lag_min</th>\n",
       "      <th>new_month_lag_max</th>\n",
       "    </tr>\n",
       "  </thead>\n",
       "  <tbody>\n",
       "    <tr>\n",
       "      <th>0</th>\n",
       "      <td>C_ID_00007093c1</td>\n",
       "      <td>2</td>\n",
       "      <td>2</td>\n",
       "      <td>1</td>\n",
       "      <td>2</td>\n",
       "      <td>2</td>\n",
       "      <td>-1.328524</td>\n",
       "      <td>-0.664262</td>\n",
       "      <td>-0.656749</td>\n",
       "      <td>-0.671775</td>\n",
       "      <td>0.010625</td>\n",
       "      <td>2</td>\n",
       "      <td>1.0</td>\n",
       "      <td>1</td>\n",
       "      <td>1</td>\n",
       "      <td>0.000000</td>\n",
       "      <td>2</td>\n",
       "      <td>2</td>\n",
       "    </tr>\n",
       "    <tr>\n",
       "      <th>1</th>\n",
       "      <td>C_ID_0001238066</td>\n",
       "      <td>26</td>\n",
       "      <td>26</td>\n",
       "      <td>1</td>\n",
       "      <td>25</td>\n",
       "      <td>8</td>\n",
       "      <td>-14.850055</td>\n",
       "      <td>-0.649235</td>\n",
       "      <td>-0.078318</td>\n",
       "      <td>-0.740897</td>\n",
       "      <td>0.173436</td>\n",
       "      <td>42</td>\n",
       "      <td>1.0</td>\n",
       "      <td>10</td>\n",
       "      <td>-1</td>\n",
       "      <td>2.079941</td>\n",
       "      <td>1</td>\n",
       "      <td>2</td>\n",
       "    </tr>\n",
       "    <tr>\n",
       "      <th>2</th>\n",
       "      <td>C_ID_0001506ef0</td>\n",
       "      <td>2</td>\n",
       "      <td>2</td>\n",
       "      <td>1</td>\n",
       "      <td>1</td>\n",
       "      <td>1</td>\n",
       "      <td>-1.447354</td>\n",
       "      <td>-0.723677</td>\n",
       "      <td>-0.715352</td>\n",
       "      <td>-0.732001</td>\n",
       "      <td>0.011773</td>\n",
       "      <td>0</td>\n",
       "      <td>0.0</td>\n",
       "      <td>0</td>\n",
       "      <td>0</td>\n",
       "      <td>0.000000</td>\n",
       "      <td>1</td>\n",
       "      <td>1</td>\n",
       "    </tr>\n",
       "    <tr>\n",
       "      <th>3</th>\n",
       "      <td>C_ID_0001793786</td>\n",
       "      <td>31</td>\n",
       "      <td>31</td>\n",
       "      <td>1</td>\n",
       "      <td>31</td>\n",
       "      <td>7</td>\n",
       "      <td>-0.229620</td>\n",
       "      <td>-0.372748</td>\n",
       "      <td>3.129932</td>\n",
       "      <td>-0.737892</td>\n",
       "      <td>0.947223</td>\n",
       "      <td>0</td>\n",
       "      <td>0.0</td>\n",
       "      <td>0</td>\n",
       "      <td>0</td>\n",
       "      <td>0.000000</td>\n",
       "      <td>1</td>\n",
       "      <td>2</td>\n",
       "    </tr>\n",
       "    <tr>\n",
       "      <th>4</th>\n",
       "      <td>C_ID_000183fdda</td>\n",
       "      <td>11</td>\n",
       "      <td>11</td>\n",
       "      <td>1</td>\n",
       "      <td>11</td>\n",
       "      <td>2</td>\n",
       "      <td>-6.590778</td>\n",
       "      <td>-0.665765</td>\n",
       "      <td>-0.107680</td>\n",
       "      <td>-0.732332</td>\n",
       "      <td>0.182877</td>\n",
       "      <td>16</td>\n",
       "      <td>1.0</td>\n",
       "      <td>4</td>\n",
       "      <td>-1</td>\n",
       "      <td>1.293340</td>\n",
       "      <td>1</td>\n",
       "      <td>2</td>\n",
       "    </tr>\n",
       "    <tr>\n",
       "      <th>5</th>\n",
       "      <td>C_ID_0002709b5a</td>\n",
       "      <td>3</td>\n",
       "      <td>3</td>\n",
       "      <td>1</td>\n",
       "      <td>3</td>\n",
       "      <td>3</td>\n",
       "      <td>-2.018827</td>\n",
       "      <td>-0.680791</td>\n",
       "      <td>-0.611669</td>\n",
       "      <td>-0.726367</td>\n",
       "      <td>0.057750</td>\n",
       "      <td>1</td>\n",
       "      <td>1.0</td>\n",
       "      <td>1</td>\n",
       "      <td>-1</td>\n",
       "      <td>1.154701</td>\n",
       "      <td>1</td>\n",
       "      <td>2</td>\n",
       "    </tr>\n",
       "    <tr>\n",
       "      <th>6</th>\n",
       "      <td>C_ID_000298032a</td>\n",
       "      <td>1</td>\n",
       "      <td>1</td>\n",
       "      <td>1</td>\n",
       "      <td>1</td>\n",
       "      <td>1</td>\n",
       "      <td>-0.641872</td>\n",
       "      <td>-0.641872</td>\n",
       "      <td>-0.641872</td>\n",
       "      <td>-0.641872</td>\n",
       "      <td>NaN</td>\n",
       "      <td>0</td>\n",
       "      <td>0.0</td>\n",
       "      <td>0</td>\n",
       "      <td>0</td>\n",
       "      <td>NaN</td>\n",
       "      <td>2</td>\n",
       "      <td>2</td>\n",
       "    </tr>\n",
       "    <tr>\n",
       "      <th>7</th>\n",
       "      <td>C_ID_0002ba3c2e</td>\n",
       "      <td>3</td>\n",
       "      <td>3</td>\n",
       "      <td>1</td>\n",
       "      <td>3</td>\n",
       "      <td>1</td>\n",
       "      <td>-2.071059</td>\n",
       "      <td>-0.697561</td>\n",
       "      <td>-0.667883</td>\n",
       "      <td>-0.705615</td>\n",
       "      <td>0.019872</td>\n",
       "      <td>0</td>\n",
       "      <td>0.0</td>\n",
       "      <td>0</td>\n",
       "      <td>0</td>\n",
       "      <td>0.000000</td>\n",
       "      <td>1</td>\n",
       "      <td>2</td>\n",
       "    </tr>\n",
       "    <tr>\n",
       "      <th>8</th>\n",
       "      <td>C_ID_0002c7c2c1</td>\n",
       "      <td>6</td>\n",
       "      <td>6</td>\n",
       "      <td>1</td>\n",
       "      <td>6</td>\n",
       "      <td>3</td>\n",
       "      <td>-3.929448</td>\n",
       "      <td>-0.671324</td>\n",
       "      <td>-0.497768</td>\n",
       "      <td>-0.731881</td>\n",
       "      <td>0.083328</td>\n",
       "      <td>0</td>\n",
       "      <td>0.0</td>\n",
       "      <td>0</td>\n",
       "      <td>0</td>\n",
       "      <td>0.000000</td>\n",
       "      <td>1</td>\n",
       "      <td>2</td>\n",
       "    </tr>\n",
       "    <tr>\n",
       "      <th>9</th>\n",
       "      <td>C_ID_00032df08f</td>\n",
       "      <td>8</td>\n",
       "      <td>8</td>\n",
       "      <td>1</td>\n",
       "      <td>7</td>\n",
       "      <td>1</td>\n",
       "      <td>-2.791535</td>\n",
       "      <td>-0.478579</td>\n",
       "      <td>0.449203</td>\n",
       "      <td>-0.640520</td>\n",
       "      <td>0.366423</td>\n",
       "      <td>8</td>\n",
       "      <td>1.0</td>\n",
       "      <td>1</td>\n",
       "      <td>1</td>\n",
       "      <td>0.000000</td>\n",
       "      <td>2</td>\n",
       "      <td>2</td>\n",
       "    </tr>\n",
       "  </tbody>\n",
       "</table>\n",
       "</div>"
      ],
      "text/plain": [
       "           card_id  new_transactions_count  new_authorized_flag_sum  \\\n",
       "0  C_ID_00007093c1                       2                        2   \n",
       "1  C_ID_0001238066                      26                       26   \n",
       "2  C_ID_0001506ef0                       2                        2   \n",
       "3  C_ID_0001793786                      31                       31   \n",
       "4  C_ID_000183fdda                      11                       11   \n",
       "5  C_ID_0002709b5a                       3                        3   \n",
       "6  C_ID_000298032a                       1                        1   \n",
       "7  C_ID_0002ba3c2e                       3                        3   \n",
       "8  C_ID_0002c7c2c1                       6                        6   \n",
       "9  C_ID_00032df08f                       8                        8   \n",
       "\n",
       "   new_authorized_flag_mean  new_merchant_id_nunique  new_city_id_nunique  \\\n",
       "0                         1                        2                    2   \n",
       "1                         1                       25                    8   \n",
       "2                         1                        1                    1   \n",
       "3                         1                       31                    7   \n",
       "4                         1                       11                    2   \n",
       "5                         1                        3                    3   \n",
       "6                         1                        1                    1   \n",
       "7                         1                        3                    1   \n",
       "8                         1                        6                    3   \n",
       "9                         1                        7                    1   \n",
       "\n",
       "   new_purchase_amount_sum  new_purchase_amount_median  \\\n",
       "0                -1.328524                   -0.664262   \n",
       "1               -14.850055                   -0.649235   \n",
       "2                -1.447354                   -0.723677   \n",
       "3                -0.229620                   -0.372748   \n",
       "4                -6.590778                   -0.665765   \n",
       "5                -2.018827                   -0.680791   \n",
       "6                -0.641872                   -0.641872   \n",
       "7                -2.071059                   -0.697561   \n",
       "8                -3.929448                   -0.671324   \n",
       "9                -2.791535                   -0.478579   \n",
       "\n",
       "   new_purchase_amount_max  new_purchase_amount_min  new_purchase_amount_std  \\\n",
       "0                -0.656749                -0.671775                 0.010625   \n",
       "1                -0.078318                -0.740897                 0.173436   \n",
       "2                -0.715352                -0.732001                 0.011773   \n",
       "3                 3.129932                -0.737892                 0.947223   \n",
       "4                -0.107680                -0.732332                 0.182877   \n",
       "5                -0.611669                -0.726367                 0.057750   \n",
       "6                -0.641872                -0.641872                      NaN   \n",
       "7                -0.667883                -0.705615                 0.019872   \n",
       "8                -0.497768                -0.731881                 0.083328   \n",
       "9                 0.449203                -0.640520                 0.366423   \n",
       "\n",
       "   new_installments_sum  new_installments_median  new_installments_max  \\\n",
       "0                     2                      1.0                     1   \n",
       "1                    42                      1.0                    10   \n",
       "2                     0                      0.0                     0   \n",
       "3                     0                      0.0                     0   \n",
       "4                    16                      1.0                     4   \n",
       "5                     1                      1.0                     1   \n",
       "6                     0                      0.0                     0   \n",
       "7                     0                      0.0                     0   \n",
       "8                     0                      0.0                     0   \n",
       "9                     8                      1.0                     1   \n",
       "\n",
       "   new_installments_min  new_installments_std  new_month_lag_min  \\\n",
       "0                     1              0.000000                  2   \n",
       "1                    -1              2.079941                  1   \n",
       "2                     0              0.000000                  1   \n",
       "3                     0              0.000000                  1   \n",
       "4                    -1              1.293340                  1   \n",
       "5                    -1              1.154701                  1   \n",
       "6                     0                   NaN                  2   \n",
       "7                     0              0.000000                  1   \n",
       "8                     0              0.000000                  1   \n",
       "9                     1              0.000000                  2   \n",
       "\n",
       "   new_month_lag_max  \n",
       "0                  2  \n",
       "1                  2  \n",
       "2                  1  \n",
       "3                  2  \n",
       "4                  2  \n",
       "5                  2  \n",
       "6                  2  \n",
       "7                  2  \n",
       "8                  2  \n",
       "9                  2  "
      ]
     },
     "execution_count": 49,
     "metadata": {},
     "output_type": "execute_result"
    }
   ],
   "source": [
    "def aggregate_new_transactions(new_trans):    \n",
    "    agg_func = {\n",
    "        'authorized_flag': ['sum', 'mean'],\n",
    "        'merchant_id': ['nunique'],\n",
    "        'city_id': ['nunique'],\n",
    "        'purchase_amount': ['sum', 'median', 'max', 'min', 'std'],\n",
    "        'installments': ['sum', 'median', 'max', 'min', 'std'],\n",
    "        'month_lag': ['min', 'max']\n",
    "        }\n",
    "    agg_new_trans = new_trans.groupby(['card_id']).agg(agg_func)\n",
    "    agg_new_trans.columns = ['new_' + '_'.join(col).strip() \n",
    "                           for col in agg_new_trans.columns.values]\n",
    "    agg_new_trans.reset_index(inplace=True)\n",
    "    \n",
    "    df = (new_trans.groupby('card_id')\n",
    "          .size()\n",
    "          .reset_index(name='new_transactions_count'))\n",
    "    \n",
    "    agg_new_trans = pd.merge(df, agg_new_trans, on='card_id', how='left')\n",
    "    \n",
    "    return agg_new_trans\n",
    "\n",
    "new_trans = aggregate_new_transactions(new_merchants)\n",
    "new_trans[:10]"
   ]
  },
  {
   "cell_type": "code",
   "execution_count": 50,
   "metadata": {},
   "outputs": [
    {
     "data": {
      "text/plain": [
       "(290001, 18)"
      ]
     },
     "execution_count": 50,
     "metadata": {},
     "output_type": "execute_result"
    }
   ],
   "source": [
    "new_trans.shape"
   ]
  },
  {
   "cell_type": "code",
   "execution_count": 51,
   "metadata": {},
   "outputs": [
    {
     "data": {
      "text/plain": [
       "290001"
      ]
     },
     "execution_count": 51,
     "metadata": {},
     "output_type": "execute_result"
    }
   ],
   "source": [
    "new_trans.card_id.nunique()"
   ]
  },
  {
   "cell_type": "code",
   "execution_count": 52,
   "metadata": {},
   "outputs": [
    {
     "data": {
      "text/plain": [
       "True    290001\n",
       "Name: card_id, dtype: int64"
      ]
     },
     "execution_count": 52,
     "metadata": {},
     "output_type": "execute_result"
    }
   ],
   "source": [
    "new_trans['card_id'].isin(history['card_id']).value_counts()"
   ]
  },
  {
   "cell_type": "code",
   "execution_count": 53,
   "metadata": {},
   "outputs": [
    {
     "data": {
      "text/plain": [
       "True     179986\n",
       "False    110015\n",
       "Name: card_id, dtype: int64"
      ]
     },
     "execution_count": 53,
     "metadata": {},
     "output_type": "execute_result"
    }
   ],
   "source": [
    "new_trans['card_id'].isin(train['card_id']).value_counts()"
   ]
  },
  {
   "cell_type": "code",
   "execution_count": null,
   "metadata": {},
   "outputs": [],
   "source": []
  },
  {
   "cell_type": "code",
   "execution_count": 54,
   "metadata": {},
   "outputs": [],
   "source": [
    "#merging earlier dataset with new transaction aggregated variables.so now final dataframe is original+historical+\n",
    "# new_transactions\n",
    "\n",
    "\n",
    "\n",
    "train = pd.merge(train, new_trans, on='card_id', how='left')\n",
    "test = pd.merge(test, new_trans, on='card_id', how='left')"
   ]
  },
  {
   "cell_type": "code",
   "execution_count": null,
   "metadata": {},
   "outputs": [],
   "source": []
  },
  {
   "cell_type": "code",
   "execution_count": 56,
   "metadata": {},
   "outputs": [
    {
     "data": {
      "text/plain": [
       "(201917, 41)"
      ]
     },
     "execution_count": 56,
     "metadata": {},
     "output_type": "execute_result"
    }
   ],
   "source": [
    "train.shape\n",
    "\n"
   ]
  },
  {
   "cell_type": "code",
   "execution_count": 57,
   "metadata": {},
   "outputs": [
    {
     "data": {
      "text/html": [
       "<div>\n",
       "<style scoped>\n",
       "    .dataframe tbody tr th:only-of-type {\n",
       "        vertical-align: middle;\n",
       "    }\n",
       "\n",
       "    .dataframe tbody tr th {\n",
       "        vertical-align: top;\n",
       "    }\n",
       "\n",
       "    .dataframe thead th {\n",
       "        text-align: right;\n",
       "    }\n",
       "</style>\n",
       "<table border=\"1\" class=\"dataframe\">\n",
       "  <thead>\n",
       "    <tr style=\"text-align: right;\">\n",
       "      <th></th>\n",
       "      <th>Total</th>\n",
       "      <th>Percent</th>\n",
       "    </tr>\n",
       "  </thead>\n",
       "  <tbody>\n",
       "    <tr>\n",
       "      <th>new_installments_std</th>\n",
       "      <td>48718</td>\n",
       "      <td>24.127736</td>\n",
       "    </tr>\n",
       "    <tr>\n",
       "      <th>new_purchase_amount_std</th>\n",
       "      <td>48718</td>\n",
       "      <td>24.127736</td>\n",
       "    </tr>\n",
       "    <tr>\n",
       "      <th>new_month_lag_max</th>\n",
       "      <td>21931</td>\n",
       "      <td>10.861394</td>\n",
       "    </tr>\n",
       "    <tr>\n",
       "      <th>new_purchase_amount_median</th>\n",
       "      <td>21931</td>\n",
       "      <td>10.861394</td>\n",
       "    </tr>\n",
       "    <tr>\n",
       "      <th>new_authorized_flag_sum</th>\n",
       "      <td>21931</td>\n",
       "      <td>10.861394</td>\n",
       "    </tr>\n",
       "    <tr>\n",
       "      <th>new_authorized_flag_mean</th>\n",
       "      <td>21931</td>\n",
       "      <td>10.861394</td>\n",
       "    </tr>\n",
       "    <tr>\n",
       "      <th>new_merchant_id_nunique</th>\n",
       "      <td>21931</td>\n",
       "      <td>10.861394</td>\n",
       "    </tr>\n",
       "    <tr>\n",
       "      <th>new_city_id_nunique</th>\n",
       "      <td>21931</td>\n",
       "      <td>10.861394</td>\n",
       "    </tr>\n",
       "    <tr>\n",
       "      <th>new_purchase_amount_sum</th>\n",
       "      <td>21931</td>\n",
       "      <td>10.861394</td>\n",
       "    </tr>\n",
       "    <tr>\n",
       "      <th>new_purchase_amount_min</th>\n",
       "      <td>21931</td>\n",
       "      <td>10.861394</td>\n",
       "    </tr>\n",
       "    <tr>\n",
       "      <th>new_purchase_amount_max</th>\n",
       "      <td>21931</td>\n",
       "      <td>10.861394</td>\n",
       "    </tr>\n",
       "    <tr>\n",
       "      <th>new_month_lag_min</th>\n",
       "      <td>21931</td>\n",
       "      <td>10.861394</td>\n",
       "    </tr>\n",
       "    <tr>\n",
       "      <th>new_installments_sum</th>\n",
       "      <td>21931</td>\n",
       "      <td>10.861394</td>\n",
       "    </tr>\n",
       "    <tr>\n",
       "      <th>new_installments_median</th>\n",
       "      <td>21931</td>\n",
       "      <td>10.861394</td>\n",
       "    </tr>\n",
       "    <tr>\n",
       "      <th>new_installments_max</th>\n",
       "      <td>21931</td>\n",
       "      <td>10.861394</td>\n",
       "    </tr>\n",
       "    <tr>\n",
       "      <th>new_installments_min</th>\n",
       "      <td>21931</td>\n",
       "      <td>10.861394</td>\n",
       "    </tr>\n",
       "    <tr>\n",
       "      <th>new_transactions_count</th>\n",
       "      <td>21931</td>\n",
       "      <td>10.861394</td>\n",
       "    </tr>\n",
       "    <tr>\n",
       "      <th>hist_installments_std</th>\n",
       "      <td>7</td>\n",
       "      <td>0.003467</td>\n",
       "    </tr>\n",
       "    <tr>\n",
       "      <th>hist_month_lag_min</th>\n",
       "      <td>0</td>\n",
       "      <td>0.000000</td>\n",
       "    </tr>\n",
       "    <tr>\n",
       "      <th>hist_city_id_nunique</th>\n",
       "      <td>0</td>\n",
       "      <td>0.000000</td>\n",
       "    </tr>\n",
       "  </tbody>\n",
       "</table>\n",
       "</div>"
      ],
      "text/plain": [
       "                            Total    Percent\n",
       "new_installments_std        48718  24.127736\n",
       "new_purchase_amount_std     48718  24.127736\n",
       "new_month_lag_max           21931  10.861394\n",
       "new_purchase_amount_median  21931  10.861394\n",
       "new_authorized_flag_sum     21931  10.861394\n",
       "new_authorized_flag_mean    21931  10.861394\n",
       "new_merchant_id_nunique     21931  10.861394\n",
       "new_city_id_nunique         21931  10.861394\n",
       "new_purchase_amount_sum     21931  10.861394\n",
       "new_purchase_amount_min     21931  10.861394\n",
       "new_purchase_amount_max     21931  10.861394\n",
       "new_month_lag_min           21931  10.861394\n",
       "new_installments_sum        21931  10.861394\n",
       "new_installments_median     21931  10.861394\n",
       "new_installments_max        21931  10.861394\n",
       "new_installments_min        21931  10.861394\n",
       "new_transactions_count      21931  10.861394\n",
       "hist_installments_std           7   0.003467\n",
       "hist_month_lag_min              0   0.000000\n",
       "hist_city_id_nunique            0   0.000000"
      ]
     },
     "execution_count": 57,
     "metadata": {},
     "output_type": "execute_result"
    }
   ],
   "source": [
    "total = train.isnull().sum().sort_values(ascending = False)\n",
    "percent = (train.isnull().sum()/train.isnull().count()*100).sort_values(ascending = False)\n",
    "missing_data  = pd.concat([total, percent], axis=1, keys=['Total', 'Percent'])\n",
    "missing_data.head(20)"
   ]
  },
  {
   "cell_type": "code",
   "execution_count": 58,
   "metadata": {},
   "outputs": [],
   "source": [
    "uncommon=train[(~train.card_id.isin(new_trans.card_id))]"
   ]
  },
  {
   "cell_type": "code",
   "execution_count": 59,
   "metadata": {},
   "outputs": [
    {
     "data": {
      "text/plain": [
       "(21931, 41)"
      ]
     },
     "execution_count": 59,
     "metadata": {},
     "output_type": "execute_result"
    }
   ],
   "source": [
    "uncommon.shape"
   ]
  },
  {
   "cell_type": "code",
   "execution_count": 60,
   "metadata": {},
   "outputs": [
    {
     "data": {
      "text/plain": [
       "first_active_month             datetime64[ns]\n",
       "card_id                                object\n",
       "feature_1                               int64\n",
       "feature_2                               int64\n",
       "feature_3                               int64\n",
       "target                                float64\n",
       "hist_transactions_count                 int64\n",
       "hist_authorized_flag_sum                int64\n",
       "hist_authorized_flag_mean             float64\n",
       "hist_merchant_id_nunique                int64\n",
       "hist_city_id_nunique                    int64\n",
       "hist_purchase_amount_sum              float64\n",
       "hist_purchase_amount_median           float64\n",
       "hist_purchase_amount_max              float64\n",
       "hist_purchase_amount_min              float64\n",
       "hist_purchase_amount_std              float64\n",
       "hist_installments_sum                 float64\n",
       "hist_installments_median              float64\n",
       "hist_installments_max                 float64\n",
       "hist_installments_min                 float64\n",
       "hist_installments_std                 float64\n",
       "hist_purchase_date_ptp                float64\n",
       "hist_month_lag_min                      int64\n",
       "hist_month_lag_max                      int64\n",
       "new_transactions_count                float64\n",
       "new_authorized_flag_sum               float64\n",
       "new_authorized_flag_mean              float64\n",
       "new_merchant_id_nunique               float64\n",
       "new_city_id_nunique                   float64\n",
       "new_purchase_amount_sum               float64\n",
       "new_purchase_amount_median            float64\n",
       "new_purchase_amount_max               float64\n",
       "new_purchase_amount_min               float64\n",
       "new_purchase_amount_std               float64\n",
       "new_installments_sum                  float64\n",
       "new_installments_median               float64\n",
       "new_installments_max                  float64\n",
       "new_installments_min                  float64\n",
       "new_installments_std                  float64\n",
       "new_month_lag_min                     float64\n",
       "new_month_lag_max                     float64\n",
       "dtype: object"
      ]
     },
     "execution_count": 60,
     "metadata": {},
     "output_type": "execute_result"
    }
   ],
   "source": [
    "train.dtypes"
   ]
  },
  {
   "cell_type": "code",
   "execution_count": 61,
   "metadata": {},
   "outputs": [
    {
     "data": {
      "text/plain": [
       "pandas.core.frame.DataFrame"
      ]
     },
     "execution_count": 61,
     "metadata": {},
     "output_type": "execute_result"
    }
   ],
   "source": [
    "type(train)"
   ]
  },
  {
   "cell_type": "code",
   "execution_count": 62,
   "metadata": {},
   "outputs": [],
   "source": [
    "\n",
    "#filling missing values with zero as these will be new card ids and not used by perticular customer.\n",
    "train = train.fillna(0)"
   ]
  },
  {
   "cell_type": "code",
   "execution_count": 63,
   "metadata": {},
   "outputs": [
    {
     "name": "stdout",
     "output_type": "stream",
     "text": [
      "correlated features:  13\n"
     ]
    }
   ],
   "source": [
    "def correlation(dataset, threshold):\n",
    "    col_corr = set()  # Set of all the names of correlated columns\n",
    "    corr_matrix = dataset.corr()\n",
    "    for i in range(len(corr_matrix.columns)):\n",
    "        for j in range(i):\n",
    "            if abs(corr_matrix.iloc[i, j]) > threshold: # we are interested in absolute coeff value\n",
    "                colname = corr_matrix.columns[i]  # getting the name of column\n",
    "                col_corr.add(colname)\n",
    "    return col_corr\n",
    " \n",
    "corr_features = correlation(train, 0.8)\n",
    "print('correlated features: ', len(set(corr_features)) )"
   ]
  },
  {
   "cell_type": "code",
   "execution_count": 64,
   "metadata": {},
   "outputs": [],
   "source": [
    "corr=train.corr()"
   ]
  },
  {
   "cell_type": "code",
   "execution_count": 65,
   "metadata": {},
   "outputs": [
    {
     "data": {
      "text/plain": [
       "<matplotlib.axes._subplots.AxesSubplot at 0x1b7d4f1ef0>"
      ]
     },
     "execution_count": 65,
     "metadata": {},
     "output_type": "execute_result"
    },
    {
     "data": {
      "image/png": "[encoded data removed]",
      "text/plain": [
       "<Figure size 792x648 with 2 Axes>"
      ]
     },
     "metadata": {
      "needs_background": "light"
     },
     "output_type": "display_data"
    }
   ],
   "source": [
    "import numpy as np\n",
    "# Generate a mask for the upper triangle\n",
    "mask = np.zeros_like(corr, dtype=np.bool)\n",
    "mask[np.triu_indices_from(mask)] = True\n",
    "\n",
    "# Set up the matplotlib figure\n",
    "f, ax = plt.subplots(figsize=(11, 9))\n",
    "\n",
    "# Generate a custom diverging colormap\n",
    "cmap = sns.diverging_palette(220, 10, as_cmap=True)\n",
    "\n",
    "# Draw the heatmap with the mask and correct aspect ratio\n",
    "sns.heatmap(corr, mask=mask, cmap=cmap, vmax=.3, center=0,\n",
    "            square=True, linewidths=.5, cbar_kws={\"shrink\": .5})"
   ]
  },
  {
   "cell_type": "code",
   "execution_count": 66,
   "metadata": {},
   "outputs": [
    {
     "data": {
      "text/plain": [
       "{'hist_authorized_flag_sum',\n",
       " 'hist_installments_std',\n",
       " 'hist_merchant_id_nunique',\n",
       " 'hist_month_lag_min',\n",
       " 'hist_purchase_amount_max',\n",
       " 'hist_purchase_amount_std',\n",
       " 'new_authorized_flag_sum',\n",
       " 'new_installments_std',\n",
       " 'new_merchant_id_nunique',\n",
       " 'new_month_lag_max',\n",
       " 'new_purchase_amount_min',\n",
       " 'new_purchase_amount_std',\n",
       " 'new_purchase_amount_sum'}"
      ]
     },
     "execution_count": 66,
     "metadata": {},
     "output_type": "execute_result"
    }
   ],
   "source": [
    "corr_features"
   ]
  },
  {
   "cell_type": "code",
   "execution_count": 67,
   "metadata": {},
   "outputs": [],
   "source": [
    "train.drop(labels=corr_features, axis=1, inplace=True)\n",
    "\n"
   ]
  },
  {
   "cell_type": "code",
   "execution_count": 68,
   "metadata": {},
   "outputs": [
    {
     "data": {
      "text/plain": [
       "first_active_month             datetime64[ns]\n",
       "card_id                                object\n",
       "feature_1                               int64\n",
       "feature_2                               int64\n",
       "feature_3                               int64\n",
       "target                                float64\n",
       "hist_transactions_count                 int64\n",
       "hist_authorized_flag_mean             float64\n",
       "hist_city_id_nunique                    int64\n",
       "hist_purchase_amount_sum              float64\n",
       "hist_purchase_amount_median           float64\n",
       "hist_purchase_amount_min              float64\n",
       "hist_installments_sum                 float64\n",
       "hist_installments_median              float64\n",
       "hist_installments_max                 float64\n",
       "hist_installments_min                 float64\n",
       "hist_purchase_date_ptp                float64\n",
       "hist_month_lag_max                      int64\n",
       "new_transactions_count                float64\n",
       "new_authorized_flag_mean              float64\n",
       "new_city_id_nunique                   float64\n",
       "new_purchase_amount_median            float64\n",
       "new_purchase_amount_max               float64\n",
       "new_installments_sum                  float64\n",
       "new_installments_median               float64\n",
       "new_installments_max                  float64\n",
       "new_installments_min                  float64\n",
       "new_month_lag_min                     float64\n",
       "dtype: object"
      ]
     },
     "execution_count": 68,
     "metadata": {},
     "output_type": "execute_result"
    }
   ],
   "source": [
    "train.dtypes"
   ]
  },
  {
   "cell_type": "code",
   "execution_count": 69,
   "metadata": {},
   "outputs": [],
   "source": [
    "def get_firstactivemonth_break_up(train):\n",
    "    \"\"\"splitting of starttime i,e.datetime64 type column into seperate column for hour ,day,month,year for detailed analysis\"\"\"\n",
    "    date = np.array(list(map(lambda x: (x.year, x.month, x.week, x.dayofweek, x.hour), train['first_active_month'])))\n",
    "    train['year']=date[:,0]\n",
    "    train['month']=date[:,1]\n",
    "    train['week']=date[:,2]\n",
    "    train['day']=date[:,3]\n",
    "    train['hour'] = date[:, 4]\n",
    "    \n",
    "    return train"
   ]
  },
  {
   "cell_type": "code",
   "execution_count": 70,
   "metadata": {},
   "outputs": [],
   "source": [
    "train=get_firstactivemonth_break_up(train)"
   ]
  },
  {
   "cell_type": "code",
   "execution_count": 71,
   "metadata": {},
   "outputs": [],
   "source": [
    "train=train.drop(['first_active_month'], axis=1)"
   ]
  },
  {
   "cell_type": "code",
   "execution_count": 72,
   "metadata": {},
   "outputs": [
    {
     "data": {
      "text/plain": [
       "(201917, 32)"
      ]
     },
     "execution_count": 72,
     "metadata": {},
     "output_type": "execute_result"
    }
   ],
   "source": [
    "train.shape"
   ]
  },
  {
   "cell_type": "code",
   "execution_count": 80,
   "metadata": {},
   "outputs": [],
   "source": [
    "#train.columns"
   ]
  },
  {
   "cell_type": "markdown",
   "metadata": {},
   "source": [
    "# Inferential statistics"
   ]
  },
  {
   "cell_type": "markdown",
   "metadata": {},
   "source": [
    "H0 hypothesis: There is not a relationship between feature 1 and target\n",
    "\n",
    "HA hypothesis: There is a relationship between feature1 and target\n",
    "\n",
    "\n"
   ]
  },
  {
   "cell_type": "code",
   "execution_count": 81,
   "metadata": {},
   "outputs": [
    {
     "data": {
      "text/plain": [
       "<matplotlib.axes._subplots.AxesSubplot at 0x1af6fba780>"
      ]
     },
     "execution_count": 81,
     "metadata": {},
     "output_type": "execute_result"
    },
    {
     "data": {
      "image/png": "[encoded data removed]",
      "text/plain": [
       "<Figure size 432x288 with 1 Axes>"
      ]
     },
     "metadata": {},
     "output_type": "display_data"
    }
   ],
   "source": [
    "train.plot.scatter(\"feature_1\", \"target\")\n",
    "\n"
   ]
  },
  {
   "cell_type": "code",
   "execution_count": null,
   "metadata": {},
   "outputs": [],
   "source": [
    "from scipy import stats\n",
    "\n"
   ]
  },
  {
   "cell_type": "markdown",
   "metadata": {},
   "source": [
    "To formally test homogeneity of variances, I will use the Levene’s test of homogeneity of variances which is the stats.levene() method from scipy.stats."
   ]
  },
  {
   "cell_type": "code",
   "execution_count": 82,
   "metadata": {},
   "outputs": [
    {
     "data": {
      "text/plain": [
       "LeveneResult(statistic=6376.0340415853825, pvalue=0.0)"
      ]
     },
     "execution_count": 82,
     "metadata": {},
     "output_type": "execute_result"
    }
   ],
   "source": [
    "stats.levene(train['feature_1'], train['target'])\n",
    "\n"
   ]
  },
  {
   "cell_type": "markdown",
   "metadata": {},
   "source": [
    "Levene’s test for equal variances is significant, meaning we violate the assumption of homoscedasticity. Given that, the appropriate correlation test to use would be a non-parametric test such as the Spearman rank correlation or Kendall Tau correlation test"
   ]
  },
  {
   "cell_type": "code",
   "execution_count": 130,
   "metadata": {},
   "outputs": [
    {
     "data": {
      "text/plain": [
       "-0.0156643329340523"
      ]
     },
     "execution_count": 130,
     "metadata": {},
     "output_type": "execute_result"
    }
   ],
   "source": [
    "train['feature_1'].corr(train['target'], method= 'spearman')\n"
   ]
  },
  {
   "cell_type": "code",
   "execution_count": 131,
   "metadata": {},
   "outputs": [
    {
     "data": {
      "text/plain": [
       "-0.014251050661851884"
      ]
     },
     "execution_count": 131,
     "metadata": {},
     "output_type": "execute_result"
    }
   ],
   "source": [
    "train['feature_1'].corr(train['target'])\n"
   ]
  },
  {
   "cell_type": "code",
   "execution_count": 132,
   "metadata": {},
   "outputs": [
    {
     "data": {
      "text/plain": [
       "LeveneResult(statistic=13121.415087967722, pvalue=0.0)"
      ]
     },
     "execution_count": 132,
     "metadata": {},
     "output_type": "execute_result"
    }
   ],
   "source": [
    "stats.levene(train['feature_2'], train['target'])\n",
    "\n"
   ]
  },
  {
   "cell_type": "code",
   "execution_count": 133,
   "metadata": {},
   "outputs": [
    {
     "data": {
      "text/plain": [
       "LeveneResult(statistic=19305.93792694782, pvalue=0.0)"
      ]
     },
     "execution_count": 133,
     "metadata": {},
     "output_type": "execute_result"
    }
   ],
   "source": [
    "stats.levene(train['feature_3'], train['target'])\n",
    "\n"
   ]
  },
  {
   "cell_type": "code",
   "execution_count": 134,
   "metadata": {},
   "outputs": [
    {
     "data": {
      "text/plain": [
       "-0.006241764587570307"
      ]
     },
     "execution_count": 134,
     "metadata": {},
     "output_type": "execute_result"
    }
   ],
   "source": [
    "train['feature_2'].corr(train['target'])\n",
    "\n"
   ]
  },
  {
   "cell_type": "code",
   "execution_count": 135,
   "metadata": {},
   "outputs": [
    {
     "data": {
      "text/plain": [
       "-0.008125281060604133"
      ]
     },
     "execution_count": 135,
     "metadata": {},
     "output_type": "execute_result"
    }
   ],
   "source": [
    "train['feature_3'].corr(train['target'])\n",
    "\n"
   ]
  },
  {
   "cell_type": "markdown",
   "metadata": {},
   "source": [
    "We can conclude that there is no direct strong correlation bewteen these 3 anonimysed features and target indicating\n",
    "we need more data in order to train model to accurately predict target."
   ]
  },
  {
   "cell_type": "code",
   "execution_count": null,
   "metadata": {},
   "outputs": [],
   "source": [
    "HA - Mean purchase amount is same between historical and new transactions\n",
    "HB - Mean purchase amount is different between historical and new transations"
   ]
  },
  {
   "cell_type": "markdown",
   "metadata": {},
   "source": [
    "Before the t-test can be conducted, the assumptions of the t-test need to be checked to see if the t-test results can be trusted."
   ]
  },
  {
   "cell_type": "code",
   "execution_count": 138,
   "metadata": {},
   "outputs": [
    {
     "data": {
      "text/plain": [
       "LeveneResult(statistic=0.5471647706597861, pvalue=0.4594784915686013)"
      ]
     },
     "execution_count": 138,
     "metadata": {},
     "output_type": "execute_result"
    }
   ],
   "source": [
    "stats.levene(hist['purchase_amount'], new_merchants['purchase_amount'])\n"
   ]
  },
  {
   "cell_type": "code",
   "execution_count": 139,
   "metadata": {},
   "outputs": [
    {
     "data": {
      "text/plain": [
       "Ttest_indResult(statistic=0.7324766918255633, pvalue=0.463877669576369)"
      ]
     },
     "execution_count": 139,
     "metadata": {},
     "output_type": "execute_result"
    }
   ],
   "source": [
    "stats.ttest_ind(hist['purchase_amount'], new_merchants['purchase_amount'])\n"
   ]
  },
  {
   "cell_type": "markdown",
   "metadata": {},
   "source": [
    "The test is not significant meaning there is homogeneity of variances and we can proceed"
   ]
  },
  {
   "cell_type": "code",
   "execution_count": 140,
   "metadata": {},
   "outputs": [],
   "source": [
    "diff = hist['purchase_amount'] - new_merchants['purchase_amount']\n"
   ]
  },
  {
   "cell_type": "code",
   "execution_count": 141,
   "metadata": {},
   "outputs": [
    {
     "data": {
      "image/png": "[encoded data removed]",
      "text/plain": [
       "<Figure size 432x288 with 1 Axes>"
      ]
     },
     "metadata": {},
     "output_type": "display_data"
    }
   ],
   "source": [
    "diff.plot(kind= \"hist\", title= \"Purcahse amount Residuals\")\n",
    "plt.xlabel(\"Length (cm)\")\n",
    "plt.savefig(\"Residuals Plot of Purchase amount.png\")"
   ]
  },
  {
   "cell_type": "code",
   "execution_count": null,
   "metadata": {},
   "outputs": [],
   "source": [
    "As per above histogram we violates the assumption of normal distribution so we need to perform other test such as\n",
    "Welch test"
   ]
  },
  {
   "cell_type": "code",
   "execution_count": null,
   "metadata": {},
   "outputs": [],
   "source": []
  },
  {
   "cell_type": "code",
   "execution_count": 148,
   "metadata": {},
   "outputs": [],
   "source": [
    "def welch_ttest(x, y): \n",
    "    ## Welch-Satterthwaite Degrees of Freedom ##\n",
    "    dof = (x.var()/x.size + y.var()/y.size)**2 / ((x.var()/x.size)**2 / (x.size-1) + (y.var()/y.size)**2 / (y.size-1))\n",
    "   \n",
    "    t, p = stats.ttest_ind(x, y, equal_var = False)\n",
    "    \n",
    "    print(\"\\n\",\n",
    "          f\"Welch's t-test= {t:.4f}\", \"\\n\",\n",
    "          f\"p-value = {p:.4f}\", \"\\n\")\n",
    "\n"
   ]
  },
  {
   "cell_type": "code",
   "execution_count": 149,
   "metadata": {},
   "outputs": [
    {
     "name": "stdout",
     "output_type": "stream",
     "text": [
      "\n",
      " Welch's t-test= 2.8208 \n",
      " p-value = 0.0048 \n",
      "\n"
     ]
    }
   ],
   "source": [
    "welch_ttest(hist['purchase_amount'], new_merchants['purchase_amount'])"
   ]
  },
  {
   "cell_type": "code",
   "execution_count": null,
   "metadata": {},
   "outputs": [],
   "source": [
    "If p <= alpha: Reject null hypothesis that the means are equal.\n",
    "So we can conclude that the means value of purchase amount is different for historical transations and new transactions."
   ]
  },
  {
   "cell_type": "code",
   "execution_count": null,
   "metadata": {},
   "outputs": [],
   "source": []
  },
  {
   "cell_type": "code",
   "execution_count": null,
   "metadata": {},
   "outputs": [],
   "source": [
    "HA - Mean installments is same between historical and new transactions\n",
    "HB - Mean installments is different between historical and new transations"
   ]
  },
  {
   "cell_type": "code",
   "execution_count": 190,
   "metadata": {},
   "outputs": [],
   "source": [
    "x = hist.installments"
   ]
  },
  {
   "cell_type": "code",
   "execution_count": 191,
   "metadata": {},
   "outputs": [],
   "source": [
    "df = pd.DataFrame(x,columns=['installments'])"
   ]
  },
  {
   "cell_type": "code",
   "execution_count": 197,
   "metadata": {},
   "outputs": [],
   "source": [
    "df=df.fillna(0)"
   ]
  },
  {
   "cell_type": "code",
   "execution_count": 193,
   "metadata": {},
   "outputs": [],
   "source": [
    "y = new_merchants.installments"
   ]
  },
  {
   "cell_type": "code",
   "execution_count": 194,
   "metadata": {},
   "outputs": [],
   "source": [
    "df1 = pd.DataFrame(y,columns=['installments'])"
   ]
  },
  {
   "cell_type": "code",
   "execution_count": 198,
   "metadata": {},
   "outputs": [],
   "source": [
    "df1=df1.fillna(0)"
   ]
  },
  {
   "cell_type": "code",
   "execution_count": 199,
   "metadata": {},
   "outputs": [
    {
     "data": {
      "text/plain": [
       "Ttest_indResult(statistic=-39.36818909972307, pvalue=0.0)"
      ]
     },
     "execution_count": 199,
     "metadata": {},
     "output_type": "execute_result"
    }
   ],
   "source": [
    "stats.ttest_ind(df['installments'], df1['installments'])\n",
    "\n"
   ]
  },
  {
   "cell_type": "markdown",
   "metadata": {},
   "source": [
    "If p <= 0.05: Reject null hypothesis that the means are equal.\n",
    "So we can conclude that the means value of installments is different for historical transations and new transactions."
   ]
  },
  {
   "cell_type": "code",
   "execution_count": null,
   "metadata": {},
   "outputs": [],
   "source": []
  }
 ],
 "metadata": {
  "kernelspec": {
   "display_name": "Python 3",
   "language": "python",
   "name": "python3"
  },
  "language_info": {
   "codemirror_mode": {
    "name": "ipython",
    "version": 3
   },
   "file_extension": ".py",
   "mimetype": "text/x-python",
   "name": "python",
   "nbconvert_exporter": "python",
   "pygments_lexer": "ipython3",
   "version": "3.7.0"
  }
 },
 "nbformat": 4,
 "nbformat_minor": 2
}
