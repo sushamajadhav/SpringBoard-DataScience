{
 "cells": [
  {
   "cell_type": "code",
   "execution_count": 1,
   "metadata": {},
   "outputs": [],
   "source": [
    "#importing required packages\n",
    "\n",
    "%matplotlib inline\n",
    "import pandas as pd\n",
    "import numpy as np\n",
    "import matplotlib.pyplot as plt\n",
    "import seaborn as sns\n",
    "color = sns.color_palette()\n"
   ]
  },
  {
   "cell_type": "code",
   "execution_count": 2,
   "metadata": {},
   "outputs": [],
   "source": [
    "#reading csv\n",
    "df = pd.read_csv('train_ver2.csv',low_memory=False)"
   ]
  },
  {
   "cell_type": "code",
   "execution_count": 3,
   "metadata": {},
   "outputs": [],
   "source": [
    "#using only sample rows\n",
    "df_new = df.sample(frac=0.004,random_state=42)\n",
    "\n"
   ]
  },
  {
   "cell_type": "code",
   "execution_count": 4,
   "metadata": {},
   "outputs": [
    {
     "data": {
      "text/plain": [
       "(54589, 48)"
      ]
     },
     "execution_count": 4,
     "metadata": {},
     "output_type": "execute_result"
    }
   ],
   "source": [
    "df_new.shape"
   ]
  },
  {
   "cell_type": "code",
   "execution_count": 5,
   "metadata": {},
   "outputs": [
    {
     "data": {
      "text/plain": [
       "Index(['fecha_dato', 'ncodpers', 'ind_empleado', 'pais_residencia', 'sexo',\n",
       "       'age', 'fecha_alta', 'ind_nuevo', 'antiguedad', 'indrel',\n",
       "       'ult_fec_cli_1t', 'indrel_1mes', 'tiprel_1mes', 'indresi', 'indext',\n",
       "       'conyuemp', 'canal_entrada', 'indfall', 'tipodom', 'cod_prov',\n",
       "       'nomprov', 'ind_actividad_cliente', 'renta', 'segmento',\n",
       "       'ind_ahor_fin_ult1', 'ind_aval_fin_ult1', 'ind_cco_fin_ult1',\n",
       "       'ind_cder_fin_ult1', 'ind_cno_fin_ult1', 'ind_ctju_fin_ult1',\n",
       "       'ind_ctma_fin_ult1', 'ind_ctop_fin_ult1', 'ind_ctpp_fin_ult1',\n",
       "       'ind_deco_fin_ult1', 'ind_deme_fin_ult1', 'ind_dela_fin_ult1',\n",
       "       'ind_ecue_fin_ult1', 'ind_fond_fin_ult1', 'ind_hip_fin_ult1',\n",
       "       'ind_plan_fin_ult1', 'ind_pres_fin_ult1', 'ind_reca_fin_ult1',\n",
       "       'ind_tjcr_fin_ult1', 'ind_valo_fin_ult1', 'ind_viv_fin_ult1',\n",
       "       'ind_nomina_ult1', 'ind_nom_pens_ult1', 'ind_recibo_ult1'],\n",
       "      dtype='object')"
      ]
     },
     "execution_count": 5,
     "metadata": {},
     "output_type": "execute_result"
    }
   ],
   "source": [
    "df_new.columns"
   ]
  },
  {
   "cell_type": "code",
   "execution_count": 6,
   "metadata": {},
   "outputs": [],
   "source": [
    "old_columns = list(df_new.columns)\n",
    "\n",
    "new_columns = ['Date','Customer_Code','Employee_Index','Country','Gender','Age','First_holder_Date','New_Customer_Index',\\\n",
    "               'Customer_Seniority','Primary_Customer','Last_date_as_primary_customer','Customer_type_beginning_of_month',\\\n",
    "               'Customer_relation_month_begining','Residence_index','Foreigner_index','Spouse_index',\\\n",
    "               'Joining_channel','Deceased_index','primary_address','Province_code','Province_name','Active_OrNot',\\\n",
    "               'HouseHold_Gross_Income','Segmentation','Saving_Account',\\\n",
    "               'Guarantees','Current_Accounts','Derivada_Account','Payroll_Account','Junior_Account',\\\n",
    "               'Más_particular_Account','particular_Account','particular_Plus_Account','Short_term_deposits','Medium_term_deposits',\\\n",
    "               'Long_term_deposits','e_account','Funds','Mortgage','Pensions','Loans','Taxes','Credit_Card','Securities',\\\n",
    "               'Home_Account','Payroll','Pensions','Direct_Debit' ]"
   ]
  },
  {
   "cell_type": "code",
   "execution_count": 7,
   "metadata": {},
   "outputs": [
    {
     "data": {
      "text/plain": [
       "[('fecha_dato', 'Date'),\n",
       " ('ncodpers', 'Customer_Code'),\n",
       " ('ind_empleado', 'Employee_Index'),\n",
       " ('pais_residencia', 'Country'),\n",
       " ('sexo', 'Gender'),\n",
       " ('age', 'Age'),\n",
       " ('fecha_alta', 'First_holder_Date'),\n",
       " ('ind_nuevo', 'New_Customer_Index'),\n",
       " ('antiguedad', 'Customer_Seniority'),\n",
       " ('indrel', 'Primary_Customer'),\n",
       " ('ult_fec_cli_1t', 'Last_date_as_primary_customer'),\n",
       " ('indrel_1mes', 'Customer_type_beginning_of_month'),\n",
       " ('tiprel_1mes', 'Customer_relation_month_begining'),\n",
       " ('indresi', 'Residence_index'),\n",
       " ('indext', 'Foreigner_index'),\n",
       " ('conyuemp', 'Spouse_index'),\n",
       " ('canal_entrada', 'Joining_channel'),\n",
       " ('indfall', 'Deceased_index'),\n",
       " ('tipodom', 'primary_address'),\n",
       " ('cod_prov', 'Province_code'),\n",
       " ('nomprov', 'Province_name'),\n",
       " ('ind_actividad_cliente', 'Active_OrNot'),\n",
       " ('renta', 'HouseHold_Gross_Income'),\n",
       " ('segmento', 'Segmentation'),\n",
       " ('ind_ahor_fin_ult1', 'Saving_Account'),\n",
       " ('ind_aval_fin_ult1', 'Guarantees'),\n",
       " ('ind_cco_fin_ult1', 'Current_Accounts'),\n",
       " ('ind_cder_fin_ult1', 'Derivada_Account'),\n",
       " ('ind_cno_fin_ult1', 'Payroll_Account'),\n",
       " ('ind_ctju_fin_ult1', 'Junior_Account'),\n",
       " ('ind_ctma_fin_ult1', 'Más_particular_Account'),\n",
       " ('ind_ctop_fin_ult1', 'particular_Account'),\n",
       " ('ind_ctpp_fin_ult1', 'particular_Plus_Account'),\n",
       " ('ind_deco_fin_ult1', 'Short_term_deposits'),\n",
       " ('ind_deme_fin_ult1', 'Medium_term_deposits'),\n",
       " ('ind_dela_fin_ult1', 'Long_term_deposits'),\n",
       " ('ind_ecue_fin_ult1', 'e_account'),\n",
       " ('ind_fond_fin_ult1', 'Funds'),\n",
       " ('ind_hip_fin_ult1', 'Mortgage'),\n",
       " ('ind_plan_fin_ult1', 'Pensions'),\n",
       " ('ind_pres_fin_ult1', 'Loans'),\n",
       " ('ind_reca_fin_ult1', 'Taxes'),\n",
       " ('ind_tjcr_fin_ult1', 'Credit_Card'),\n",
       " ('ind_valo_fin_ult1', 'Securities'),\n",
       " ('ind_viv_fin_ult1', 'Home_Account'),\n",
       " ('ind_nomina_ult1', 'Payroll'),\n",
       " ('ind_nom_pens_ult1', 'Pensions'),\n",
       " ('ind_recibo_ult1', 'Direct_Debit')]"
      ]
     },
     "execution_count": 7,
     "metadata": {},
     "output_type": "execute_result"
    }
   ],
   "source": [
    "list(zip(old_columns,new_columns))"
   ]
  },
  {
   "cell_type": "code",
   "execution_count": 8,
   "metadata": {},
   "outputs": [],
   "source": [
    "#renaming column names to readable column names\n",
    "col_rename_dict = {i:j for i,j in zip(old_columns,new_columns)}\n",
    "df_new.rename(columns=col_rename_dict, inplace=True)"
   ]
  },
  {
   "cell_type": "code",
   "execution_count": 9,
   "metadata": {},
   "outputs": [
    {
     "data": {
      "text/plain": [
       "52996"
      ]
     },
     "execution_count": 9,
     "metadata": {},
     "output_type": "execute_result"
    }
   ],
   "source": [
    "#number of customers\n",
    "\n",
    "len(df_new.Customer_Code.unique())"
   ]
  },
  {
   "cell_type": "code",
   "execution_count": 10,
   "metadata": {},
   "outputs": [
    {
     "data": {
      "text/plain": [
       "(54589, 48)"
      ]
     },
     "execution_count": 10,
     "metadata": {},
     "output_type": "execute_result"
    }
   ],
   "source": [
    "df_new.shape"
   ]
  },
  {
   "cell_type": "code",
   "execution_count": 11,
   "metadata": {},
   "outputs": [],
   "source": [
    "#dropping duplicate values\n",
    "df_new=df_new.drop_duplicates(['Customer_Code'])"
   ]
  },
  {
   "cell_type": "code",
   "execution_count": 12,
   "metadata": {},
   "outputs": [
    {
     "data": {
      "text/plain": [
       "(52996, 48)"
      ]
     },
     "execution_count": 12,
     "metadata": {},
     "output_type": "execute_result"
    }
   ],
   "source": [
    "df_new.shape"
   ]
  },
  {
   "cell_type": "markdown",
   "metadata": {},
   "source": [
    "# Finding null values"
   ]
  },
  {
   "cell_type": "code",
   "execution_count": 13,
   "metadata": {},
   "outputs": [
    {
     "data": {
      "text/plain": [
       "Date                                0.000000\n",
       "Customer_Code                       0.000000\n",
       "Employee_Index                      0.001906\n",
       "Country                             0.001906\n",
       "Gender                              0.001906\n",
       "Age                                 0.000000\n",
       "First_holder_Date                   0.001906\n",
       "New_Customer_Index                  0.001906\n",
       "Customer_Seniority                  0.000000\n",
       "Primary_Customer                    0.001906\n",
       "Last_date_as_primary_customer       0.998245\n",
       "Customer_type_beginning_of_month    0.011152\n",
       "Customer_relation_month_begining    0.011152\n",
       "Residence_index                     0.001906\n",
       "Foreigner_index                     0.001906\n",
       "Spouse_index                        0.999811\n",
       "Joining_channel                     0.014190\n",
       "Deceased_index                      0.001906\n",
       "primary_address                     0.001906\n",
       "Province_code                       0.006736\n",
       "Province_name                       0.006736\n",
       "Active_OrNot                        0.001906\n",
       "HouseHold_Gross_Income              0.206072\n",
       "Segmentation                        0.014341\n",
       "Saving_Account                      0.000000\n",
       "Guarantees                          0.000000\n",
       "Current_Accounts                    0.000000\n",
       "Derivada_Account                    0.000000\n",
       "Payroll_Account                     0.000000\n",
       "Junior_Account                      0.000000\n",
       "Más_particular_Account              0.000000\n",
       "particular_Account                  0.000000\n",
       "particular_Plus_Account             0.000000\n",
       "Short_term_deposits                 0.000000\n",
       "Medium_term_deposits                0.000000\n",
       "Long_term_deposits                  0.000000\n",
       "e_account                           0.000000\n",
       "Funds                               0.000000\n",
       "Mortgage                            0.000000\n",
       "Pensions                            0.000000\n",
       "Loans                               0.000000\n",
       "Taxes                               0.000000\n",
       "Credit_Card                         0.000000\n",
       "Securities                          0.000000\n",
       "Home_Account                        0.000000\n",
       "Payroll                             0.001132\n",
       "Pensions                            0.001132\n",
       "Direct_Debit                        0.000000\n",
       "dtype: float64"
      ]
     },
     "execution_count": 13,
     "metadata": {},
     "output_type": "execute_result"
    }
   ],
   "source": [
    "df_new.isnull().mean()"
   ]
  },
  {
   "cell_type": "markdown",
   "metadata": {},
   "source": [
    "Lets drop the columns with 99% missing values such as 'Last_date_as_primary_customer' and 'Spouse_index'"
   ]
  },
  {
   "cell_type": "code",
   "execution_count": 14,
   "metadata": {},
   "outputs": [],
   "source": [
    "df_new = df_new.loc[:, df_new.isnull().mean() < .8]"
   ]
  },
  {
   "cell_type": "code",
   "execution_count": 15,
   "metadata": {},
   "outputs": [
    {
     "data": {
      "text/html": [
       "<div>\n",
       "<style scoped>\n",
       "    .dataframe tbody tr th:only-of-type {\n",
       "        vertical-align: middle;\n",
       "    }\n",
       "\n",
       "    .dataframe tbody tr th {\n",
       "        vertical-align: top;\n",
       "    }\n",
       "\n",
       "    .dataframe thead th {\n",
       "        text-align: right;\n",
       "    }\n",
       "</style>\n",
       "<table border=\"1\" class=\"dataframe\">\n",
       "  <thead>\n",
       "    <tr style=\"text-align: right;\">\n",
       "      <th></th>\n",
       "      <th>Date</th>\n",
       "      <th>Customer_Code</th>\n",
       "      <th>Employee_Index</th>\n",
       "      <th>Country</th>\n",
       "      <th>Gender</th>\n",
       "      <th>Age</th>\n",
       "      <th>First_holder_Date</th>\n",
       "      <th>New_Customer_Index</th>\n",
       "      <th>Customer_Seniority</th>\n",
       "      <th>Primary_Customer</th>\n",
       "      <th>...</th>\n",
       "      <th>Mortgage</th>\n",
       "      <th>Pensions</th>\n",
       "      <th>Loans</th>\n",
       "      <th>Taxes</th>\n",
       "      <th>Credit_Card</th>\n",
       "      <th>Securities</th>\n",
       "      <th>Home_Account</th>\n",
       "      <th>Payroll</th>\n",
       "      <th>Pensions</th>\n",
       "      <th>Direct_Debit</th>\n",
       "    </tr>\n",
       "  </thead>\n",
       "  <tbody>\n",
       "    <tr>\n",
       "      <th>2406613</th>\n",
       "      <td>2015-04-28</td>\n",
       "      <td>886976</td>\n",
       "      <td>N</td>\n",
       "      <td>ES</td>\n",
       "      <td>H</td>\n",
       "      <td>49</td>\n",
       "      <td>2010-07-27</td>\n",
       "      <td>0.0</td>\n",
       "      <td>60</td>\n",
       "      <td>1.0</td>\n",
       "      <td>...</td>\n",
       "      <td>0</td>\n",
       "      <td>0</td>\n",
       "      <td>0</td>\n",
       "      <td>0</td>\n",
       "      <td>1</td>\n",
       "      <td>0</td>\n",
       "      <td>0</td>\n",
       "      <td>0.0</td>\n",
       "      <td>0.0</td>\n",
       "      <td>0</td>\n",
       "    </tr>\n",
       "    <tr>\n",
       "      <th>6466267</th>\n",
       "      <td>2015-10-28</td>\n",
       "      <td>950206</td>\n",
       "      <td>N</td>\n",
       "      <td>ES</td>\n",
       "      <td>H</td>\n",
       "      <td>24</td>\n",
       "      <td>2011-09-28</td>\n",
       "      <td>0.0</td>\n",
       "      <td>49</td>\n",
       "      <td>1.0</td>\n",
       "      <td>...</td>\n",
       "      <td>0</td>\n",
       "      <td>0</td>\n",
       "      <td>0</td>\n",
       "      <td>0</td>\n",
       "      <td>0</td>\n",
       "      <td>0</td>\n",
       "      <td>0</td>\n",
       "      <td>0.0</td>\n",
       "      <td>0.0</td>\n",
       "      <td>0</td>\n",
       "    </tr>\n",
       "    <tr>\n",
       "      <th>10239289</th>\n",
       "      <td>2016-02-28</td>\n",
       "      <td>474137</td>\n",
       "      <td>N</td>\n",
       "      <td>ES</td>\n",
       "      <td>V</td>\n",
       "      <td>58</td>\n",
       "      <td>2004-05-14</td>\n",
       "      <td>0.0</td>\n",
       "      <td>141</td>\n",
       "      <td>1.0</td>\n",
       "      <td>...</td>\n",
       "      <td>0</td>\n",
       "      <td>0</td>\n",
       "      <td>0</td>\n",
       "      <td>0</td>\n",
       "      <td>0</td>\n",
       "      <td>0</td>\n",
       "      <td>0</td>\n",
       "      <td>0.0</td>\n",
       "      <td>0.0</td>\n",
       "      <td>0</td>\n",
       "    </tr>\n",
       "    <tr>\n",
       "      <th>6681075</th>\n",
       "      <td>2015-10-28</td>\n",
       "      <td>1236387</td>\n",
       "      <td>N</td>\n",
       "      <td>ES</td>\n",
       "      <td>V</td>\n",
       "      <td>34</td>\n",
       "      <td>2014-01-07</td>\n",
       "      <td>0.0</td>\n",
       "      <td>21</td>\n",
       "      <td>1.0</td>\n",
       "      <td>...</td>\n",
       "      <td>0</td>\n",
       "      <td>0</td>\n",
       "      <td>0</td>\n",
       "      <td>0</td>\n",
       "      <td>0</td>\n",
       "      <td>0</td>\n",
       "      <td>0</td>\n",
       "      <td>0.0</td>\n",
       "      <td>0.0</td>\n",
       "      <td>0</td>\n",
       "    </tr>\n",
       "    <tr>\n",
       "      <th>2305701</th>\n",
       "      <td>2015-04-28</td>\n",
       "      <td>1359789</td>\n",
       "      <td>N</td>\n",
       "      <td>ES</td>\n",
       "      <td>H</td>\n",
       "      <td>22</td>\n",
       "      <td>2014-11-24</td>\n",
       "      <td>0.0</td>\n",
       "      <td>8</td>\n",
       "      <td>1.0</td>\n",
       "      <td>...</td>\n",
       "      <td>0</td>\n",
       "      <td>0</td>\n",
       "      <td>0</td>\n",
       "      <td>0</td>\n",
       "      <td>0</td>\n",
       "      <td>0</td>\n",
       "      <td>0</td>\n",
       "      <td>0.0</td>\n",
       "      <td>0.0</td>\n",
       "      <td>0</td>\n",
       "    </tr>\n",
       "  </tbody>\n",
       "</table>\n",
       "<p>5 rows × 46 columns</p>\n",
       "</div>"
      ],
      "text/plain": [
       "                Date  Customer_Code Employee_Index Country Gender  Age  \\\n",
       "2406613   2015-04-28         886976              N      ES      H   49   \n",
       "6466267   2015-10-28         950206              N      ES      H   24   \n",
       "10239289  2016-02-28         474137              N      ES      V   58   \n",
       "6681075   2015-10-28        1236387              N      ES      V   34   \n",
       "2305701   2015-04-28        1359789              N      ES      H   22   \n",
       "\n",
       "         First_holder_Date  New_Customer_Index Customer_Seniority  \\\n",
       "2406613         2010-07-27                 0.0                 60   \n",
       "6466267         2011-09-28                 0.0                 49   \n",
       "10239289        2004-05-14                 0.0                141   \n",
       "6681075         2014-01-07                 0.0                 21   \n",
       "2305701         2014-11-24                 0.0                  8   \n",
       "\n",
       "          Primary_Customer      ...      Mortgage Pensions Loans Taxes  \\\n",
       "2406613                1.0      ...             0        0     0     0   \n",
       "6466267                1.0      ...             0        0     0     0   \n",
       "10239289               1.0      ...             0        0     0     0   \n",
       "6681075                1.0      ...             0        0     0     0   \n",
       "2305701                1.0      ...             0        0     0     0   \n",
       "\n",
       "         Credit_Card Securities  Home_Account  Payroll Pensions  Direct_Debit  \n",
       "2406613            1          0             0      0.0      0.0             0  \n",
       "6466267            0          0             0      0.0      0.0             0  \n",
       "10239289           0          0             0      0.0      0.0             0  \n",
       "6681075            0          0             0      0.0      0.0             0  \n",
       "2305701            0          0             0      0.0      0.0             0  \n",
       "\n",
       "[5 rows x 46 columns]"
      ]
     },
     "execution_count": 15,
     "metadata": {},
     "output_type": "execute_result"
    }
   ],
   "source": [
    "df_new.head()"
   ]
  },
  {
   "cell_type": "code",
   "execution_count": 16,
   "metadata": {},
   "outputs": [],
   "source": [
    "#df.columns"
   ]
  },
  {
   "cell_type": "code",
   "execution_count": 17,
   "metadata": {},
   "outputs": [
    {
     "data": {
      "text/plain": [
       "(52996, 46)"
      ]
     },
     "execution_count": 17,
     "metadata": {},
     "output_type": "execute_result"
    }
   ],
   "source": [
    "df_new.shape"
   ]
  },
  {
   "cell_type": "code",
   "execution_count": 18,
   "metadata": {},
   "outputs": [],
   "source": [
    "#df_customer=(fraction_of_rows.ix[:, 0:24]) \n",
    "#df_product=(fraction_of_rows.ix[:, 24:48]) \n",
    "\n",
    "\n"
   ]
  },
  {
   "cell_type": "code",
   "execution_count": 19,
   "metadata": {},
   "outputs": [
    {
     "data": {
      "text/plain": [
       "Date                                0.000000\n",
       "Customer_Code                       0.000000\n",
       "Employee_Index                      0.001906\n",
       "Country                             0.001906\n",
       "Gender                              0.001906\n",
       "Age                                 0.000000\n",
       "First_holder_Date                   0.001906\n",
       "New_Customer_Index                  0.001906\n",
       "Customer_Seniority                  0.000000\n",
       "Primary_Customer                    0.001906\n",
       "Customer_type_beginning_of_month    0.011152\n",
       "Customer_relation_month_begining    0.011152\n",
       "Residence_index                     0.001906\n",
       "Foreigner_index                     0.001906\n",
       "Joining_channel                     0.014190\n",
       "Deceased_index                      0.001906\n",
       "primary_address                     0.001906\n",
       "Province_code                       0.006736\n",
       "Province_name                       0.006736\n",
       "Active_OrNot                        0.001906\n",
       "HouseHold_Gross_Income              0.206072\n",
       "Segmentation                        0.014341\n",
       "Saving_Account                      0.000000\n",
       "Guarantees                          0.000000\n",
       "Current_Accounts                    0.000000\n",
       "Derivada_Account                    0.000000\n",
       "Payroll_Account                     0.000000\n",
       "Junior_Account                      0.000000\n",
       "Más_particular_Account              0.000000\n",
       "particular_Account                  0.000000\n",
       "particular_Plus_Account             0.000000\n",
       "Short_term_deposits                 0.000000\n",
       "Medium_term_deposits                0.000000\n",
       "Long_term_deposits                  0.000000\n",
       "e_account                           0.000000\n",
       "Funds                               0.000000\n",
       "Mortgage                            0.000000\n",
       "Pensions                            0.000000\n",
       "Loans                               0.000000\n",
       "Taxes                               0.000000\n",
       "Credit_Card                         0.000000\n",
       "Securities                          0.000000\n",
       "Home_Account                        0.000000\n",
       "Payroll                             0.001132\n",
       "Pensions                            0.001132\n",
       "Direct_Debit                        0.000000\n",
       "dtype: float64"
      ]
     },
     "execution_count": 19,
     "metadata": {},
     "output_type": "execute_result"
    }
   ],
   "source": [
    "df_new.isnull().mean()"
   ]
  },
  {
   "cell_type": "code",
   "execution_count": 20,
   "metadata": {},
   "outputs": [],
   "source": [
    "#Converting to date time"
   ]
  },
  {
   "cell_type": "code",
   "execution_count": 21,
   "metadata": {},
   "outputs": [],
   "source": [
    "df_new['Date'] =  pd.to_datetime(df_new['Date'], format='%Y/%m/%d')\n",
    "\n",
    "df_new['First_holder_Date'] =  pd.to_datetime(df_new['First_holder_Date'], format='%Y/%m/%d')\n",
    "\n"
   ]
  },
  {
   "cell_type": "code",
   "execution_count": 22,
   "metadata": {},
   "outputs": [],
   "source": [
    "#Datewise Transactions"
   ]
  },
  {
   "cell_type": "code",
   "execution_count": 23,
   "metadata": {},
   "outputs": [
    {
     "data": {
      "text/plain": [
       "2016-05-28    3715\n",
       "2016-04-28    3638\n",
       "2016-02-28    3606\n",
       "2016-03-28    3590\n",
       "2015-11-28    3582\n",
       "2015-12-28    3525\n",
       "2016-01-28    3519\n",
       "2015-10-28    3487\n",
       "2015-09-28    3380\n",
       "2015-08-28    3264\n",
       "2015-07-28    3151\n",
       "2015-06-28    2453\n",
       "2015-01-28    2447\n",
       "2015-05-28    2441\n",
       "2015-02-28    2431\n",
       "2015-04-28    2387\n",
       "2015-03-28    2380\n",
       "Name: Date, dtype: int64"
      ]
     },
     "execution_count": 23,
     "metadata": {},
     "output_type": "execute_result"
    }
   ],
   "source": [
    "\n",
    "df_new['Date'].value_counts()\n"
   ]
  },
  {
   "cell_type": "code",
   "execution_count": 24,
   "metadata": {},
   "outputs": [
    {
     "data": {
      "text/plain": [
       "<matplotlib.axes._subplots.AxesSubplot at 0x10baa4e80>"
      ]
     },
     "execution_count": 24,
     "metadata": {},
     "output_type": "execute_result"
    },
    {
     "data": {
      "image/png": "[encoded data removed]",
      "text/plain": [
       "<Figure size 432x288 with 1 Axes>"
      ]
     },
     "metadata": {
      "needs_background": "light"
     },
     "output_type": "display_data"
    }
   ],
   "source": [
    "df_new.groupby('Date')['Customer_Code'].count().plot(kind='line')\n"
   ]
  },
  {
   "cell_type": "markdown",
   "metadata": {},
   "source": [
    "# Based on above figure we can see the increase in number of accounts over the period from 2015 to 2016."
   ]
  },
  {
   "cell_type": "code",
   "execution_count": 25,
   "metadata": {},
   "outputs": [
    {
     "data": {
      "text/plain": [
       "52996"
      ]
     },
     "execution_count": 25,
     "metadata": {},
     "output_type": "execute_result"
    }
   ],
   "source": [
    "df_new['Customer_Code'].count()\n"
   ]
  },
  {
   "cell_type": "markdown",
   "metadata": {},
   "source": [
    "Finding Patterns in Age of Customers"
   ]
  },
  {
   "cell_type": "code",
   "execution_count": 26,
   "metadata": {},
   "outputs": [],
   "source": [
    "#converting age to numeric values\n",
    "df_new[\"Age\"]   = pd.to_numeric(df_new[\"Age\"], errors=\"coerce\")"
   ]
  },
  {
   "cell_type": "code",
   "execution_count": 27,
   "metadata": {},
   "outputs": [
    {
     "data": {
      "image/png": "[encoded data removed]",
      "text/plain": [
       "<Figure size 432x288 with 1 Axes>"
      ]
     },
     "metadata": {},
     "output_type": "display_data"
    }
   ],
   "source": [
    "with sns.plotting_context(\"notebook\",font_scale=1.5):\n",
    "    \n",
    "    sns.set_style(\"whitegrid\")\n",
    "    sns.distplot(df_new[\"Age\"].dropna(),\n",
    "                 bins=80,\n",
    "                 kde=False)\n",
    "    plt.title(\"Age Distribution\")\n",
    "    plt.ylabel(\"Count\")\n",
    "    plt.xlim((15,100))"
   ]
  },
  {
   "cell_type": "markdown",
   "metadata": {},
   "source": [
    "Based on above graph we can see the patterns in 0-30,30-60 and 60-90 range.\n",
    "We can normize as below:"
   ]
  },
  {
   "cell_type": "code",
   "execution_count": 28,
   "metadata": {},
   "outputs": [],
   "source": [
    "\n",
    "\n",
    "df_new.loc[df_new.Age < 18,\"Age\"]  = df_new.loc[(df_new.Age >= 18) & (df_new.Age <= 30),\"Age\"].mean(skipna=True)\n",
    "df_new.loc[df_new.Age > 100,\"Age\"] = df_new.loc[(df_new.Age >= 30) & (df_new.Age <= 100),\"Age\"].mean(skipna=True)\n",
    "#df.loc[df.Age > 100,\"Age\"] = df.loc[(df.Age >= 60) & (df.Age <= 100),\"Age\"].mean(skipna=True)\n",
    "\n",
    "\n",
    "df_new[\"Age\"].fillna(df_new[\"Age\"].mean(),inplace=True)\n",
    "#df[\"Age\"] = df[\"Age\"].astype(int)"
   ]
  },
  {
   "cell_type": "code",
   "execution_count": 29,
   "metadata": {},
   "outputs": [
    {
     "data": {
      "text/plain": [
       "<matplotlib.axes._subplots.AxesSubplot at 0x1a20a421d0>"
      ]
     },
     "execution_count": 29,
     "metadata": {},
     "output_type": "execute_result"
    },
    {
     "data": {
      "image/png": "[encoded data removed]",
      "text/plain": [
       "<Figure size 432x288 with 1 Axes>"
      ]
     },
     "metadata": {},
     "output_type": "display_data"
    }
   ],
   "source": [
    "sns.distplot(df_new[\"Age\"].dropna(),\n",
    "                 bins=80,\n",
    "                 kde=False)"
   ]
  },
  {
   "cell_type": "code",
   "execution_count": null,
   "metadata": {},
   "outputs": [],
   "source": []
  },
  {
   "cell_type": "code",
   "execution_count": 30,
   "metadata": {},
   "outputs": [
    {
     "data": {
      "text/plain": [
       "KHE    15627\n",
       "KAT    12617\n",
       "KFC    12186\n",
       "KHQ     2374\n",
       "KFA     1546\n",
       "KHK      945\n",
       "KHM      764\n",
       "KHD      442\n",
       "KHN      437\n",
       "KAS      353\n",
       "KAG      292\n",
       "RED      280\n",
       "KAA      272\n",
       "KAY      266\n",
       "KAB      254\n",
       "Name: Joining_channel, dtype: int64"
      ]
     },
     "execution_count": 30,
     "metadata": {},
     "output_type": "execute_result"
    }
   ],
   "source": [
    "df_new['Joining_channel'].value_counts().head(15)\n",
    "\n"
   ]
  },
  {
   "cell_type": "code",
   "execution_count": 31,
   "metadata": {},
   "outputs": [
    {
     "data": {
      "text/plain": [
       "<matplotlib.axes._subplots.AxesSubplot at 0x1a2211b048>"
      ]
     },
     "execution_count": 31,
     "metadata": {},
     "output_type": "execute_result"
    },
    {
     "data": {
      "image/png": "[encoded data removed]",
      "text/plain": [
       "<Figure size 432x288 with 1 Axes>"
      ]
     },
     "metadata": {},
     "output_type": "display_data"
    }
   ],
   "source": [
    "df_new[\"Joining_channel\"].value_counts().plot(x=None, y=None, kind='pie') \n",
    "\n"
   ]
  },
  {
   "cell_type": "code",
   "execution_count": 32,
   "metadata": {},
   "outputs": [],
   "source": [
    "df_a = df_new.loc[:, ['Gender', 'Active_OrNot']].join(df_new.loc[:, \"Saving_Account\": \"Direct_Debit\"])\n"
   ]
  },
  {
   "cell_type": "code",
   "execution_count": 33,
   "metadata": {},
   "outputs": [
    {
     "data": {
      "text/html": [
       "<div>\n",
       "<style scoped>\n",
       "    .dataframe tbody tr th:only-of-type {\n",
       "        vertical-align: middle;\n",
       "    }\n",
       "\n",
       "    .dataframe tbody tr th {\n",
       "        vertical-align: top;\n",
       "    }\n",
       "\n",
       "    .dataframe thead th {\n",
       "        text-align: right;\n",
       "    }\n",
       "</style>\n",
       "<table border=\"1\" class=\"dataframe\">\n",
       "  <thead>\n",
       "    <tr style=\"text-align: right;\">\n",
       "      <th></th>\n",
       "      <th>Gender</th>\n",
       "      <th>Active_OrNot</th>\n",
       "      <th>Saving_Account</th>\n",
       "      <th>Guarantees</th>\n",
       "      <th>Current_Accounts</th>\n",
       "      <th>Derivada_Account</th>\n",
       "      <th>Payroll_Account</th>\n",
       "      <th>Junior_Account</th>\n",
       "      <th>Más_particular_Account</th>\n",
       "      <th>particular_Account</th>\n",
       "      <th>...</th>\n",
       "      <th>Mortgage</th>\n",
       "      <th>Pensions</th>\n",
       "      <th>Loans</th>\n",
       "      <th>Taxes</th>\n",
       "      <th>Credit_Card</th>\n",
       "      <th>Securities</th>\n",
       "      <th>Home_Account</th>\n",
       "      <th>Payroll</th>\n",
       "      <th>Pensions</th>\n",
       "      <th>Direct_Debit</th>\n",
       "    </tr>\n",
       "  </thead>\n",
       "  <tbody>\n",
       "    <tr>\n",
       "      <th>2406613</th>\n",
       "      <td>H</td>\n",
       "      <td>1.0</td>\n",
       "      <td>0</td>\n",
       "      <td>0</td>\n",
       "      <td>0</td>\n",
       "      <td>0</td>\n",
       "      <td>1</td>\n",
       "      <td>0</td>\n",
       "      <td>1</td>\n",
       "      <td>0</td>\n",
       "      <td>...</td>\n",
       "      <td>0</td>\n",
       "      <td>0</td>\n",
       "      <td>0</td>\n",
       "      <td>0</td>\n",
       "      <td>1</td>\n",
       "      <td>0</td>\n",
       "      <td>0</td>\n",
       "      <td>0.0</td>\n",
       "      <td>0.0</td>\n",
       "      <td>0</td>\n",
       "    </tr>\n",
       "    <tr>\n",
       "      <th>6466267</th>\n",
       "      <td>H</td>\n",
       "      <td>0.0</td>\n",
       "      <td>0</td>\n",
       "      <td>0</td>\n",
       "      <td>1</td>\n",
       "      <td>0</td>\n",
       "      <td>0</td>\n",
       "      <td>0</td>\n",
       "      <td>0</td>\n",
       "      <td>0</td>\n",
       "      <td>...</td>\n",
       "      <td>0</td>\n",
       "      <td>0</td>\n",
       "      <td>0</td>\n",
       "      <td>0</td>\n",
       "      <td>0</td>\n",
       "      <td>0</td>\n",
       "      <td>0</td>\n",
       "      <td>0.0</td>\n",
       "      <td>0.0</td>\n",
       "      <td>0</td>\n",
       "    </tr>\n",
       "    <tr>\n",
       "      <th>10239289</th>\n",
       "      <td>V</td>\n",
       "      <td>0.0</td>\n",
       "      <td>0</td>\n",
       "      <td>0</td>\n",
       "      <td>0</td>\n",
       "      <td>0</td>\n",
       "      <td>0</td>\n",
       "      <td>0</td>\n",
       "      <td>0</td>\n",
       "      <td>0</td>\n",
       "      <td>...</td>\n",
       "      <td>0</td>\n",
       "      <td>0</td>\n",
       "      <td>0</td>\n",
       "      <td>0</td>\n",
       "      <td>0</td>\n",
       "      <td>0</td>\n",
       "      <td>0</td>\n",
       "      <td>0.0</td>\n",
       "      <td>0.0</td>\n",
       "      <td>0</td>\n",
       "    </tr>\n",
       "    <tr>\n",
       "      <th>6681075</th>\n",
       "      <td>V</td>\n",
       "      <td>0.0</td>\n",
       "      <td>0</td>\n",
       "      <td>0</td>\n",
       "      <td>1</td>\n",
       "      <td>0</td>\n",
       "      <td>0</td>\n",
       "      <td>0</td>\n",
       "      <td>0</td>\n",
       "      <td>0</td>\n",
       "      <td>...</td>\n",
       "      <td>0</td>\n",
       "      <td>0</td>\n",
       "      <td>0</td>\n",
       "      <td>0</td>\n",
       "      <td>0</td>\n",
       "      <td>0</td>\n",
       "      <td>0</td>\n",
       "      <td>0.0</td>\n",
       "      <td>0.0</td>\n",
       "      <td>0</td>\n",
       "    </tr>\n",
       "    <tr>\n",
       "      <th>2305701</th>\n",
       "      <td>H</td>\n",
       "      <td>0.0</td>\n",
       "      <td>0</td>\n",
       "      <td>0</td>\n",
       "      <td>1</td>\n",
       "      <td>0</td>\n",
       "      <td>0</td>\n",
       "      <td>0</td>\n",
       "      <td>0</td>\n",
       "      <td>0</td>\n",
       "      <td>...</td>\n",
       "      <td>0</td>\n",
       "      <td>0</td>\n",
       "      <td>0</td>\n",
       "      <td>0</td>\n",
       "      <td>0</td>\n",
       "      <td>0</td>\n",
       "      <td>0</td>\n",
       "      <td>0.0</td>\n",
       "      <td>0.0</td>\n",
       "      <td>0</td>\n",
       "    </tr>\n",
       "  </tbody>\n",
       "</table>\n",
       "<p>5 rows × 26 columns</p>\n",
       "</div>"
      ],
      "text/plain": [
       "         Gender  Active_OrNot  Saving_Account  Guarantees  Current_Accounts  \\\n",
       "2406613       H           1.0               0           0                 0   \n",
       "6466267       H           0.0               0           0                 1   \n",
       "10239289      V           0.0               0           0                 0   \n",
       "6681075       V           0.0               0           0                 1   \n",
       "2305701       H           0.0               0           0                 1   \n",
       "\n",
       "          Derivada_Account  Payroll_Account  Junior_Account  \\\n",
       "2406613                  0                1               0   \n",
       "6466267                  0                0               0   \n",
       "10239289                 0                0               0   \n",
       "6681075                  0                0               0   \n",
       "2305701                  0                0               0   \n",
       "\n",
       "          Más_particular_Account  particular_Account      ...       Mortgage  \\\n",
       "2406613                        1                   0      ...              0   \n",
       "6466267                        0                   0      ...              0   \n",
       "10239289                       0                   0      ...              0   \n",
       "6681075                        0                   0      ...              0   \n",
       "2305701                        0                   0      ...              0   \n",
       "\n",
       "          Pensions  Loans  Taxes  Credit_Card  Securities  Home_Account  \\\n",
       "2406613          0      0      0            1           0             0   \n",
       "6466267          0      0      0            0           0             0   \n",
       "10239289         0      0      0            0           0             0   \n",
       "6681075          0      0      0            0           0             0   \n",
       "2305701          0      0      0            0           0             0   \n",
       "\n",
       "          Payroll  Pensions  Direct_Debit  \n",
       "2406613       0.0       0.0             0  \n",
       "6466267       0.0       0.0             0  \n",
       "10239289      0.0       0.0             0  \n",
       "6681075       0.0       0.0             0  \n",
       "2305701       0.0       0.0             0  \n",
       "\n",
       "[5 rows x 26 columns]"
      ]
     },
     "execution_count": 33,
     "metadata": {},
     "output_type": "execute_result"
    }
   ],
   "source": [
    "df_a.head()"
   ]
  },
  {
   "cell_type": "code",
   "execution_count": 34,
   "metadata": {},
   "outputs": [],
   "source": [
    "df_a = df_a.groupby(['Gender', 'Active_OrNot']).sum()\n",
    "df_a = df_a.T"
   ]
  },
  {
   "cell_type": "code",
   "execution_count": 35,
   "metadata": {},
   "outputs": [
    {
     "data": {
      "text/html": [
       "<div>\n",
       "<style scoped>\n",
       "    .dataframe tbody tr th:only-of-type {\n",
       "        vertical-align: middle;\n",
       "    }\n",
       "\n",
       "    .dataframe tbody tr th {\n",
       "        vertical-align: top;\n",
       "    }\n",
       "\n",
       "    .dataframe thead tr th {\n",
       "        text-align: left;\n",
       "    }\n",
       "</style>\n",
       "<table border=\"1\" class=\"dataframe\">\n",
       "  <thead>\n",
       "    <tr>\n",
       "      <th>Gender</th>\n",
       "      <th colspan=\"2\" halign=\"left\">H</th>\n",
       "      <th colspan=\"2\" halign=\"left\">V</th>\n",
       "    </tr>\n",
       "    <tr>\n",
       "      <th>Active_OrNot</th>\n",
       "      <th>0.0</th>\n",
       "      <th>1.0</th>\n",
       "      <th>0.0</th>\n",
       "      <th>1.0</th>\n",
       "    </tr>\n",
       "  </thead>\n",
       "  <tbody>\n",
       "    <tr>\n",
       "      <th>Saving_Account</th>\n",
       "      <td>1.0</td>\n",
       "      <td>2.0</td>\n",
       "      <td>0.0</td>\n",
       "      <td>3.0</td>\n",
       "    </tr>\n",
       "    <tr>\n",
       "      <th>Guarantees</th>\n",
       "      <td>0.0</td>\n",
       "      <td>1.0</td>\n",
       "      <td>0.0</td>\n",
       "      <td>0.0</td>\n",
       "    </tr>\n",
       "    <tr>\n",
       "      <th>Current_Accounts</th>\n",
       "      <td>8620.0</td>\n",
       "      <td>7532.0</td>\n",
       "      <td>8142.0</td>\n",
       "      <td>10309.0</td>\n",
       "    </tr>\n",
       "    <tr>\n",
       "      <th>Derivada_Account</th>\n",
       "      <td>0.0</td>\n",
       "      <td>2.0</td>\n",
       "      <td>1.0</td>\n",
       "      <td>18.0</td>\n",
       "    </tr>\n",
       "    <tr>\n",
       "      <th>Payroll_Account</th>\n",
       "      <td>20.0</td>\n",
       "      <td>1703.0</td>\n",
       "      <td>27.0</td>\n",
       "      <td>2508.0</td>\n",
       "    </tr>\n",
       "    <tr>\n",
       "      <th>Junior_Account</th>\n",
       "      <td>28.0</td>\n",
       "      <td>179.0</td>\n",
       "      <td>50.0</td>\n",
       "      <td>195.0</td>\n",
       "    </tr>\n",
       "    <tr>\n",
       "      <th>Más_particular_Account</th>\n",
       "      <td>40.0</td>\n",
       "      <td>169.0</td>\n",
       "      <td>71.0</td>\n",
       "      <td>240.0</td>\n",
       "    </tr>\n",
       "    <tr>\n",
       "      <th>particular_Account</th>\n",
       "      <td>793.0</td>\n",
       "      <td>1687.0</td>\n",
       "      <td>1398.0</td>\n",
       "      <td>2953.0</td>\n",
       "    </tr>\n",
       "    <tr>\n",
       "      <th>particular_Plus_Account</th>\n",
       "      <td>134.0</td>\n",
       "      <td>750.0</td>\n",
       "      <td>276.0</td>\n",
       "      <td>1118.0</td>\n",
       "    </tr>\n",
       "    <tr>\n",
       "      <th>Short_term_deposits</th>\n",
       "      <td>7.0</td>\n",
       "      <td>34.0</td>\n",
       "      <td>5.0</td>\n",
       "      <td>61.0</td>\n",
       "    </tr>\n",
       "    <tr>\n",
       "      <th>Medium_term_deposits</th>\n",
       "      <td>0.0</td>\n",
       "      <td>32.0</td>\n",
       "      <td>1.0</td>\n",
       "      <td>39.0</td>\n",
       "    </tr>\n",
       "    <tr>\n",
       "      <th>Long_term_deposits</th>\n",
       "      <td>1.0</td>\n",
       "      <td>931.0</td>\n",
       "      <td>8.0</td>\n",
       "      <td>1345.0</td>\n",
       "    </tr>\n",
       "    <tr>\n",
       "      <th>e_account</th>\n",
       "      <td>102.0</td>\n",
       "      <td>1558.0</td>\n",
       "      <td>195.0</td>\n",
       "      <td>2483.0</td>\n",
       "    </tr>\n",
       "    <tr>\n",
       "      <th>Funds</th>\n",
       "      <td>4.0</td>\n",
       "      <td>309.0</td>\n",
       "      <td>3.0</td>\n",
       "      <td>650.0</td>\n",
       "    </tr>\n",
       "    <tr>\n",
       "      <th>Mortgage</th>\n",
       "      <td>0.0</td>\n",
       "      <td>81.0</td>\n",
       "      <td>0.0</td>\n",
       "      <td>197.0</td>\n",
       "    </tr>\n",
       "    <tr>\n",
       "      <th>Pensions</th>\n",
       "      <td>0.0</td>\n",
       "      <td>174.0</td>\n",
       "      <td>4.0</td>\n",
       "      <td>261.0</td>\n",
       "    </tr>\n",
       "    <tr>\n",
       "      <th>Loans</th>\n",
       "      <td>7.0</td>\n",
       "      <td>30.0</td>\n",
       "      <td>26.0</td>\n",
       "      <td>60.0</td>\n",
       "    </tr>\n",
       "    <tr>\n",
       "      <th>Taxes</th>\n",
       "      <td>54.0</td>\n",
       "      <td>871.0</td>\n",
       "      <td>129.0</td>\n",
       "      <td>1675.0</td>\n",
       "    </tr>\n",
       "    <tr>\n",
       "      <th>Credit_Card</th>\n",
       "      <td>2.0</td>\n",
       "      <td>854.0</td>\n",
       "      <td>14.0</td>\n",
       "      <td>1565.0</td>\n",
       "    </tr>\n",
       "    <tr>\n",
       "      <th>Securities</th>\n",
       "      <td>6.0</td>\n",
       "      <td>417.0</td>\n",
       "      <td>7.0</td>\n",
       "      <td>938.0</td>\n",
       "    </tr>\n",
       "    <tr>\n",
       "      <th>Home_Account</th>\n",
       "      <td>15.0</td>\n",
       "      <td>58.0</td>\n",
       "      <td>23.0</td>\n",
       "      <td>109.0</td>\n",
       "    </tr>\n",
       "    <tr>\n",
       "      <th>Payroll</th>\n",
       "      <td>1.0</td>\n",
       "      <td>1195.0</td>\n",
       "      <td>4.0</td>\n",
       "      <td>1717.0</td>\n",
       "    </tr>\n",
       "    <tr>\n",
       "      <th>Pensions</th>\n",
       "      <td>1.0</td>\n",
       "      <td>1273.0</td>\n",
       "      <td>6.0</td>\n",
       "      <td>1849.0</td>\n",
       "    </tr>\n",
       "    <tr>\n",
       "      <th>Direct_Debit</th>\n",
       "      <td>18.0</td>\n",
       "      <td>2578.0</td>\n",
       "      <td>33.0</td>\n",
       "      <td>4109.0</td>\n",
       "    </tr>\n",
       "  </tbody>\n",
       "</table>\n",
       "</div>"
      ],
      "text/plain": [
       "Gender                        H               V         \n",
       "Active_OrNot                0.0     1.0     0.0      1.0\n",
       "Saving_Account              1.0     2.0     0.0      3.0\n",
       "Guarantees                  0.0     1.0     0.0      0.0\n",
       "Current_Accounts         8620.0  7532.0  8142.0  10309.0\n",
       "Derivada_Account            0.0     2.0     1.0     18.0\n",
       "Payroll_Account            20.0  1703.0    27.0   2508.0\n",
       "Junior_Account             28.0   179.0    50.0    195.0\n",
       "Más_particular_Account     40.0   169.0    71.0    240.0\n",
       "particular_Account        793.0  1687.0  1398.0   2953.0\n",
       "particular_Plus_Account   134.0   750.0   276.0   1118.0\n",
       "Short_term_deposits         7.0    34.0     5.0     61.0\n",
       "Medium_term_deposits        0.0    32.0     1.0     39.0\n",
       "Long_term_deposits          1.0   931.0     8.0   1345.0\n",
       "e_account                 102.0  1558.0   195.0   2483.0\n",
       "Funds                       4.0   309.0     3.0    650.0\n",
       "Mortgage                    0.0    81.0     0.0    197.0\n",
       "Pensions                    0.0   174.0     4.0    261.0\n",
       "Loans                       7.0    30.0    26.0     60.0\n",
       "Taxes                      54.0   871.0   129.0   1675.0\n",
       "Credit_Card                 2.0   854.0    14.0   1565.0\n",
       "Securities                  6.0   417.0     7.0    938.0\n",
       "Home_Account               15.0    58.0    23.0    109.0\n",
       "Payroll                     1.0  1195.0     4.0   1717.0\n",
       "Pensions                    1.0  1273.0     6.0   1849.0\n",
       "Direct_Debit               18.0  2578.0    33.0   4109.0"
      ]
     },
     "execution_count": 35,
     "metadata": {},
     "output_type": "execute_result"
    }
   ],
   "source": [
    "df_a"
   ]
  },
  {
   "cell_type": "code",
   "execution_count": 36,
   "metadata": {},
   "outputs": [
    {
     "data": {
      "text/plain": [
       "<matplotlib.legend.Legend at 0x1a224b9160>"
      ]
     },
     "execution_count": 36,
     "metadata": {},
     "output_type": "execute_result"
    },
    {
     "data": {
      "image/png": "[encoded data removed]",
      "text/plain": [
       "<Figure size 1152x864 with 1 Axes>"
      ]
     },
     "metadata": {},
     "output_type": "display_data"
    }
   ],
   "source": [
    "df_a.plot(kind='barh', stacked=True, fontsize=14, figsize=[16,12], colormap='gist_ncar')\n",
    "plt.title('Popularity of products by sex and activity index', fontsize=20) \n",
    "plt.xlabel('Number of customers', fontsize=17) \n",
    "plt.ylabel('Products_names', fontsize=17) \n",
    "plt.legend([\"Sex:H; Active:0\", \"Sex:H; Active:1\", \"Sex:V; Active:0\", \n",
    "            \"Sex:V; Active:1\"], prop={'size':15}) "
   ]
  },
  {
   "cell_type": "code",
   "execution_count": 38,
   "metadata": {},
   "outputs": [],
   "source": [
    "subset=(df_new.Joining_channel.value_counts()).nlargest(7)\n"
   ]
  },
  {
   "cell_type": "code",
   "execution_count": 39,
   "metadata": {},
   "outputs": [],
   "source": [
    "df_g = df_new.loc[:, ['Joining_channel']].join(df_new.loc[:, \"Saving_Account\": \"Direct_Debit\"])\n",
    "\n",
    "subset = [\"KHE\", \"KAT\", \"KFC\", \"KFA\", \"KHK\"]\n",
    "df_g = df_g.loc[df_g['Joining_channel'].isin(subset)]\n",
    "df_g = df_g.groupby(\"Joining_channel\").agg(\"sum\")\n",
    "df_g=df_g.T"
   ]
  },
  {
   "cell_type": "code",
   "execution_count": 40,
   "metadata": {},
   "outputs": [
    {
     "data": {
      "text/plain": [
       "<matplotlib.axes._subplots.AxesSubplot at 0x1a20e90828>"
      ]
     },
     "execution_count": 40,
     "metadata": {},
     "output_type": "execute_result"
    },
    {
     "data": {
      "image/png": "[encoded data removed]",
      "text/plain": [
       "<Figure size 1152x864 with 1 Axes>"
      ]
     },
     "metadata": {},
     "output_type": "display_data"
    }
   ],
   "source": [
    "df_g.plot(kind='barh', stacked=True, fontsize=14, figsize=[16,12], colormap='gist_ncar')"
   ]
  },
  {
   "cell_type": "code",
   "execution_count": 42,
   "metadata": {},
   "outputs": [],
   "source": [
    "# Add a new column of the total number of products per customer per month\n",
    "df_new[\"tot_products\"] = df_new.loc[:,\"Saving_Account\": \"Direct_Debit\"].sum(axis=1)\n",
    "df_new[\"tot_products\"]   = pd.to_numeric(df_new[\"tot_products\"], errors=\"coerce\") "
   ]
  },
  {
   "cell_type": "code",
   "execution_count": 43,
   "metadata": {},
   "outputs": [
    {
     "data": {
      "text/plain": [
       "1.0     27826\n",
       "0.0     10046\n",
       "2.0      7447\n",
       "3.0      2932\n",
       "4.0      1776\n",
       "5.0      1118\n",
       "6.0       785\n",
       "7.0       556\n",
       "8.0       296\n",
       "9.0       151\n",
       "10.0       46\n",
       "11.0       11\n",
       "12.0        5\n",
       "13.0        1\n",
       "Name: tot_products, dtype: int64"
      ]
     },
     "execution_count": 43,
     "metadata": {},
     "output_type": "execute_result"
    }
   ],
   "source": [
    "df_new[\"tot_products\"].value_counts()"
   ]
  },
  {
   "cell_type": "code",
   "execution_count": 44,
   "metadata": {},
   "outputs": [
    {
     "data": {
      "text/html": [
       "<div>\n",
       "<style scoped>\n",
       "    .dataframe tbody tr th:only-of-type {\n",
       "        vertical-align: middle;\n",
       "    }\n",
       "\n",
       "    .dataframe tbody tr th {\n",
       "        vertical-align: top;\n",
       "    }\n",
       "\n",
       "    .dataframe thead th {\n",
       "        text-align: right;\n",
       "    }\n",
       "</style>\n",
       "<table border=\"1\" class=\"dataframe\">\n",
       "  <thead>\n",
       "    <tr style=\"text-align: right;\">\n",
       "      <th></th>\n",
       "      <th>tot_products</th>\n",
       "      <th>percentage</th>\n",
       "    </tr>\n",
       "  </thead>\n",
       "  <tbody>\n",
       "    <tr>\n",
       "      <th>1.0</th>\n",
       "      <td>27826</td>\n",
       "      <td>52.505849</td>\n",
       "    </tr>\n",
       "    <tr>\n",
       "      <th>0.0</th>\n",
       "      <td>10046</td>\n",
       "      <td>18.956148</td>\n",
       "    </tr>\n",
       "    <tr>\n",
       "      <th>2.0</th>\n",
       "      <td>7447</td>\n",
       "      <td>14.052004</td>\n",
       "    </tr>\n",
       "    <tr>\n",
       "      <th>3.0</th>\n",
       "      <td>2932</td>\n",
       "      <td>5.532493</td>\n",
       "    </tr>\n",
       "    <tr>\n",
       "      <th>4.0</th>\n",
       "      <td>1776</td>\n",
       "      <td>3.351196</td>\n",
       "    </tr>\n",
       "    <tr>\n",
       "      <th>5.0</th>\n",
       "      <td>1118</td>\n",
       "      <td>2.109593</td>\n",
       "    </tr>\n",
       "    <tr>\n",
       "      <th>6.0</th>\n",
       "      <td>785</td>\n",
       "      <td>1.481244</td>\n",
       "    </tr>\n",
       "    <tr>\n",
       "      <th>7.0</th>\n",
       "      <td>556</td>\n",
       "      <td>1.049136</td>\n",
       "    </tr>\n",
       "    <tr>\n",
       "      <th>8.0</th>\n",
       "      <td>296</td>\n",
       "      <td>0.558533</td>\n",
       "    </tr>\n",
       "    <tr>\n",
       "      <th>9.0</th>\n",
       "      <td>151</td>\n",
       "      <td>0.284927</td>\n",
       "    </tr>\n",
       "    <tr>\n",
       "      <th>10.0</th>\n",
       "      <td>46</td>\n",
       "      <td>0.086799</td>\n",
       "    </tr>\n",
       "    <tr>\n",
       "      <th>11.0</th>\n",
       "      <td>11</td>\n",
       "      <td>0.020756</td>\n",
       "    </tr>\n",
       "    <tr>\n",
       "      <th>12.0</th>\n",
       "      <td>5</td>\n",
       "      <td>0.009435</td>\n",
       "    </tr>\n",
       "    <tr>\n",
       "      <th>13.0</th>\n",
       "      <td>1</td>\n",
       "      <td>0.001887</td>\n",
       "    </tr>\n",
       "  </tbody>\n",
       "</table>\n",
       "</div>"
      ],
      "text/plain": [
       "      tot_products  percentage\n",
       "1.0          27826   52.505849\n",
       "0.0          10046   18.956148\n",
       "2.0           7447   14.052004\n",
       "3.0           2932    5.532493\n",
       "4.0           1776    3.351196\n",
       "5.0           1118    2.109593\n",
       "6.0            785    1.481244\n",
       "7.0            556    1.049136\n",
       "8.0            296    0.558533\n",
       "9.0            151    0.284927\n",
       "10.0            46    0.086799\n",
       "11.0            11    0.020756\n",
       "12.0             5    0.009435\n",
       "13.0             1    0.001887"
      ]
     },
     "execution_count": 44,
     "metadata": {},
     "output_type": "execute_result"
    }
   ],
   "source": [
    "# Extract total number of products \n",
    "df_a = df_new[\"tot_products\"].value_counts()\n",
    "df_a = pd.DataFrame(df_a)\n",
    "\n",
    "# calculate the percentage of customers using different number of products\n",
    "count = df_new[\"Customer_Code\"].count()\n",
    "df_a[\"percentage\"] = (df_a[\"tot_products\"]/count)*100\n",
    "df_a"
   ]
  },
  {
   "cell_type": "code",
   "execution_count": 45,
   "metadata": {},
   "outputs": [
    {
     "data": {
      "text/plain": [
       "<matplotlib.axes._subplots.AxesSubplot at 0x1a20f7a080>"
      ]
     },
     "execution_count": 45,
     "metadata": {},
     "output_type": "execute_result"
    },
    {
     "data": {
      "image/png": "[encoded data removed]",
      "text/plain": [
       "<Figure size 432x288 with 1 Axes>"
      ]
     },
     "metadata": {},
     "output_type": "display_data"
    }
   ],
   "source": [
    "df_new[\"tot_products\"].value_counts().plot(x=None, y=None, kind='pie')"
   ]
  },
  {
   "cell_type": "code",
   "execution_count": 46,
   "metadata": {},
   "outputs": [],
   "source": [
    "df_age = df_new.groupby(['Age'])['tot_products'].agg('sum')\n"
   ]
  },
  {
   "cell_type": "code",
   "execution_count": 47,
   "metadata": {},
   "outputs": [
    {
     "data": {
      "text/plain": [
       "Age\n",
       "18.0      30.0\n",
       "19.0      67.0\n",
       "20.0    1321.0\n",
       "21.0    2260.0\n",
       "22.0    2478.0\n",
       "Name: tot_products, dtype: float64"
      ]
     },
     "execution_count": 47,
     "metadata": {},
     "output_type": "execute_result"
    }
   ],
   "source": [
    "df_age.head()"
   ]
  },
  {
   "cell_type": "code",
   "execution_count": 48,
   "metadata": {},
   "outputs": [
    {
     "data": {
      "text/plain": [
       "Text(0, 0.5, 'Number of products')"
      ]
     },
     "execution_count": 48,
     "metadata": {},
     "output_type": "execute_result"
    },
    {
     "data": {
      "image/png": "[encoded data removed]",
      "text/plain": [
       "<Figure size 432x288 with 1 Axes>"
      ]
     },
     "metadata": {},
     "output_type": "display_data"
    }
   ],
   "source": [
    "# Number of products by age \n",
    "df_age.plot(kind='bar', colormap='autumn', legend=None) \n",
    "plt.xticks(np.arange(0, 120, 10), [str(x) for x in np.arange(0, 120, 10)])\n",
    "plt.title('Number of products by age') \n",
    "plt.xlabel('Age(years)') \n",
    "plt.ylabel('Number of products') "
   ]
  },
  {
   "cell_type": "code",
   "execution_count": 49,
   "metadata": {},
   "outputs": [
    {
     "data": {
      "text/plain": [
       "Segmentation\n",
       "01 - TOP               8601.0\n",
       "02 - PARTICULARES     48937.0\n",
       "03 - UNIVERSITARIO    19216.0\n",
       "Name: tot_products, dtype: float64"
      ]
     },
     "execution_count": 49,
     "metadata": {},
     "output_type": "execute_result"
    }
   ],
   "source": [
    "df_seg = df_new.groupby(['Segmentation'])['tot_products'].agg('sum') \n",
    "df_seg"
   ]
  },
  {
   "cell_type": "code",
   "execution_count": 50,
   "metadata": {},
   "outputs": [],
   "source": [
    "#Customerondex"
   ]
  },
  {
   "cell_type": "code",
   "execution_count": 51,
   "metadata": {},
   "outputs": [
    {
     "data": {
      "text/plain": [
       "New_Customer_Index\n",
       "0.0    49629\n",
       "1.0     3266\n",
       "Name: tot_products, dtype: int64"
      ]
     },
     "execution_count": 51,
     "metadata": {},
     "output_type": "execute_result"
    }
   ],
   "source": [
    "df_cust_index = df_new.groupby(['New_Customer_Index'])['tot_products'].agg('count') \n",
    "df_cust_index"
   ]
  },
  {
   "cell_type": "code",
   "execution_count": 52,
   "metadata": {},
   "outputs": [],
   "source": [
    "#majority cystomers are regular customers"
   ]
  },
  {
   "cell_type": "code",
   "execution_count": 53,
   "metadata": {},
   "outputs": [],
   "source": [
    "df_country = df_new.groupby(['Country'])['tot_products'].agg('sum') "
   ]
  },
  {
   "cell_type": "code",
   "execution_count": 54,
   "metadata": {},
   "outputs": [
    {
     "data": {
      "text/plain": [
       "Country\n",
       "ES    76731.0\n",
       "GB       38.0\n",
       "FR       36.0\n",
       "IT       32.0\n",
       "US       27.0\n",
       "DE       25.0\n",
       "CH       24.0\n",
       "AR       20.0\n",
       "VE       17.0\n",
       "CO       13.0\n",
       "Name: tot_products, dtype: float64"
      ]
     },
     "execution_count": 54,
     "metadata": {},
     "output_type": "execute_result"
    }
   ],
   "source": [
    "df_country.sort_values(ascending=False).head(10)"
   ]
  },
  {
   "cell_type": "code",
   "execution_count": 55,
   "metadata": {},
   "outputs": [],
   "source": [
    "#majority of customers are from ES"
   ]
  },
  {
   "cell_type": "code",
   "execution_count": 58,
   "metadata": {},
   "outputs": [
    {
     "data": {
      "text/plain": [
       "array(['1.0', '1', nan, '3', '3.0', 'P', '2.0', '2'], dtype=object)"
      ]
     },
     "execution_count": 58,
     "metadata": {},
     "output_type": "execute_result"
    }
   ],
   "source": [
    "df_new.Customer_type_beginning_of_month.unique()"
   ]
  },
  {
   "cell_type": "code",
   "execution_count": 59,
   "metadata": {},
   "outputs": [],
   "source": [
    "df_cust_type = df_new.groupby(['Customer_type_beginning_of_month'])['tot_products'].agg('sum') "
   ]
  },
  {
   "cell_type": "code",
   "execution_count": 60,
   "metadata": {},
   "outputs": [
    {
     "data": {
      "text/plain": [
       "Customer_type_beginning_of_month\n",
       "1      23970.0\n",
       "1.0    52813.0\n",
       "2          1.0\n",
       "2.0        1.0\n",
       "3         10.0\n",
       "3.0        9.0\n",
       "P          4.0\n",
       "Name: tot_products, dtype: float64"
      ]
     },
     "execution_count": 60,
     "metadata": {},
     "output_type": "execute_result"
    }
   ],
   "source": [
    "df_cust_type"
   ]
  },
  {
   "cell_type": "code",
   "execution_count": null,
   "metadata": {},
   "outputs": [],
   "source": [
    "#Majority of customers are active"
   ]
  },
  {
   "cell_type": "markdown",
   "metadata": {},
   "source": [
    "# Get insight about products based on income"
   ]
  },
  {
   "cell_type": "markdown",
   "metadata": {},
   "source": [
    "HouseHold_Gross_Income"
   ]
  },
  {
   "cell_type": "code",
   "execution_count": 61,
   "metadata": {},
   "outputs": [
    {
     "data": {
      "text/html": [
       "<div>\n",
       "<style scoped>\n",
       "    .dataframe tbody tr th:only-of-type {\n",
       "        vertical-align: middle;\n",
       "    }\n",
       "\n",
       "    .dataframe tbody tr th {\n",
       "        vertical-align: top;\n",
       "    }\n",
       "\n",
       "    .dataframe thead th {\n",
       "        text-align: right;\n",
       "    }\n",
       "</style>\n",
       "<table border=\"1\" class=\"dataframe\">\n",
       "  <thead>\n",
       "    <tr style=\"text-align: right;\">\n",
       "      <th></th>\n",
       "      <th>Date</th>\n",
       "      <th>Customer_Code</th>\n",
       "      <th>Employee_Index</th>\n",
       "      <th>Country</th>\n",
       "      <th>Gender</th>\n",
       "      <th>Age</th>\n",
       "      <th>First_holder_Date</th>\n",
       "      <th>New_Customer_Index</th>\n",
       "      <th>Customer_Seniority</th>\n",
       "      <th>Primary_Customer</th>\n",
       "      <th>...</th>\n",
       "      <th>Pensions</th>\n",
       "      <th>Loans</th>\n",
       "      <th>Taxes</th>\n",
       "      <th>Credit_Card</th>\n",
       "      <th>Securities</th>\n",
       "      <th>Home_Account</th>\n",
       "      <th>Payroll</th>\n",
       "      <th>Pensions</th>\n",
       "      <th>Direct_Debit</th>\n",
       "      <th>tot_products</th>\n",
       "    </tr>\n",
       "  </thead>\n",
       "  <tbody>\n",
       "    <tr>\n",
       "      <th>2406613</th>\n",
       "      <td>2015-04-28</td>\n",
       "      <td>886976</td>\n",
       "      <td>N</td>\n",
       "      <td>ES</td>\n",
       "      <td>H</td>\n",
       "      <td>49.0</td>\n",
       "      <td>2010-07-27</td>\n",
       "      <td>0.0</td>\n",
       "      <td>60</td>\n",
       "      <td>1.0</td>\n",
       "      <td>...</td>\n",
       "      <td>0</td>\n",
       "      <td>0</td>\n",
       "      <td>0</td>\n",
       "      <td>1</td>\n",
       "      <td>0</td>\n",
       "      <td>0</td>\n",
       "      <td>0.0</td>\n",
       "      <td>0.0</td>\n",
       "      <td>0</td>\n",
       "      <td>4.0</td>\n",
       "    </tr>\n",
       "    <tr>\n",
       "      <th>6466267</th>\n",
       "      <td>2015-10-28</td>\n",
       "      <td>950206</td>\n",
       "      <td>N</td>\n",
       "      <td>ES</td>\n",
       "      <td>H</td>\n",
       "      <td>24.0</td>\n",
       "      <td>2011-09-28</td>\n",
       "      <td>0.0</td>\n",
       "      <td>49</td>\n",
       "      <td>1.0</td>\n",
       "      <td>...</td>\n",
       "      <td>0</td>\n",
       "      <td>0</td>\n",
       "      <td>0</td>\n",
       "      <td>0</td>\n",
       "      <td>0</td>\n",
       "      <td>0</td>\n",
       "      <td>0.0</td>\n",
       "      <td>0.0</td>\n",
       "      <td>0</td>\n",
       "      <td>1.0</td>\n",
       "    </tr>\n",
       "    <tr>\n",
       "      <th>10239289</th>\n",
       "      <td>2016-02-28</td>\n",
       "      <td>474137</td>\n",
       "      <td>N</td>\n",
       "      <td>ES</td>\n",
       "      <td>V</td>\n",
       "      <td>58.0</td>\n",
       "      <td>2004-05-14</td>\n",
       "      <td>0.0</td>\n",
       "      <td>141</td>\n",
       "      <td>1.0</td>\n",
       "      <td>...</td>\n",
       "      <td>0</td>\n",
       "      <td>0</td>\n",
       "      <td>0</td>\n",
       "      <td>0</td>\n",
       "      <td>0</td>\n",
       "      <td>0</td>\n",
       "      <td>0.0</td>\n",
       "      <td>0.0</td>\n",
       "      <td>0</td>\n",
       "      <td>0.0</td>\n",
       "    </tr>\n",
       "    <tr>\n",
       "      <th>6681075</th>\n",
       "      <td>2015-10-28</td>\n",
       "      <td>1236387</td>\n",
       "      <td>N</td>\n",
       "      <td>ES</td>\n",
       "      <td>V</td>\n",
       "      <td>34.0</td>\n",
       "      <td>2014-01-07</td>\n",
       "      <td>0.0</td>\n",
       "      <td>21</td>\n",
       "      <td>1.0</td>\n",
       "      <td>...</td>\n",
       "      <td>0</td>\n",
       "      <td>0</td>\n",
       "      <td>0</td>\n",
       "      <td>0</td>\n",
       "      <td>0</td>\n",
       "      <td>0</td>\n",
       "      <td>0.0</td>\n",
       "      <td>0.0</td>\n",
       "      <td>0</td>\n",
       "      <td>1.0</td>\n",
       "    </tr>\n",
       "    <tr>\n",
       "      <th>2305701</th>\n",
       "      <td>2015-04-28</td>\n",
       "      <td>1359789</td>\n",
       "      <td>N</td>\n",
       "      <td>ES</td>\n",
       "      <td>H</td>\n",
       "      <td>22.0</td>\n",
       "      <td>2014-11-24</td>\n",
       "      <td>0.0</td>\n",
       "      <td>8</td>\n",
       "      <td>1.0</td>\n",
       "      <td>...</td>\n",
       "      <td>0</td>\n",
       "      <td>0</td>\n",
       "      <td>0</td>\n",
       "      <td>0</td>\n",
       "      <td>0</td>\n",
       "      <td>0</td>\n",
       "      <td>0.0</td>\n",
       "      <td>0.0</td>\n",
       "      <td>0</td>\n",
       "      <td>1.0</td>\n",
       "    </tr>\n",
       "  </tbody>\n",
       "</table>\n",
       "<p>5 rows × 47 columns</p>\n",
       "</div>"
      ],
      "text/plain": [
       "               Date  Customer_Code Employee_Index Country Gender   Age  \\\n",
       "2406613  2015-04-28         886976              N      ES      H  49.0   \n",
       "6466267  2015-10-28         950206              N      ES      H  24.0   \n",
       "10239289 2016-02-28         474137              N      ES      V  58.0   \n",
       "6681075  2015-10-28        1236387              N      ES      V  34.0   \n",
       "2305701  2015-04-28        1359789              N      ES      H  22.0   \n",
       "\n",
       "         First_holder_Date  New_Customer_Index Customer_Seniority  \\\n",
       "2406613         2010-07-27                 0.0                 60   \n",
       "6466267         2011-09-28                 0.0                 49   \n",
       "10239289        2004-05-14                 0.0                141   \n",
       "6681075         2014-01-07                 0.0                 21   \n",
       "2305701         2014-11-24                 0.0                  8   \n",
       "\n",
       "          Primary_Customer      ...       Pensions Loans Taxes Credit_Card  \\\n",
       "2406613                1.0      ...              0     0     0           1   \n",
       "6466267                1.0      ...              0     0     0           0   \n",
       "10239289               1.0      ...              0     0     0           0   \n",
       "6681075                1.0      ...              0     0     0           0   \n",
       "2305701                1.0      ...              0     0     0           0   \n",
       "\n",
       "         Securities Home_Account  Payroll  Pensions Direct_Debit  tot_products  \n",
       "2406613           0            0      0.0       0.0            0           4.0  \n",
       "6466267           0            0      0.0       0.0            0           1.0  \n",
       "10239289          0            0      0.0       0.0            0           0.0  \n",
       "6681075           0            0      0.0       0.0            0           1.0  \n",
       "2305701           0            0      0.0       0.0            0           1.0  \n",
       "\n",
       "[5 rows x 47 columns]"
      ]
     },
     "execution_count": 61,
     "metadata": {},
     "output_type": "execute_result"
    }
   ],
   "source": [
    "df_new.head()"
   ]
  },
  {
   "cell_type": "code",
   "execution_count": 63,
   "metadata": {},
   "outputs": [],
   "source": [
    "df_new[\"tot_products\"] = df_new.loc[:,\"Saving_Account\": \"Direct_Debit\"].sum(axis=1)\n",
    "df_new[\"tot_products\"]   = pd.to_numeric(df_new[\"tot_products\"], errors=\"coerce\") \n",
    "\n",
    "df_a = (df_new.groupby(pd.cut(df_new['HouseHold_Gross_Income'], [0,60000,120000,180000,240000, pd.np.inf], right=False))\n",
    "                     .sum())"
   ]
  },
  {
   "cell_type": "code",
   "execution_count": 64,
   "metadata": {},
   "outputs": [
    {
     "data": {
      "text/html": [
       "<div>\n",
       "<style scoped>\n",
       "    .dataframe tbody tr th:only-of-type {\n",
       "        vertical-align: middle;\n",
       "    }\n",
       "\n",
       "    .dataframe tbody tr th {\n",
       "        vertical-align: top;\n",
       "    }\n",
       "\n",
       "    .dataframe thead th {\n",
       "        text-align: right;\n",
       "    }\n",
       "</style>\n",
       "<table border=\"1\" class=\"dataframe\">\n",
       "  <thead>\n",
       "    <tr style=\"text-align: right;\">\n",
       "      <th></th>\n",
       "      <th>Customer_Code</th>\n",
       "      <th>Age</th>\n",
       "      <th>New_Customer_Index</th>\n",
       "      <th>Primary_Customer</th>\n",
       "      <th>primary_address</th>\n",
       "      <th>Province_code</th>\n",
       "      <th>Active_OrNot</th>\n",
       "      <th>HouseHold_Gross_Income</th>\n",
       "      <th>Saving_Account</th>\n",
       "      <th>Guarantees</th>\n",
       "      <th>...</th>\n",
       "      <th>Pensions</th>\n",
       "      <th>Loans</th>\n",
       "      <th>Taxes</th>\n",
       "      <th>Credit_Card</th>\n",
       "      <th>Securities</th>\n",
       "      <th>Home_Account</th>\n",
       "      <th>Payroll</th>\n",
       "      <th>Pensions</th>\n",
       "      <th>Direct_Debit</th>\n",
       "      <th>tot_products</th>\n",
       "    </tr>\n",
       "    <tr>\n",
       "      <th>HouseHold_Gross_Income</th>\n",
       "      <th></th>\n",
       "      <th></th>\n",
       "      <th></th>\n",
       "      <th></th>\n",
       "      <th></th>\n",
       "      <th></th>\n",
       "      <th></th>\n",
       "      <th></th>\n",
       "      <th></th>\n",
       "      <th></th>\n",
       "      <th></th>\n",
       "      <th></th>\n",
       "      <th></th>\n",
       "      <th></th>\n",
       "      <th></th>\n",
       "      <th></th>\n",
       "      <th></th>\n",
       "      <th></th>\n",
       "      <th></th>\n",
       "      <th></th>\n",
       "      <th></th>\n",
       "    </tr>\n",
       "  </thead>\n",
       "  <tbody>\n",
       "    <tr>\n",
       "      <th>[0.0, 60000.0)</th>\n",
       "      <td>7119830938</td>\n",
       "      <td>279139.394337</td>\n",
       "      <td>278.0</td>\n",
       "      <td>8113.0</td>\n",
       "      <td>7623.0</td>\n",
       "      <td>200266.0</td>\n",
       "      <td>2977.0</td>\n",
       "      <td>3.477129e+08</td>\n",
       "      <td>0</td>\n",
       "      <td>0</td>\n",
       "      <td>...</td>\n",
       "      <td>28</td>\n",
       "      <td>31</td>\n",
       "      <td>262</td>\n",
       "      <td>208</td>\n",
       "      <td>86</td>\n",
       "      <td>15</td>\n",
       "      <td>327.0</td>\n",
       "      <td>348.0</td>\n",
       "      <td>804</td>\n",
       "      <td>9585.0</td>\n",
       "    </tr>\n",
       "    <tr>\n",
       "      <th>[60000.0, 120000.0)</th>\n",
       "      <td>15060033929</td>\n",
       "      <td>710107.998550</td>\n",
       "      <td>552.0</td>\n",
       "      <td>18887.0</td>\n",
       "      <td>17907.0</td>\n",
       "      <td>483676.0</td>\n",
       "      <td>8216.0</td>\n",
       "      <td>1.569010e+09</td>\n",
       "      <td>2</td>\n",
       "      <td>0</td>\n",
       "      <td>...</td>\n",
       "      <td>102</td>\n",
       "      <td>48</td>\n",
       "      <td>900</td>\n",
       "      <td>779</td>\n",
       "      <td>372</td>\n",
       "      <td>72</td>\n",
       "      <td>997.0</td>\n",
       "      <td>1059.0</td>\n",
       "      <td>2310</td>\n",
       "      <td>26052.0</td>\n",
       "    </tr>\n",
       "    <tr>\n",
       "      <th>[120000.0, 180000.0)</th>\n",
       "      <td>6260043988</td>\n",
       "      <td>369226.469747</td>\n",
       "      <td>203.0</td>\n",
       "      <td>9189.0</td>\n",
       "      <td>8601.0</td>\n",
       "      <td>222697.0</td>\n",
       "      <td>4310.0</td>\n",
       "      <td>1.253395e+09</td>\n",
       "      <td>2</td>\n",
       "      <td>0</td>\n",
       "      <td>...</td>\n",
       "      <td>95</td>\n",
       "      <td>15</td>\n",
       "      <td>578</td>\n",
       "      <td>553</td>\n",
       "      <td>313</td>\n",
       "      <td>47</td>\n",
       "      <td>624.0</td>\n",
       "      <td>664.0</td>\n",
       "      <td>1298</td>\n",
       "      <td>14338.0</td>\n",
       "    </tr>\n",
       "    <tr>\n",
       "      <th>[180000.0, 240000.0)</th>\n",
       "      <td>2705255410</td>\n",
       "      <td>178636.138666</td>\n",
       "      <td>73.0</td>\n",
       "      <td>4198.0</td>\n",
       "      <td>4002.0</td>\n",
       "      <td>103356.0</td>\n",
       "      <td>2089.0</td>\n",
       "      <td>8.233797e+08</td>\n",
       "      <td>1</td>\n",
       "      <td>0</td>\n",
       "      <td>...</td>\n",
       "      <td>77</td>\n",
       "      <td>4</td>\n",
       "      <td>318</td>\n",
       "      <td>298</td>\n",
       "      <td>186</td>\n",
       "      <td>22</td>\n",
       "      <td>324.0</td>\n",
       "      <td>354.0</td>\n",
       "      <td>667</td>\n",
       "      <td>7176.0</td>\n",
       "    </tr>\n",
       "    <tr>\n",
       "      <th>[240000.0, inf)</th>\n",
       "      <td>2559730955</td>\n",
       "      <td>182353.842530</td>\n",
       "      <td>51.0</td>\n",
       "      <td>3942.0</td>\n",
       "      <td>3942.0</td>\n",
       "      <td>99051.0</td>\n",
       "      <td>1990.0</td>\n",
       "      <td>1.667407e+09</td>\n",
       "      <td>1</td>\n",
       "      <td>1</td>\n",
       "      <td>...</td>\n",
       "      <td>82</td>\n",
       "      <td>5</td>\n",
       "      <td>366</td>\n",
       "      <td>285</td>\n",
       "      <td>207</td>\n",
       "      <td>27</td>\n",
       "      <td>282.0</td>\n",
       "      <td>320.0</td>\n",
       "      <td>640</td>\n",
       "      <td>6979.0</td>\n",
       "    </tr>\n",
       "  </tbody>\n",
       "</table>\n",
       "<p>5 rows × 33 columns</p>\n",
       "</div>"
      ],
      "text/plain": [
       "                        Customer_Code            Age  New_Customer_Index  \\\n",
       "HouseHold_Gross_Income                                                     \n",
       "[0.0, 60000.0)             7119830938  279139.394337               278.0   \n",
       "[60000.0, 120000.0)       15060033929  710107.998550               552.0   \n",
       "[120000.0, 180000.0)       6260043988  369226.469747               203.0   \n",
       "[180000.0, 240000.0)       2705255410  178636.138666                73.0   \n",
       "[240000.0, inf)            2559730955  182353.842530                51.0   \n",
       "\n",
       "                        Primary_Customer  primary_address  Province_code  \\\n",
       "HouseHold_Gross_Income                                                     \n",
       "[0.0, 60000.0)                    8113.0           7623.0       200266.0   \n",
       "[60000.0, 120000.0)              18887.0          17907.0       483676.0   \n",
       "[120000.0, 180000.0)              9189.0           8601.0       222697.0   \n",
       "[180000.0, 240000.0)              4198.0           4002.0       103356.0   \n",
       "[240000.0, inf)                   3942.0           3942.0        99051.0   \n",
       "\n",
       "                        Active_OrNot  HouseHold_Gross_Income  Saving_Account  \\\n",
       "HouseHold_Gross_Income                                                         \n",
       "[0.0, 60000.0)                2977.0            3.477129e+08               0   \n",
       "[60000.0, 120000.0)           8216.0            1.569010e+09               2   \n",
       "[120000.0, 180000.0)          4310.0            1.253395e+09               2   \n",
       "[180000.0, 240000.0)          2089.0            8.233797e+08               1   \n",
       "[240000.0, inf)               1990.0            1.667407e+09               1   \n",
       "\n",
       "                        Guarantees      ...       Pensions  Loans  Taxes  \\\n",
       "HouseHold_Gross_Income                  ...                                \n",
       "[0.0, 60000.0)                   0      ...             28     31    262   \n",
       "[60000.0, 120000.0)              0      ...            102     48    900   \n",
       "[120000.0, 180000.0)             0      ...             95     15    578   \n",
       "[180000.0, 240000.0)             0      ...             77      4    318   \n",
       "[240000.0, inf)                  1      ...             82      5    366   \n",
       "\n",
       "                        Credit_Card  Securities  Home_Account  Payroll  \\\n",
       "HouseHold_Gross_Income                                                   \n",
       "[0.0, 60000.0)                  208          86            15    327.0   \n",
       "[60000.0, 120000.0)             779         372            72    997.0   \n",
       "[120000.0, 180000.0)            553         313            47    624.0   \n",
       "[180000.0, 240000.0)            298         186            22    324.0   \n",
       "[240000.0, inf)                 285         207            27    282.0   \n",
       "\n",
       "                        Pensions  Direct_Debit  tot_products  \n",
       "HouseHold_Gross_Income                                        \n",
       "[0.0, 60000.0)             348.0           804        9585.0  \n",
       "[60000.0, 120000.0)       1059.0          2310       26052.0  \n",
       "[120000.0, 180000.0)       664.0          1298       14338.0  \n",
       "[180000.0, 240000.0)       354.0           667        7176.0  \n",
       "[240000.0, inf)            320.0           640        6979.0  \n",
       "\n",
       "[5 rows x 33 columns]"
      ]
     },
     "execution_count": 64,
     "metadata": {},
     "output_type": "execute_result"
    }
   ],
   "source": [
    "df_a.head()"
   ]
  },
  {
   "cell_type": "code",
   "execution_count": 65,
   "metadata": {},
   "outputs": [
    {
     "data": {
      "text/plain": [
       "HouseHold_Gross_Income\n",
       "[0.0, 60000.0)           9585.0\n",
       "[60000.0, 120000.0)     26052.0\n",
       "[120000.0, 180000.0)    14338.0\n",
       "[180000.0, 240000.0)     7176.0\n",
       "[240000.0, inf)          6979.0\n",
       "Name: tot_products, dtype: float64"
      ]
     },
     "execution_count": 65,
     "metadata": {},
     "output_type": "execute_result"
    }
   ],
   "source": [
    "df_a[\"tot_products\"]\n",
    "\n"
   ]
  },
  {
   "cell_type": "code",
   "execution_count": 66,
   "metadata": {},
   "outputs": [],
   "source": [
    "# Let's drop the columns which are unnecessary for this step\n",
    "df_a = df_a.loc[:, \"Saving_Account\": \"Direct_Debit\"]\n",
    "df_a = df_a.T"
   ]
  },
  {
   "cell_type": "code",
   "execution_count": 67,
   "metadata": {},
   "outputs": [
    {
     "data": {
      "text/plain": [
       "<matplotlib.legend.Legend at 0x1a21664828>"
      ]
     },
     "execution_count": 67,
     "metadata": {},
     "output_type": "execute_result"
    },
    {
     "data": {
      "image/png": "[encoded data removed]",
      "text/plain": [
       "<Figure size 1152x864 with 1 Axes>"
      ]
     },
     "metadata": {},
     "output_type": "display_data"
    }
   ],
   "source": [
    "# Plot of product share for each income group\n",
    "df_a.plot(kind='barh', stacked=True, fontsize=14, figsize=[16,12], colormap='gist_rainbow')\n",
    "plt.title('Distribution of products among customers by income group', fontsize=20, color='black') \n",
    "plt.xlabel('Total number of products', fontsize=17, color='black') \n",
    "plt.ylabel('Products_names', fontsize=17, color='black') \n",
    "plt.legend(prop={'size':15}, loc=1) "
   ]
  },
  {
   "cell_type": "code",
   "execution_count": null,
   "metadata": {},
   "outputs": [],
   "source": []
  },
  {
   "cell_type": "code",
   "execution_count": 68,
   "metadata": {},
   "outputs": [],
   "source": [
    "# Let's create age groups\n",
    "df_a = (df_new.groupby(pd.cut(df_new['Age'], [0,20,40,60,80,100, pd.np.inf], right=False))\n",
    "                     .sum())"
   ]
  },
  {
   "cell_type": "code",
   "execution_count": 69,
   "metadata": {},
   "outputs": [],
   "source": [
    "# Keep the products columns and discard the others\n",
    "df_a = df_a.loc[:, \"Saving_Account\": \"Direct_Debit\"]\n",
    "df_a = df_a.T"
   ]
  },
  {
   "cell_type": "code",
   "execution_count": 70,
   "metadata": {},
   "outputs": [
    {
     "data": {
      "text/plain": [
       "<matplotlib.legend.Legend at 0x1a216695c0>"
      ]
     },
     "execution_count": 70,
     "metadata": {},
     "output_type": "execute_result"
    },
    {
     "data": {
      "image/png": "[encoded data removed]",
      "text/plain": [
       "<Figure size 1152x864 with 1 Axes>"
      ]
     },
     "metadata": {},
     "output_type": "display_data"
    }
   ],
   "source": [
    "# Plot of customers' age distibution of each product \n",
    "df_a.plot(kind='barh', stacked=True, fontsize=14, figsize=[16,12], colormap='Reds')\n",
    "plt.title('Customers age distribution of different products', fontsize=20, color='black') \n",
    "plt.xlabel('Total number of products', fontsize=17, color='black') \n",
    "plt.ylabel('Products_names', fontsize=17, color='black') \n",
    "plt.legend(prop={'size':15}, loc=1) "
   ]
  },
  {
   "cell_type": "code",
   "execution_count": null,
   "metadata": {},
   "outputs": [],
   "source": []
  },
  {
   "cell_type": "markdown",
   "metadata": {},
   "source": [
    "Let's see how many products individual customer usually has in any month\n",
    "\n"
   ]
  },
  {
   "cell_type": "code",
   "execution_count": 71,
   "metadata": {},
   "outputs": [
    {
     "data": {
      "text/plain": [
       "1.0     27826\n",
       "0.0     10046\n",
       "2.0      7447\n",
       "3.0      2932\n",
       "4.0      1776\n",
       "5.0      1118\n",
       "6.0       785\n",
       "7.0       556\n",
       "8.0       296\n",
       "9.0       151\n",
       "10.0       46\n",
       "11.0       11\n",
       "12.0        5\n",
       "13.0        1\n",
       "Name: tot_products, dtype: int64"
      ]
     },
     "execution_count": 71,
     "metadata": {},
     "output_type": "execute_result"
    }
   ],
   "source": [
    "# Extract total number of products \n",
    "df_a = df_new[\"tot_products\"].value_counts()\n",
    "df_a"
   ]
  },
  {
   "cell_type": "code",
   "execution_count": 72,
   "metadata": {},
   "outputs": [],
   "source": [
    "df_a = pd.DataFrame(df_a)\n",
    "\n"
   ]
  },
  {
   "cell_type": "code",
   "execution_count": 73,
   "metadata": {},
   "outputs": [
    {
     "data": {
      "text/plain": [
       "52996"
      ]
     },
     "execution_count": 73,
     "metadata": {},
     "output_type": "execute_result"
    }
   ],
   "source": [
    "df_new[\"Customer_Code\"].count()\n",
    "\n"
   ]
  },
  {
   "cell_type": "code",
   "execution_count": 74,
   "metadata": {},
   "outputs": [
    {
     "data": {
      "text/html": [
       "<div>\n",
       "<style scoped>\n",
       "    .dataframe tbody tr th:only-of-type {\n",
       "        vertical-align: middle;\n",
       "    }\n",
       "\n",
       "    .dataframe tbody tr th {\n",
       "        vertical-align: top;\n",
       "    }\n",
       "\n",
       "    .dataframe thead th {\n",
       "        text-align: right;\n",
       "    }\n",
       "</style>\n",
       "<table border=\"1\" class=\"dataframe\">\n",
       "  <thead>\n",
       "    <tr style=\"text-align: right;\">\n",
       "      <th></th>\n",
       "      <th>tot_products</th>\n",
       "      <th>percentage</th>\n",
       "    </tr>\n",
       "  </thead>\n",
       "  <tbody>\n",
       "    <tr>\n",
       "      <th>1.0</th>\n",
       "      <td>27826</td>\n",
       "      <td>52.505849</td>\n",
       "    </tr>\n",
       "    <tr>\n",
       "      <th>0.0</th>\n",
       "      <td>10046</td>\n",
       "      <td>18.956148</td>\n",
       "    </tr>\n",
       "    <tr>\n",
       "      <th>2.0</th>\n",
       "      <td>7447</td>\n",
       "      <td>14.052004</td>\n",
       "    </tr>\n",
       "    <tr>\n",
       "      <th>3.0</th>\n",
       "      <td>2932</td>\n",
       "      <td>5.532493</td>\n",
       "    </tr>\n",
       "    <tr>\n",
       "      <th>4.0</th>\n",
       "      <td>1776</td>\n",
       "      <td>3.351196</td>\n",
       "    </tr>\n",
       "    <tr>\n",
       "      <th>5.0</th>\n",
       "      <td>1118</td>\n",
       "      <td>2.109593</td>\n",
       "    </tr>\n",
       "    <tr>\n",
       "      <th>6.0</th>\n",
       "      <td>785</td>\n",
       "      <td>1.481244</td>\n",
       "    </tr>\n",
       "    <tr>\n",
       "      <th>7.0</th>\n",
       "      <td>556</td>\n",
       "      <td>1.049136</td>\n",
       "    </tr>\n",
       "    <tr>\n",
       "      <th>8.0</th>\n",
       "      <td>296</td>\n",
       "      <td>0.558533</td>\n",
       "    </tr>\n",
       "    <tr>\n",
       "      <th>9.0</th>\n",
       "      <td>151</td>\n",
       "      <td>0.284927</td>\n",
       "    </tr>\n",
       "    <tr>\n",
       "      <th>10.0</th>\n",
       "      <td>46</td>\n",
       "      <td>0.086799</td>\n",
       "    </tr>\n",
       "    <tr>\n",
       "      <th>11.0</th>\n",
       "      <td>11</td>\n",
       "      <td>0.020756</td>\n",
       "    </tr>\n",
       "    <tr>\n",
       "      <th>12.0</th>\n",
       "      <td>5</td>\n",
       "      <td>0.009435</td>\n",
       "    </tr>\n",
       "    <tr>\n",
       "      <th>13.0</th>\n",
       "      <td>1</td>\n",
       "      <td>0.001887</td>\n",
       "    </tr>\n",
       "  </tbody>\n",
       "</table>\n",
       "</div>"
      ],
      "text/plain": [
       "      tot_products  percentage\n",
       "1.0          27826   52.505849\n",
       "0.0          10046   18.956148\n",
       "2.0           7447   14.052004\n",
       "3.0           2932    5.532493\n",
       "4.0           1776    3.351196\n",
       "5.0           1118    2.109593\n",
       "6.0            785    1.481244\n",
       "7.0            556    1.049136\n",
       "8.0            296    0.558533\n",
       "9.0            151    0.284927\n",
       "10.0            46    0.086799\n",
       "11.0            11    0.020756\n",
       "12.0             5    0.009435\n",
       "13.0             1    0.001887"
      ]
     },
     "execution_count": 74,
     "metadata": {},
     "output_type": "execute_result"
    }
   ],
   "source": [
    "# calculate the percentage of customers using different number of products\n",
    "count = df_new[\"Customer_Code\"].count()\n",
    "df_a[\"percentage\"] = (df_a[\"tot_products\"]/count)*100\n",
    "df_a"
   ]
  },
  {
   "cell_type": "code",
   "execution_count": 75,
   "metadata": {},
   "outputs": [
    {
     "data": {
      "text/plain": [
       "Index(['Date', 'Customer_Code', 'Employee_Index', 'Country', 'Gender', 'Age',\n",
       "       'First_holder_Date', 'New_Customer_Index', 'Customer_Seniority',\n",
       "       'Primary_Customer', 'Customer_type_beginning_of_month',\n",
       "       'Customer_relation_month_begining', 'Residence_index',\n",
       "       'Foreigner_index', 'Joining_channel', 'Deceased_index',\n",
       "       'primary_address', 'Province_code', 'Province_name', 'Active_OrNot',\n",
       "       'HouseHold_Gross_Income', 'Segmentation', 'Saving_Account',\n",
       "       'Guarantees', 'Current_Accounts', 'Derivada_Account', 'Payroll_Account',\n",
       "       'Junior_Account', 'Más_particular_Account', 'particular_Account',\n",
       "       'particular_Plus_Account', 'Short_term_deposits',\n",
       "       'Medium_term_deposits', 'Long_term_deposits', 'e_account', 'Funds',\n",
       "       'Mortgage', 'Pensions', 'Loans', 'Taxes', 'Credit_Card', 'Securities',\n",
       "       'Home_Account', 'Payroll', 'Pensions', 'Direct_Debit', 'tot_products'],\n",
       "      dtype='object')"
      ]
     },
     "execution_count": 75,
     "metadata": {},
     "output_type": "execute_result"
    }
   ],
   "source": [
    "df_new.columns"
   ]
  },
  {
   "cell_type": "code",
   "execution_count": 79,
   "metadata": {},
   "outputs": [],
   "source": [
    "df_new[\"Customer_Seniority\"]   = pd.to_numeric(df_new[\"Customer_Seniority\"], errors=\"coerce\") \n",
    "\n"
   ]
  },
  {
   "cell_type": "code",
   "execution_count": 80,
   "metadata": {},
   "outputs": [],
   "source": [
    "df_a = df_new.loc[:, ['Age', 'HouseHold_Gross_Income', 'Customer_Seniority']].join(df_new.loc[:, \"Saving_Account\": \"tot_products\"])"
   ]
  },
  {
   "cell_type": "code",
   "execution_count": 81,
   "metadata": {},
   "outputs": [
    {
     "data": {
      "text/html": [
       "<div>\n",
       "<style scoped>\n",
       "    .dataframe tbody tr th:only-of-type {\n",
       "        vertical-align: middle;\n",
       "    }\n",
       "\n",
       "    .dataframe tbody tr th {\n",
       "        vertical-align: top;\n",
       "    }\n",
       "\n",
       "    .dataframe thead th {\n",
       "        text-align: right;\n",
       "    }\n",
       "</style>\n",
       "<table border=\"1\" class=\"dataframe\">\n",
       "  <thead>\n",
       "    <tr style=\"text-align: right;\">\n",
       "      <th></th>\n",
       "      <th>Age</th>\n",
       "      <th>HouseHold_Gross_Income</th>\n",
       "      <th>Customer_Seniority</th>\n",
       "      <th>Saving_Account</th>\n",
       "      <th>Guarantees</th>\n",
       "      <th>Current_Accounts</th>\n",
       "      <th>Derivada_Account</th>\n",
       "      <th>Payroll_Account</th>\n",
       "      <th>Junior_Account</th>\n",
       "      <th>Más_particular_Account</th>\n",
       "      <th>...</th>\n",
       "      <th>Pensions</th>\n",
       "      <th>Loans</th>\n",
       "      <th>Taxes</th>\n",
       "      <th>Credit_Card</th>\n",
       "      <th>Securities</th>\n",
       "      <th>Home_Account</th>\n",
       "      <th>Payroll</th>\n",
       "      <th>Pensions</th>\n",
       "      <th>Direct_Debit</th>\n",
       "      <th>tot_products</th>\n",
       "    </tr>\n",
       "  </thead>\n",
       "  <tbody>\n",
       "    <tr>\n",
       "      <th>2406613</th>\n",
       "      <td>49.0</td>\n",
       "      <td>98343.03</td>\n",
       "      <td>60.0</td>\n",
       "      <td>0</td>\n",
       "      <td>0</td>\n",
       "      <td>0</td>\n",
       "      <td>0</td>\n",
       "      <td>1</td>\n",
       "      <td>0</td>\n",
       "      <td>1</td>\n",
       "      <td>...</td>\n",
       "      <td>0</td>\n",
       "      <td>0</td>\n",
       "      <td>0</td>\n",
       "      <td>1</td>\n",
       "      <td>0</td>\n",
       "      <td>0</td>\n",
       "      <td>0.0</td>\n",
       "      <td>0.0</td>\n",
       "      <td>0</td>\n",
       "      <td>4.0</td>\n",
       "    </tr>\n",
       "    <tr>\n",
       "      <th>6466267</th>\n",
       "      <td>24.0</td>\n",
       "      <td>NaN</td>\n",
       "      <td>49.0</td>\n",
       "      <td>0</td>\n",
       "      <td>0</td>\n",
       "      <td>1</td>\n",
       "      <td>0</td>\n",
       "      <td>0</td>\n",
       "      <td>0</td>\n",
       "      <td>0</td>\n",
       "      <td>...</td>\n",
       "      <td>0</td>\n",
       "      <td>0</td>\n",
       "      <td>0</td>\n",
       "      <td>0</td>\n",
       "      <td>0</td>\n",
       "      <td>0</td>\n",
       "      <td>0.0</td>\n",
       "      <td>0.0</td>\n",
       "      <td>0</td>\n",
       "      <td>1.0</td>\n",
       "    </tr>\n",
       "    <tr>\n",
       "      <th>10239289</th>\n",
       "      <td>58.0</td>\n",
       "      <td>NaN</td>\n",
       "      <td>141.0</td>\n",
       "      <td>0</td>\n",
       "      <td>0</td>\n",
       "      <td>0</td>\n",
       "      <td>0</td>\n",
       "      <td>0</td>\n",
       "      <td>0</td>\n",
       "      <td>0</td>\n",
       "      <td>...</td>\n",
       "      <td>0</td>\n",
       "      <td>0</td>\n",
       "      <td>0</td>\n",
       "      <td>0</td>\n",
       "      <td>0</td>\n",
       "      <td>0</td>\n",
       "      <td>0.0</td>\n",
       "      <td>0.0</td>\n",
       "      <td>0</td>\n",
       "      <td>0.0</td>\n",
       "    </tr>\n",
       "    <tr>\n",
       "      <th>6681075</th>\n",
       "      <td>34.0</td>\n",
       "      <td>NaN</td>\n",
       "      <td>21.0</td>\n",
       "      <td>0</td>\n",
       "      <td>0</td>\n",
       "      <td>1</td>\n",
       "      <td>0</td>\n",
       "      <td>0</td>\n",
       "      <td>0</td>\n",
       "      <td>0</td>\n",
       "      <td>...</td>\n",
       "      <td>0</td>\n",
       "      <td>0</td>\n",
       "      <td>0</td>\n",
       "      <td>0</td>\n",
       "      <td>0</td>\n",
       "      <td>0</td>\n",
       "      <td>0.0</td>\n",
       "      <td>0.0</td>\n",
       "      <td>0</td>\n",
       "      <td>1.0</td>\n",
       "    </tr>\n",
       "    <tr>\n",
       "      <th>2305701</th>\n",
       "      <td>22.0</td>\n",
       "      <td>126999.66</td>\n",
       "      <td>8.0</td>\n",
       "      <td>0</td>\n",
       "      <td>0</td>\n",
       "      <td>1</td>\n",
       "      <td>0</td>\n",
       "      <td>0</td>\n",
       "      <td>0</td>\n",
       "      <td>0</td>\n",
       "      <td>...</td>\n",
       "      <td>0</td>\n",
       "      <td>0</td>\n",
       "      <td>0</td>\n",
       "      <td>0</td>\n",
       "      <td>0</td>\n",
       "      <td>0</td>\n",
       "      <td>0.0</td>\n",
       "      <td>0.0</td>\n",
       "      <td>0</td>\n",
       "      <td>1.0</td>\n",
       "    </tr>\n",
       "  </tbody>\n",
       "</table>\n",
       "<p>5 rows × 28 columns</p>\n",
       "</div>"
      ],
      "text/plain": [
       "           Age  HouseHold_Gross_Income  Customer_Seniority  Saving_Account  \\\n",
       "2406613   49.0                98343.03                60.0               0   \n",
       "6466267   24.0                     NaN                49.0               0   \n",
       "10239289  58.0                     NaN               141.0               0   \n",
       "6681075   34.0                     NaN                21.0               0   \n",
       "2305701   22.0               126999.66                 8.0               0   \n",
       "\n",
       "          Guarantees  Current_Accounts  Derivada_Account  Payroll_Account  \\\n",
       "2406613            0                 0                 0                1   \n",
       "6466267            0                 1                 0                0   \n",
       "10239289           0                 0                 0                0   \n",
       "6681075            0                 1                 0                0   \n",
       "2305701            0                 1                 0                0   \n",
       "\n",
       "          Junior_Account  Más_particular_Account      ...       Pensions  \\\n",
       "2406613                0                       1      ...              0   \n",
       "6466267                0                       0      ...              0   \n",
       "10239289               0                       0      ...              0   \n",
       "6681075                0                       0      ...              0   \n",
       "2305701                0                       0      ...              0   \n",
       "\n",
       "          Loans  Taxes  Credit_Card  Securities  Home_Account  Payroll  \\\n",
       "2406613       0      0            1           0             0      0.0   \n",
       "6466267       0      0            0           0             0      0.0   \n",
       "10239289      0      0            0           0             0      0.0   \n",
       "6681075       0      0            0           0             0      0.0   \n",
       "2305701       0      0            0           0             0      0.0   \n",
       "\n",
       "          Pensions  Direct_Debit  tot_products  \n",
       "2406613        0.0             0           4.0  \n",
       "6466267        0.0             0           1.0  \n",
       "10239289       0.0             0           0.0  \n",
       "6681075        0.0             0           1.0  \n",
       "2305701        0.0             0           1.0  \n",
       "\n",
       "[5 rows x 28 columns]"
      ]
     },
     "execution_count": 81,
     "metadata": {},
     "output_type": "execute_result"
    }
   ],
   "source": [
    "df_a.head()"
   ]
  },
  {
   "cell_type": "code",
   "execution_count": 82,
   "metadata": {},
   "outputs": [],
   "source": [
    "df_a = df_a.dropna(axis=0)\n"
   ]
  },
  {
   "cell_type": "code",
   "execution_count": 83,
   "metadata": {},
   "outputs": [],
   "source": [
    "df_a = df_a.groupby(\"tot_products\").agg(\"mean\")\n",
    "\n",
    "#df_a.head()"
   ]
  },
  {
   "cell_type": "code",
   "execution_count": null,
   "metadata": {},
   "outputs": [],
   "source": [
    "\n"
   ]
  },
  {
   "cell_type": "code",
   "execution_count": 84,
   "metadata": {},
   "outputs": [],
   "source": [
    "# extract those customers who did not purchase any products in any month\n",
    "df_a = df_new[df_new[\"tot_products\"]==0]"
   ]
  },
  {
   "cell_type": "code",
   "execution_count": 85,
   "metadata": {},
   "outputs": [
    {
     "data": {
      "text/plain": [
       "0.0    9953\n",
       "1.0      69\n",
       "Name: Active_OrNot, dtype: int64"
      ]
     },
     "execution_count": 85,
     "metadata": {},
     "output_type": "execute_result"
    }
   ],
   "source": [
    "df_a[\"Active_OrNot\"].value_counts() "
   ]
  },
  {
   "cell_type": "code",
   "execution_count": 86,
   "metadata": {},
   "outputs": [],
   "source": [
    "\n",
    "#As expected majority of customers are inactive"
   ]
  },
  {
   "cell_type": "code",
   "execution_count": 87,
   "metadata": {},
   "outputs": [],
   "source": [
    "df_a = df_new.loc[:, ['Age', 'HouseHold_Gross_Income', 'Customer_Seniority']].join(df_new.loc[:, 'Saving_Account':'tot_products'])"
   ]
  },
  {
   "cell_type": "code",
   "execution_count": 88,
   "metadata": {},
   "outputs": [],
   "source": [
    "df_agg = df_a.groupby(\"tot_products\").agg(\"mean\")\n",
    "\n"
   ]
  },
  {
   "cell_type": "code",
   "execution_count": 89,
   "metadata": {},
   "outputs": [],
   "source": [
    "df_b = df_agg.loc[:, ['Age', 'HouseHold_Gross_Income', 'Customer_Seniority']]\n",
    "\n"
   ]
  },
  {
   "cell_type": "code",
   "execution_count": 90,
   "metadata": {},
   "outputs": [
    {
     "data": {
      "text/html": [
       "<div>\n",
       "<style scoped>\n",
       "    .dataframe tbody tr th:only-of-type {\n",
       "        vertical-align: middle;\n",
       "    }\n",
       "\n",
       "    .dataframe tbody tr th {\n",
       "        vertical-align: top;\n",
       "    }\n",
       "\n",
       "    .dataframe thead th {\n",
       "        text-align: right;\n",
       "    }\n",
       "</style>\n",
       "<table border=\"1\" class=\"dataframe\">\n",
       "  <thead>\n",
       "    <tr style=\"text-align: right;\">\n",
       "      <th></th>\n",
       "      <th>Age</th>\n",
       "      <th>HouseHold_Gross_Income</th>\n",
       "      <th>Customer_Seniority</th>\n",
       "    </tr>\n",
       "    <tr>\n",
       "      <th>tot_products</th>\n",
       "      <th></th>\n",
       "      <th></th>\n",
       "      <th></th>\n",
       "    </tr>\n",
       "  </thead>\n",
       "  <tbody>\n",
       "    <tr>\n",
       "      <th>0.0</th>\n",
       "      <td>42.579281</td>\n",
       "      <td>145303.456335</td>\n",
       "      <td>81.933746</td>\n",
       "    </tr>\n",
       "    <tr>\n",
       "      <th>1.0</th>\n",
       "      <td>35.095720</td>\n",
       "      <td>123408.011179</td>\n",
       "      <td>58.856870</td>\n",
       "    </tr>\n",
       "    <tr>\n",
       "      <th>2.0</th>\n",
       "      <td>48.578639</td>\n",
       "      <td>138946.625121</td>\n",
       "      <td>103.085046</td>\n",
       "    </tr>\n",
       "    <tr>\n",
       "      <th>3.0</th>\n",
       "      <td>47.909867</td>\n",
       "      <td>148482.612380</td>\n",
       "      <td>114.033800</td>\n",
       "    </tr>\n",
       "    <tr>\n",
       "      <th>4.0</th>\n",
       "      <td>47.348732</td>\n",
       "      <td>155460.178599</td>\n",
       "      <td>118.705915</td>\n",
       "    </tr>\n",
       "    <tr>\n",
       "      <th>5.0</th>\n",
       "      <td>47.305254</td>\n",
       "      <td>149930.704615</td>\n",
       "      <td>129.213071</td>\n",
       "    </tr>\n",
       "    <tr>\n",
       "      <th>6.0</th>\n",
       "      <td>47.749045</td>\n",
       "      <td>157195.370259</td>\n",
       "      <td>144.135032</td>\n",
       "    </tr>\n",
       "    <tr>\n",
       "      <th>7.0</th>\n",
       "      <td>48.075540</td>\n",
       "      <td>153009.634521</td>\n",
       "      <td>152.260791</td>\n",
       "    </tr>\n",
       "    <tr>\n",
       "      <th>8.0</th>\n",
       "      <td>47.476351</td>\n",
       "      <td>201968.081504</td>\n",
       "      <td>164.898649</td>\n",
       "    </tr>\n",
       "    <tr>\n",
       "      <th>9.0</th>\n",
       "      <td>49.774834</td>\n",
       "      <td>179580.314000</td>\n",
       "      <td>176.403974</td>\n",
       "    </tr>\n",
       "    <tr>\n",
       "      <th>10.0</th>\n",
       "      <td>49.586957</td>\n",
       "      <td>161859.622326</td>\n",
       "      <td>190.304348</td>\n",
       "    </tr>\n",
       "    <tr>\n",
       "      <th>11.0</th>\n",
       "      <td>47.363636</td>\n",
       "      <td>226517.730000</td>\n",
       "      <td>190.636364</td>\n",
       "    </tr>\n",
       "    <tr>\n",
       "      <th>12.0</th>\n",
       "      <td>46.800000</td>\n",
       "      <td>310629.525000</td>\n",
       "      <td>210.200000</td>\n",
       "    </tr>\n",
       "    <tr>\n",
       "      <th>13.0</th>\n",
       "      <td>49.000000</td>\n",
       "      <td>197189.010000</td>\n",
       "      <td>175.000000</td>\n",
       "    </tr>\n",
       "  </tbody>\n",
       "</table>\n",
       "</div>"
      ],
      "text/plain": [
       "                    Age  HouseHold_Gross_Income  Customer_Seniority\n",
       "tot_products                                                       \n",
       "0.0           42.579281           145303.456335           81.933746\n",
       "1.0           35.095720           123408.011179           58.856870\n",
       "2.0           48.578639           138946.625121          103.085046\n",
       "3.0           47.909867           148482.612380          114.033800\n",
       "4.0           47.348732           155460.178599          118.705915\n",
       "5.0           47.305254           149930.704615          129.213071\n",
       "6.0           47.749045           157195.370259          144.135032\n",
       "7.0           48.075540           153009.634521          152.260791\n",
       "8.0           47.476351           201968.081504          164.898649\n",
       "9.0           49.774834           179580.314000          176.403974\n",
       "10.0          49.586957           161859.622326          190.304348\n",
       "11.0          47.363636           226517.730000          190.636364\n",
       "12.0          46.800000           310629.525000          210.200000\n",
       "13.0          49.000000           197189.010000          175.000000"
      ]
     },
     "execution_count": 90,
     "metadata": {},
     "output_type": "execute_result"
    }
   ],
   "source": [
    "df_b"
   ]
  },
  {
   "cell_type": "code",
   "execution_count": 91,
   "metadata": {},
   "outputs": [],
   "source": [
    "df_sen = df_b[\"Customer_Seniority\"][0:10]"
   ]
  },
  {
   "cell_type": "code",
   "execution_count": 92,
   "metadata": {},
   "outputs": [
    {
     "data": {
      "text/plain": [
       "Text(0, 0.5, 'Average seniority')"
      ]
     },
     "execution_count": 92,
     "metadata": {},
     "output_type": "execute_result"
    },
    {
     "data": {
      "image/png": "[encoded data removed]",
      "text/plain": [
       "<Figure size 1152x864 with 1 Axes>"
      ]
     },
     "metadata": {},
     "output_type": "display_data"
    }
   ],
   "source": [
    "df_sen.plot(kind='bar', fontsize=14, figsize=[16,12], colormap='prism')\n",
    "plt.title('Total number of products by seniority', fontsize=20, color='black') \n",
    "plt.xlabel('Total number of products', fontsize=17, color='black') \n",
    "plt.ylabel('Average seniority', fontsize=17, color='black') "
   ]
  },
  {
   "cell_type": "code",
   "execution_count": 93,
   "metadata": {},
   "outputs": [],
   "source": [
    "df_a = df_b[\"Age\"]"
   ]
  },
  {
   "cell_type": "code",
   "execution_count": 94,
   "metadata": {},
   "outputs": [
    {
     "data": {
      "text/plain": [
       "<matplotlib.legend.Legend at 0x1a23023240>"
      ]
     },
     "execution_count": 94,
     "metadata": {},
     "output_type": "execute_result"
    },
    {
     "data": {
      "image/png": "[encoded data removed]",
      "text/plain": [
       "<Figure size 1152x864 with 1 Axes>"
      ]
     },
     "metadata": {},
     "output_type": "display_data"
    }
   ],
   "source": [
    "# Total number of products by age\n",
    "df_a.plot(kind='bar', fontsize=14, figsize=[16,12], colormap='prism')\n",
    "plt.title('Total number of products by age', fontsize=20, color='black') \n",
    "plt.xlabel('Total number of products', fontsize=17, color='black') \n",
    "plt.ylabel('Average age', fontsize=17, color='black') \n",
    "plt.legend(prop={'size':15}) "
   ]
  },
  {
   "cell_type": "code",
   "execution_count": 95,
   "metadata": {},
   "outputs": [],
   "source": [
    "df_a = df_b[\"HouseHold_Gross_Income\"]"
   ]
  },
  {
   "cell_type": "code",
   "execution_count": 96,
   "metadata": {},
   "outputs": [
    {
     "data": {
      "text/plain": [
       "Text(0, 0.5, 'Average income')"
      ]
     },
     "execution_count": 96,
     "metadata": {},
     "output_type": "execute_result"
    },
    {
     "data": {
      "image/png": "[encoded data removed]",
      "text/plain": [
       "<Figure size 1152x864 with 1 Axes>"
      ]
     },
     "metadata": {},
     "output_type": "display_data"
    }
   ],
   "source": [
    "# Total number of products by income\n",
    "df_a.plot(kind='bar', fontsize=14, figsize=[16,12], colormap='prism')\n",
    "plt.title('Total number of products by income', fontsize=20, color='black') \n",
    "plt.xlabel('Total number of products', fontsize=17, color='black') \n",
    "plt.ylabel('Average income', fontsize=17, color='black') \n",
    "#plt.legend(prop={'size':15}) "
   ]
  },
  {
   "cell_type": "code",
   "execution_count": 97,
   "metadata": {},
   "outputs": [],
   "source": [
    "corr=df.corr()"
   ]
  },
  {
   "cell_type": "code",
   "execution_count": 98,
   "metadata": {},
   "outputs": [
    {
     "data": {
      "text/plain": [
       "<matplotlib.axes._subplots.AxesSubplot at 0x1a233b8240>"
      ]
     },
     "execution_count": 98,
     "metadata": {},
     "output_type": "execute_result"
    },
    {
     "data": {
      "image/png": "[encoded data removed]",
      "text/plain": [
       "<Figure size 792x648 with 2 Axes>"
      ]
     },
     "metadata": {},
     "output_type": "display_data"
    }
   ],
   "source": [
    "# Generate a mask for the upper triangle\n",
    "mask = np.zeros_like(corr, dtype=np.bool)\n",
    "mask[np.triu_indices_from(mask)] = True\n",
    "\n",
    "# Set up the matplotlib figure\n",
    "f, ax = plt.subplots(figsize=(11, 9))\n",
    "\n",
    "# Generate a custom diverging colormap\n",
    "cmap = sns.diverging_palette(220, 10, as_cmap=True)\n",
    "\n",
    "# Draw the heatmap with the mask and correct aspect ratio\n",
    "sns.heatmap(corr, mask=mask, cmap=cmap, vmax=.3, center=0,\n",
    "            square=True, linewidths=.5, cbar_kws={\"shrink\": .5})"
   ]
  },
  {
   "cell_type": "markdown",
   "metadata": {},
   "source": [
    "# Inferential Statistics"
   ]
  },
  {
   "cell_type": "markdown",
   "metadata": {},
   "source": [
    "1.Total number of products owned by men are more than women"
   ]
  },
  {
   "cell_type": "markdown",
   "metadata": {},
   "source": [
    "2.People with more income have more accounts\n"
   ]
  },
  {
   "cell_type": "markdown",
   "metadata": {},
   "source": [
    "3.People with more Age have more accounts"
   ]
  },
  {
   "cell_type": "markdown",
   "metadata": {},
   "source": [
    "# Inferential Statistics"
   ]
  },
  {
   "cell_type": "markdown",
   "metadata": {},
   "source": [
    "# Null Hypothesis=Total number of products owned by men and women are same.\n",
    "# Alternate Hypotheis = Total numnber of product owned by men and women are different."
   ]
  },
  {
   "cell_type": "code",
   "execution_count": 100,
   "metadata": {},
   "outputs": [],
   "source": [
    "df_gen = df_new.groupby(['Gender'])['tot_products'].agg('sum') \n",
    "\n"
   ]
  },
  {
   "cell_type": "code",
   "execution_count": null,
   "metadata": {},
   "outputs": [],
   "source": [
    "df_gen.head()"
   ]
  },
  {
   "cell_type": "code",
   "execution_count": null,
   "metadata": {},
   "outputs": [],
   "source": [
    "df_tot=df_new.groupby(\"Gender\")['tot_products'].describe()\n"
   ]
  },
  {
   "cell_type": "code",
   "execution_count": 101,
   "metadata": {},
   "outputs": [],
   "source": [
    "df_h = df_new[(df_new['Gender'] == 'H')]\n",
    "df_h.reset_index(inplace= True)\n",
    "\n",
    "df_v = df_new[(df_new['Gender'] == 'V')]\n",
    "df_v.reset_index(inplace= True)"
   ]
  },
  {
   "cell_type": "code",
   "execution_count": 102,
   "metadata": {},
   "outputs": [],
   "source": [
    "from scipy import stats\n"
   ]
  },
  {
   "cell_type": "code",
   "execution_count": 103,
   "metadata": {},
   "outputs": [
    {
     "data": {
      "text/plain": [
       "LeveneResult(statistic=359.2592994732463, pvalue=7.517628612673258e-80)"
      ]
     },
     "execution_count": 103,
     "metadata": {},
     "output_type": "execute_result"
    }
   ],
   "source": [
    "stats.levene(df_h['tot_products'], df_v['tot_products'])\n"
   ]
  },
  {
   "cell_type": "markdown",
   "metadata": {},
   "source": [
    "The test is significant based on p value , meaning there is no homogeneity of variances so we can conduct a Welch’s t-test."
   ]
  },
  {
   "cell_type": "code",
   "execution_count": 104,
   "metadata": {},
   "outputs": [
    {
     "data": {
      "text/plain": [
       "Ttest_indResult(statistic=-15.86769222791799, pvalue=1.4337098447257096e-56)"
      ]
     },
     "execution_count": 104,
     "metadata": {},
     "output_type": "execute_result"
    }
   ],
   "source": [
    "stats.ttest_ind(df_h['tot_products'], df_v['tot_products'], equal_var = False)"
   ]
  },
  {
   "cell_type": "markdown",
   "metadata": {},
   "source": [
    "The p-value is significant, therefore one can reject the null hypothesis in support of the alternative."
   ]
  },
  {
   "cell_type": "code",
   "execution_count": null,
   "metadata": {},
   "outputs": [],
   "source": []
  },
  {
   "cell_type": "markdown",
   "metadata": {},
   "source": [
    "# 2.People with more Age have more accounts\n",
    "\n"
   ]
  },
  {
   "cell_type": "code",
   "execution_count": 105,
   "metadata": {},
   "outputs": [],
   "source": [
    "df_age = df_new.groupby(['Age'])['tot_products'].agg('sum')\n",
    "\n"
   ]
  },
  {
   "cell_type": "markdown",
   "metadata": {},
   "source": [
    "H0 hypothesis: There is a relationship between Age  and Total Products\n",
    "\n",
    "HA hypothesis: There is not a relationship between Age  and Total Products\n",
    "\n"
   ]
  },
  {
   "cell_type": "code",
   "execution_count": 106,
   "metadata": {},
   "outputs": [
    {
     "data": {
      "text/html": [
       "<div>\n",
       "<style scoped>\n",
       "    .dataframe tbody tr th:only-of-type {\n",
       "        vertical-align: middle;\n",
       "    }\n",
       "\n",
       "    .dataframe tbody tr th {\n",
       "        vertical-align: top;\n",
       "    }\n",
       "\n",
       "    .dataframe thead th {\n",
       "        text-align: right;\n",
       "    }\n",
       "</style>\n",
       "<table border=\"1\" class=\"dataframe\">\n",
       "  <thead>\n",
       "    <tr style=\"text-align: right;\">\n",
       "      <th></th>\n",
       "      <th>Age</th>\n",
       "      <th>tot_products</th>\n",
       "    </tr>\n",
       "  </thead>\n",
       "  <tbody>\n",
       "    <tr>\n",
       "      <th>count</th>\n",
       "      <td>52895.000000</td>\n",
       "      <td>52996.000000</td>\n",
       "    </tr>\n",
       "    <tr>\n",
       "      <th>mean</th>\n",
       "      <td>40.241352</td>\n",
       "      <td>1.456582</td>\n",
       "    </tr>\n",
       "    <tr>\n",
       "      <th>std</th>\n",
       "      <td>16.865147</td>\n",
       "      <td>1.513714</td>\n",
       "    </tr>\n",
       "    <tr>\n",
       "      <th>min</th>\n",
       "      <td>18.000000</td>\n",
       "      <td>0.000000</td>\n",
       "    </tr>\n",
       "    <tr>\n",
       "      <th>25%</th>\n",
       "      <td>24.000000</td>\n",
       "      <td>1.000000</td>\n",
       "    </tr>\n",
       "    <tr>\n",
       "      <th>50%</th>\n",
       "      <td>39.000000</td>\n",
       "      <td>1.000000</td>\n",
       "    </tr>\n",
       "    <tr>\n",
       "      <th>75%</th>\n",
       "      <td>50.000000</td>\n",
       "      <td>2.000000</td>\n",
       "    </tr>\n",
       "    <tr>\n",
       "      <th>max</th>\n",
       "      <td>100.000000</td>\n",
       "      <td>13.000000</td>\n",
       "    </tr>\n",
       "  </tbody>\n",
       "</table>\n",
       "</div>"
      ],
      "text/plain": [
       "                Age  tot_products\n",
       "count  52895.000000  52996.000000\n",
       "mean      40.241352      1.456582\n",
       "std       16.865147      1.513714\n",
       "min       18.000000      0.000000\n",
       "25%       24.000000      1.000000\n",
       "50%       39.000000      1.000000\n",
       "75%       50.000000      2.000000\n",
       "max      100.000000     13.000000"
      ]
     },
     "execution_count": 106,
     "metadata": {},
     "output_type": "execute_result"
    }
   ],
   "source": [
    "df_new[[\"Age\", \"tot_products\"]].describe()\n"
   ]
  },
  {
   "cell_type": "code",
   "execution_count": 107,
   "metadata": {},
   "outputs": [
    {
     "data": {
      "text/plain": [
       "<matplotlib.axes._subplots.AxesSubplot at 0x1a24a00fd0>"
      ]
     },
     "execution_count": 107,
     "metadata": {},
     "output_type": "execute_result"
    },
    {
     "data": {
      "image/png": "[encoded data removed]",
      "text/plain": [
       "<Figure size 432x288 with 1 Axes>"
      ]
     },
     "metadata": {},
     "output_type": "display_data"
    }
   ],
   "source": [
    "df_new.plot.scatter(\"Age\", \"tot_products\")\n"
   ]
  },
  {
   "cell_type": "code",
   "execution_count": 108,
   "metadata": {},
   "outputs": [
    {
     "data": {
      "text/plain": [
       "0.1777673640482441"
      ]
     },
     "execution_count": 108,
     "metadata": {},
     "output_type": "execute_result"
    }
   ],
   "source": [
    "df_new['Age'].corr(df_new['tot_products'])\n"
   ]
  },
  {
   "cell_type": "code",
   "execution_count": 109,
   "metadata": {},
   "outputs": [
    {
     "data": {
      "text/plain": [
       "SpearmanrResult(correlation=0.2071627968113531, pvalue=masked_array(data=0.,\n",
       "             mask=False,\n",
       "       fill_value=1e+20))"
      ]
     },
     "execution_count": 109,
     "metadata": {},
     "output_type": "execute_result"
    }
   ],
   "source": [
    "stats.spearmanr(df_new['Age'], df_new['tot_products'],nan_policy='omit')\n"
   ]
  },
  {
   "cell_type": "code",
   "execution_count": 110,
   "metadata": {},
   "outputs": [
    {
     "data": {
      "text/plain": [
       "KendalltauResult(correlation=0.15957328067714796, pvalue=0.0)"
      ]
     },
     "execution_count": 110,
     "metadata": {},
     "output_type": "execute_result"
    }
   ],
   "source": [
    "stats.kendalltau(df_new['Age'], df_new['tot_products'],nan_policy='omit')\n"
   ]
  },
  {
   "cell_type": "markdown",
   "metadata": {},
   "source": [
    "Based on p-value and correlation we can reject null hypothesis and conclude that there is no relation between\n",
    "age and number of products owned."
   ]
  },
  {
   "cell_type": "markdown",
   "metadata": {},
   "source": [
    "# 2.People with more income have more accounts\n",
    "\n"
   ]
  },
  {
   "cell_type": "code",
   "execution_count": 111,
   "metadata": {},
   "outputs": [],
   "source": [
    "df_income = df_new.groupby(['HouseHold_Gross_Income'])['tot_products'].agg('sum')\n",
    "\n"
   ]
  },
  {
   "cell_type": "code",
   "execution_count": 112,
   "metadata": {},
   "outputs": [
    {
     "data": {
      "text/plain": [
       "<matplotlib.axes._subplots.AxesSubplot at 0x1a23a1a160>"
      ]
     },
     "execution_count": 112,
     "metadata": {},
     "output_type": "execute_result"
    },
    {
     "data": {
      "image/png": "[encoded data removed]",
      "text/plain": [
       "<Figure size 432x288 with 1 Axes>"
      ]
     },
     "metadata": {},
     "output_type": "display_data"
    }
   ],
   "source": [
    "df_new.plot.scatter(\"HouseHold_Gross_Income\", \"tot_products\")\n",
    "\n"
   ]
  },
  {
   "cell_type": "code",
   "execution_count": 113,
   "metadata": {},
   "outputs": [
    {
     "data": {
      "text/plain": [
       "0.027918895924744083"
      ]
     },
     "execution_count": 113,
     "metadata": {},
     "output_type": "execute_result"
    }
   ],
   "source": [
    "df_new['HouseHold_Gross_Income'].corr(df_new['tot_products'])\n",
    "\n"
   ]
  },
  {
   "cell_type": "code",
   "execution_count": 114,
   "metadata": {},
   "outputs": [
    {
     "data": {
      "text/plain": [
       "SpearmanrResult(correlation=0.09197021062107787, pvalue=masked_array(data=1.04488228e-79,\n",
       "             mask=False,\n",
       "       fill_value=1e+20))"
      ]
     },
     "execution_count": 114,
     "metadata": {},
     "output_type": "execute_result"
    }
   ],
   "source": [
    "stats.spearmanr(df_new['HouseHold_Gross_Income'], df_new['tot_products'],nan_policy='omit')\n",
    "\n"
   ]
  },
  {
   "cell_type": "code",
   "execution_count": 115,
   "metadata": {},
   "outputs": [
    {
     "data": {
      "text/plain": [
       "KendalltauResult(correlation=0.06940088986196809, pvalue=2.5571463514028083e-80)"
      ]
     },
     "execution_count": 115,
     "metadata": {},
     "output_type": "execute_result"
    }
   ],
   "source": [
    "stats.kendalltau(df_new['HouseHold_Gross_Income'], df_new['tot_products'],nan_policy='omit')\n",
    "\n"
   ]
  },
  {
   "cell_type": "markdown",
   "metadata": {},
   "source": [
    "Based on p-value and correlation we can reject null hypothesis and conclude that there is no relation between\n",
    "income and number of products owned."
   ]
  },
  {
   "cell_type": "code",
   "execution_count": 116,
   "metadata": {},
   "outputs": [
    {
     "data": {
      "text/html": [
       "<div>\n",
       "<style scoped>\n",
       "    .dataframe tbody tr th:only-of-type {\n",
       "        vertical-align: middle;\n",
       "    }\n",
       "\n",
       "    .dataframe tbody tr th {\n",
       "        vertical-align: top;\n",
       "    }\n",
       "\n",
       "    .dataframe thead th {\n",
       "        text-align: right;\n",
       "    }\n",
       "</style>\n",
       "<table border=\"1\" class=\"dataframe\">\n",
       "  <thead>\n",
       "    <tr style=\"text-align: right;\">\n",
       "      <th></th>\n",
       "      <th>Date</th>\n",
       "      <th>Customer_Code</th>\n",
       "      <th>Employee_Index</th>\n",
       "      <th>Country</th>\n",
       "      <th>Gender</th>\n",
       "      <th>Age</th>\n",
       "      <th>First_holder_Date</th>\n",
       "      <th>New_Customer_Index</th>\n",
       "      <th>Customer_Seniority</th>\n",
       "      <th>Primary_Customer</th>\n",
       "      <th>...</th>\n",
       "      <th>Pensions</th>\n",
       "      <th>Loans</th>\n",
       "      <th>Taxes</th>\n",
       "      <th>Credit_Card</th>\n",
       "      <th>Securities</th>\n",
       "      <th>Home_Account</th>\n",
       "      <th>Payroll</th>\n",
       "      <th>Pensions</th>\n",
       "      <th>Direct_Debit</th>\n",
       "      <th>tot_products</th>\n",
       "    </tr>\n",
       "  </thead>\n",
       "  <tbody>\n",
       "    <tr>\n",
       "      <th>2406613</th>\n",
       "      <td>2015-04-28</td>\n",
       "      <td>886976</td>\n",
       "      <td>N</td>\n",
       "      <td>ES</td>\n",
       "      <td>H</td>\n",
       "      <td>49.0</td>\n",
       "      <td>2010-07-27</td>\n",
       "      <td>0.0</td>\n",
       "      <td>60.0</td>\n",
       "      <td>1.0</td>\n",
       "      <td>...</td>\n",
       "      <td>0</td>\n",
       "      <td>0</td>\n",
       "      <td>0</td>\n",
       "      <td>1</td>\n",
       "      <td>0</td>\n",
       "      <td>0</td>\n",
       "      <td>0.0</td>\n",
       "      <td>0.0</td>\n",
       "      <td>0</td>\n",
       "      <td>4.0</td>\n",
       "    </tr>\n",
       "    <tr>\n",
       "      <th>6466267</th>\n",
       "      <td>2015-10-28</td>\n",
       "      <td>950206</td>\n",
       "      <td>N</td>\n",
       "      <td>ES</td>\n",
       "      <td>H</td>\n",
       "      <td>24.0</td>\n",
       "      <td>2011-09-28</td>\n",
       "      <td>0.0</td>\n",
       "      <td>49.0</td>\n",
       "      <td>1.0</td>\n",
       "      <td>...</td>\n",
       "      <td>0</td>\n",
       "      <td>0</td>\n",
       "      <td>0</td>\n",
       "      <td>0</td>\n",
       "      <td>0</td>\n",
       "      <td>0</td>\n",
       "      <td>0.0</td>\n",
       "      <td>0.0</td>\n",
       "      <td>0</td>\n",
       "      <td>1.0</td>\n",
       "    </tr>\n",
       "    <tr>\n",
       "      <th>10239289</th>\n",
       "      <td>2016-02-28</td>\n",
       "      <td>474137</td>\n",
       "      <td>N</td>\n",
       "      <td>ES</td>\n",
       "      <td>V</td>\n",
       "      <td>58.0</td>\n",
       "      <td>2004-05-14</td>\n",
       "      <td>0.0</td>\n",
       "      <td>141.0</td>\n",
       "      <td>1.0</td>\n",
       "      <td>...</td>\n",
       "      <td>0</td>\n",
       "      <td>0</td>\n",
       "      <td>0</td>\n",
       "      <td>0</td>\n",
       "      <td>0</td>\n",
       "      <td>0</td>\n",
       "      <td>0.0</td>\n",
       "      <td>0.0</td>\n",
       "      <td>0</td>\n",
       "      <td>0.0</td>\n",
       "    </tr>\n",
       "    <tr>\n",
       "      <th>6681075</th>\n",
       "      <td>2015-10-28</td>\n",
       "      <td>1236387</td>\n",
       "      <td>N</td>\n",
       "      <td>ES</td>\n",
       "      <td>V</td>\n",
       "      <td>34.0</td>\n",
       "      <td>2014-01-07</td>\n",
       "      <td>0.0</td>\n",
       "      <td>21.0</td>\n",
       "      <td>1.0</td>\n",
       "      <td>...</td>\n",
       "      <td>0</td>\n",
       "      <td>0</td>\n",
       "      <td>0</td>\n",
       "      <td>0</td>\n",
       "      <td>0</td>\n",
       "      <td>0</td>\n",
       "      <td>0.0</td>\n",
       "      <td>0.0</td>\n",
       "      <td>0</td>\n",
       "      <td>1.0</td>\n",
       "    </tr>\n",
       "    <tr>\n",
       "      <th>2305701</th>\n",
       "      <td>2015-04-28</td>\n",
       "      <td>1359789</td>\n",
       "      <td>N</td>\n",
       "      <td>ES</td>\n",
       "      <td>H</td>\n",
       "      <td>22.0</td>\n",
       "      <td>2014-11-24</td>\n",
       "      <td>0.0</td>\n",
       "      <td>8.0</td>\n",
       "      <td>1.0</td>\n",
       "      <td>...</td>\n",
       "      <td>0</td>\n",
       "      <td>0</td>\n",
       "      <td>0</td>\n",
       "      <td>0</td>\n",
       "      <td>0</td>\n",
       "      <td>0</td>\n",
       "      <td>0.0</td>\n",
       "      <td>0.0</td>\n",
       "      <td>0</td>\n",
       "      <td>1.0</td>\n",
       "    </tr>\n",
       "  </tbody>\n",
       "</table>\n",
       "<p>5 rows × 47 columns</p>\n",
       "</div>"
      ],
      "text/plain": [
       "               Date  Customer_Code Employee_Index Country Gender   Age  \\\n",
       "2406613  2015-04-28         886976              N      ES      H  49.0   \n",
       "6466267  2015-10-28         950206              N      ES      H  24.0   \n",
       "10239289 2016-02-28         474137              N      ES      V  58.0   \n",
       "6681075  2015-10-28        1236387              N      ES      V  34.0   \n",
       "2305701  2015-04-28        1359789              N      ES      H  22.0   \n",
       "\n",
       "         First_holder_Date  New_Customer_Index  Customer_Seniority  \\\n",
       "2406613         2010-07-27                 0.0                60.0   \n",
       "6466267         2011-09-28                 0.0                49.0   \n",
       "10239289        2004-05-14                 0.0               141.0   \n",
       "6681075         2014-01-07                 0.0                21.0   \n",
       "2305701         2014-11-24                 0.0                 8.0   \n",
       "\n",
       "          Primary_Customer      ...       Pensions Loans Taxes Credit_Card  \\\n",
       "2406613                1.0      ...              0     0     0           1   \n",
       "6466267                1.0      ...              0     0     0           0   \n",
       "10239289               1.0      ...              0     0     0           0   \n",
       "6681075                1.0      ...              0     0     0           0   \n",
       "2305701                1.0      ...              0     0     0           0   \n",
       "\n",
       "         Securities Home_Account  Payroll  Pensions Direct_Debit  tot_products  \n",
       "2406613           0            0      0.0       0.0            0           4.0  \n",
       "6466267           0            0      0.0       0.0            0           1.0  \n",
       "10239289          0            0      0.0       0.0            0           0.0  \n",
       "6681075           0            0      0.0       0.0            0           1.0  \n",
       "2305701           0            0      0.0       0.0            0           1.0  \n",
       "\n",
       "[5 rows x 47 columns]"
      ]
     },
     "execution_count": 116,
     "metadata": {},
     "output_type": "execute_result"
    }
   ],
   "source": [
    "df_new.head()"
   ]
  },
  {
   "cell_type": "markdown",
   "metadata": {},
   "source": [
    "# Recommender System"
   ]
  },
  {
   "cell_type": "code",
   "execution_count": 117,
   "metadata": {},
   "outputs": [
    {
     "data": {
      "text/plain": [
       "Date                                0.000000\n",
       "Customer_Code                       0.000000\n",
       "Employee_Index                      0.001906\n",
       "Country                             0.001906\n",
       "Gender                              0.001906\n",
       "Age                                 0.001906\n",
       "First_holder_Date                   0.001906\n",
       "New_Customer_Index                  0.001906\n",
       "Customer_Seniority                  0.001906\n",
       "Primary_Customer                    0.001906\n",
       "Customer_type_beginning_of_month    0.011152\n",
       "Customer_relation_month_begining    0.011152\n",
       "Residence_index                     0.001906\n",
       "Foreigner_index                     0.001906\n",
       "Joining_channel                     0.014190\n",
       "Deceased_index                      0.001906\n",
       "primary_address                     0.001906\n",
       "Province_code                       0.006736\n",
       "Province_name                       0.006736\n",
       "Active_OrNot                        0.001906\n",
       "HouseHold_Gross_Income              0.206072\n",
       "Segmentation                        0.014341\n",
       "Saving_Account                      0.000000\n",
       "Guarantees                          0.000000\n",
       "Current_Accounts                    0.000000\n",
       "Derivada_Account                    0.000000\n",
       "Payroll_Account                     0.000000\n",
       "Junior_Account                      0.000000\n",
       "Más_particular_Account              0.000000\n",
       "particular_Account                  0.000000\n",
       "particular_Plus_Account             0.000000\n",
       "Short_term_deposits                 0.000000\n",
       "Medium_term_deposits                0.000000\n",
       "Long_term_deposits                  0.000000\n",
       "e_account                           0.000000\n",
       "Funds                               0.000000\n",
       "Mortgage                            0.000000\n",
       "Pensions                            0.000000\n",
       "Loans                               0.000000\n",
       "Taxes                               0.000000\n",
       "Credit_Card                         0.000000\n",
       "Securities                          0.000000\n",
       "Home_Account                        0.000000\n",
       "Payroll                             0.001132\n",
       "Pensions                            0.001132\n",
       "Direct_Debit                        0.000000\n",
       "tot_products                        0.000000\n",
       "dtype: float64"
      ]
     },
     "execution_count": 117,
     "metadata": {},
     "output_type": "execute_result"
    }
   ],
   "source": [
    "df_new.isnull().mean()"
   ]
  },
  {
   "cell_type": "code",
   "execution_count": 119,
   "metadata": {},
   "outputs": [
    {
     "data": {
      "text/html": [
       "<div>\n",
       "<style scoped>\n",
       "    .dataframe tbody tr th:only-of-type {\n",
       "        vertical-align: middle;\n",
       "    }\n",
       "\n",
       "    .dataframe tbody tr th {\n",
       "        vertical-align: top;\n",
       "    }\n",
       "\n",
       "    .dataframe thead th {\n",
       "        text-align: right;\n",
       "    }\n",
       "</style>\n",
       "<table border=\"1\" class=\"dataframe\">\n",
       "  <thead>\n",
       "    <tr style=\"text-align: right;\">\n",
       "      <th></th>\n",
       "      <th>Date</th>\n",
       "      <th>Customer_Code</th>\n",
       "      <th>Employee_Index</th>\n",
       "      <th>Country</th>\n",
       "      <th>Gender</th>\n",
       "      <th>Age</th>\n",
       "      <th>First_holder_Date</th>\n",
       "      <th>New_Customer_Index</th>\n",
       "      <th>Customer_Seniority</th>\n",
       "      <th>Primary_Customer</th>\n",
       "      <th>...</th>\n",
       "      <th>Pensions</th>\n",
       "      <th>Loans</th>\n",
       "      <th>Taxes</th>\n",
       "      <th>Credit_Card</th>\n",
       "      <th>Securities</th>\n",
       "      <th>Home_Account</th>\n",
       "      <th>Payroll</th>\n",
       "      <th>Pensions</th>\n",
       "      <th>Direct_Debit</th>\n",
       "      <th>tot_products</th>\n",
       "    </tr>\n",
       "  </thead>\n",
       "  <tbody>\n",
       "    <tr>\n",
       "      <th>2406613</th>\n",
       "      <td>2015-04-28</td>\n",
       "      <td>886976</td>\n",
       "      <td>N</td>\n",
       "      <td>ES</td>\n",
       "      <td>H</td>\n",
       "      <td>49.0</td>\n",
       "      <td>2010-07-27</td>\n",
       "      <td>0.0</td>\n",
       "      <td>60.0</td>\n",
       "      <td>1.0</td>\n",
       "      <td>...</td>\n",
       "      <td>0</td>\n",
       "      <td>0</td>\n",
       "      <td>0</td>\n",
       "      <td>1</td>\n",
       "      <td>0</td>\n",
       "      <td>0</td>\n",
       "      <td>0.0</td>\n",
       "      <td>0.0</td>\n",
       "      <td>0</td>\n",
       "      <td>4.0</td>\n",
       "    </tr>\n",
       "    <tr>\n",
       "      <th>6466267</th>\n",
       "      <td>2015-10-28</td>\n",
       "      <td>950206</td>\n",
       "      <td>N</td>\n",
       "      <td>ES</td>\n",
       "      <td>H</td>\n",
       "      <td>24.0</td>\n",
       "      <td>2011-09-28</td>\n",
       "      <td>0.0</td>\n",
       "      <td>49.0</td>\n",
       "      <td>1.0</td>\n",
       "      <td>...</td>\n",
       "      <td>0</td>\n",
       "      <td>0</td>\n",
       "      <td>0</td>\n",
       "      <td>0</td>\n",
       "      <td>0</td>\n",
       "      <td>0</td>\n",
       "      <td>0.0</td>\n",
       "      <td>0.0</td>\n",
       "      <td>0</td>\n",
       "      <td>1.0</td>\n",
       "    </tr>\n",
       "    <tr>\n",
       "      <th>10239289</th>\n",
       "      <td>2016-02-28</td>\n",
       "      <td>474137</td>\n",
       "      <td>N</td>\n",
       "      <td>ES</td>\n",
       "      <td>V</td>\n",
       "      <td>58.0</td>\n",
       "      <td>2004-05-14</td>\n",
       "      <td>0.0</td>\n",
       "      <td>141.0</td>\n",
       "      <td>1.0</td>\n",
       "      <td>...</td>\n",
       "      <td>0</td>\n",
       "      <td>0</td>\n",
       "      <td>0</td>\n",
       "      <td>0</td>\n",
       "      <td>0</td>\n",
       "      <td>0</td>\n",
       "      <td>0.0</td>\n",
       "      <td>0.0</td>\n",
       "      <td>0</td>\n",
       "      <td>0.0</td>\n",
       "    </tr>\n",
       "    <tr>\n",
       "      <th>6681075</th>\n",
       "      <td>2015-10-28</td>\n",
       "      <td>1236387</td>\n",
       "      <td>N</td>\n",
       "      <td>ES</td>\n",
       "      <td>V</td>\n",
       "      <td>34.0</td>\n",
       "      <td>2014-01-07</td>\n",
       "      <td>0.0</td>\n",
       "      <td>21.0</td>\n",
       "      <td>1.0</td>\n",
       "      <td>...</td>\n",
       "      <td>0</td>\n",
       "      <td>0</td>\n",
       "      <td>0</td>\n",
       "      <td>0</td>\n",
       "      <td>0</td>\n",
       "      <td>0</td>\n",
       "      <td>0.0</td>\n",
       "      <td>0.0</td>\n",
       "      <td>0</td>\n",
       "      <td>1.0</td>\n",
       "    </tr>\n",
       "    <tr>\n",
       "      <th>2305701</th>\n",
       "      <td>2015-04-28</td>\n",
       "      <td>1359789</td>\n",
       "      <td>N</td>\n",
       "      <td>ES</td>\n",
       "      <td>H</td>\n",
       "      <td>22.0</td>\n",
       "      <td>2014-11-24</td>\n",
       "      <td>0.0</td>\n",
       "      <td>8.0</td>\n",
       "      <td>1.0</td>\n",
       "      <td>...</td>\n",
       "      <td>0</td>\n",
       "      <td>0</td>\n",
       "      <td>0</td>\n",
       "      <td>0</td>\n",
       "      <td>0</td>\n",
       "      <td>0</td>\n",
       "      <td>0.0</td>\n",
       "      <td>0.0</td>\n",
       "      <td>0</td>\n",
       "      <td>1.0</td>\n",
       "    </tr>\n",
       "  </tbody>\n",
       "</table>\n",
       "<p>5 rows × 47 columns</p>\n",
       "</div>"
      ],
      "text/plain": [
       "               Date  Customer_Code Employee_Index Country Gender   Age  \\\n",
       "2406613  2015-04-28         886976              N      ES      H  49.0   \n",
       "6466267  2015-10-28         950206              N      ES      H  24.0   \n",
       "10239289 2016-02-28         474137              N      ES      V  58.0   \n",
       "6681075  2015-10-28        1236387              N      ES      V  34.0   \n",
       "2305701  2015-04-28        1359789              N      ES      H  22.0   \n",
       "\n",
       "         First_holder_Date  New_Customer_Index  Customer_Seniority  \\\n",
       "2406613         2010-07-27                 0.0                60.0   \n",
       "6466267         2011-09-28                 0.0                49.0   \n",
       "10239289        2004-05-14                 0.0               141.0   \n",
       "6681075         2014-01-07                 0.0                21.0   \n",
       "2305701         2014-11-24                 0.0                 8.0   \n",
       "\n",
       "          Primary_Customer      ...       Pensions Loans Taxes Credit_Card  \\\n",
       "2406613                1.0      ...              0     0     0           1   \n",
       "6466267                1.0      ...              0     0     0           0   \n",
       "10239289               1.0      ...              0     0     0           0   \n",
       "6681075                1.0      ...              0     0     0           0   \n",
       "2305701                1.0      ...              0     0     0           0   \n",
       "\n",
       "         Securities Home_Account  Payroll  Pensions Direct_Debit  tot_products  \n",
       "2406613           0            0      0.0       0.0            0           4.0  \n",
       "6466267           0            0      0.0       0.0            0           1.0  \n",
       "10239289          0            0      0.0       0.0            0           0.0  \n",
       "6681075           0            0      0.0       0.0            0           1.0  \n",
       "2305701           0            0      0.0       0.0            0           1.0  \n",
       "\n",
       "[5 rows x 47 columns]"
      ]
     },
     "execution_count": 119,
     "metadata": {},
     "output_type": "execute_result"
    }
   ],
   "source": [
    "df_new.head()"
   ]
  },
  {
   "cell_type": "code",
   "execution_count": 120,
   "metadata": {},
   "outputs": [],
   "source": [
    "\n",
    "\n",
    "# categorical variables\n",
    "df_new['Country'] = df_new.Country.astype('category')\n",
    "df_new['Gender'] = df_new.Gender.astype('category')\n",
    "df_new['Province_name'] = df_new.Province_name.astype('category')\n",
    "\n",
    "df_new['Customer_type_beginning_of_month'] = df_new.Customer_type_beginning_of_month.astype('category')\n",
    "\n",
    "df_new['Customer_relation_month_begining'] = df_new.Customer_relation_month_begining.astype('category')\n",
    "\n",
    "\n",
    "df_new['Residence_index'] = df_new.Residence_index.astype('category')\n",
    "\n",
    "df_new['Foreigner_index'] = df_new.Foreigner_index.astype('category')\n",
    "\n",
    "\n",
    "df_new['Joining_channel'] = df_new.Joining_channel.astype('category')\n",
    "\n",
    "df_new['Deceased_index'] = df_new.Deceased_index.astype('category')\n",
    "\n",
    "\n",
    "df_new['primary_address'] = df_new.primary_address.astype('category')\n",
    "\n",
    "df_new['Segmentation']=df_new.Segmentation.astype('category')\n",
    "   "
   ]
  },
  {
   "cell_type": "code",
   "execution_count": 121,
   "metadata": {},
   "outputs": [
    {
     "data": {
      "text/plain": [
       "Date                                datetime64[ns]\n",
       "Customer_Code                                int64\n",
       "Employee_Index                              object\n",
       "Country                                   category\n",
       "Gender                                    category\n",
       "Age                                        float64\n",
       "First_holder_Date                   datetime64[ns]\n",
       "New_Customer_Index                         float64\n",
       "Customer_Seniority                         float64\n",
       "Primary_Customer                           float64\n",
       "Customer_type_beginning_of_month          category\n",
       "Customer_relation_month_begining          category\n",
       "Residence_index                           category\n",
       "Foreigner_index                           category\n",
       "Joining_channel                           category\n",
       "Deceased_index                            category\n",
       "primary_address                           category\n",
       "Province_code                              float64\n",
       "Province_name                             category\n",
       "Active_OrNot                               float64\n",
       "HouseHold_Gross_Income                     float64\n",
       "Segmentation                              category\n",
       "Saving_Account                               int64\n",
       "Guarantees                                   int64\n",
       "Current_Accounts                             int64\n",
       "Derivada_Account                             int64\n",
       "Payroll_Account                              int64\n",
       "Junior_Account                               int64\n",
       "Más_particular_Account                       int64\n",
       "particular_Account                           int64\n",
       "particular_Plus_Account                      int64\n",
       "Short_term_deposits                          int64\n",
       "Medium_term_deposits                         int64\n",
       "Long_term_deposits                           int64\n",
       "e_account                                    int64\n",
       "Funds                                        int64\n",
       "Mortgage                                     int64\n",
       "Pensions                                     int64\n",
       "Loans                                        int64\n",
       "Taxes                                        int64\n",
       "Credit_Card                                  int64\n",
       "Securities                                   int64\n",
       "Home_Account                                 int64\n",
       "Payroll                                    float64\n",
       "Pensions                                   float64\n",
       "Direct_Debit                                 int64\n",
       "tot_products                               float64\n",
       "dtype: object"
      ]
     },
     "execution_count": 121,
     "metadata": {},
     "output_type": "execute_result"
    }
   ],
   "source": [
    "df_new.dtypes"
   ]
  },
  {
   "cell_type": "code",
   "execution_count": 122,
   "metadata": {},
   "outputs": [],
   "source": [
    "df_new=df_new.drop(['Customer_Code','Employee_Index','Province_code','primary_address'],axis=1)"
   ]
  },
  {
   "cell_type": "code",
   "execution_count": 123,
   "metadata": {},
   "outputs": [],
   "source": [
    "#df.isnull().mean()"
   ]
  },
  {
   "cell_type": "code",
   "execution_count": 153,
   "metadata": {},
   "outputs": [],
   "source": [
    "most_frequent_category = df_new.groupby(['Country'])['Country'].count().sort_values(ascending=False).index[0]\n",
    "\n"
   ]
  },
  {
   "cell_type": "code",
   "execution_count": 154,
   "metadata": {},
   "outputs": [],
   "source": [
    "df_new['Country'].fillna(most_frequent_category, inplace=True)"
   ]
  },
  {
   "cell_type": "code",
   "execution_count": 155,
   "metadata": {},
   "outputs": [],
   "source": [
    "most_frequent_category = df_new.groupby(['Gender'])['Gender'].count().sort_values(ascending=False).index[0]\n",
    "\n"
   ]
  },
  {
   "cell_type": "code",
   "execution_count": 156,
   "metadata": {},
   "outputs": [],
   "source": [
    "df_new['Gender'].fillna(most_frequent_category, inplace=True)"
   ]
  },
  {
   "cell_type": "code",
   "execution_count": 157,
   "metadata": {},
   "outputs": [],
   "source": [
    "df_new['Age'] = df_new['Age'].fillna(df_new['Age'].median())"
   ]
  },
  {
   "cell_type": "code",
   "execution_count": 158,
   "metadata": {},
   "outputs": [],
   "source": [
    "most_frequent_category = df_new.groupby(['First_holder_Date'])['First_holder_Date'].count().sort_values(ascending=False).index[0]\n",
    "\n"
   ]
  },
  {
   "cell_type": "code",
   "execution_count": 159,
   "metadata": {},
   "outputs": [],
   "source": [
    "df_new['First_holder_Date'].fillna(most_frequent_category, inplace=True)"
   ]
  },
  {
   "cell_type": "code",
   "execution_count": 160,
   "metadata": {},
   "outputs": [],
   "source": [
    "most_frequent_category = df_new.groupby(['New_Customer_Index'])['New_Customer_Index'].count().sort_values(ascending=False).index[0]\n",
    "\n"
   ]
  },
  {
   "cell_type": "code",
   "execution_count": 161,
   "metadata": {},
   "outputs": [],
   "source": [
    "df_new['New_Customer_Index'].fillna(most_frequent_category, inplace=True)"
   ]
  },
  {
   "cell_type": "code",
   "execution_count": null,
   "metadata": {},
   "outputs": [],
   "source": []
  },
  {
   "cell_type": "code",
   "execution_count": 162,
   "metadata": {},
   "outputs": [],
   "source": [
    "df_new['Pensions'] = df_new['Pensions'].fillna(0)"
   ]
  },
  {
   "cell_type": "code",
   "execution_count": 163,
   "metadata": {},
   "outputs": [],
   "source": [
    "df_new['Payroll'] = df_new['Payroll'].fillna(df_new['Payroll'].median())"
   ]
  },
  {
   "cell_type": "code",
   "execution_count": 164,
   "metadata": {},
   "outputs": [],
   "source": [
    "df_new['HouseHold_Gross_Income'] = df_new['HouseHold_Gross_Income'].fillna(df_new['HouseHold_Gross_Income'].median())"
   ]
  },
  {
   "cell_type": "code",
   "execution_count": null,
   "metadata": {},
   "outputs": [],
   "source": []
  },
  {
   "cell_type": "code",
   "execution_count": 165,
   "metadata": {},
   "outputs": [
    {
     "data": {
      "text/plain": [
       "Date                                0.000000\n",
       "Country                             0.001906\n",
       "Gender                              0.001906\n",
       "Age                                 0.000000\n",
       "First_holder_Date                   0.001906\n",
       "New_Customer_Index                  0.001906\n",
       "Customer_Seniority                  0.001906\n",
       "Primary_Customer                    0.001906\n",
       "Customer_type_beginning_of_month    0.011152\n",
       "Customer_relation_month_begining    0.011152\n",
       "Residence_index                     0.001906\n",
       "Foreigner_index                     0.001906\n",
       "Joining_channel                     0.014190\n",
       "Deceased_index                      0.001906\n",
       "Province_name                       0.006736\n",
       "Active_OrNot                        0.001906\n",
       "HouseHold_Gross_Income              0.000000\n",
       "Segmentation                        0.014341\n",
       "Saving_Account                      0.000000\n",
       "Guarantees                          0.000000\n",
       "Current_Accounts                    0.000000\n",
       "Derivada_Account                    0.000000\n",
       "Payroll_Account                     0.000000\n",
       "Junior_Account                      0.000000\n",
       "Más_particular_Account              0.000000\n",
       "particular_Account                  0.000000\n",
       "particular_Plus_Account             0.000000\n",
       "Short_term_deposits                 0.000000\n",
       "Medium_term_deposits                0.000000\n",
       "Long_term_deposits                  0.000000\n",
       "e_account                           0.000000\n",
       "Funds                               0.000000\n",
       "Mortgage                            0.000000\n",
       "Pensions                            0.000000\n",
       "Loans                               0.000000\n",
       "Taxes                               0.000000\n",
       "Credit_Card                         0.000000\n",
       "Securities                          0.000000\n",
       "Home_Account                        0.000000\n",
       "Payroll                             0.000000\n",
       "Pensions                            0.000000\n",
       "Direct_Debit                        0.000000\n",
       "tot_products                        0.000000\n",
       "dtype: float64"
      ]
     },
     "execution_count": 165,
     "metadata": {},
     "output_type": "execute_result"
    }
   ],
   "source": [
    "df_new.isnull().mean()"
   ]
  },
  {
   "cell_type": "code",
   "execution_count": 166,
   "metadata": {},
   "outputs": [
    {
     "data": {
      "text/plain": [
       "'02 - PARTICULARES'"
      ]
     },
     "execution_count": 166,
     "metadata": {},
     "output_type": "execute_result"
    }
   ],
   "source": [
    "most_frequent_category = df_new.groupby(['Segmentation'])['Segmentation'].count().sort_values(ascending=False).index[0]\n",
    "\n",
    "most_frequent_category"
   ]
  },
  {
   "cell_type": "code",
   "execution_count": 167,
   "metadata": {},
   "outputs": [],
   "source": [
    "df_new['Segmentation'].fillna(most_frequent_category, inplace=True)"
   ]
  },
  {
   "cell_type": "code",
   "execution_count": 168,
   "metadata": {},
   "outputs": [
    {
     "data": {
      "text/plain": [
       "Date                                0.000000\n",
       "Country                             0.001906\n",
       "Gender                              0.001906\n",
       "Age                                 0.000000\n",
       "First_holder_Date                   0.001906\n",
       "New_Customer_Index                  0.001906\n",
       "Customer_Seniority                  0.001906\n",
       "Primary_Customer                    0.001906\n",
       "Customer_type_beginning_of_month    0.011152\n",
       "Customer_relation_month_begining    0.011152\n",
       "Residence_index                     0.001906\n",
       "Foreigner_index                     0.001906\n",
       "Joining_channel                     0.014190\n",
       "Deceased_index                      0.001906\n",
       "Province_name                       0.006736\n",
       "Active_OrNot                        0.001906\n",
       "HouseHold_Gross_Income              0.000000\n",
       "Segmentation                        0.014341\n",
       "Saving_Account                      0.000000\n",
       "Guarantees                          0.000000\n",
       "Current_Accounts                    0.000000\n",
       "Derivada_Account                    0.000000\n",
       "Payroll_Account                     0.000000\n",
       "Junior_Account                      0.000000\n",
       "Más_particular_Account              0.000000\n",
       "particular_Account                  0.000000\n",
       "particular_Plus_Account             0.000000\n",
       "Short_term_deposits                 0.000000\n",
       "Medium_term_deposits                0.000000\n",
       "Long_term_deposits                  0.000000\n",
       "e_account                           0.000000\n",
       "Funds                               0.000000\n",
       "Mortgage                            0.000000\n",
       "Pensions                            0.000000\n",
       "Loans                               0.000000\n",
       "Taxes                               0.000000\n",
       "Credit_Card                         0.000000\n",
       "Securities                          0.000000\n",
       "Home_Account                        0.000000\n",
       "Payroll                             0.000000\n",
       "Pensions                            0.000000\n",
       "Direct_Debit                        0.000000\n",
       "tot_products                        0.000000\n",
       "dtype: float64"
      ]
     },
     "execution_count": 168,
     "metadata": {},
     "output_type": "execute_result"
    }
   ],
   "source": [
    "df_new.isnull().mean()"
   ]
  },
  {
   "cell_type": "code",
   "execution_count": 146,
   "metadata": {},
   "outputs": [
    {
     "data": {
      "text/plain": [
       "CategoricalDtype(categories=['01 - TOP', '02 - PARTICULARES', '03 - UNIVERSITARIO'], ordered=False)"
      ]
     },
     "execution_count": 146,
     "metadata": {},
     "output_type": "execute_result"
    }
   ],
   "source": [
    "df_new['Segmentation'].dtypes"
   ]
  },
  {
   "cell_type": "code",
   "execution_count": 147,
   "metadata": {},
   "outputs": [
    {
     "data": {
      "text/plain": [
       "[02 - PARTICULARES, 03 - UNIVERSITARIO, 01 - TOP, NaN]\n",
       "Categories (3, object): [02 - PARTICULARES, 03 - UNIVERSITARIO, 01 - TOP]"
      ]
     },
     "execution_count": 147,
     "metadata": {},
     "output_type": "execute_result"
    }
   ],
   "source": [
    "df_new.Segmentation.unique()\n"
   ]
  },
  {
   "cell_type": "code",
   "execution_count": 148,
   "metadata": {},
   "outputs": [],
   "source": [
    "df_new['Segmentation'].fillna(most_frequent_category, inplace=True)"
   ]
  },
  {
   "cell_type": "code",
   "execution_count": 149,
   "metadata": {},
   "outputs": [
    {
     "data": {
      "text/plain": [
       "Date                                0.000000\n",
       "Country                             0.001906\n",
       "Gender                              0.001906\n",
       "Age                                 0.000000\n",
       "First_holder_Date                   0.001906\n",
       "New_Customer_Index                  0.001906\n",
       "Customer_Seniority                  0.001906\n",
       "Primary_Customer                    0.001906\n",
       "Customer_type_beginning_of_month    0.011152\n",
       "Customer_relation_month_begining    0.011152\n",
       "Residence_index                     0.001906\n",
       "Foreigner_index                     0.001906\n",
       "Joining_channel                     0.014190\n",
       "Deceased_index                      0.001906\n",
       "Province_name                       0.006736\n",
       "Active_OrNot                        0.001906\n",
       "HouseHold_Gross_Income              0.000000\n",
       "Segmentation                        0.014341\n",
       "Saving_Account                      0.000000\n",
       "Guarantees                          0.000000\n",
       "Current_Accounts                    0.000000\n",
       "Derivada_Account                    0.000000\n",
       "Payroll_Account                     0.000000\n",
       "Junior_Account                      0.000000\n",
       "Más_particular_Account              0.000000\n",
       "particular_Account                  0.000000\n",
       "particular_Plus_Account             0.000000\n",
       "Short_term_deposits                 0.000000\n",
       "Medium_term_deposits                0.000000\n",
       "Long_term_deposits                  0.000000\n",
       "e_account                           0.000000\n",
       "Funds                               0.000000\n",
       "Mortgage                            0.000000\n",
       "Pensions                            0.000000\n",
       "Loans                               0.000000\n",
       "Taxes                               0.000000\n",
       "Credit_Card                         0.000000\n",
       "Securities                          0.000000\n",
       "Home_Account                        0.000000\n",
       "Payroll                             0.000000\n",
       "Pensions                            0.000000\n",
       "Direct_Debit                        0.000000\n",
       "tot_products                        0.000000\n",
       "dtype: float64"
      ]
     },
     "execution_count": 149,
     "metadata": {},
     "output_type": "execute_result"
    }
   ],
   "source": [
    "df_new.isnull().mean()"
   ]
  },
  {
   "cell_type": "code",
   "execution_count": 150,
   "metadata": {},
   "outputs": [],
   "source": [
    "indexNames = df_new[df_new['Country'] == 'NaN' ].index\n",
    " \n",
    "# Delete these row indexes from dataFrame\n",
    "df_new.drop(indexNames , inplace=True)"
   ]
  },
  {
   "cell_type": "code",
   "execution_count": 151,
   "metadata": {},
   "outputs": [
    {
     "data": {
      "text/plain": [
       "Date                                0.000000\n",
       "Country                             0.001906\n",
       "Gender                              0.001906\n",
       "Age                                 0.000000\n",
       "First_holder_Date                   0.001906\n",
       "New_Customer_Index                  0.001906\n",
       "Customer_Seniority                  0.001906\n",
       "Primary_Customer                    0.001906\n",
       "Customer_type_beginning_of_month    0.011152\n",
       "Customer_relation_month_begining    0.011152\n",
       "Residence_index                     0.001906\n",
       "Foreigner_index                     0.001906\n",
       "Joining_channel                     0.014190\n",
       "Deceased_index                      0.001906\n",
       "Province_name                       0.006736\n",
       "Active_OrNot                        0.001906\n",
       "HouseHold_Gross_Income              0.000000\n",
       "Segmentation                        0.014341\n",
       "Saving_Account                      0.000000\n",
       "Guarantees                          0.000000\n",
       "Current_Accounts                    0.000000\n",
       "Derivada_Account                    0.000000\n",
       "Payroll_Account                     0.000000\n",
       "Junior_Account                      0.000000\n",
       "Más_particular_Account              0.000000\n",
       "particular_Account                  0.000000\n",
       "particular_Plus_Account             0.000000\n",
       "Short_term_deposits                 0.000000\n",
       "Medium_term_deposits                0.000000\n",
       "Long_term_deposits                  0.000000\n",
       "e_account                           0.000000\n",
       "Funds                               0.000000\n",
       "Mortgage                            0.000000\n",
       "Pensions                            0.000000\n",
       "Loans                               0.000000\n",
       "Taxes                               0.000000\n",
       "Credit_Card                         0.000000\n",
       "Securities                          0.000000\n",
       "Home_Account                        0.000000\n",
       "Payroll                             0.000000\n",
       "Pensions                            0.000000\n",
       "Direct_Debit                        0.000000\n",
       "tot_products                        0.000000\n",
       "dtype: float64"
      ]
     },
     "execution_count": 151,
     "metadata": {},
     "output_type": "execute_result"
    }
   ],
   "source": [
    "df_new.isnull().mean()"
   ]
  },
  {
   "cell_type": "markdown",
   "metadata": {},
   "source": [
    "# Classifier "
   ]
  },
  {
   "cell_type": "code",
   "execution_count": 169,
   "metadata": {},
   "outputs": [],
   "source": [
    "from sklearn.model_selection import train_test_split\n",
    "\n",
    "df_new.set_index('Date',inplace=True)\n"
   ]
  },
  {
   "cell_type": "code",
   "execution_count": 170,
   "metadata": {},
   "outputs": [
    {
     "data": {
      "text/html": [
       "<div>\n",
       "<style scoped>\n",
       "    .dataframe tbody tr th:only-of-type {\n",
       "        vertical-align: middle;\n",
       "    }\n",
       "\n",
       "    .dataframe tbody tr th {\n",
       "        vertical-align: top;\n",
       "    }\n",
       "\n",
       "    .dataframe thead th {\n",
       "        text-align: right;\n",
       "    }\n",
       "</style>\n",
       "<table border=\"1\" class=\"dataframe\">\n",
       "  <thead>\n",
       "    <tr style=\"text-align: right;\">\n",
       "      <th></th>\n",
       "      <th>Country</th>\n",
       "      <th>Gender</th>\n",
       "      <th>Age</th>\n",
       "      <th>First_holder_Date</th>\n",
       "      <th>New_Customer_Index</th>\n",
       "      <th>Customer_Seniority</th>\n",
       "      <th>Primary_Customer</th>\n",
       "      <th>Customer_type_beginning_of_month</th>\n",
       "      <th>Customer_relation_month_begining</th>\n",
       "      <th>Residence_index</th>\n",
       "      <th>...</th>\n",
       "      <th>Pensions</th>\n",
       "      <th>Loans</th>\n",
       "      <th>Taxes</th>\n",
       "      <th>Credit_Card</th>\n",
       "      <th>Securities</th>\n",
       "      <th>Home_Account</th>\n",
       "      <th>Payroll</th>\n",
       "      <th>Pensions</th>\n",
       "      <th>Direct_Debit</th>\n",
       "      <th>tot_products</th>\n",
       "    </tr>\n",
       "    <tr>\n",
       "      <th>Date</th>\n",
       "      <th></th>\n",
       "      <th></th>\n",
       "      <th></th>\n",
       "      <th></th>\n",
       "      <th></th>\n",
       "      <th></th>\n",
       "      <th></th>\n",
       "      <th></th>\n",
       "      <th></th>\n",
       "      <th></th>\n",
       "      <th></th>\n",
       "      <th></th>\n",
       "      <th></th>\n",
       "      <th></th>\n",
       "      <th></th>\n",
       "      <th></th>\n",
       "      <th></th>\n",
       "      <th></th>\n",
       "      <th></th>\n",
       "      <th></th>\n",
       "      <th></th>\n",
       "    </tr>\n",
       "  </thead>\n",
       "  <tbody>\n",
       "    <tr>\n",
       "      <th>2015-04-28</th>\n",
       "      <td>ES</td>\n",
       "      <td>H</td>\n",
       "      <td>49.0</td>\n",
       "      <td>2010-07-27</td>\n",
       "      <td>0.0</td>\n",
       "      <td>60.0</td>\n",
       "      <td>1.0</td>\n",
       "      <td>1.0</td>\n",
       "      <td>A</td>\n",
       "      <td>S</td>\n",
       "      <td>...</td>\n",
       "      <td>0.0</td>\n",
       "      <td>0</td>\n",
       "      <td>0</td>\n",
       "      <td>1</td>\n",
       "      <td>0</td>\n",
       "      <td>0</td>\n",
       "      <td>0.0</td>\n",
       "      <td>0.0</td>\n",
       "      <td>0</td>\n",
       "      <td>4.0</td>\n",
       "    </tr>\n",
       "    <tr>\n",
       "      <th>2015-10-28</th>\n",
       "      <td>ES</td>\n",
       "      <td>H</td>\n",
       "      <td>24.0</td>\n",
       "      <td>2011-09-28</td>\n",
       "      <td>0.0</td>\n",
       "      <td>49.0</td>\n",
       "      <td>1.0</td>\n",
       "      <td>1.0</td>\n",
       "      <td>I</td>\n",
       "      <td>S</td>\n",
       "      <td>...</td>\n",
       "      <td>0.0</td>\n",
       "      <td>0</td>\n",
       "      <td>0</td>\n",
       "      <td>0</td>\n",
       "      <td>0</td>\n",
       "      <td>0</td>\n",
       "      <td>0.0</td>\n",
       "      <td>0.0</td>\n",
       "      <td>0</td>\n",
       "      <td>1.0</td>\n",
       "    </tr>\n",
       "    <tr>\n",
       "      <th>2016-02-28</th>\n",
       "      <td>ES</td>\n",
       "      <td>V</td>\n",
       "      <td>58.0</td>\n",
       "      <td>2004-05-14</td>\n",
       "      <td>0.0</td>\n",
       "      <td>141.0</td>\n",
       "      <td>1.0</td>\n",
       "      <td>1.0</td>\n",
       "      <td>I</td>\n",
       "      <td>S</td>\n",
       "      <td>...</td>\n",
       "      <td>0.0</td>\n",
       "      <td>0</td>\n",
       "      <td>0</td>\n",
       "      <td>0</td>\n",
       "      <td>0</td>\n",
       "      <td>0</td>\n",
       "      <td>0.0</td>\n",
       "      <td>0.0</td>\n",
       "      <td>0</td>\n",
       "      <td>0.0</td>\n",
       "    </tr>\n",
       "    <tr>\n",
       "      <th>2015-10-28</th>\n",
       "      <td>ES</td>\n",
       "      <td>V</td>\n",
       "      <td>34.0</td>\n",
       "      <td>2014-01-07</td>\n",
       "      <td>0.0</td>\n",
       "      <td>21.0</td>\n",
       "      <td>1.0</td>\n",
       "      <td>1.0</td>\n",
       "      <td>I</td>\n",
       "      <td>S</td>\n",
       "      <td>...</td>\n",
       "      <td>0.0</td>\n",
       "      <td>0</td>\n",
       "      <td>0</td>\n",
       "      <td>0</td>\n",
       "      <td>0</td>\n",
       "      <td>0</td>\n",
       "      <td>0.0</td>\n",
       "      <td>0.0</td>\n",
       "      <td>0</td>\n",
       "      <td>1.0</td>\n",
       "    </tr>\n",
       "    <tr>\n",
       "      <th>2015-04-28</th>\n",
       "      <td>ES</td>\n",
       "      <td>H</td>\n",
       "      <td>22.0</td>\n",
       "      <td>2014-11-24</td>\n",
       "      <td>0.0</td>\n",
       "      <td>8.0</td>\n",
       "      <td>1.0</td>\n",
       "      <td>1.0</td>\n",
       "      <td>I</td>\n",
       "      <td>S</td>\n",
       "      <td>...</td>\n",
       "      <td>0.0</td>\n",
       "      <td>0</td>\n",
       "      <td>0</td>\n",
       "      <td>0</td>\n",
       "      <td>0</td>\n",
       "      <td>0</td>\n",
       "      <td>0.0</td>\n",
       "      <td>0.0</td>\n",
       "      <td>0</td>\n",
       "      <td>1.0</td>\n",
       "    </tr>\n",
       "  </tbody>\n",
       "</table>\n",
       "<p>5 rows × 42 columns</p>\n",
       "</div>"
      ],
      "text/plain": [
       "           Country Gender   Age First_holder_Date  New_Customer_Index  \\\n",
       "Date                                                                    \n",
       "2015-04-28      ES      H  49.0        2010-07-27                 0.0   \n",
       "2015-10-28      ES      H  24.0        2011-09-28                 0.0   \n",
       "2016-02-28      ES      V  58.0        2004-05-14                 0.0   \n",
       "2015-10-28      ES      V  34.0        2014-01-07                 0.0   \n",
       "2015-04-28      ES      H  22.0        2014-11-24                 0.0   \n",
       "\n",
       "            Customer_Seniority  Primary_Customer  \\\n",
       "Date                                               \n",
       "2015-04-28                60.0               1.0   \n",
       "2015-10-28                49.0               1.0   \n",
       "2016-02-28               141.0               1.0   \n",
       "2015-10-28                21.0               1.0   \n",
       "2015-04-28                 8.0               1.0   \n",
       "\n",
       "           Customer_type_beginning_of_month Customer_relation_month_begining  \\\n",
       "Date                                                                           \n",
       "2015-04-28                              1.0                                A   \n",
       "2015-10-28                              1.0                                I   \n",
       "2016-02-28                              1.0                                I   \n",
       "2015-10-28                              1.0                                I   \n",
       "2015-04-28                              1.0                                I   \n",
       "\n",
       "           Residence_index      ...       Pensions Loans Taxes Credit_Card  \\\n",
       "Date                            ...                                          \n",
       "2015-04-28               S      ...            0.0     0     0           1   \n",
       "2015-10-28               S      ...            0.0     0     0           0   \n",
       "2016-02-28               S      ...            0.0     0     0           0   \n",
       "2015-10-28               S      ...            0.0     0     0           0   \n",
       "2015-04-28               S      ...            0.0     0     0           0   \n",
       "\n",
       "            Securities  Home_Account Payroll  Pensions  Direct_Debit  \\\n",
       "Date                                                                   \n",
       "2015-04-28           0             0     0.0       0.0             0   \n",
       "2015-10-28           0             0     0.0       0.0             0   \n",
       "2016-02-28           0             0     0.0       0.0             0   \n",
       "2015-10-28           0             0     0.0       0.0             0   \n",
       "2015-04-28           0             0     0.0       0.0             0   \n",
       "\n",
       "            tot_products  \n",
       "Date                      \n",
       "2015-04-28           4.0  \n",
       "2015-10-28           1.0  \n",
       "2016-02-28           0.0  \n",
       "2015-10-28           1.0  \n",
       "2015-04-28           1.0  \n",
       "\n",
       "[5 rows x 42 columns]"
      ]
     },
     "execution_count": 170,
     "metadata": {},
     "output_type": "execute_result"
    }
   ],
   "source": [
    "df_new.head()"
   ]
  },
  {
   "cell_type": "code",
   "execution_count": 171,
   "metadata": {},
   "outputs": [],
   "source": [
    "#df.iloc[:, 18:42]"
   ]
  },
  {
   "cell_type": "code",
   "execution_count": 172,
   "metadata": {},
   "outputs": [
    {
     "data": {
      "text/plain": [
       "Country                                   category\n",
       "Gender                                    category\n",
       "Age                                        float64\n",
       "First_holder_Date                   datetime64[ns]\n",
       "New_Customer_Index                         float64\n",
       "Customer_Seniority                         float64\n",
       "Primary_Customer                           float64\n",
       "Customer_type_beginning_of_month          category\n",
       "Customer_relation_month_begining          category\n",
       "Residence_index                           category\n",
       "Foreigner_index                           category\n",
       "Joining_channel                           category\n",
       "Deceased_index                            category\n",
       "Province_name                             category\n",
       "Active_OrNot                               float64\n",
       "HouseHold_Gross_Income                     float64\n",
       "Segmentation                              category\n",
       "Saving_Account                               int64\n",
       "Guarantees                                   int64\n",
       "Current_Accounts                             int64\n",
       "Derivada_Account                             int64\n",
       "Payroll_Account                              int64\n",
       "Junior_Account                               int64\n",
       "Más_particular_Account                       int64\n",
       "particular_Account                           int64\n",
       "particular_Plus_Account                      int64\n",
       "Short_term_deposits                          int64\n",
       "Medium_term_deposits                         int64\n",
       "Long_term_deposits                           int64\n",
       "e_account                                    int64\n",
       "Funds                                        int64\n",
       "Mortgage                                     int64\n",
       "Pensions                                   float64\n",
       "Loans                                        int64\n",
       "Taxes                                        int64\n",
       "Credit_Card                                  int64\n",
       "Securities                                   int64\n",
       "Home_Account                                 int64\n",
       "Payroll                                    float64\n",
       "Pensions                                   float64\n",
       "Direct_Debit                                 int64\n",
       "tot_products                               float64\n",
       "dtype: object"
      ]
     },
     "execution_count": 172,
     "metadata": {},
     "output_type": "execute_result"
    }
   ],
   "source": [
    "df_new.dtypes"
   ]
  },
  {
   "cell_type": "code",
   "execution_count": 173,
   "metadata": {},
   "outputs": [],
   "source": [
    "X_train, X_test, y_train, y_test = train_test_split(df_new.iloc[:, 0:17],df_new.iloc[:, 18:42],test_size=0.3,random_state=0)\n",
    "\n"
   ]
  },
  {
   "cell_type": "code",
   "execution_count": 174,
   "metadata": {},
   "outputs": [
    {
     "data": {
      "text/plain": [
       "Country                                   category\n",
       "Gender                                    category\n",
       "Age                                        float64\n",
       "First_holder_Date                   datetime64[ns]\n",
       "New_Customer_Index                         float64\n",
       "Customer_Seniority                         float64\n",
       "Primary_Customer                           float64\n",
       "Customer_type_beginning_of_month          category\n",
       "Customer_relation_month_begining          category\n",
       "Residence_index                           category\n",
       "Foreigner_index                           category\n",
       "Joining_channel                           category\n",
       "Deceased_index                            category\n",
       "Province_name                             category\n",
       "Active_OrNot                               float64\n",
       "HouseHold_Gross_Income                     float64\n",
       "Segmentation                              category\n",
       "dtype: object"
      ]
     },
     "execution_count": 174,
     "metadata": {},
     "output_type": "execute_result"
    }
   ],
   "source": [
    "X_test.dtypes"
   ]
  },
  {
   "cell_type": "code",
   "execution_count": 175,
   "metadata": {},
   "outputs": [],
   "source": [
    "from sklearn.multiclass import OneVsRestClassifier\n",
    "from sklearn.svm import SVC"
   ]
  },
  {
   "cell_type": "code",
   "execution_count": 176,
   "metadata": {},
   "outputs": [
    {
     "ename": "ValueError",
     "evalue": "Multioutput target data is not supported with label binarization",
     "output_type": "error",
     "traceback": [
      "\u001b[0;31m---------------------------------------------------------------------------\u001b[0m",
      "\u001b[0;31mValueError\u001b[0m                                Traceback (most recent call last)",
      "\u001b[0;32m<ipython-input-176-0248dd643f29>\u001b[0m in \u001b[0;36m<module>\u001b[0;34m()\u001b[0m\n\u001b[1;32m      1\u001b[0m \u001b[0mclassif\u001b[0m \u001b[0;34m=\u001b[0m \u001b[0mOneVsRestClassifier\u001b[0m\u001b[0;34m(\u001b[0m\u001b[0mSVC\u001b[0m\u001b[0;34m(\u001b[0m\u001b[0mkernel\u001b[0m\u001b[0;34m=\u001b[0m\u001b[0;34m'linear'\u001b[0m\u001b[0;34m)\u001b[0m\u001b[0;34m)\u001b[0m\u001b[0;34m\u001b[0m\u001b[0m\n\u001b[0;32m----> 2\u001b[0;31m \u001b[0mclassif\u001b[0m\u001b[0;34m.\u001b[0m\u001b[0mfit\u001b[0m\u001b[0;34m(\u001b[0m\u001b[0mX_train\u001b[0m\u001b[0;34m,\u001b[0m \u001b[0my_train\u001b[0m\u001b[0;34m)\u001b[0m\u001b[0;34m\u001b[0m\u001b[0m\n\u001b[0m",
      "\u001b[0;32m/anaconda3/lib/python3.7/site-packages/sklearn/multiclass.py\u001b[0m in \u001b[0;36mfit\u001b[0;34m(self, X, y)\u001b[0m\n\u001b[1;32m    202\u001b[0m         \u001b[0;31m# overall.\u001b[0m\u001b[0;34m\u001b[0m\u001b[0;34m\u001b[0m\u001b[0m\n\u001b[1;32m    203\u001b[0m         \u001b[0mself\u001b[0m\u001b[0;34m.\u001b[0m\u001b[0mlabel_binarizer_\u001b[0m \u001b[0;34m=\u001b[0m \u001b[0mLabelBinarizer\u001b[0m\u001b[0;34m(\u001b[0m\u001b[0msparse_output\u001b[0m\u001b[0;34m=\u001b[0m\u001b[0;32mTrue\u001b[0m\u001b[0;34m)\u001b[0m\u001b[0;34m\u001b[0m\u001b[0m\n\u001b[0;32m--> 204\u001b[0;31m         \u001b[0mY\u001b[0m \u001b[0;34m=\u001b[0m \u001b[0mself\u001b[0m\u001b[0;34m.\u001b[0m\u001b[0mlabel_binarizer_\u001b[0m\u001b[0;34m.\u001b[0m\u001b[0mfit_transform\u001b[0m\u001b[0;34m(\u001b[0m\u001b[0my\u001b[0m\u001b[0;34m)\u001b[0m\u001b[0;34m\u001b[0m\u001b[0m\n\u001b[0m\u001b[1;32m    205\u001b[0m         \u001b[0mY\u001b[0m \u001b[0;34m=\u001b[0m \u001b[0mY\u001b[0m\u001b[0;34m.\u001b[0m\u001b[0mtocsc\u001b[0m\u001b[0;34m(\u001b[0m\u001b[0;34m)\u001b[0m\u001b[0;34m\u001b[0m\u001b[0m\n\u001b[1;32m    206\u001b[0m         \u001b[0mself\u001b[0m\u001b[0;34m.\u001b[0m\u001b[0mclasses_\u001b[0m \u001b[0;34m=\u001b[0m \u001b[0mself\u001b[0m\u001b[0;34m.\u001b[0m\u001b[0mlabel_binarizer_\u001b[0m\u001b[0;34m.\u001b[0m\u001b[0mclasses_\u001b[0m\u001b[0;34m\u001b[0m\u001b[0m\n",
      "\u001b[0;32m/anaconda3/lib/python3.7/site-packages/sklearn/preprocessing/label.py\u001b[0m in \u001b[0;36mfit_transform\u001b[0;34m(self, y)\u001b[0m\n\u001b[1;32m    434\u001b[0m             \u001b[0mShape\u001b[0m \u001b[0mwill\u001b[0m \u001b[0mbe\u001b[0m \u001b[0;34m[\u001b[0m\u001b[0mn_samples\u001b[0m\u001b[0;34m,\u001b[0m \u001b[0;36m1\u001b[0m\u001b[0;34m]\u001b[0m \u001b[0;32mfor\u001b[0m \u001b[0mbinary\u001b[0m \u001b[0mproblems\u001b[0m\u001b[0;34m.\u001b[0m\u001b[0;34m\u001b[0m\u001b[0m\n\u001b[1;32m    435\u001b[0m         \"\"\"\n\u001b[0;32m--> 436\u001b[0;31m         \u001b[0;32mreturn\u001b[0m \u001b[0mself\u001b[0m\u001b[0;34m.\u001b[0m\u001b[0mfit\u001b[0m\u001b[0;34m(\u001b[0m\u001b[0my\u001b[0m\u001b[0;34m)\u001b[0m\u001b[0;34m.\u001b[0m\u001b[0mtransform\u001b[0m\u001b[0;34m(\u001b[0m\u001b[0my\u001b[0m\u001b[0;34m)\u001b[0m\u001b[0;34m\u001b[0m\u001b[0m\n\u001b[0m\u001b[1;32m    437\u001b[0m \u001b[0;34m\u001b[0m\u001b[0m\n\u001b[1;32m    438\u001b[0m     \u001b[0;32mdef\u001b[0m \u001b[0mtransform\u001b[0m\u001b[0;34m(\u001b[0m\u001b[0mself\u001b[0m\u001b[0;34m,\u001b[0m \u001b[0my\u001b[0m\u001b[0;34m)\u001b[0m\u001b[0;34m:\u001b[0m\u001b[0;34m\u001b[0m\u001b[0m\n",
      "\u001b[0;32m/anaconda3/lib/python3.7/site-packages/sklearn/preprocessing/label.py\u001b[0m in \u001b[0;36mfit\u001b[0;34m(self, y)\u001b[0m\n\u001b[1;32m    405\u001b[0m         \u001b[0mself\u001b[0m\u001b[0;34m.\u001b[0m\u001b[0my_type_\u001b[0m \u001b[0;34m=\u001b[0m \u001b[0mtype_of_target\u001b[0m\u001b[0;34m(\u001b[0m\u001b[0my\u001b[0m\u001b[0;34m)\u001b[0m\u001b[0;34m\u001b[0m\u001b[0m\n\u001b[1;32m    406\u001b[0m         \u001b[0;32mif\u001b[0m \u001b[0;34m'multioutput'\u001b[0m \u001b[0;32min\u001b[0m \u001b[0mself\u001b[0m\u001b[0;34m.\u001b[0m\u001b[0my_type_\u001b[0m\u001b[0;34m:\u001b[0m\u001b[0;34m\u001b[0m\u001b[0m\n\u001b[0;32m--> 407\u001b[0;31m             raise ValueError(\"Multioutput target data is not supported with \"\n\u001b[0m\u001b[1;32m    408\u001b[0m                              \"label binarization\")\n\u001b[1;32m    409\u001b[0m         \u001b[0;32mif\u001b[0m \u001b[0m_num_samples\u001b[0m\u001b[0;34m(\u001b[0m\u001b[0my\u001b[0m\u001b[0;34m)\u001b[0m \u001b[0;34m==\u001b[0m \u001b[0;36m0\u001b[0m\u001b[0;34m:\u001b[0m\u001b[0;34m\u001b[0m\u001b[0m\n",
      "\u001b[0;31mValueError\u001b[0m: Multioutput target data is not supported with label binarization"
     ]
    }
   ],
   "source": [
    "classif = OneVsRestClassifier(SVC(kernel='linear'))\n",
    "classif.fit(X_train, y_train)"
   ]
  },
  {
   "cell_type": "code",
   "execution_count": null,
   "metadata": {},
   "outputs": [],
   "source": []
  },
  {
   "cell_type": "code",
   "execution_count": null,
   "metadata": {},
   "outputs": [],
   "source": []
  },
  {
   "cell_type": "code",
   "execution_count": 177,
   "metadata": {},
   "outputs": [
    {
     "ename": "TypeError",
     "evalue": "no supported conversion for types: (dtype('O'),)",
     "output_type": "error",
     "traceback": [
      "\u001b[0;31m---------------------------------------------------------------------------\u001b[0m",
      "\u001b[0;31mTypeError\u001b[0m                                 Traceback (most recent call last)",
      "\u001b[0;32m<ipython-input-177-c7949070af7e>\u001b[0m in \u001b[0;36m<module>\u001b[0;34m()\u001b[0m\n\u001b[1;32m      8\u001b[0m \u001b[0;34m\u001b[0m\u001b[0m\n\u001b[1;32m      9\u001b[0m \u001b[0;31m# train\u001b[0m\u001b[0;34m\u001b[0m\u001b[0;34m\u001b[0m\u001b[0m\n\u001b[0;32m---> 10\u001b[0;31m \u001b[0mclassifier\u001b[0m\u001b[0;34m.\u001b[0m\u001b[0mfit\u001b[0m\u001b[0;34m(\u001b[0m\u001b[0mX_train\u001b[0m\u001b[0;34m,\u001b[0m \u001b[0my_train\u001b[0m\u001b[0;34m)\u001b[0m\u001b[0;34m\u001b[0m\u001b[0m\n\u001b[0m\u001b[1;32m     11\u001b[0m \u001b[0;34m\u001b[0m\u001b[0m\n\u001b[1;32m     12\u001b[0m \u001b[0;31m# predict\u001b[0m\u001b[0;34m\u001b[0m\u001b[0;34m\u001b[0m\u001b[0m\n",
      "\u001b[0;32m/anaconda3/lib/python3.7/site-packages/skmultilearn/problem_transform/br.py\u001b[0m in \u001b[0;36mfit\u001b[0;34m(self, X, y)\u001b[0m\n\u001b[1;32m    146\u001b[0m         \"\"\"\n\u001b[1;32m    147\u001b[0m         X = self._ensure_input_format(\n\u001b[0;32m--> 148\u001b[0;31m             X, sparse_format='csr', enforce_sparse=True)\n\u001b[0m\u001b[1;32m    149\u001b[0m         y = self._ensure_output_format(\n\u001b[1;32m    150\u001b[0m             y, sparse_format='csc', enforce_sparse=True)\n",
      "\u001b[0;32m/anaconda3/lib/python3.7/site-packages/skmultilearn/base/base.py\u001b[0m in \u001b[0;36m_ensure_input_format\u001b[0;34m(self, X, sparse_format, enforce_sparse)\u001b[0m\n\u001b[1;32m     95\u001b[0m                 \u001b[0;32mreturn\u001b[0m \u001b[0mX\u001b[0m\u001b[0;34m\u001b[0m\u001b[0m\n\u001b[1;32m     96\u001b[0m             \u001b[0;32melse\u001b[0m\u001b[0;34m:\u001b[0m\u001b[0;34m\u001b[0m\u001b[0m\n\u001b[0;32m---> 97\u001b[0;31m                 \u001b[0;32mreturn\u001b[0m \u001b[0mmatrix_creation_function_for_format\u001b[0m\u001b[0;34m(\u001b[0m\u001b[0msparse_format\u001b[0m\u001b[0;34m)\u001b[0m\u001b[0;34m(\u001b[0m\u001b[0mX\u001b[0m\u001b[0;34m)\u001b[0m\u001b[0;34m\u001b[0m\u001b[0m\n\u001b[0m\u001b[1;32m     98\u001b[0m \u001b[0;34m\u001b[0m\u001b[0m\n\u001b[1;32m     99\u001b[0m     \u001b[0;32mdef\u001b[0m \u001b[0m_ensure_output_format\u001b[0m\u001b[0;34m(\u001b[0m\u001b[0mself\u001b[0m\u001b[0;34m,\u001b[0m \u001b[0mmatrix\u001b[0m\u001b[0;34m,\u001b[0m \u001b[0msparse_format\u001b[0m\u001b[0;34m=\u001b[0m\u001b[0;34m'csr'\u001b[0m\u001b[0;34m,\u001b[0m \u001b[0menforce_sparse\u001b[0m\u001b[0;34m=\u001b[0m\u001b[0;32mFalse\u001b[0m\u001b[0;34m)\u001b[0m\u001b[0;34m:\u001b[0m\u001b[0;34m\u001b[0m\u001b[0m\n",
      "\u001b[0;32m/anaconda3/lib/python3.7/site-packages/scipy/sparse/compressed.py\u001b[0m in \u001b[0;36m__init__\u001b[0;34m(self, arg1, shape, dtype, copy)\u001b[0m\n\u001b[1;32m     77\u001b[0m                         self.format)\n\u001b[1;32m     78\u001b[0m             \u001b[0;32mfrom\u001b[0m \u001b[0;34m.\u001b[0m\u001b[0mcoo\u001b[0m \u001b[0;32mimport\u001b[0m \u001b[0mcoo_matrix\u001b[0m\u001b[0;34m\u001b[0m\u001b[0m\n\u001b[0;32m---> 79\u001b[0;31m             \u001b[0mself\u001b[0m\u001b[0;34m.\u001b[0m\u001b[0m_set_self\u001b[0m\u001b[0;34m(\u001b[0m\u001b[0mself\u001b[0m\u001b[0;34m.\u001b[0m\u001b[0m__class__\u001b[0m\u001b[0;34m(\u001b[0m\u001b[0mcoo_matrix\u001b[0m\u001b[0;34m(\u001b[0m\u001b[0marg1\u001b[0m\u001b[0;34m,\u001b[0m \u001b[0mdtype\u001b[0m\u001b[0;34m=\u001b[0m\u001b[0mdtype\u001b[0m\u001b[0;34m)\u001b[0m\u001b[0;34m)\u001b[0m\u001b[0;34m)\u001b[0m\u001b[0;34m\u001b[0m\u001b[0m\n\u001b[0m\u001b[1;32m     80\u001b[0m \u001b[0;34m\u001b[0m\u001b[0m\n\u001b[1;32m     81\u001b[0m         \u001b[0;31m# Read matrix dimensions given, if any\u001b[0m\u001b[0;34m\u001b[0m\u001b[0;34m\u001b[0m\u001b[0m\n",
      "\u001b[0;32m/anaconda3/lib/python3.7/site-packages/scipy/sparse/compressed.py\u001b[0m in \u001b[0;36m__init__\u001b[0;34m(self, arg1, shape, dtype, copy)\u001b[0m\n\u001b[1;32m     30\u001b[0m                 \u001b[0marg1\u001b[0m \u001b[0;34m=\u001b[0m \u001b[0marg1\u001b[0m\u001b[0;34m.\u001b[0m\u001b[0mcopy\u001b[0m\u001b[0;34m(\u001b[0m\u001b[0;34m)\u001b[0m\u001b[0;34m\u001b[0m\u001b[0m\n\u001b[1;32m     31\u001b[0m             \u001b[0;32melse\u001b[0m\u001b[0;34m:\u001b[0m\u001b[0;34m\u001b[0m\u001b[0m\n\u001b[0;32m---> 32\u001b[0;31m                 \u001b[0marg1\u001b[0m \u001b[0;34m=\u001b[0m \u001b[0marg1\u001b[0m\u001b[0;34m.\u001b[0m\u001b[0masformat\u001b[0m\u001b[0;34m(\u001b[0m\u001b[0mself\u001b[0m\u001b[0;34m.\u001b[0m\u001b[0mformat\u001b[0m\u001b[0;34m)\u001b[0m\u001b[0;34m\u001b[0m\u001b[0m\n\u001b[0m\u001b[1;32m     33\u001b[0m             \u001b[0mself\u001b[0m\u001b[0;34m.\u001b[0m\u001b[0m_set_self\u001b[0m\u001b[0;34m(\u001b[0m\u001b[0marg1\u001b[0m\u001b[0;34m)\u001b[0m\u001b[0;34m\u001b[0m\u001b[0m\n\u001b[1;32m     34\u001b[0m \u001b[0;34m\u001b[0m\u001b[0m\n",
      "\u001b[0;32m/anaconda3/lib/python3.7/site-packages/scipy/sparse/base.py\u001b[0m in \u001b[0;36masformat\u001b[0;34m(self, format, copy)\u001b[0m\n\u001b[1;32m    324\u001b[0m                 \u001b[0;32mraise\u001b[0m \u001b[0mValueError\u001b[0m\u001b[0;34m(\u001b[0m\u001b[0;34m'Format {} is unknown.'\u001b[0m\u001b[0;34m.\u001b[0m\u001b[0mformat\u001b[0m\u001b[0;34m(\u001b[0m\u001b[0mformat\u001b[0m\u001b[0;34m)\u001b[0m\u001b[0;34m)\u001b[0m\u001b[0;34m\u001b[0m\u001b[0m\n\u001b[1;32m    325\u001b[0m             \u001b[0;32melse\u001b[0m\u001b[0;34m:\u001b[0m\u001b[0;34m\u001b[0m\u001b[0m\n\u001b[0;32m--> 326\u001b[0;31m                 \u001b[0;32mreturn\u001b[0m \u001b[0mconvert_method\u001b[0m\u001b[0;34m(\u001b[0m\u001b[0mcopy\u001b[0m\u001b[0;34m=\u001b[0m\u001b[0mcopy\u001b[0m\u001b[0;34m)\u001b[0m\u001b[0;34m\u001b[0m\u001b[0m\n\u001b[0m\u001b[1;32m    327\u001b[0m \u001b[0;34m\u001b[0m\u001b[0m\n\u001b[1;32m    328\u001b[0m     \u001b[0;31m###################################################################\u001b[0m\u001b[0;34m\u001b[0m\u001b[0;34m\u001b[0m\u001b[0m\n",
      "\u001b[0;32m/anaconda3/lib/python3.7/site-packages/scipy/sparse/coo.py\u001b[0m in \u001b[0;36mtocsr\u001b[0;34m(self, copy)\u001b[0m\n\u001b[1;32m    391\u001b[0m             \u001b[0mindptr\u001b[0m \u001b[0;34m=\u001b[0m \u001b[0mnp\u001b[0m\u001b[0;34m.\u001b[0m\u001b[0mempty\u001b[0m\u001b[0;34m(\u001b[0m\u001b[0mM\u001b[0m \u001b[0;34m+\u001b[0m \u001b[0;36m1\u001b[0m\u001b[0;34m,\u001b[0m \u001b[0mdtype\u001b[0m\u001b[0;34m=\u001b[0m\u001b[0midx_dtype\u001b[0m\u001b[0;34m)\u001b[0m\u001b[0;34m\u001b[0m\u001b[0m\n\u001b[1;32m    392\u001b[0m             \u001b[0mindices\u001b[0m \u001b[0;34m=\u001b[0m \u001b[0mnp\u001b[0m\u001b[0;34m.\u001b[0m\u001b[0mempty_like\u001b[0m\u001b[0;34m(\u001b[0m\u001b[0mcol\u001b[0m\u001b[0;34m,\u001b[0m \u001b[0mdtype\u001b[0m\u001b[0;34m=\u001b[0m\u001b[0midx_dtype\u001b[0m\u001b[0;34m)\u001b[0m\u001b[0;34m\u001b[0m\u001b[0m\n\u001b[0;32m--> 393\u001b[0;31m             \u001b[0mdata\u001b[0m \u001b[0;34m=\u001b[0m \u001b[0mnp\u001b[0m\u001b[0;34m.\u001b[0m\u001b[0mempty_like\u001b[0m\u001b[0;34m(\u001b[0m\u001b[0mself\u001b[0m\u001b[0;34m.\u001b[0m\u001b[0mdata\u001b[0m\u001b[0;34m,\u001b[0m \u001b[0mdtype\u001b[0m\u001b[0;34m=\u001b[0m\u001b[0mupcast\u001b[0m\u001b[0;34m(\u001b[0m\u001b[0mself\u001b[0m\u001b[0;34m.\u001b[0m\u001b[0mdtype\u001b[0m\u001b[0;34m)\u001b[0m\u001b[0;34m)\u001b[0m\u001b[0;34m\u001b[0m\u001b[0m\n\u001b[0m\u001b[1;32m    394\u001b[0m \u001b[0;34m\u001b[0m\u001b[0m\n\u001b[1;32m    395\u001b[0m             coo_tocsr(M, N, self.nnz, row, col, self.data,\n",
      "\u001b[0;32m/anaconda3/lib/python3.7/site-packages/scipy/sparse/sputils.py\u001b[0m in \u001b[0;36mupcast\u001b[0;34m(*args)\u001b[0m\n\u001b[1;32m     50\u001b[0m             \u001b[0;32mreturn\u001b[0m \u001b[0mt\u001b[0m\u001b[0;34m\u001b[0m\u001b[0m\n\u001b[1;32m     51\u001b[0m \u001b[0;34m\u001b[0m\u001b[0m\n\u001b[0;32m---> 52\u001b[0;31m     \u001b[0;32mraise\u001b[0m \u001b[0mTypeError\u001b[0m\u001b[0;34m(\u001b[0m\u001b[0;34m'no supported conversion for types: %r'\u001b[0m \u001b[0;34m%\u001b[0m \u001b[0;34m(\u001b[0m\u001b[0margs\u001b[0m\u001b[0;34m,\u001b[0m\u001b[0;34m)\u001b[0m\u001b[0;34m)\u001b[0m\u001b[0;34m\u001b[0m\u001b[0m\n\u001b[0m\u001b[1;32m     53\u001b[0m \u001b[0;34m\u001b[0m\u001b[0m\n\u001b[1;32m     54\u001b[0m \u001b[0;34m\u001b[0m\u001b[0m\n",
      "\u001b[0;31mTypeError\u001b[0m: no supported conversion for types: (dtype('O'),)"
     ]
    }
   ],
   "source": [
    "# using binary relevance\n",
    "from skmultilearn.problem_transform import BinaryRelevance\n",
    "from sklearn.naive_bayes import GaussianNB\n",
    "\n",
    "# initialize binary relevance multi-label classifier\n",
    "# with a gaussian naive bayes base classifier\n",
    "classifier = BinaryRelevance(GaussianNB())\n",
    "\n",
    "# train\n",
    "classifier.fit(X_train, y_train)\n",
    "\n",
    "# predict\n",
    "predictions = classifier.predict(X_test)"
   ]
  },
  {
   "cell_type": "code",
   "execution_count": null,
   "metadata": {},
   "outputs": [],
   "source": []
  },
  {
   "cell_type": "code",
   "execution_count": null,
   "metadata": {},
   "outputs": [],
   "source": []
  }
 ],
 "metadata": {
  "kernelspec": {
   "display_name": "Python 3",
   "language": "python",
   "name": "python3"
  },
  "language_info": {
   "codemirror_mode": {
    "name": "ipython",
    "version": 3
   },
   "file_extension": ".py",
   "mimetype": "text/x-python",
   "name": "python",
   "nbconvert_exporter": "python",
   "pygments_lexer": "ipython3",
   "version": "3.7.0"
  }
 },
 "nbformat": 4,
 "nbformat_minor": 2
}
