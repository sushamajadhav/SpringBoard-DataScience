{
 "cells": [
  {
   "cell_type": "markdown",
   "metadata": {},
   "source": [
    "This exercise will require you to pull some data from the Qunadl API. Qaundl is currently the most widely used aggregator of financial market data."
   ]
  },
  {
   "cell_type": "markdown",
   "metadata": {},
   "source": [
    "As a first step, you will need to register a free account on the http://www.quandl.com website."
   ]
  },
  {
   "cell_type": "markdown",
   "metadata": {},
   "source": [
    "After you register, you will be provided with a unique API key, that you should store:"
   ]
  },
  {
   "cell_type": "code",
   "execution_count": 1,
   "metadata": {},
   "outputs": [],
   "source": [
    "# Store the API key as a string - according to PEP8, constants are always named in all upper case\n",
    "API_KEY = "
   ]
  },
  {
   "cell_type": "markdown",
   "metadata": {},
   "source": [
    "Qaundl has a large number of data sources, but, unfortunately, most of them require a Premium subscription. Still, there are also a good number of free datasets."
   ]
  },
  {
   "cell_type": "markdown",
   "metadata": {},
   "source": [
    "For this mini project, we will focus on equities data from the Frankfurt Stock Exhange (FSE), which is available for free. We'll try and analyze the stock prices of a company called Carl Zeiss Meditec, which manufactures tools for eye examinations, as well as medical lasers for laser eye surgery: https://www.zeiss.com/meditec/int/home.html. The company is listed under the stock ticker AFX_X."
   ]
  },
  {
   "cell_type": "markdown",
   "metadata": {},
   "source": [
    "You can find the detailed Quandl API instructions here: https://docs.quandl.com/docs/time-series"
   ]
  },
  {
   "cell_type": "markdown",
   "metadata": {},
   "source": [
    "While there is a dedicated Python package for connecting to the Quandl API, we would prefer that you use the *requests* package, which can be easily downloaded using *pip* or *conda*. You can find the documentation for the package here: http://docs.python-requests.org/en/master/ "
   ]
  },
  {
   "cell_type": "markdown",
   "metadata": {},
   "source": [
    "Finally, apart from the *requests* package, you are encouraged to not use any third party Python packages, such as *pandas*, and instead focus on what's available in the Python Standard Library (the *collections* module might come in handy: https://pymotw.com/3/collections/).\n",
    "Also, since you won't have access to DataFrames, you are encouraged to us Python's native data structures - preferably dictionaries, though some questions can also be answered using lists.\n",
    "You can read more on these data structures here: https://docs.python.org/3/tutorial/datastructures.html"
   ]
  },
  {
   "cell_type": "markdown",
   "metadata": {},
   "source": [
    "Keep in mind that the JSON responses you will be getting from the API map almost one-to-one to Python's dictionaries. Unfortunately, they can be very nested, so make sure you read up on indexing dictionaries in the documentation provided above."
   ]
  },
  {
   "cell_type": "code",
   "execution_count": 80,
   "metadata": {},
   "outputs": [],
   "source": [
    "# importing relevant modules\n",
    "import requests\n",
    "import json\n",
    "import collections"
   ]
  },
  {
   "cell_type": "code",
   "execution_count": 81,
   "metadata": {},
   "outputs": [],
   "source": [
    "#calling the Quandl API to get the data for whole year 2017\n",
    "\n",
    "\n",
    "url=(\"https://www.quandl.com/api/v3/datasets/FSE/AFX_X?start_date=2017-01-01&end_date=2017-12-31&API_KEY\")"
   ]
  },
  {
   "cell_type": "code",
   "execution_count": 82,
   "metadata": {},
   "outputs": [],
   "source": [
    "#calling the Quandl API to get the data for whole year 2017\n",
    "\n",
    "#url=(\"https://www.quandl.com/api/v3/datasets/FSE/AFX_X?start_date=2017-01-01&end_date=2017-12-31&api_key=EyQQTy4q2SpnXDoAEzMh\")"
   ]
  },
  {
   "cell_type": "code",
   "execution_count": 83,
   "metadata": {},
   "outputs": [
    {
     "data": {
      "text/plain": [
       "<Response [200]>"
      ]
     },
     "execution_count": 83,
     "metadata": {},
     "output_type": "execute_result"
    }
   ],
   "source": [
    "\n",
    "\n",
    "r=requests.get(url)\n",
    "r"
   ]
  },
  {
   "cell_type": "code",
   "execution_count": 84,
   "metadata": {},
   "outputs": [
    {
     "data": {
      "text/plain": [
       "{'Date': 'Mon, 13 Aug 2018 10:37:37 GMT', 'Content-Type': 'application/json; charset=utf-8', 'Transfer-Encoding': 'chunked', 'Connection': 'keep-alive', 'Set-Cookie': '__cfduid=d3b248be2c6397dd9c8a504f6f82d79bc1534156656; expires=Tue, 13-Aug-19 10:37:36 GMT; path=/; domain=.quandl.com; HttpOnly', 'Allow': 'GET, HEAD, POST, PUT, DELETE, OPTIONS, PATCH', 'Cache-Control': 'max-age=0, private, must-revalidate', 'Content-Encoding': 'gzip', 'ETag': 'W/\"3b94cab2efaf40a63c7eb7f0449d3044\"', 'Vary': 'Origin', 'X-Content-Type-Options': 'nosniff', 'X-Frame-Options': 'SAMEORIGIN', 'X-Rack-CORS': 'miss; no-origin', 'X-RateLimit-Limit': '50', 'X-RateLimit-Remaining': '39', 'X-Request-Id': '09378ca5-c524-4d29-8e19-05ff36cd48ba', 'X-Runtime': '0.161353', 'X-XSS-Protection': '1; mode=block', 'Expect-CT': 'max-age=604800, report-uri=\"https://report-uri.cloudflare.com/cdn-cgi/beacon/expect-ct\"', 'Server': 'cloudflare', 'CF-RAY': '449a8c1fedc89360-SJC'}"
      ]
     },
     "execution_count": 84,
     "metadata": {},
     "output_type": "execute_result"
    }
   ],
   "source": [
    "r.headers"
   ]
  },
  {
   "cell_type": "code",
   "execution_count": 85,
   "metadata": {},
   "outputs": [],
   "source": [
    "#load json into dictionary"
   ]
  },
  {
   "cell_type": "code",
   "execution_count": 12,
   "metadata": {},
   "outputs": [
    {
     "data": {
      "text/plain": [
       "dict"
      ]
     },
     "execution_count": 12,
     "metadata": {},
     "output_type": "execute_result"
    }
   ],
   "source": [
    "data=r.json()\n"
   ]
  },
  {
   "cell_type": "code",
   "execution_count": 86,
   "metadata": {},
   "outputs": [
    {
     "data": {
      "text/plain": [
       "['Date',\n",
       " 'Open',\n",
       " 'High',\n",
       " 'Low',\n",
       " 'Close',\n",
       " 'Change',\n",
       " 'Traded Volume',\n",
       " 'Turnover',\n",
       " 'Last Price of the Day',\n",
       " 'Daily Traded Units',\n",
       " 'Daily Turnover']"
      ]
     },
     "execution_count": 86,
     "metadata": {},
     "output_type": "execute_result"
    }
   ],
   "source": [
    "#get the column names to be used later  and store in list1\n",
    "labels = data['dataset']['column_names']\n",
    "labels"
   ]
  },
  {
   "cell_type": "code",
   "execution_count": 94,
   "metadata": {},
   "outputs": [
    {
     "name": "stdout",
     "output_type": "stream",
     "text": [
      "[{'Date': '2017-12-28', 'Open': 51.65, 'High': 51.82, 'Low': 51.43, 'Close': 51.6, 'Change': None, 'Traded Volume': 40660.0, 'Turnover': 2099024.0, 'Last Price of the Day': None, 'Daily Traded Units': None, 'Daily Turnover': None}, {'Date': '2017-12-27', 'Open': 51.45, 'High': 51.89, 'Low': 50.76, 'Close': 51.82, 'Change': None, 'Traded Volume': 57452.0, 'Turnover': 2957018.0, 'Last Price of the Day': None, 'Daily Traded Units': None, 'Daily Turnover': None}, {'Date': '2017-12-22', 'Open': 51.05, 'High': 51.5, 'Low': 50.92, 'Close': 51.32, 'Change': None, 'Traded Volume': 71165.0, 'Turnover': 3641949.0, 'Last Price of the Day': None, 'Daily Traded Units': None, 'Daily Turnover': None}, {'Date': '2017-12-21', 'Open': 51.16, 'High': 51.52, 'Low': 50.9, 'Close': 51.4, 'Change': None, 'Traded Volume': 120649.0, 'Turnover': 6179433.0, 'Last Price of the Day': None, 'Daily Traded Units': None, 'Daily Turnover': None}]\n"
     ]
    }
   ],
   "source": [
    "# Extracting actual values without labels stored as list for individual date\n",
    "\n",
    "daily_prices=(data[\"dataset\"])\n",
    "\n",
    "column_names_l=[] # store the label for above values of x\n",
    "\n",
    "#iterating over dictionary to get column labels\n",
    "for key,value in daily_prices.items(): \n",
    "    if(key=='column_names'):\n",
    "        column_names_l=value\n",
    "\n",
    "\n",
    "        \n",
    "#iterating over actal values and map them to column labels and append to the list       \n",
    "i=0\n",
    "daily_record=[]       \n",
    "for key,value in daily_prices.items():\n",
    "    if(key=='data'):\n",
    "        for val in value:\n",
    "            data_dist={}\n",
    "            for index, item in enumerate(val):\n",
    "                data_dist[column_names_l[index]]=item\n",
    "            daily_record.append(data_dist)\n",
    "                \n",
    "print(daily_record[1:5])  #print sample data          \n",
    "\n",
    "\n"
   ]
  },
  {
   "cell_type": "markdown",
   "metadata": {},
   "source": [
    "## Q.3 Calculate what the highest and lowest opening prices were for the stock in this period.\n"
   ]
  },
  {
   "cell_type": "code",
   "execution_count": 95,
   "metadata": {},
   "outputs": [
    {
     "name": "stdout",
     "output_type": "stream",
     "text": [
      "Lowest opening price is 34.0, and highest opening price is 53.11.\n"
     ]
    }
   ],
   "source": [
    "opening_price=[]\n",
    "for i,j in enumerate(daily_record):\n",
    "    if(j['Open']!=None):\n",
    "        opening_price.append(j['Open'])\n",
    "    \n",
    "minimum_price = min(float(v) for v in opening_price)\n",
    "\n",
    "maximum_price = max(float(v) for v in opening_price)\n",
    "maximum_price = max(float(v) for v in opening_price)\n",
    "print(\"Lowest opening price is {0}, and highest opening price is {1}.\".format(minimum_price,maximum_price))\n",
    "\n",
    "        "
   ]
  },
  {
   "cell_type": "markdown",
   "metadata": {},
   "source": [
    "## Q.4What was the largest change between any two days (based on Closing Price)?\n"
   ]
  },
  {
   "cell_type": "code",
   "execution_count": 96,
   "metadata": {},
   "outputs": [
    {
     "name": "stdout",
     "output_type": "stream",
     "text": [
      "Largest change in between any two days based on closing price is 17.290000000000006 between dates 2017-12-13 and 2017-01-02\n"
     ]
    }
   ],
   "source": [
    "m_dict ={}#define empty dictionary to create dictionary with date as key and closing price as value\n",
    "for i,j in enumerate(daily_record):\n",
    "    m_dict[j['Date']]=(j['Close'])\n",
    "    \n",
    "#getting highest closing price and corresponding date\n",
    "high = max(m_dict.items(),key=lambda k:k[1])\n",
    "#getting lowest closing price  and corresponding date\n",
    "low = min(m_dict.items(),key=lambda k:k[0])\n",
    "diff = high[1]-low[1]\n",
    "print(\"Largest change in between any two days based on closing price is {} between dates {} and {}\".format(diff,high[0],low[0]))"
   ]
  },
  {
   "cell_type": "markdown",
   "metadata": {},
   "source": [
    "## 5. What was the largest change in any one day (based on High and Low price)?\n"
   ]
  },
  {
   "cell_type": "code",
   "execution_count": 97,
   "metadata": {},
   "outputs": [
    {
     "name": "stdout",
     "output_type": "stream",
     "text": [
      "Largest change in high and low price on date 2017-05-11 and value was 2.8100000000000023\n"
     ]
    }
   ],
   "source": [
    "#m_dict={}\n",
    "for i,j in enumerate(daily_record):\n",
    "    m_dict[j['Date']]=(j['High']-j['Low'])\n",
    "    \n",
    "date = max(m_dict.items(),key=lambda k: k[1])\n",
    "print(\"Largest change in high and low price on date {} and value was {}\".format(date[0],date[1]))"
   ]
  },
  {
   "cell_type": "markdown",
   "metadata": {},
   "source": [
    "## 6. What was the average daily trading volume during this year?\n"
   ]
  },
  {
   "cell_type": "code",
   "execution_count": 114,
   "metadata": {},
   "outputs": [
    {
     "name": "stdout",
     "output_type": "stream",
     "text": [
      "Average Trading volume for 2017 is 89124.33725490196\n"
     ]
    }
   ],
   "source": [
    "\n",
    "\n",
    "for i,j in enumerate(daily_record):\n",
    "    m_dict[j['Date']]=j['Traded Volume']\n",
    "\n",
    "\n",
    "def average(lst):\n",
    "    return sum(lst) / len(lst)\n",
    "\n",
    "average(m_dict.values())\n",
    "\n",
    "print(\"Average Trading volume for 2017 is {}\".format(average(m_dict.values())))"
   ]
  },
  {
   "cell_type": "markdown",
   "metadata": {},
   "source": [
    "## (Optional) What was the median trading volume during this year. (Note: you may need to implement your own function for calculating the median.)"
   ]
  },
  {
   "cell_type": "code",
   "execution_count": 136,
   "metadata": {},
   "outputs": [],
   "source": [
    "def median(lst):\n",
    "    n = len(lst)\n",
    "    if n < 1:\n",
    "            return None\n",
    "    if n % 2 == 1:\n",
    "            return sorted(lst)[n//2]\n",
    "    else:\n",
    "            return sum(sorted(lst)[n//2-1:n//2+1])/2.0"
   ]
  },
  {
   "cell_type": "code",
   "execution_count": 137,
   "metadata": {},
   "outputs": [
    {
     "name": "stdout",
     "output_type": "stream",
     "text": [
      "median trading volume during 2017 was 76286.0\n"
     ]
    }
   ],
   "source": [
    "print(\"median trading volume during 2017 was {}\".format(median(m_dict.values())))\n"
   ]
  },
  {
   "cell_type": "code",
   "execution_count": null,
   "metadata": {},
   "outputs": [],
   "source": []
  }
 ],
 "metadata": {
  "kernelspec": {
   "display_name": "Python 3",
   "language": "python",
   "name": "python3"
  },
  "language_info": {
   "codemirror_mode": {
    "name": "ipython",
    "version": 3
   },
   "file_extension": ".py",
   "mimetype": "text/x-python",
   "name": "python",
   "nbconvert_exporter": "python",
   "pygments_lexer": "ipython3",
   "version": "3.6.5"
  }
 },
 "nbformat": 4,
 "nbformat_minor": 2
}
